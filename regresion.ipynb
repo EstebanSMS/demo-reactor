{
 "cells": [
  {
   "attachments": {},
   "cell_type": "markdown",
   "metadata": {},
   "source": [
    "    ¿Qué es la regresión?\n",
    "\n",
    "La regresión es una técnica de análisis de datos sencilla, común y muy útil, que a menudo se conoce de forma coloquial como \"ajustar una línea\". En su forma más sencilla, la regresión se ajusta a una línea recta entre una variable (característica) y otra (etiqueta). En formas más complicadas, la regresión puede encontrar relaciones no lineales entre una sola etiqueta y varias características."
   ]
  },
  {
   "attachments": {},
   "cell_type": "markdown",
   "metadata": {},
   "source": [
    "    Regresión lineal simple\n",
    "La regresión lineal simple modela una relación lineal entre una sola característica y una etiqueta normalmente continua, lo que permite que la función prediga la característica.\n",
    "\n",
    "La regresión lineal simple tiene dos parámetros: una intersección (c) que indica el valor de la etiqueta cuando la característica se establece en cero, y una pendiente (m) que indica cuánto aumentará la etiqueta para cada aumento de un punto de la característica."
   ]
  },
  {
   "attachments": {},
   "cell_type": "markdown",
   "metadata": {},
   "source": [
    "Si le gusta pensar matemáticamente, es muy simple:\n",
    "\n",
    "y = mx + c\n",
    "\n",
    "Donde y es la etiqueta y x es la característica.\n",
    "\n",
    "Por ejemplo, en nuestro escenario, si intentamos predecir qué pacientes tendrán una temperatura corporal elevada en función de su edad, tendríamos el modelo:\n",
    "\n",
    "temperatura = m * edad + c\n",
    "\n",
    "Debe buscar los valores de \"m\" y \"c\" durante el procedimiento de ajuste. Si resulta que m = 0,5 y c = 37,"
   ]
  },
  {
   "attachments": {},
   "cell_type": "markdown",
   "metadata": {},
   "source": [
    "    Ejercicio: entrenar un modelo de regresión lineal simple\n",
    "En este ejercicio, entrenaremos un modelo de regresión lineal simple para predecir la temperatura corporal en función de la edad del perro e interpretaremos el resultado.\n",
    "\n",
    "    Cargando datos\n",
    "Empecemos echando un vistazo a nuestros datos."
   ]
  },
  {
   "cell_type": "code",
   "execution_count": 1,
   "metadata": {},
   "outputs": [
    {
     "name": "stdout",
     "output_type": "stream",
     "text": [
      "    male  attended_training  age  body_fat_percentage  core_temperature  \\\n",
      "0      0                  1  6.9                   38         38.423169   \n",
      "1      0                  1  5.4                   32         39.015998   \n",
      "2      1                  1  5.4                   12         39.148341   \n",
      "3      1                  0  4.8                   23         39.060049   \n",
      "4      1                  0  4.8                   15         38.655439   \n",
      "..   ...                ...  ...                  ...               ...   \n",
      "93     0                  0  4.5                   38         37.939942   \n",
      "94     1                  0  1.8                   11         38.790426   \n",
      "95     0                  0  6.6                   20         39.489962   \n",
      "96     0                  0  6.9                   32         38.575742   \n",
      "97     1                  1  6.0                   21         39.766447   \n",
      "\n",
      "    ate_at_tonys_steakhouse  needed_intensive_care  \\\n",
      "0                         0                      0   \n",
      "1                         0                      0   \n",
      "2                         0                      0   \n",
      "3                         0                      0   \n",
      "4                         0                      0   \n",
      "..                      ...                    ...   \n",
      "93                        0                      0   \n",
      "94                        1                      1   \n",
      "95                        0                      0   \n",
      "96                        1                      1   \n",
      "97                        1                      1   \n",
      "\n",
      "    protein_content_of_last_meal  \n",
      "0                           7.66  \n",
      "1                          13.36  \n",
      "2                          12.90  \n",
      "3                          13.45  \n",
      "4                          10.53  \n",
      "..                           ...  \n",
      "93                          7.35  \n",
      "94                         12.18  \n",
      "95                         15.84  \n",
      "96                          9.79  \n",
      "97                         21.30  \n",
      "\n",
      "[98 rows x 8 columns]\n"
     ]
    }
   ],
   "source": [
    "import pandas as pd\n",
    "\n",
    "# Conviértelo en una tabla usando pandas.\n",
    "dataset = pd.read_csv('C:/Users/santi/OneDrive/Escritorio/Desktop/doggy-illness.csv',delimiter='\\t')\n",
    "\n",
    "# Imprime los datos\n",
    "print(dataset)"
   ]
  },
  {
   "attachments": {},
   "cell_type": "markdown",
   "metadata": {},
   "source": [
    "\n",
    "Tenemos una variedad de información, que incluye lo que hicieron los perros la noche anterior, su edad, si tienen sobrepeso y sus signos clínicos. En este ejercicio, nuestros valores y, o etiquetas, están representados por la core_temperature columna, mientras que nuestra característica será age, en años."
   ]
  },
  {
   "attachments": {},
   "cell_type": "markdown",
   "metadata": {},
   "source": [
    "    Visualización de datos\n",
    "Echemos un vistazo a cómo se distribuyen las características y las etiquetas."
   ]
  },
  {
   "cell_type": "code",
   "execution_count": 2,
   "metadata": {},
   "outputs": [
    {
     "data": {
      "application/vnd.plotly.v1+json": {
       "config": {
        "plotlyServerURL": "https://plot.ly"
       },
       "data": [
        {
         "alignmentgroup": "True",
         "bingroup": "x",
         "hovertemplate": "age=%{x}<br>count=%{y}<extra></extra>",
         "legendgroup": "",
         "marker": {
          "color": "#636efa",
          "pattern": {
           "shape": ""
          }
         },
         "name": "",
         "nbinsx": 10,
         "offsetgroup": "",
         "orientation": "v",
         "showlegend": false,
         "type": "histogram",
         "x": [
          6.9,
          5.4,
          5.4,
          4.8,
          4.8,
          7.8,
          2.7,
          5.7,
          1.5,
          1.8,
          4.2,
          4.5,
          1.5,
          5.1,
          4.8,
          5.1,
          3.6,
          4.2,
          2.7,
          8.7,
          0.9,
          6.3,
          1.2,
          2.7,
          6,
          6,
          0.6,
          3.9,
          6,
          5.7,
          6.9,
          5.1,
          2.1,
          3.6,
          6.3,
          2.4,
          8.4,
          7.5,
          5.7,
          5.7,
          2.7,
          4.2,
          6.9,
          3,
          1.8,
          2.4,
          6.3,
          0.6,
          1.8,
          4.8,
          8.4,
          8.1,
          6.3,
          8.7,
          4.5,
          4.5,
          7.5,
          1.2,
          5.7,
          0.6,
          6.9,
          8.1,
          0.6,
          1.2,
          6.6,
          8.1,
          2.7,
          3.9,
          4.2,
          6.9,
          1.2,
          3.9,
          3.6,
          0.3,
          3,
          8.7,
          2.1,
          6.6,
          1.5,
          5.1,
          6,
          2.1,
          6,
          4.2,
          1.5,
          1.8,
          1.8,
          6.9,
          6.9,
          4.5,
          1.8,
          8.4,
          3,
          4.5,
          1.8,
          6.6,
          6.9,
          6
         ],
         "xaxis": "x",
         "yaxis": "y"
        }
       ],
       "layout": {
        "barmode": "relative",
        "legend": {
         "tracegroupgap": 0
        },
        "template": {
         "data": {
          "bar": [
           {
            "error_x": {
             "color": "#2a3f5f"
            },
            "error_y": {
             "color": "#2a3f5f"
            },
            "marker": {
             "line": {
              "color": "white",
              "width": 0.5
             },
             "pattern": {
              "fillmode": "overlay",
              "size": 10,
              "solidity": 0.2
             }
            },
            "type": "bar"
           }
          ],
          "barpolar": [
           {
            "marker": {
             "line": {
              "color": "white",
              "width": 0.5
             },
             "pattern": {
              "fillmode": "overlay",
              "size": 10,
              "solidity": 0.2
             }
            },
            "type": "barpolar"
           }
          ],
          "box": [
           {
            "boxpoints": "outliers",
            "notched": false,
            "type": "box"
           }
          ],
          "carpet": [
           {
            "aaxis": {
             "endlinecolor": "#2a3f5f",
             "gridcolor": "#C8D4E3",
             "linecolor": "#C8D4E3",
             "minorgridcolor": "#C8D4E3",
             "startlinecolor": "#2a3f5f"
            },
            "baxis": {
             "endlinecolor": "#2a3f5f",
             "gridcolor": "#C8D4E3",
             "linecolor": "#C8D4E3",
             "minorgridcolor": "#C8D4E3",
             "startlinecolor": "#2a3f5f"
            },
            "type": "carpet"
           }
          ],
          "choropleth": [
           {
            "colorbar": {
             "outlinewidth": 0,
             "ticks": ""
            },
            "type": "choropleth"
           }
          ],
          "contour": [
           {
            "colorbar": {
             "outlinewidth": 0,
             "ticks": ""
            },
            "colorscale": [
             [
              0,
              "#0d0887"
             ],
             [
              0.1111111111111111,
              "#46039f"
             ],
             [
              0.2222222222222222,
              "#7201a8"
             ],
             [
              0.3333333333333333,
              "#9c179e"
             ],
             [
              0.4444444444444444,
              "#bd3786"
             ],
             [
              0.5555555555555556,
              "#d8576b"
             ],
             [
              0.6666666666666666,
              "#ed7953"
             ],
             [
              0.7777777777777778,
              "#fb9f3a"
             ],
             [
              0.8888888888888888,
              "#fdca26"
             ],
             [
              1,
              "#f0f921"
             ]
            ],
            "type": "contour"
           }
          ],
          "contourcarpet": [
           {
            "colorbar": {
             "outlinewidth": 0,
             "ticks": ""
            },
            "type": "contourcarpet"
           }
          ],
          "heatmap": [
           {
            "colorbar": {
             "outlinewidth": 0,
             "ticks": ""
            },
            "colorscale": [
             [
              0,
              "#0d0887"
             ],
             [
              0.1111111111111111,
              "#46039f"
             ],
             [
              0.2222222222222222,
              "#7201a8"
             ],
             [
              0.3333333333333333,
              "#9c179e"
             ],
             [
              0.4444444444444444,
              "#bd3786"
             ],
             [
              0.5555555555555556,
              "#d8576b"
             ],
             [
              0.6666666666666666,
              "#ed7953"
             ],
             [
              0.7777777777777778,
              "#fb9f3a"
             ],
             [
              0.8888888888888888,
              "#fdca26"
             ],
             [
              1,
              "#f0f921"
             ]
            ],
            "type": "heatmap"
           }
          ],
          "heatmapgl": [
           {
            "colorbar": {
             "outlinewidth": 0,
             "ticks": ""
            },
            "colorscale": [
             [
              0,
              "#0d0887"
             ],
             [
              0.1111111111111111,
              "#46039f"
             ],
             [
              0.2222222222222222,
              "#7201a8"
             ],
             [
              0.3333333333333333,
              "#9c179e"
             ],
             [
              0.4444444444444444,
              "#bd3786"
             ],
             [
              0.5555555555555556,
              "#d8576b"
             ],
             [
              0.6666666666666666,
              "#ed7953"
             ],
             [
              0.7777777777777778,
              "#fb9f3a"
             ],
             [
              0.8888888888888888,
              "#fdca26"
             ],
             [
              1,
              "#f0f921"
             ]
            ],
            "type": "heatmapgl"
           }
          ],
          "histogram": [
           {
            "marker": {
             "line": {
              "width": 1
             },
             "pattern": {
              "fillmode": "overlay",
              "size": 10,
              "solidity": 0.2
             }
            },
            "type": "histogram"
           }
          ],
          "histogram2d": [
           {
            "colorbar": {
             "outlinewidth": 0,
             "ticks": ""
            },
            "colorscale": [
             [
              0,
              "#0d0887"
             ],
             [
              0.1111111111111111,
              "#46039f"
             ],
             [
              0.2222222222222222,
              "#7201a8"
             ],
             [
              0.3333333333333333,
              "#9c179e"
             ],
             [
              0.4444444444444444,
              "#bd3786"
             ],
             [
              0.5555555555555556,
              "#d8576b"
             ],
             [
              0.6666666666666666,
              "#ed7953"
             ],
             [
              0.7777777777777778,
              "#fb9f3a"
             ],
             [
              0.8888888888888888,
              "#fdca26"
             ],
             [
              1,
              "#f0f921"
             ]
            ],
            "type": "histogram2d"
           }
          ],
          "histogram2dcontour": [
           {
            "colorbar": {
             "outlinewidth": 0,
             "ticks": ""
            },
            "colorscale": [
             [
              0,
              "#0d0887"
             ],
             [
              0.1111111111111111,
              "#46039f"
             ],
             [
              0.2222222222222222,
              "#7201a8"
             ],
             [
              0.3333333333333333,
              "#9c179e"
             ],
             [
              0.4444444444444444,
              "#bd3786"
             ],
             [
              0.5555555555555556,
              "#d8576b"
             ],
             [
              0.6666666666666666,
              "#ed7953"
             ],
             [
              0.7777777777777778,
              "#fb9f3a"
             ],
             [
              0.8888888888888888,
              "#fdca26"
             ],
             [
              1,
              "#f0f921"
             ]
            ],
            "type": "histogram2dcontour"
           }
          ],
          "mesh3d": [
           {
            "colorbar": {
             "outlinewidth": 0,
             "ticks": ""
            },
            "type": "mesh3d"
           }
          ],
          "parcoords": [
           {
            "line": {
             "colorbar": {
              "outlinewidth": 0,
              "ticks": ""
             }
            },
            "type": "parcoords"
           }
          ],
          "pie": [
           {
            "automargin": true,
            "type": "pie"
           }
          ],
          "scatter": [
           {
            "fillpattern": {
             "fillmode": "overlay",
             "size": 10,
             "solidity": 0.2
            },
            "marker": {
             "opacity": 0.8
            },
            "type": "scatter"
           }
          ],
          "scatter3d": [
           {
            "line": {
             "colorbar": {
              "outlinewidth": 0,
              "ticks": ""
             }
            },
            "marker": {
             "colorbar": {
              "outlinewidth": 0,
              "ticks": ""
             },
             "opacity": 0.8
            },
            "type": "scatter3d"
           }
          ],
          "scattercarpet": [
           {
            "marker": {
             "colorbar": {
              "outlinewidth": 0,
              "ticks": ""
             }
            },
            "type": "scattercarpet"
           }
          ],
          "scattergeo": [
           {
            "marker": {
             "colorbar": {
              "outlinewidth": 0,
              "ticks": ""
             }
            },
            "type": "scattergeo"
           }
          ],
          "scattergl": [
           {
            "marker": {
             "colorbar": {
              "outlinewidth": 0,
              "ticks": ""
             }
            },
            "type": "scattergl"
           }
          ],
          "scattermapbox": [
           {
            "marker": {
             "colorbar": {
              "outlinewidth": 0,
              "ticks": ""
             }
            },
            "type": "scattermapbox"
           }
          ],
          "scatterpolar": [
           {
            "marker": {
             "colorbar": {
              "outlinewidth": 0,
              "ticks": ""
             }
            },
            "type": "scatterpolar"
           }
          ],
          "scatterpolargl": [
           {
            "marker": {
             "colorbar": {
              "outlinewidth": 0,
              "ticks": ""
             }
            },
            "type": "scatterpolargl"
           }
          ],
          "scatterternary": [
           {
            "marker": {
             "colorbar": {
              "outlinewidth": 0,
              "ticks": ""
             }
            },
            "type": "scatterternary"
           }
          ],
          "surface": [
           {
            "colorbar": {
             "outlinewidth": 0,
             "ticks": ""
            },
            "colorscale": [
             [
              0,
              "#0d0887"
             ],
             [
              0.1111111111111111,
              "#46039f"
             ],
             [
              0.2222222222222222,
              "#7201a8"
             ],
             [
              0.3333333333333333,
              "#9c179e"
             ],
             [
              0.4444444444444444,
              "#bd3786"
             ],
             [
              0.5555555555555556,
              "#d8576b"
             ],
             [
              0.6666666666666666,
              "#ed7953"
             ],
             [
              0.7777777777777778,
              "#fb9f3a"
             ],
             [
              0.8888888888888888,
              "#fdca26"
             ],
             [
              1,
              "#f0f921"
             ]
            ],
            "type": "surface"
           }
          ],
          "table": [
           {
            "cells": {
             "fill": {
              "color": "#EBF0F8"
             },
             "line": {
              "color": "white"
             }
            },
            "header": {
             "fill": {
              "color": "#C8D4E3"
             },
             "line": {
              "color": "white"
             }
            },
            "type": "table"
           }
          ]
         },
         "layout": {
          "annotationdefaults": {
           "arrowcolor": "#2a3f5f",
           "arrowhead": 0,
           "arrowwidth": 1
          },
          "autotypenumbers": "strict",
          "coloraxis": {
           "colorbar": {
            "outlinewidth": 0,
            "ticks": ""
           }
          },
          "colorscale": {
           "diverging": [
            [
             0,
             "#8e0152"
            ],
            [
             0.1,
             "#c51b7d"
            ],
            [
             0.2,
             "#de77ae"
            ],
            [
             0.3,
             "#f1b6da"
            ],
            [
             0.4,
             "#fde0ef"
            ],
            [
             0.5,
             "#f7f7f7"
            ],
            [
             0.6,
             "#e6f5d0"
            ],
            [
             0.7,
             "#b8e186"
            ],
            [
             0.8,
             "#7fbc41"
            ],
            [
             0.9,
             "#4d9221"
            ],
            [
             1,
             "#276419"
            ]
           ],
           "sequential": [
            [
             0,
             "#0d0887"
            ],
            [
             0.1111111111111111,
             "#46039f"
            ],
            [
             0.2222222222222222,
             "#7201a8"
            ],
            [
             0.3333333333333333,
             "#9c179e"
            ],
            [
             0.4444444444444444,
             "#bd3786"
            ],
            [
             0.5555555555555556,
             "#d8576b"
            ],
            [
             0.6666666666666666,
             "#ed7953"
            ],
            [
             0.7777777777777778,
             "#fb9f3a"
            ],
            [
             0.8888888888888888,
             "#fdca26"
            ],
            [
             1,
             "#f0f921"
            ]
           ],
           "sequentialminus": [
            [
             0,
             "#0d0887"
            ],
            [
             0.1111111111111111,
             "#46039f"
            ],
            [
             0.2222222222222222,
             "#7201a8"
            ],
            [
             0.3333333333333333,
             "#9c179e"
            ],
            [
             0.4444444444444444,
             "#bd3786"
            ],
            [
             0.5555555555555556,
             "#d8576b"
            ],
            [
             0.6666666666666666,
             "#ed7953"
            ],
            [
             0.7777777777777778,
             "#fb9f3a"
            ],
            [
             0.8888888888888888,
             "#fdca26"
            ],
            [
             1,
             "#f0f921"
            ]
           ]
          },
          "colorway": [
           "#636efa",
           "#EF553B",
           "#00cc96",
           "#ab63fa",
           "#FFA15A",
           "#19d3f3",
           "#FF6692",
           "#B6E880",
           "#FF97FF",
           "#FECB52"
          ],
          "font": {
           "color": "#2a3f5f"
          },
          "geo": {
           "bgcolor": "white",
           "lakecolor": "white",
           "landcolor": "white",
           "showlakes": true,
           "showland": true,
           "subunitcolor": "#C8D4E3"
          },
          "height": 400,
          "hoverlabel": {
           "align": "left"
          },
          "hovermode": "closest",
          "mapbox": {
           "style": "light"
          },
          "margin": {
           "b": 2,
           "l": 2,
           "r": 2,
           "t": 30
          },
          "paper_bgcolor": "white",
          "plot_bgcolor": "white",
          "polar": {
           "angularaxis": {
            "gridcolor": "#EBF0F8",
            "linecolor": "#EBF0F8",
            "ticks": ""
           },
           "bgcolor": "white",
           "radialaxis": {
            "gridcolor": "#EBF0F8",
            "linecolor": "#EBF0F8",
            "ticks": ""
           }
          },
          "scene": {
           "camera": {
            "eye": {
             "x": 1.5,
             "y": 1.5,
             "z": 0.1
            }
           },
           "xaxis": {
            "backgroundcolor": "white",
            "gridcolor": "#DFE8F3",
            "gridwidth": 2,
            "linecolor": "#EBF0F8",
            "showbackground": true,
            "ticks": "",
            "zerolinecolor": "#EBF0F8"
           },
           "yaxis": {
            "backgroundcolor": "white",
            "gridcolor": "#DFE8F3",
            "gridwidth": 2,
            "linecolor": "#EBF0F8",
            "showbackground": true,
            "ticks": "",
            "zerolinecolor": "#EBF0F8"
           },
           "zaxis": {
            "backgroundcolor": "white",
            "gridcolor": "#DFE8F3",
            "gridwidth": 2,
            "linecolor": "#EBF0F8",
            "showbackground": true,
            "ticks": "",
            "zerolinecolor": "#EBF0F8"
           }
          },
          "shapedefaults": {
           "line": {
            "color": "#2a3f5f"
           }
          },
          "ternary": {
           "aaxis": {
            "gridcolor": "#DFE8F3",
            "linecolor": "#A2B1C6",
            "ticks": ""
           },
           "baxis": {
            "gridcolor": "#DFE8F3",
            "linecolor": "#A2B1C6",
            "ticks": ""
           },
           "bgcolor": "white",
           "caxis": {
            "gridcolor": "#DFE8F3",
            "linecolor": "#A2B1C6",
            "ticks": ""
           }
          },
          "title": {
           "x": 0.5
          },
          "xaxis": {
           "automargin": true,
           "gridcolor": "#EBF0F8",
           "linecolor": "#EBF0F8",
           "linewidth": 2,
           "showline": true,
           "ticks": "",
           "title": {
            "standoff": 15
           },
           "zerolinecolor": "#EBF0F8",
           "zerolinewidth": 2
          },
          "yaxis": {
           "automargin": true,
           "gridcolor": "#EBF0F8",
           "linecolor": "#EBF0F8",
           "linewidth": 2,
           "showline": true,
           "ticks": "",
           "title": {
            "standoff": 15
           },
           "zerolinecolor": "#EBF0F8",
           "zerolinewidth": 2
          }
         }
        },
        "title": {
         "text": "Feature"
        },
        "xaxis": {
         "anchor": "y",
         "domain": [
          0,
          1
         ],
         "title": {
          "text": "age"
         }
        },
        "yaxis": {
         "anchor": "x",
         "domain": [
          0,
          1
         ],
         "title": {
          "text": "count"
         }
        }
       }
      }
     },
     "metadata": {},
     "output_type": "display_data"
    },
    {
     "data": {
      "application/vnd.plotly.v1+json": {
       "config": {
        "plotlyServerURL": "https://plot.ly"
       },
       "data": [
        {
         "alignmentgroup": "True",
         "bingroup": "x",
         "hovertemplate": "core temperature=%{x}<br>count=%{y}<extra></extra>",
         "legendgroup": "",
         "marker": {
          "color": "#636efa",
          "pattern": {
           "shape": ""
          }
         },
         "name": "",
         "nbinsx": 10,
         "offsetgroup": "",
         "orientation": "v",
         "showlegend": false,
         "type": "histogram",
         "x": [
          38.42316895,
          39.01599822,
          39.14834088,
          39.06004863,
          38.65543905,
          38.6092188,
          39.47390806,
          38.81521612,
          37.77845286,
          39.17685034,
          39.52090819,
          38.57896943,
          38.28013391,
          38.40158039,
          38.65157641,
          39.61720308,
          37.72843549,
          39.36694049,
          37.98848685,
          39.93405104,
          37.60559023,
          38.83468198,
          37.39892664,
          38.98633063,
          39.72456882,
          38.09695504,
          37.59597881,
          39.49731323,
          38.50187636,
          38.27036031,
          38.69964224,
          39.08411118,
          38.29400364,
          38.39872285,
          39.29951536,
          38.37598649,
          38.46968433,
          39.58561173,
          38.12682317,
          39.80156649,
          37.92682179,
          39.67264697,
          38.21409556,
          38.93217418,
          37.80121676,
          37.52097889,
          39.34942824,
          38.9163822,
          38.72595498,
          38.35421436,
          40.17337876,
          39.48214424,
          39.9557292,
          39.02529641,
          39.70565695,
          37.87210056,
          38.92730588,
          38.75694066,
          38.98157028,
          39.07020183,
          39.31023381,
          40.26487847,
          39.19531025,
          37.46606804,
          38.61929591,
          39.74308443,
          37.9590829,
          38.52387016,
          39.58821189,
          39.48780846,
          37.32113362,
          38.30311301,
          39.32598796,
          38.18373964,
          37.78518905,
          38.97361387,
          37.97719515,
          38.92654301,
          37.98922316,
          39.87010492,
          38.51344083,
          39.14710639,
          38.61129304,
          38.95232638,
          37.46812464,
          38.24131363,
          38.7661591,
          39.87233432,
          38.87492299,
          39.09337261,
          39.00124171,
          39.25963687,
          38.6808734,
          37.93994229,
          38.79042609,
          39.48996228,
          38.57574159,
          39.76644658
         ],
         "xaxis": "x",
         "yaxis": "y"
        }
       ],
       "layout": {
        "barmode": "relative",
        "legend": {
         "tracegroupgap": 0
        },
        "template": {
         "data": {
          "bar": [
           {
            "error_x": {
             "color": "#2a3f5f"
            },
            "error_y": {
             "color": "#2a3f5f"
            },
            "marker": {
             "line": {
              "color": "white",
              "width": 0.5
             },
             "pattern": {
              "fillmode": "overlay",
              "size": 10,
              "solidity": 0.2
             }
            },
            "type": "bar"
           }
          ],
          "barpolar": [
           {
            "marker": {
             "line": {
              "color": "white",
              "width": 0.5
             },
             "pattern": {
              "fillmode": "overlay",
              "size": 10,
              "solidity": 0.2
             }
            },
            "type": "barpolar"
           }
          ],
          "box": [
           {
            "boxpoints": "outliers",
            "notched": false,
            "type": "box"
           }
          ],
          "carpet": [
           {
            "aaxis": {
             "endlinecolor": "#2a3f5f",
             "gridcolor": "#C8D4E3",
             "linecolor": "#C8D4E3",
             "minorgridcolor": "#C8D4E3",
             "startlinecolor": "#2a3f5f"
            },
            "baxis": {
             "endlinecolor": "#2a3f5f",
             "gridcolor": "#C8D4E3",
             "linecolor": "#C8D4E3",
             "minorgridcolor": "#C8D4E3",
             "startlinecolor": "#2a3f5f"
            },
            "type": "carpet"
           }
          ],
          "choropleth": [
           {
            "colorbar": {
             "outlinewidth": 0,
             "ticks": ""
            },
            "type": "choropleth"
           }
          ],
          "contour": [
           {
            "colorbar": {
             "outlinewidth": 0,
             "ticks": ""
            },
            "colorscale": [
             [
              0,
              "#0d0887"
             ],
             [
              0.1111111111111111,
              "#46039f"
             ],
             [
              0.2222222222222222,
              "#7201a8"
             ],
             [
              0.3333333333333333,
              "#9c179e"
             ],
             [
              0.4444444444444444,
              "#bd3786"
             ],
             [
              0.5555555555555556,
              "#d8576b"
             ],
             [
              0.6666666666666666,
              "#ed7953"
             ],
             [
              0.7777777777777778,
              "#fb9f3a"
             ],
             [
              0.8888888888888888,
              "#fdca26"
             ],
             [
              1,
              "#f0f921"
             ]
            ],
            "type": "contour"
           }
          ],
          "contourcarpet": [
           {
            "colorbar": {
             "outlinewidth": 0,
             "ticks": ""
            },
            "type": "contourcarpet"
           }
          ],
          "heatmap": [
           {
            "colorbar": {
             "outlinewidth": 0,
             "ticks": ""
            },
            "colorscale": [
             [
              0,
              "#0d0887"
             ],
             [
              0.1111111111111111,
              "#46039f"
             ],
             [
              0.2222222222222222,
              "#7201a8"
             ],
             [
              0.3333333333333333,
              "#9c179e"
             ],
             [
              0.4444444444444444,
              "#bd3786"
             ],
             [
              0.5555555555555556,
              "#d8576b"
             ],
             [
              0.6666666666666666,
              "#ed7953"
             ],
             [
              0.7777777777777778,
              "#fb9f3a"
             ],
             [
              0.8888888888888888,
              "#fdca26"
             ],
             [
              1,
              "#f0f921"
             ]
            ],
            "type": "heatmap"
           }
          ],
          "heatmapgl": [
           {
            "colorbar": {
             "outlinewidth": 0,
             "ticks": ""
            },
            "colorscale": [
             [
              0,
              "#0d0887"
             ],
             [
              0.1111111111111111,
              "#46039f"
             ],
             [
              0.2222222222222222,
              "#7201a8"
             ],
             [
              0.3333333333333333,
              "#9c179e"
             ],
             [
              0.4444444444444444,
              "#bd3786"
             ],
             [
              0.5555555555555556,
              "#d8576b"
             ],
             [
              0.6666666666666666,
              "#ed7953"
             ],
             [
              0.7777777777777778,
              "#fb9f3a"
             ],
             [
              0.8888888888888888,
              "#fdca26"
             ],
             [
              1,
              "#f0f921"
             ]
            ],
            "type": "heatmapgl"
           }
          ],
          "histogram": [
           {
            "marker": {
             "line": {
              "width": 1
             },
             "pattern": {
              "fillmode": "overlay",
              "size": 10,
              "solidity": 0.2
             }
            },
            "type": "histogram"
           }
          ],
          "histogram2d": [
           {
            "colorbar": {
             "outlinewidth": 0,
             "ticks": ""
            },
            "colorscale": [
             [
              0,
              "#0d0887"
             ],
             [
              0.1111111111111111,
              "#46039f"
             ],
             [
              0.2222222222222222,
              "#7201a8"
             ],
             [
              0.3333333333333333,
              "#9c179e"
             ],
             [
              0.4444444444444444,
              "#bd3786"
             ],
             [
              0.5555555555555556,
              "#d8576b"
             ],
             [
              0.6666666666666666,
              "#ed7953"
             ],
             [
              0.7777777777777778,
              "#fb9f3a"
             ],
             [
              0.8888888888888888,
              "#fdca26"
             ],
             [
              1,
              "#f0f921"
             ]
            ],
            "type": "histogram2d"
           }
          ],
          "histogram2dcontour": [
           {
            "colorbar": {
             "outlinewidth": 0,
             "ticks": ""
            },
            "colorscale": [
             [
              0,
              "#0d0887"
             ],
             [
              0.1111111111111111,
              "#46039f"
             ],
             [
              0.2222222222222222,
              "#7201a8"
             ],
             [
              0.3333333333333333,
              "#9c179e"
             ],
             [
              0.4444444444444444,
              "#bd3786"
             ],
             [
              0.5555555555555556,
              "#d8576b"
             ],
             [
              0.6666666666666666,
              "#ed7953"
             ],
             [
              0.7777777777777778,
              "#fb9f3a"
             ],
             [
              0.8888888888888888,
              "#fdca26"
             ],
             [
              1,
              "#f0f921"
             ]
            ],
            "type": "histogram2dcontour"
           }
          ],
          "mesh3d": [
           {
            "colorbar": {
             "outlinewidth": 0,
             "ticks": ""
            },
            "type": "mesh3d"
           }
          ],
          "parcoords": [
           {
            "line": {
             "colorbar": {
              "outlinewidth": 0,
              "ticks": ""
             }
            },
            "type": "parcoords"
           }
          ],
          "pie": [
           {
            "automargin": true,
            "type": "pie"
           }
          ],
          "scatter": [
           {
            "fillpattern": {
             "fillmode": "overlay",
             "size": 10,
             "solidity": 0.2
            },
            "marker": {
             "opacity": 0.8
            },
            "type": "scatter"
           }
          ],
          "scatter3d": [
           {
            "line": {
             "colorbar": {
              "outlinewidth": 0,
              "ticks": ""
             }
            },
            "marker": {
             "colorbar": {
              "outlinewidth": 0,
              "ticks": ""
             },
             "opacity": 0.8
            },
            "type": "scatter3d"
           }
          ],
          "scattercarpet": [
           {
            "marker": {
             "colorbar": {
              "outlinewidth": 0,
              "ticks": ""
             }
            },
            "type": "scattercarpet"
           }
          ],
          "scattergeo": [
           {
            "marker": {
             "colorbar": {
              "outlinewidth": 0,
              "ticks": ""
             }
            },
            "type": "scattergeo"
           }
          ],
          "scattergl": [
           {
            "marker": {
             "colorbar": {
              "outlinewidth": 0,
              "ticks": ""
             }
            },
            "type": "scattergl"
           }
          ],
          "scattermapbox": [
           {
            "marker": {
             "colorbar": {
              "outlinewidth": 0,
              "ticks": ""
             }
            },
            "type": "scattermapbox"
           }
          ],
          "scatterpolar": [
           {
            "marker": {
             "colorbar": {
              "outlinewidth": 0,
              "ticks": ""
             }
            },
            "type": "scatterpolar"
           }
          ],
          "scatterpolargl": [
           {
            "marker": {
             "colorbar": {
              "outlinewidth": 0,
              "ticks": ""
             }
            },
            "type": "scatterpolargl"
           }
          ],
          "scatterternary": [
           {
            "marker": {
             "colorbar": {
              "outlinewidth": 0,
              "ticks": ""
             }
            },
            "type": "scatterternary"
           }
          ],
          "surface": [
           {
            "colorbar": {
             "outlinewidth": 0,
             "ticks": ""
            },
            "colorscale": [
             [
              0,
              "#0d0887"
             ],
             [
              0.1111111111111111,
              "#46039f"
             ],
             [
              0.2222222222222222,
              "#7201a8"
             ],
             [
              0.3333333333333333,
              "#9c179e"
             ],
             [
              0.4444444444444444,
              "#bd3786"
             ],
             [
              0.5555555555555556,
              "#d8576b"
             ],
             [
              0.6666666666666666,
              "#ed7953"
             ],
             [
              0.7777777777777778,
              "#fb9f3a"
             ],
             [
              0.8888888888888888,
              "#fdca26"
             ],
             [
              1,
              "#f0f921"
             ]
            ],
            "type": "surface"
           }
          ],
          "table": [
           {
            "cells": {
             "fill": {
              "color": "#EBF0F8"
             },
             "line": {
              "color": "white"
             }
            },
            "header": {
             "fill": {
              "color": "#C8D4E3"
             },
             "line": {
              "color": "white"
             }
            },
            "type": "table"
           }
          ]
         },
         "layout": {
          "annotationdefaults": {
           "arrowcolor": "#2a3f5f",
           "arrowhead": 0,
           "arrowwidth": 1
          },
          "autotypenumbers": "strict",
          "coloraxis": {
           "colorbar": {
            "outlinewidth": 0,
            "ticks": ""
           }
          },
          "colorscale": {
           "diverging": [
            [
             0,
             "#8e0152"
            ],
            [
             0.1,
             "#c51b7d"
            ],
            [
             0.2,
             "#de77ae"
            ],
            [
             0.3,
             "#f1b6da"
            ],
            [
             0.4,
             "#fde0ef"
            ],
            [
             0.5,
             "#f7f7f7"
            ],
            [
             0.6,
             "#e6f5d0"
            ],
            [
             0.7,
             "#b8e186"
            ],
            [
             0.8,
             "#7fbc41"
            ],
            [
             0.9,
             "#4d9221"
            ],
            [
             1,
             "#276419"
            ]
           ],
           "sequential": [
            [
             0,
             "#0d0887"
            ],
            [
             0.1111111111111111,
             "#46039f"
            ],
            [
             0.2222222222222222,
             "#7201a8"
            ],
            [
             0.3333333333333333,
             "#9c179e"
            ],
            [
             0.4444444444444444,
             "#bd3786"
            ],
            [
             0.5555555555555556,
             "#d8576b"
            ],
            [
             0.6666666666666666,
             "#ed7953"
            ],
            [
             0.7777777777777778,
             "#fb9f3a"
            ],
            [
             0.8888888888888888,
             "#fdca26"
            ],
            [
             1,
             "#f0f921"
            ]
           ],
           "sequentialminus": [
            [
             0,
             "#0d0887"
            ],
            [
             0.1111111111111111,
             "#46039f"
            ],
            [
             0.2222222222222222,
             "#7201a8"
            ],
            [
             0.3333333333333333,
             "#9c179e"
            ],
            [
             0.4444444444444444,
             "#bd3786"
            ],
            [
             0.5555555555555556,
             "#d8576b"
            ],
            [
             0.6666666666666666,
             "#ed7953"
            ],
            [
             0.7777777777777778,
             "#fb9f3a"
            ],
            [
             0.8888888888888888,
             "#fdca26"
            ],
            [
             1,
             "#f0f921"
            ]
           ]
          },
          "colorway": [
           "#636efa",
           "#EF553B",
           "#00cc96",
           "#ab63fa",
           "#FFA15A",
           "#19d3f3",
           "#FF6692",
           "#B6E880",
           "#FF97FF",
           "#FECB52"
          ],
          "font": {
           "color": "#2a3f5f"
          },
          "geo": {
           "bgcolor": "white",
           "lakecolor": "white",
           "landcolor": "white",
           "showlakes": true,
           "showland": true,
           "subunitcolor": "#C8D4E3"
          },
          "height": 400,
          "hoverlabel": {
           "align": "left"
          },
          "hovermode": "closest",
          "mapbox": {
           "style": "light"
          },
          "margin": {
           "b": 2,
           "l": 2,
           "r": 2,
           "t": 30
          },
          "paper_bgcolor": "white",
          "plot_bgcolor": "white",
          "polar": {
           "angularaxis": {
            "gridcolor": "#EBF0F8",
            "linecolor": "#EBF0F8",
            "ticks": ""
           },
           "bgcolor": "white",
           "radialaxis": {
            "gridcolor": "#EBF0F8",
            "linecolor": "#EBF0F8",
            "ticks": ""
           }
          },
          "scene": {
           "camera": {
            "eye": {
             "x": 1.5,
             "y": 1.5,
             "z": 0.1
            }
           },
           "xaxis": {
            "backgroundcolor": "white",
            "gridcolor": "#DFE8F3",
            "gridwidth": 2,
            "linecolor": "#EBF0F8",
            "showbackground": true,
            "ticks": "",
            "zerolinecolor": "#EBF0F8"
           },
           "yaxis": {
            "backgroundcolor": "white",
            "gridcolor": "#DFE8F3",
            "gridwidth": 2,
            "linecolor": "#EBF0F8",
            "showbackground": true,
            "ticks": "",
            "zerolinecolor": "#EBF0F8"
           },
           "zaxis": {
            "backgroundcolor": "white",
            "gridcolor": "#DFE8F3",
            "gridwidth": 2,
            "linecolor": "#EBF0F8",
            "showbackground": true,
            "ticks": "",
            "zerolinecolor": "#EBF0F8"
           }
          },
          "shapedefaults": {
           "line": {
            "color": "#2a3f5f"
           }
          },
          "ternary": {
           "aaxis": {
            "gridcolor": "#DFE8F3",
            "linecolor": "#A2B1C6",
            "ticks": ""
           },
           "baxis": {
            "gridcolor": "#DFE8F3",
            "linecolor": "#A2B1C6",
            "ticks": ""
           },
           "bgcolor": "white",
           "caxis": {
            "gridcolor": "#DFE8F3",
            "linecolor": "#A2B1C6",
            "ticks": ""
           }
          },
          "title": {
           "x": 0.5
          },
          "xaxis": {
           "automargin": true,
           "gridcolor": "#EBF0F8",
           "linecolor": "#EBF0F8",
           "linewidth": 2,
           "showline": true,
           "ticks": "",
           "title": {
            "standoff": 15
           },
           "zerolinecolor": "#EBF0F8",
           "zerolinewidth": 2
          },
          "yaxis": {
           "automargin": true,
           "gridcolor": "#EBF0F8",
           "linecolor": "#EBF0F8",
           "linewidth": 2,
           "showline": true,
           "ticks": "",
           "title": {
            "standoff": 15
           },
           "zerolinecolor": "#EBF0F8",
           "zerolinewidth": 2
          }
         }
        },
        "title": {
         "text": "Label"
        },
        "xaxis": {
         "anchor": "y",
         "domain": [
          0,
          1
         ],
         "title": {
          "text": "core temperature"
         }
        },
        "yaxis": {
         "anchor": "x",
         "domain": [
          0,
          1
         ],
         "title": {
          "text": "count"
         }
        }
       }
      }
     },
     "metadata": {},
     "output_type": "display_data"
    }
   ],
   "source": [
    "import graphing\n",
    "\n",
    "graphing.histogram(dataset, label_x='age', nbins=10, title=\"Feature\", show=True)\n",
    "graphing.histogram(dataset, label_x='core_temperature', nbins=10, title=\"Label\")"
   ]
  },
  {
   "attachments": {},
   "cell_type": "markdown",
   "metadata": {},
   "source": [
    "Mirando nuestra función ( age), podemos ver que los perros tenían 9 años o menos, y las edades están distribuidas uniformemente. En otras palabras, ninguna edad en particular es sustancialmente más común que otra.\n",
    "\n",
    "Mirando nuestra etiqueta ( core_temperature), la mayoría de los perros parecen tener una temperatura central ligeramente elevada (normalmente esperaríamos ~37.5 grados centígrados), lo que indica que no se encuentran bien. Un pequeño número de perros tienen una temperatura superior a los 40 grados, lo que indica que no se encuentran bien.\n",
    "\n",
    "Simplemente porque la forma de estas distribuciones es diferente, podemos suponer que la característica no podrá predecir la etiqueta muy bien. Por ejemplo, si la vejez predijera perfectamente quién tendría fiebre alta, entonces el número de perros viejos coincidiría exactamente con el número de perros con fiebre alta.\n",
    "\n",
    "Sin embargo, el modelo podría terminar siendo útil, así que continuemos.\n",
    "\n",
    "El siguiente paso es observar la relación. Permite trazar la relación entre las etiquetas y las características."
   ]
  },
  {
   "cell_type": "code",
   "execution_count": 4,
   "metadata": {},
   "outputs": [
    {
     "data": {
      "application/vnd.plotly.v1+json": {
       "config": {
        "plotlyServerURL": "https://plot.ly"
       },
       "data": [
        {
         "hovertemplate": "age=%{x}<br>core temperature=%{y}<extra></extra>",
         "legendgroup": "",
         "marker": {
          "color": "#636efa",
          "size": 17,
          "symbol": "circle"
         },
         "mode": "markers",
         "name": "",
         "orientation": "v",
         "showlegend": false,
         "type": "scatter",
         "x": [
          6.9,
          5.4,
          5.4,
          4.8,
          4.8,
          7.8,
          2.7,
          5.7,
          1.5,
          1.8,
          4.2,
          4.5,
          1.5,
          5.1,
          4.8,
          5.1,
          3.6,
          4.2,
          2.7,
          8.7,
          0.9,
          6.3,
          1.2,
          2.7,
          6,
          6,
          0.6,
          3.9,
          6,
          5.7,
          6.9,
          5.1,
          2.1,
          3.6,
          6.3,
          2.4,
          8.4,
          7.5,
          5.7,
          5.7,
          2.7,
          4.2,
          6.9,
          3,
          1.8,
          2.4,
          6.3,
          0.6,
          1.8,
          4.8,
          8.4,
          8.1,
          6.3,
          8.7,
          4.5,
          4.5,
          7.5,
          1.2,
          5.7,
          0.6,
          6.9,
          8.1,
          0.6,
          1.2,
          6.6,
          8.1,
          2.7,
          3.9,
          4.2,
          6.9,
          1.2,
          3.9,
          3.6,
          0.3,
          3,
          8.7,
          2.1,
          6.6,
          1.5,
          5.1,
          6,
          2.1,
          6,
          4.2,
          1.5,
          1.8,
          1.8,
          6.9,
          6.9,
          4.5,
          1.8,
          8.4,
          3,
          4.5,
          1.8,
          6.6,
          6.9,
          6
         ],
         "xaxis": "x",
         "y": [
          38.42316895,
          39.01599822,
          39.14834088,
          39.06004863,
          38.65543905,
          38.6092188,
          39.47390806,
          38.81521612,
          37.77845286,
          39.17685034,
          39.52090819,
          38.57896943,
          38.28013391,
          38.40158039,
          38.65157641,
          39.61720308,
          37.72843549,
          39.36694049,
          37.98848685,
          39.93405104,
          37.60559023,
          38.83468198,
          37.39892664,
          38.98633063,
          39.72456882,
          38.09695504,
          37.59597881,
          39.49731323,
          38.50187636,
          38.27036031,
          38.69964224,
          39.08411118,
          38.29400364,
          38.39872285,
          39.29951536,
          38.37598649,
          38.46968433,
          39.58561173,
          38.12682317,
          39.80156649,
          37.92682179,
          39.67264697,
          38.21409556,
          38.93217418,
          37.80121676,
          37.52097889,
          39.34942824,
          38.9163822,
          38.72595498,
          38.35421436,
          40.17337876,
          39.48214424,
          39.9557292,
          39.02529641,
          39.70565695,
          37.87210056,
          38.92730588,
          38.75694066,
          38.98157028,
          39.07020183,
          39.31023381,
          40.26487847,
          39.19531025,
          37.46606804,
          38.61929591,
          39.74308443,
          37.9590829,
          38.52387016,
          39.58821189,
          39.48780846,
          37.32113362,
          38.30311301,
          39.32598796,
          38.18373964,
          37.78518905,
          38.97361387,
          37.97719515,
          38.92654301,
          37.98922316,
          39.87010492,
          38.51344083,
          39.14710639,
          38.61129304,
          38.95232638,
          37.46812464,
          38.24131363,
          38.7661591,
          39.87233432,
          38.87492299,
          39.09337261,
          39.00124171,
          39.25963687,
          38.6808734,
          37.93994229,
          38.79042609,
          39.48996228,
          38.57574159,
          39.76644658
         ],
         "yaxis": "y"
        }
       ],
       "layout": {
        "legend": {
         "tracegroupgap": 0
        },
        "template": {
         "data": {
          "bar": [
           {
            "error_x": {
             "color": "#2a3f5f"
            },
            "error_y": {
             "color": "#2a3f5f"
            },
            "marker": {
             "line": {
              "color": "white",
              "width": 0.5
             },
             "pattern": {
              "fillmode": "overlay",
              "size": 10,
              "solidity": 0.2
             }
            },
            "type": "bar"
           }
          ],
          "barpolar": [
           {
            "marker": {
             "line": {
              "color": "white",
              "width": 0.5
             },
             "pattern": {
              "fillmode": "overlay",
              "size": 10,
              "solidity": 0.2
             }
            },
            "type": "barpolar"
           }
          ],
          "box": [
           {
            "boxpoints": "outliers",
            "notched": false,
            "type": "box"
           }
          ],
          "carpet": [
           {
            "aaxis": {
             "endlinecolor": "#2a3f5f",
             "gridcolor": "#C8D4E3",
             "linecolor": "#C8D4E3",
             "minorgridcolor": "#C8D4E3",
             "startlinecolor": "#2a3f5f"
            },
            "baxis": {
             "endlinecolor": "#2a3f5f",
             "gridcolor": "#C8D4E3",
             "linecolor": "#C8D4E3",
             "minorgridcolor": "#C8D4E3",
             "startlinecolor": "#2a3f5f"
            },
            "type": "carpet"
           }
          ],
          "choropleth": [
           {
            "colorbar": {
             "outlinewidth": 0,
             "ticks": ""
            },
            "type": "choropleth"
           }
          ],
          "contour": [
           {
            "colorbar": {
             "outlinewidth": 0,
             "ticks": ""
            },
            "colorscale": [
             [
              0,
              "#0d0887"
             ],
             [
              0.1111111111111111,
              "#46039f"
             ],
             [
              0.2222222222222222,
              "#7201a8"
             ],
             [
              0.3333333333333333,
              "#9c179e"
             ],
             [
              0.4444444444444444,
              "#bd3786"
             ],
             [
              0.5555555555555556,
              "#d8576b"
             ],
             [
              0.6666666666666666,
              "#ed7953"
             ],
             [
              0.7777777777777778,
              "#fb9f3a"
             ],
             [
              0.8888888888888888,
              "#fdca26"
             ],
             [
              1,
              "#f0f921"
             ]
            ],
            "type": "contour"
           }
          ],
          "contourcarpet": [
           {
            "colorbar": {
             "outlinewidth": 0,
             "ticks": ""
            },
            "type": "contourcarpet"
           }
          ],
          "heatmap": [
           {
            "colorbar": {
             "outlinewidth": 0,
             "ticks": ""
            },
            "colorscale": [
             [
              0,
              "#0d0887"
             ],
             [
              0.1111111111111111,
              "#46039f"
             ],
             [
              0.2222222222222222,
              "#7201a8"
             ],
             [
              0.3333333333333333,
              "#9c179e"
             ],
             [
              0.4444444444444444,
              "#bd3786"
             ],
             [
              0.5555555555555556,
              "#d8576b"
             ],
             [
              0.6666666666666666,
              "#ed7953"
             ],
             [
              0.7777777777777778,
              "#fb9f3a"
             ],
             [
              0.8888888888888888,
              "#fdca26"
             ],
             [
              1,
              "#f0f921"
             ]
            ],
            "type": "heatmap"
           }
          ],
          "heatmapgl": [
           {
            "colorbar": {
             "outlinewidth": 0,
             "ticks": ""
            },
            "colorscale": [
             [
              0,
              "#0d0887"
             ],
             [
              0.1111111111111111,
              "#46039f"
             ],
             [
              0.2222222222222222,
              "#7201a8"
             ],
             [
              0.3333333333333333,
              "#9c179e"
             ],
             [
              0.4444444444444444,
              "#bd3786"
             ],
             [
              0.5555555555555556,
              "#d8576b"
             ],
             [
              0.6666666666666666,
              "#ed7953"
             ],
             [
              0.7777777777777778,
              "#fb9f3a"
             ],
             [
              0.8888888888888888,
              "#fdca26"
             ],
             [
              1,
              "#f0f921"
             ]
            ],
            "type": "heatmapgl"
           }
          ],
          "histogram": [
           {
            "marker": {
             "line": {
              "width": 1
             },
             "pattern": {
              "fillmode": "overlay",
              "size": 10,
              "solidity": 0.2
             }
            },
            "type": "histogram"
           }
          ],
          "histogram2d": [
           {
            "colorbar": {
             "outlinewidth": 0,
             "ticks": ""
            },
            "colorscale": [
             [
              0,
              "#0d0887"
             ],
             [
              0.1111111111111111,
              "#46039f"
             ],
             [
              0.2222222222222222,
              "#7201a8"
             ],
             [
              0.3333333333333333,
              "#9c179e"
             ],
             [
              0.4444444444444444,
              "#bd3786"
             ],
             [
              0.5555555555555556,
              "#d8576b"
             ],
             [
              0.6666666666666666,
              "#ed7953"
             ],
             [
              0.7777777777777778,
              "#fb9f3a"
             ],
             [
              0.8888888888888888,
              "#fdca26"
             ],
             [
              1,
              "#f0f921"
             ]
            ],
            "type": "histogram2d"
           }
          ],
          "histogram2dcontour": [
           {
            "colorbar": {
             "outlinewidth": 0,
             "ticks": ""
            },
            "colorscale": [
             [
              0,
              "#0d0887"
             ],
             [
              0.1111111111111111,
              "#46039f"
             ],
             [
              0.2222222222222222,
              "#7201a8"
             ],
             [
              0.3333333333333333,
              "#9c179e"
             ],
             [
              0.4444444444444444,
              "#bd3786"
             ],
             [
              0.5555555555555556,
              "#d8576b"
             ],
             [
              0.6666666666666666,
              "#ed7953"
             ],
             [
              0.7777777777777778,
              "#fb9f3a"
             ],
             [
              0.8888888888888888,
              "#fdca26"
             ],
             [
              1,
              "#f0f921"
             ]
            ],
            "type": "histogram2dcontour"
           }
          ],
          "mesh3d": [
           {
            "colorbar": {
             "outlinewidth": 0,
             "ticks": ""
            },
            "type": "mesh3d"
           }
          ],
          "parcoords": [
           {
            "line": {
             "colorbar": {
              "outlinewidth": 0,
              "ticks": ""
             }
            },
            "type": "parcoords"
           }
          ],
          "pie": [
           {
            "automargin": true,
            "type": "pie"
           }
          ],
          "scatter": [
           {
            "fillpattern": {
             "fillmode": "overlay",
             "size": 10,
             "solidity": 0.2
            },
            "marker": {
             "opacity": 0.8
            },
            "type": "scatter"
           }
          ],
          "scatter3d": [
           {
            "line": {
             "colorbar": {
              "outlinewidth": 0,
              "ticks": ""
             }
            },
            "marker": {
             "colorbar": {
              "outlinewidth": 0,
              "ticks": ""
             },
             "opacity": 0.8
            },
            "type": "scatter3d"
           }
          ],
          "scattercarpet": [
           {
            "marker": {
             "colorbar": {
              "outlinewidth": 0,
              "ticks": ""
             }
            },
            "type": "scattercarpet"
           }
          ],
          "scattergeo": [
           {
            "marker": {
             "colorbar": {
              "outlinewidth": 0,
              "ticks": ""
             }
            },
            "type": "scattergeo"
           }
          ],
          "scattergl": [
           {
            "marker": {
             "colorbar": {
              "outlinewidth": 0,
              "ticks": ""
             }
            },
            "type": "scattergl"
           }
          ],
          "scattermapbox": [
           {
            "marker": {
             "colorbar": {
              "outlinewidth": 0,
              "ticks": ""
             }
            },
            "type": "scattermapbox"
           }
          ],
          "scatterpolar": [
           {
            "marker": {
             "colorbar": {
              "outlinewidth": 0,
              "ticks": ""
             }
            },
            "type": "scatterpolar"
           }
          ],
          "scatterpolargl": [
           {
            "marker": {
             "colorbar": {
              "outlinewidth": 0,
              "ticks": ""
             }
            },
            "type": "scatterpolargl"
           }
          ],
          "scatterternary": [
           {
            "marker": {
             "colorbar": {
              "outlinewidth": 0,
              "ticks": ""
             }
            },
            "type": "scatterternary"
           }
          ],
          "surface": [
           {
            "colorbar": {
             "outlinewidth": 0,
             "ticks": ""
            },
            "colorscale": [
             [
              0,
              "#0d0887"
             ],
             [
              0.1111111111111111,
              "#46039f"
             ],
             [
              0.2222222222222222,
              "#7201a8"
             ],
             [
              0.3333333333333333,
              "#9c179e"
             ],
             [
              0.4444444444444444,
              "#bd3786"
             ],
             [
              0.5555555555555556,
              "#d8576b"
             ],
             [
              0.6666666666666666,
              "#ed7953"
             ],
             [
              0.7777777777777778,
              "#fb9f3a"
             ],
             [
              0.8888888888888888,
              "#fdca26"
             ],
             [
              1,
              "#f0f921"
             ]
            ],
            "type": "surface"
           }
          ],
          "table": [
           {
            "cells": {
             "fill": {
              "color": "#EBF0F8"
             },
             "line": {
              "color": "white"
             }
            },
            "header": {
             "fill": {
              "color": "#C8D4E3"
             },
             "line": {
              "color": "white"
             }
            },
            "type": "table"
           }
          ]
         },
         "layout": {
          "annotationdefaults": {
           "arrowcolor": "#2a3f5f",
           "arrowhead": 0,
           "arrowwidth": 1
          },
          "autotypenumbers": "strict",
          "coloraxis": {
           "colorbar": {
            "outlinewidth": 0,
            "ticks": ""
           }
          },
          "colorscale": {
           "diverging": [
            [
             0,
             "#8e0152"
            ],
            [
             0.1,
             "#c51b7d"
            ],
            [
             0.2,
             "#de77ae"
            ],
            [
             0.3,
             "#f1b6da"
            ],
            [
             0.4,
             "#fde0ef"
            ],
            [
             0.5,
             "#f7f7f7"
            ],
            [
             0.6,
             "#e6f5d0"
            ],
            [
             0.7,
             "#b8e186"
            ],
            [
             0.8,
             "#7fbc41"
            ],
            [
             0.9,
             "#4d9221"
            ],
            [
             1,
             "#276419"
            ]
           ],
           "sequential": [
            [
             0,
             "#0d0887"
            ],
            [
             0.1111111111111111,
             "#46039f"
            ],
            [
             0.2222222222222222,
             "#7201a8"
            ],
            [
             0.3333333333333333,
             "#9c179e"
            ],
            [
             0.4444444444444444,
             "#bd3786"
            ],
            [
             0.5555555555555556,
             "#d8576b"
            ],
            [
             0.6666666666666666,
             "#ed7953"
            ],
            [
             0.7777777777777778,
             "#fb9f3a"
            ],
            [
             0.8888888888888888,
             "#fdca26"
            ],
            [
             1,
             "#f0f921"
            ]
           ],
           "sequentialminus": [
            [
             0,
             "#0d0887"
            ],
            [
             0.1111111111111111,
             "#46039f"
            ],
            [
             0.2222222222222222,
             "#7201a8"
            ],
            [
             0.3333333333333333,
             "#9c179e"
            ],
            [
             0.4444444444444444,
             "#bd3786"
            ],
            [
             0.5555555555555556,
             "#d8576b"
            ],
            [
             0.6666666666666666,
             "#ed7953"
            ],
            [
             0.7777777777777778,
             "#fb9f3a"
            ],
            [
             0.8888888888888888,
             "#fdca26"
            ],
            [
             1,
             "#f0f921"
            ]
           ]
          },
          "colorway": [
           "#636efa",
           "#EF553B",
           "#00cc96",
           "#ab63fa",
           "#FFA15A",
           "#19d3f3",
           "#FF6692",
           "#B6E880",
           "#FF97FF",
           "#FECB52"
          ],
          "font": {
           "color": "#2a3f5f"
          },
          "geo": {
           "bgcolor": "white",
           "lakecolor": "white",
           "landcolor": "white",
           "showlakes": true,
           "showland": true,
           "subunitcolor": "#C8D4E3"
          },
          "height": 400,
          "hoverlabel": {
           "align": "left"
          },
          "hovermode": "closest",
          "mapbox": {
           "style": "light"
          },
          "margin": {
           "b": 2,
           "l": 2,
           "r": 2,
           "t": 30
          },
          "paper_bgcolor": "white",
          "plot_bgcolor": "white",
          "polar": {
           "angularaxis": {
            "gridcolor": "#EBF0F8",
            "linecolor": "#EBF0F8",
            "ticks": ""
           },
           "bgcolor": "white",
           "radialaxis": {
            "gridcolor": "#EBF0F8",
            "linecolor": "#EBF0F8",
            "ticks": ""
           }
          },
          "scene": {
           "camera": {
            "eye": {
             "x": 1.5,
             "y": 1.5,
             "z": 0.1
            }
           },
           "xaxis": {
            "backgroundcolor": "white",
            "gridcolor": "#DFE8F3",
            "gridwidth": 2,
            "linecolor": "#EBF0F8",
            "showbackground": true,
            "ticks": "",
            "zerolinecolor": "#EBF0F8"
           },
           "yaxis": {
            "backgroundcolor": "white",
            "gridcolor": "#DFE8F3",
            "gridwidth": 2,
            "linecolor": "#EBF0F8",
            "showbackground": true,
            "ticks": "",
            "zerolinecolor": "#EBF0F8"
           },
           "zaxis": {
            "backgroundcolor": "white",
            "gridcolor": "#DFE8F3",
            "gridwidth": 2,
            "linecolor": "#EBF0F8",
            "showbackground": true,
            "ticks": "",
            "zerolinecolor": "#EBF0F8"
           }
          },
          "shapedefaults": {
           "line": {
            "color": "#2a3f5f"
           }
          },
          "ternary": {
           "aaxis": {
            "gridcolor": "#DFE8F3",
            "linecolor": "#A2B1C6",
            "ticks": ""
           },
           "baxis": {
            "gridcolor": "#DFE8F3",
            "linecolor": "#A2B1C6",
            "ticks": ""
           },
           "bgcolor": "white",
           "caxis": {
            "gridcolor": "#DFE8F3",
            "linecolor": "#A2B1C6",
            "ticks": ""
           }
          },
          "title": {
           "x": 0.5
          },
          "xaxis": {
           "automargin": true,
           "gridcolor": "#EBF0F8",
           "linecolor": "#EBF0F8",
           "linewidth": 2,
           "showline": true,
           "ticks": "",
           "title": {
            "standoff": 15
           },
           "zerolinecolor": "#EBF0F8",
           "zerolinewidth": 2
          },
          "yaxis": {
           "automargin": true,
           "gridcolor": "#EBF0F8",
           "linecolor": "#EBF0F8",
           "linewidth": 2,
           "showline": true,
           "ticks": "",
           "title": {
            "standoff": 15
           },
           "zerolinecolor": "#EBF0F8",
           "zerolinewidth": 2
          }
         }
        },
        "title": {
         "text": "temperatura central en función de la edad"
        },
        "xaxis": {
         "anchor": "y",
         "domain": [
          0,
          1
         ],
         "title": {
          "text": "age"
         }
        },
        "yaxis": {
         "anchor": "x",
         "domain": [
          0,
          1
         ],
         "title": {
          "text": "core temperature"
         }
        }
       }
      }
     },
     "metadata": {},
     "output_type": "display_data"
    }
   ],
   "source": [
    "graphing.scatter_2D(dataset, label_x=\"age\", label_y=\"core_temperature\", title='temperatura central en función de la edad')"
   ]
  },
  {
   "attachments": {},
   "cell_type": "markdown",
   "metadata": {},
   "source": [
    "\n",
    "Parece que los perros mayores tienden a tener temperaturas más altas que los perros más jóvenes. Sin embargo, la relación es bastante \"ruidosa\": muchos perros de la misma edad tienen temperaturas bastante diferentes"
   ]
  },
  {
   "attachments": {},
   "cell_type": "markdown",
   "metadata": {},
   "source": [
    "    Regresión lineal simple\n",
    "Examinemos formalmente la relación entre nuestras etiquetas y características ajustando una línea (modelo de regresión lineal simple) al conjunto de datos."
   ]
  },
  {
   "cell_type": "code",
   "execution_count": 5,
   "metadata": {},
   "outputs": [
    {
     "data": {
      "application/vnd.plotly.v1+json": {
       "config": {
        "plotlyServerURL": "https://plot.ly"
       },
       "data": [
        {
         "hovertemplate": "age=%{x}<br>core temperature=%{y}<extra></extra>",
         "legendgroup": "",
         "marker": {
          "color": "#636efa",
          "size": 17,
          "symbol": "circle"
         },
         "mode": "markers",
         "name": "",
         "orientation": "v",
         "showlegend": false,
         "type": "scatter",
         "x": [
          6.9,
          5.4,
          5.4,
          4.8,
          4.8,
          7.8,
          2.7,
          5.7,
          1.5,
          1.8,
          4.2,
          4.5,
          1.5,
          5.1,
          4.8,
          5.1,
          3.6,
          4.2,
          2.7,
          8.7,
          0.9,
          6.3,
          1.2,
          2.7,
          6,
          6,
          0.6,
          3.9,
          6,
          5.7,
          6.9,
          5.1,
          2.1,
          3.6,
          6.3,
          2.4,
          8.4,
          7.5,
          5.7,
          5.7,
          2.7,
          4.2,
          6.9,
          3,
          1.8,
          2.4,
          6.3,
          0.6,
          1.8,
          4.8,
          8.4,
          8.1,
          6.3,
          8.7,
          4.5,
          4.5,
          7.5,
          1.2,
          5.7,
          0.6,
          6.9,
          8.1,
          0.6,
          1.2,
          6.6,
          8.1,
          2.7,
          3.9,
          4.2,
          6.9,
          1.2,
          3.9,
          3.6,
          0.3,
          3,
          8.7,
          2.1,
          6.6,
          1.5,
          5.1,
          6,
          2.1,
          6,
          4.2,
          1.5,
          1.8,
          1.8,
          6.9,
          6.9,
          4.5,
          1.8,
          8.4,
          3,
          4.5,
          1.8,
          6.6,
          6.9,
          6
         ],
         "xaxis": "x",
         "y": [
          38.42316895,
          39.01599822,
          39.14834088,
          39.06004863,
          38.65543905,
          38.6092188,
          39.47390806,
          38.81521612,
          37.77845286,
          39.17685034,
          39.52090819,
          38.57896943,
          38.28013391,
          38.40158039,
          38.65157641,
          39.61720308,
          37.72843549,
          39.36694049,
          37.98848685,
          39.93405104,
          37.60559023,
          38.83468198,
          37.39892664,
          38.98633063,
          39.72456882,
          38.09695504,
          37.59597881,
          39.49731323,
          38.50187636,
          38.27036031,
          38.69964224,
          39.08411118,
          38.29400364,
          38.39872285,
          39.29951536,
          38.37598649,
          38.46968433,
          39.58561173,
          38.12682317,
          39.80156649,
          37.92682179,
          39.67264697,
          38.21409556,
          38.93217418,
          37.80121676,
          37.52097889,
          39.34942824,
          38.9163822,
          38.72595498,
          38.35421436,
          40.17337876,
          39.48214424,
          39.9557292,
          39.02529641,
          39.70565695,
          37.87210056,
          38.92730588,
          38.75694066,
          38.98157028,
          39.07020183,
          39.31023381,
          40.26487847,
          39.19531025,
          37.46606804,
          38.61929591,
          39.74308443,
          37.9590829,
          38.52387016,
          39.58821189,
          39.48780846,
          37.32113362,
          38.30311301,
          39.32598796,
          38.18373964,
          37.78518905,
          38.97361387,
          37.97719515,
          38.92654301,
          37.98922316,
          39.87010492,
          38.51344083,
          39.14710639,
          38.61129304,
          38.95232638,
          37.46812464,
          38.24131363,
          38.7661591,
          39.87233432,
          38.87492299,
          39.09337261,
          39.00124171,
          39.25963687,
          38.6808734,
          37.93994229,
          38.79042609,
          39.48996228,
          38.57574159,
          39.76644658
         ],
         "yaxis": "y"
        }
       ],
       "layout": {
        "legend": {
         "tracegroupgap": 0
        },
        "shapes": [
         {
          "line": {
           "color": "rgb(228,26,28)"
          },
          "path": "M0.3 38.13386942215629 L 0.3422110552763819 38.140342047540194 L 0.38442211055276376 38.1468146729241 L 0.4266331658291457 38.15328729830801 L 0.4688442211055276 38.159759923691915 L 0.5110552763819095 38.16623254907582 L 0.5532663316582913 38.17270517445973 L 0.5954773869346732 38.179177799843636 L 0.6376884422110551 38.18565042522754 L 0.679899497487437 38.19212305061145 L 0.722110552763819 38.19859567599536 L 0.7643216080402009 38.205068301379264 L 0.8065326633165828 38.21154092676317 L 0.8487437185929647 38.21801355214708 L 0.8909547738693466 38.224486177530984 L 0.9331658291457285 38.23095880291489 L 0.9753768844221105 38.2374314282988 L 1.0175879396984924 38.243904053682705 L 1.0597989949748743 38.25037667906661 L 1.1020100502512562 38.25684930445052 L 1.1442211055276381 38.263321929834426 L 1.1864321608040198 38.26979455521833 L 1.2286432160804017 38.27626718060224 L 1.2708542713567836 38.28273980598615 L 1.3130653266331656 38.28921243137005 L 1.3552763819095475 38.29568505675396 L 1.3974874371859294 38.30215768213787 L 1.4396984924623113 38.308630307521774 L 1.4819095477386932 38.31510293290568 L 1.5241206030150751 38.32157555828959 L 1.566331658291457 38.328048183673495 L 1.608542713567839 38.3345208090574 L 1.6507537688442209 38.34099343444131 L 1.6929648241206028 38.347466059825216 L 1.7351758793969847 38.35393868520912 L 1.7773869346733666 38.36041131059303 L 1.8195979899497485 38.36688393597694 L 1.8618090452261304 38.37335656136084 L 1.9040201005025124 38.37982918674475 L 1.9462311557788943 38.38630181212866 L 1.9884422110552762 38.392774437512564 L 2.0306532663316577 38.39924706289647 L 2.07286432160804 38.40571968828038 L 2.1150753768844215 38.412192313664285 L 2.1572864321608036 38.41866493904819 L 2.1994974874371853 38.4251375644321 L 2.2417085427135675 38.431610189816006 L 2.283919597989949 38.43808281519991 L 2.326130653266331 38.44455544058382 L 2.368341708542713 38.451028065967726 L 2.4105527638190947 38.45750069135163 L 2.452763819095477 38.46397331673554 L 2.4949748743718585 38.47044594211945 L 2.5371859296482406 38.476918567503354 L 2.5793969849246223 38.48339119288726 L 2.6216080402010045 38.48986381827117 L 2.663819095477386 38.496336443655075 L 2.7060301507537683 38.50280906903898 L 2.74824120603015 38.50928169442289 L 2.790452261306532 38.515754319806796 L 2.832663316582914 38.5222269451907 L 2.874874371859296 38.52869957057461 L 2.9170854271356776 38.535172195958516 L 2.95929648241206 38.54164482134242 L 3.0015075376884415 38.54811744672633 L 3.043718592964823 38.55459007211024 L 3.0859296482412053 38.561062697494144 L 3.128140703517587 38.56753532287805 L 3.170351758793969 38.57400794826196 L 3.212562814070351 38.580480573645865 L 3.254773869346733 38.58695319902977 L 3.2969849246231147 38.59342582441368 L 3.339195979899497 38.599898449797585 L 3.3814070351758785 38.60637107518149 L 3.4236180904522606 38.6128437005654 L 3.4658291457286423 38.619316325949306 L 3.5080402010050244 38.62578895133321 L 3.550251256281406 38.63226157671712 L 3.5924623115577883 38.63873420210103 L 3.63467336683417 38.645206827484934 L 3.676884422110552 38.65167945286884 L 3.719095477386934 38.65815207825275 L 3.7613065326633155 38.664624703636655 L 3.8035175879396976 38.67109732902056 L 3.8457286432160793 38.67756995440447 L 3.8879396984924615 38.684042579788375 L 3.930150753768843 38.69051520517228 L 3.9723618090452253 38.69698783055619 L 4.014572864321607 38.703460455940096 L 4.056783919597989 38.709933081324 L 4.098994974874371 38.71640570670791 L 4.141206030150753 38.72287833209182 L 4.183417085427135 38.729350957475724 L 4.225628140703517 38.73582358285963 L 4.2678391959798985 38.74229620824354 L 4.31005025125628 38.748768833627445 L 4.352261306532662 38.75524145901135 L 4.394472361809044 38.76171408439526 L 4.436683417085426 38.768186709779165 L 4.478894472361808 38.77465933516307 L 4.5211055276381895 38.78113196054698 L 4.563316582914572 38.787604585930886 L 4.605527638190954 38.79407721131479 L 4.6477386934673355 38.8005498366987 L 4.689949748743717 38.80702246208261 L 4.7321608040201 38.813495087466514 L 4.7743718592964814 38.81996771285042 L 4.816582914572863 38.82644033823433 L 4.858793969849245 38.832912963618234 L 4.901005025125627 38.83938558900214 L 4.943216080402009 38.84585821438605 L 4.985427135678391 38.852330839769955 L 5.0276381909547725 38.85880346515386 L 5.069849246231154 38.86527609053777 L 5.112060301507537 38.871748715921676 L 5.1542713567839185 38.87822134130558 L 5.1964824120603 38.88469396668949 L 5.238693467336682 38.8911665920734 L 5.280904522613064 38.897639217457304 L 5.323115577889446 38.90411184284121 L 5.365326633165828 38.91058446822512 L 5.4075376884422095 38.917057093609024 L 5.449748743718592 38.92352971899293 L 5.491959798994974 38.93000234437684 L 5.5341708542713555 38.936474969760745 L 5.576381909547737 38.94294759514465 L 5.61859296482412 38.94942022052856 L 5.660804020100501 38.955892845912466 L 5.703015075376883 38.96236547129637 L 5.745226130653265 38.96883809668028 L 5.7874371859296465 38.97531072206419 L 5.829648241206029 38.98178334744809 L 5.871859296482411 38.988255972832 L 5.9140703517587925 38.99472859821591 L 5.956281407035174 39.001201223599814 L 5.998492462311557 39.00767384898372 L 6.040703517587938 39.01414647436763 L 6.08291457286432 39.020619099751535 L 6.125125628140702 39.02709172513544 L 6.167336683417084 39.03356435051935 L 6.209547738693466 39.040036975903256 L 6.251758793969848 39.04650960128716 L 6.2939698492462295 39.05298222667107 L 6.336180904522612 39.05945485205498 L 6.378391959798994 39.06592747743888 L 6.4206030150753755 39.07240010282279 L 6.462814070351757 39.0788727282067 L 6.505025125628139 39.085345353590604 L 6.547236180904521 39.09181797897451 L 6.589447236180903 39.09829060435842 L 6.631658291457285 39.104763229742325 L 6.6738693467336665 39.11123585512623 L 6.716080402010049 39.11770848051014 L 6.758291457286431 39.124181105894046 L 6.8005025125628125 39.13065373127795 L 6.842713567839194 39.13712635666186 L 6.884924623115577 39.143598982045766 L 6.927135678391958 39.15007160742967 L 6.96934673366834 39.15654423281358 L 7.011557788944722 39.16301685819749 L 7.053768844221104 39.169489483581394 L 7.095979899497486 39.1759621089653 L 7.138190954773868 39.18243473434921 L 7.1804020100502495 39.188907359733115 L 7.222613065326631 39.19537998511702 L 7.264824120603014 39.20185261050093 L 7.307035175879395 39.208325235884836 L 7.349246231155777 39.21479786126874 L 7.391457286432159 39.22127048665265 L 7.433668341708541 39.227743112036556 L 7.475879396984923 39.23421573742046 L 7.518090452261305 39.24068836280437 L 7.5603015075376865 39.24716098818828 L 7.602512562814069 39.253633613572184 L 7.644723618090451 39.26010623895609 L 7.6869346733668324 39.26657886434 L 7.729145728643214 39.273051489723905 L 7.771356783919596 39.27952411510781 L 7.813567839195978 39.28599674049172 L 7.85577889447236 39.292469365875625 L 7.897989949748742 39.29894199125953 L 7.9402010050251235 39.30541461664344 L 7.982412060301506 39.311887242027346 L 8.024623115577889 39.31835986741125 L 8.06683417085427 39.32483249279516 L 8.109045226130652 39.33130511817907 L 8.151256281407035 39.337777743562974 L 8.193467336683415 39.34425036894688 L 8.235678391959798 39.35072299433079 L 8.277889447236179 39.357195619714695 L 8.320100502512561 39.3636682450986 L 8.362311557788944 39.37014087048251 L 8.404522613065325 39.376613495866415 L 8.446733668341707 39.38308612125032 L 8.48894472361809 39.38955874663423 L 8.53115577889447 39.396031372018136 L 8.573366834170853 39.40250399740204 L 8.615577889447236 39.40897662278595 L 8.657788944723617 39.41544924816986 L 8.7 39.421921873553764",
          "type": "path"
         }
        ],
        "template": {
         "data": {
          "bar": [
           {
            "error_x": {
             "color": "#2a3f5f"
            },
            "error_y": {
             "color": "#2a3f5f"
            },
            "marker": {
             "line": {
              "color": "white",
              "width": 0.5
             },
             "pattern": {
              "fillmode": "overlay",
              "size": 10,
              "solidity": 0.2
             }
            },
            "type": "bar"
           }
          ],
          "barpolar": [
           {
            "marker": {
             "line": {
              "color": "white",
              "width": 0.5
             },
             "pattern": {
              "fillmode": "overlay",
              "size": 10,
              "solidity": 0.2
             }
            },
            "type": "barpolar"
           }
          ],
          "box": [
           {
            "boxpoints": "outliers",
            "notched": false,
            "type": "box"
           }
          ],
          "carpet": [
           {
            "aaxis": {
             "endlinecolor": "#2a3f5f",
             "gridcolor": "#C8D4E3",
             "linecolor": "#C8D4E3",
             "minorgridcolor": "#C8D4E3",
             "startlinecolor": "#2a3f5f"
            },
            "baxis": {
             "endlinecolor": "#2a3f5f",
             "gridcolor": "#C8D4E3",
             "linecolor": "#C8D4E3",
             "minorgridcolor": "#C8D4E3",
             "startlinecolor": "#2a3f5f"
            },
            "type": "carpet"
           }
          ],
          "choropleth": [
           {
            "colorbar": {
             "outlinewidth": 0,
             "ticks": ""
            },
            "type": "choropleth"
           }
          ],
          "contour": [
           {
            "colorbar": {
             "outlinewidth": 0,
             "ticks": ""
            },
            "colorscale": [
             [
              0,
              "#0d0887"
             ],
             [
              0.1111111111111111,
              "#46039f"
             ],
             [
              0.2222222222222222,
              "#7201a8"
             ],
             [
              0.3333333333333333,
              "#9c179e"
             ],
             [
              0.4444444444444444,
              "#bd3786"
             ],
             [
              0.5555555555555556,
              "#d8576b"
             ],
             [
              0.6666666666666666,
              "#ed7953"
             ],
             [
              0.7777777777777778,
              "#fb9f3a"
             ],
             [
              0.8888888888888888,
              "#fdca26"
             ],
             [
              1,
              "#f0f921"
             ]
            ],
            "type": "contour"
           }
          ],
          "contourcarpet": [
           {
            "colorbar": {
             "outlinewidth": 0,
             "ticks": ""
            },
            "type": "contourcarpet"
           }
          ],
          "heatmap": [
           {
            "colorbar": {
             "outlinewidth": 0,
             "ticks": ""
            },
            "colorscale": [
             [
              0,
              "#0d0887"
             ],
             [
              0.1111111111111111,
              "#46039f"
             ],
             [
              0.2222222222222222,
              "#7201a8"
             ],
             [
              0.3333333333333333,
              "#9c179e"
             ],
             [
              0.4444444444444444,
              "#bd3786"
             ],
             [
              0.5555555555555556,
              "#d8576b"
             ],
             [
              0.6666666666666666,
              "#ed7953"
             ],
             [
              0.7777777777777778,
              "#fb9f3a"
             ],
             [
              0.8888888888888888,
              "#fdca26"
             ],
             [
              1,
              "#f0f921"
             ]
            ],
            "type": "heatmap"
           }
          ],
          "heatmapgl": [
           {
            "colorbar": {
             "outlinewidth": 0,
             "ticks": ""
            },
            "colorscale": [
             [
              0,
              "#0d0887"
             ],
             [
              0.1111111111111111,
              "#46039f"
             ],
             [
              0.2222222222222222,
              "#7201a8"
             ],
             [
              0.3333333333333333,
              "#9c179e"
             ],
             [
              0.4444444444444444,
              "#bd3786"
             ],
             [
              0.5555555555555556,
              "#d8576b"
             ],
             [
              0.6666666666666666,
              "#ed7953"
             ],
             [
              0.7777777777777778,
              "#fb9f3a"
             ],
             [
              0.8888888888888888,
              "#fdca26"
             ],
             [
              1,
              "#f0f921"
             ]
            ],
            "type": "heatmapgl"
           }
          ],
          "histogram": [
           {
            "marker": {
             "line": {
              "width": 1
             },
             "pattern": {
              "fillmode": "overlay",
              "size": 10,
              "solidity": 0.2
             }
            },
            "type": "histogram"
           }
          ],
          "histogram2d": [
           {
            "colorbar": {
             "outlinewidth": 0,
             "ticks": ""
            },
            "colorscale": [
             [
              0,
              "#0d0887"
             ],
             [
              0.1111111111111111,
              "#46039f"
             ],
             [
              0.2222222222222222,
              "#7201a8"
             ],
             [
              0.3333333333333333,
              "#9c179e"
             ],
             [
              0.4444444444444444,
              "#bd3786"
             ],
             [
              0.5555555555555556,
              "#d8576b"
             ],
             [
              0.6666666666666666,
              "#ed7953"
             ],
             [
              0.7777777777777778,
              "#fb9f3a"
             ],
             [
              0.8888888888888888,
              "#fdca26"
             ],
             [
              1,
              "#f0f921"
             ]
            ],
            "type": "histogram2d"
           }
          ],
          "histogram2dcontour": [
           {
            "colorbar": {
             "outlinewidth": 0,
             "ticks": ""
            },
            "colorscale": [
             [
              0,
              "#0d0887"
             ],
             [
              0.1111111111111111,
              "#46039f"
             ],
             [
              0.2222222222222222,
              "#7201a8"
             ],
             [
              0.3333333333333333,
              "#9c179e"
             ],
             [
              0.4444444444444444,
              "#bd3786"
             ],
             [
              0.5555555555555556,
              "#d8576b"
             ],
             [
              0.6666666666666666,
              "#ed7953"
             ],
             [
              0.7777777777777778,
              "#fb9f3a"
             ],
             [
              0.8888888888888888,
              "#fdca26"
             ],
             [
              1,
              "#f0f921"
             ]
            ],
            "type": "histogram2dcontour"
           }
          ],
          "mesh3d": [
           {
            "colorbar": {
             "outlinewidth": 0,
             "ticks": ""
            },
            "type": "mesh3d"
           }
          ],
          "parcoords": [
           {
            "line": {
             "colorbar": {
              "outlinewidth": 0,
              "ticks": ""
             }
            },
            "type": "parcoords"
           }
          ],
          "pie": [
           {
            "automargin": true,
            "type": "pie"
           }
          ],
          "scatter": [
           {
            "fillpattern": {
             "fillmode": "overlay",
             "size": 10,
             "solidity": 0.2
            },
            "marker": {
             "opacity": 0.8
            },
            "type": "scatter"
           }
          ],
          "scatter3d": [
           {
            "line": {
             "colorbar": {
              "outlinewidth": 0,
              "ticks": ""
             }
            },
            "marker": {
             "colorbar": {
              "outlinewidth": 0,
              "ticks": ""
             },
             "opacity": 0.8
            },
            "type": "scatter3d"
           }
          ],
          "scattercarpet": [
           {
            "marker": {
             "colorbar": {
              "outlinewidth": 0,
              "ticks": ""
             }
            },
            "type": "scattercarpet"
           }
          ],
          "scattergeo": [
           {
            "marker": {
             "colorbar": {
              "outlinewidth": 0,
              "ticks": ""
             }
            },
            "type": "scattergeo"
           }
          ],
          "scattergl": [
           {
            "marker": {
             "colorbar": {
              "outlinewidth": 0,
              "ticks": ""
             }
            },
            "type": "scattergl"
           }
          ],
          "scattermapbox": [
           {
            "marker": {
             "colorbar": {
              "outlinewidth": 0,
              "ticks": ""
             }
            },
            "type": "scattermapbox"
           }
          ],
          "scatterpolar": [
           {
            "marker": {
             "colorbar": {
              "outlinewidth": 0,
              "ticks": ""
             }
            },
            "type": "scatterpolar"
           }
          ],
          "scatterpolargl": [
           {
            "marker": {
             "colorbar": {
              "outlinewidth": 0,
              "ticks": ""
             }
            },
            "type": "scatterpolargl"
           }
          ],
          "scatterternary": [
           {
            "marker": {
             "colorbar": {
              "outlinewidth": 0,
              "ticks": ""
             }
            },
            "type": "scatterternary"
           }
          ],
          "surface": [
           {
            "colorbar": {
             "outlinewidth": 0,
             "ticks": ""
            },
            "colorscale": [
             [
              0,
              "#0d0887"
             ],
             [
              0.1111111111111111,
              "#46039f"
             ],
             [
              0.2222222222222222,
              "#7201a8"
             ],
             [
              0.3333333333333333,
              "#9c179e"
             ],
             [
              0.4444444444444444,
              "#bd3786"
             ],
             [
              0.5555555555555556,
              "#d8576b"
             ],
             [
              0.6666666666666666,
              "#ed7953"
             ],
             [
              0.7777777777777778,
              "#fb9f3a"
             ],
             [
              0.8888888888888888,
              "#fdca26"
             ],
             [
              1,
              "#f0f921"
             ]
            ],
            "type": "surface"
           }
          ],
          "table": [
           {
            "cells": {
             "fill": {
              "color": "#EBF0F8"
             },
             "line": {
              "color": "white"
             }
            },
            "header": {
             "fill": {
              "color": "#C8D4E3"
             },
             "line": {
              "color": "white"
             }
            },
            "type": "table"
           }
          ]
         },
         "layout": {
          "annotationdefaults": {
           "arrowcolor": "#2a3f5f",
           "arrowhead": 0,
           "arrowwidth": 1
          },
          "autotypenumbers": "strict",
          "coloraxis": {
           "colorbar": {
            "outlinewidth": 0,
            "ticks": ""
           }
          },
          "colorscale": {
           "diverging": [
            [
             0,
             "#8e0152"
            ],
            [
             0.1,
             "#c51b7d"
            ],
            [
             0.2,
             "#de77ae"
            ],
            [
             0.3,
             "#f1b6da"
            ],
            [
             0.4,
             "#fde0ef"
            ],
            [
             0.5,
             "#f7f7f7"
            ],
            [
             0.6,
             "#e6f5d0"
            ],
            [
             0.7,
             "#b8e186"
            ],
            [
             0.8,
             "#7fbc41"
            ],
            [
             0.9,
             "#4d9221"
            ],
            [
             1,
             "#276419"
            ]
           ],
           "sequential": [
            [
             0,
             "#0d0887"
            ],
            [
             0.1111111111111111,
             "#46039f"
            ],
            [
             0.2222222222222222,
             "#7201a8"
            ],
            [
             0.3333333333333333,
             "#9c179e"
            ],
            [
             0.4444444444444444,
             "#bd3786"
            ],
            [
             0.5555555555555556,
             "#d8576b"
            ],
            [
             0.6666666666666666,
             "#ed7953"
            ],
            [
             0.7777777777777778,
             "#fb9f3a"
            ],
            [
             0.8888888888888888,
             "#fdca26"
            ],
            [
             1,
             "#f0f921"
            ]
           ],
           "sequentialminus": [
            [
             0,
             "#0d0887"
            ],
            [
             0.1111111111111111,
             "#46039f"
            ],
            [
             0.2222222222222222,
             "#7201a8"
            ],
            [
             0.3333333333333333,
             "#9c179e"
            ],
            [
             0.4444444444444444,
             "#bd3786"
            ],
            [
             0.5555555555555556,
             "#d8576b"
            ],
            [
             0.6666666666666666,
             "#ed7953"
            ],
            [
             0.7777777777777778,
             "#fb9f3a"
            ],
            [
             0.8888888888888888,
             "#fdca26"
            ],
            [
             1,
             "#f0f921"
            ]
           ]
          },
          "colorway": [
           "#636efa",
           "#EF553B",
           "#00cc96",
           "#ab63fa",
           "#FFA15A",
           "#19d3f3",
           "#FF6692",
           "#B6E880",
           "#FF97FF",
           "#FECB52"
          ],
          "font": {
           "color": "#2a3f5f"
          },
          "geo": {
           "bgcolor": "white",
           "lakecolor": "white",
           "landcolor": "white",
           "showlakes": true,
           "showland": true,
           "subunitcolor": "#C8D4E3"
          },
          "height": 400,
          "hoverlabel": {
           "align": "left"
          },
          "hovermode": "closest",
          "mapbox": {
           "style": "light"
          },
          "margin": {
           "b": 2,
           "l": 2,
           "r": 2,
           "t": 30
          },
          "paper_bgcolor": "white",
          "plot_bgcolor": "white",
          "polar": {
           "angularaxis": {
            "gridcolor": "#EBF0F8",
            "linecolor": "#EBF0F8",
            "ticks": ""
           },
           "bgcolor": "white",
           "radialaxis": {
            "gridcolor": "#EBF0F8",
            "linecolor": "#EBF0F8",
            "ticks": ""
           }
          },
          "scene": {
           "camera": {
            "eye": {
             "x": 1.5,
             "y": 1.5,
             "z": 0.1
            }
           },
           "xaxis": {
            "backgroundcolor": "white",
            "gridcolor": "#DFE8F3",
            "gridwidth": 2,
            "linecolor": "#EBF0F8",
            "showbackground": true,
            "ticks": "",
            "zerolinecolor": "#EBF0F8"
           },
           "yaxis": {
            "backgroundcolor": "white",
            "gridcolor": "#DFE8F3",
            "gridwidth": 2,
            "linecolor": "#EBF0F8",
            "showbackground": true,
            "ticks": "",
            "zerolinecolor": "#EBF0F8"
           },
           "zaxis": {
            "backgroundcolor": "white",
            "gridcolor": "#DFE8F3",
            "gridwidth": 2,
            "linecolor": "#EBF0F8",
            "showbackground": true,
            "ticks": "",
            "zerolinecolor": "#EBF0F8"
           }
          },
          "shapedefaults": {
           "line": {
            "color": "#2a3f5f"
           }
          },
          "ternary": {
           "aaxis": {
            "gridcolor": "#DFE8F3",
            "linecolor": "#A2B1C6",
            "ticks": ""
           },
           "baxis": {
            "gridcolor": "#DFE8F3",
            "linecolor": "#A2B1C6",
            "ticks": ""
           },
           "bgcolor": "white",
           "caxis": {
            "gridcolor": "#DFE8F3",
            "linecolor": "#A2B1C6",
            "ticks": ""
           }
          },
          "title": {
           "x": 0.5
          },
          "xaxis": {
           "automargin": true,
           "gridcolor": "#EBF0F8",
           "linecolor": "#EBF0F8",
           "linewidth": 2,
           "showline": true,
           "ticks": "",
           "title": {
            "standoff": 15
           },
           "zerolinecolor": "#EBF0F8",
           "zerolinewidth": 2
          },
          "yaxis": {
           "automargin": true,
           "gridcolor": "#EBF0F8",
           "linecolor": "#EBF0F8",
           "linewidth": 2,
           "showline": true,
           "ticks": "",
           "title": {
            "standoff": 15
           },
           "zerolinecolor": "#EBF0F8",
           "zerolinewidth": 2
          }
         }
        },
        "xaxis": {
         "anchor": "y",
         "domain": [
          0,
          1
         ],
         "title": {
          "text": "age"
         }
        },
        "yaxis": {
         "anchor": "x",
         "domain": [
          0,
          1
         ],
         "title": {
          "text": "core temperature"
         }
        }
       }
      }
     },
     "metadata": {},
     "output_type": "display_data"
    }
   ],
   "source": [
    "import statsmodels.formula.api as smf\n",
    "import graphing\n",
    "\n",
    "# Primero, definimos nuestra fórmula usando una sintaxis especial \n",
    "# Esto dice que la temperatura central se explica por la edad\n",
    "formula = \"core_temperature ~ age\"\n",
    "\n",
    "# Realizar regresión lineal. Este método se encarga \n",
    "# todo el procedimiento de ajuste para nosotros.\n",
    "model = smf.ols(formula = formula, data = dataset).fit()\n",
    "\n",
    "# Mostrar un gráfico del resultado.\n",
    "graphing.scatter_2D(dataset,    label_x=\"age\", \n",
    "                                label_y=\"core_temperature\",\n",
    "                                trendline=lambda x: model.params[1] * x + model.params[0]\n",
    "                                )"
   ]
  },
  {
   "attachments": {},
   "cell_type": "markdown",
   "metadata": {},
   "source": [
    "La línea parece ajustarse bastante bien a los datos, lo que valida nuestra hipótesis de que existe una correlación positiva entre la edad de un perro y su temperatura central."
   ]
  },
  {
   "attachments": {},
   "cell_type": "markdown",
   "metadata": {},
   "source": [
    "    Interpretando nuestro modelo\n",
    "Visualmente, la regresión lineal simple es fácil de entender. Sin embargo, recapitulemos sobre lo que significan los parámetros."
   ]
  },
  {
   "cell_type": "code",
   "execution_count": 7,
   "metadata": {},
   "outputs": [
    {
     "name": "stdout",
     "output_type": "stream",
     "text": [
      "Intercepto: 38.08786754889209 Pendiente: 0.15333957754731897\n"
     ]
    }
   ],
   "source": [
    "print(\"Intercepto:\", model.params[0], \"Pendiente:\", model.params[1])"
   ]
  },
  {
   "attachments": {},
   "cell_type": "markdown",
   "metadata": {},
   "source": [
    "Recuerde que los modelos de regresión lineal simple se explican por la intersección de la línea y la pendiente de la línea.\n",
    "\n",
    "Aquí, nuestra intercepción es de 38 grados centígrados. Esto significa que cuando age es 0, el modelo predecirá 38 grados.\n",
    "\n",
    "Nuestra pendiente es de 0,15 grados centígrados, lo que significa que por cada año de edad, el modelo pronosticará temperaturas 0,15 grados más altas.\n",
    "\n",
    "En el cuadro a continuación, intente cambiar la edad a algunos valores diferentes para ver predicciones diferentes y compárelas con la línea en el gráfico anterior."
   ]
  },
  {
   "cell_type": "code",
   "execution_count": 11,
   "metadata": {},
   "outputs": [
    {
     "name": "stdout",
     "output_type": "stream",
     "text": [
      "Calcular la temperatura a partir de la edad\n",
      "38.08786754889209\n"
     ]
    }
   ],
   "source": [
    "def estimate_temperature(age):\n",
    "    # El modelo param[0] son ​​las intersecciones y param[1] es la pendiente\n",
    "    return age * model.params[1] + model.params[0]\n",
    "\n",
    "print(\"Calcular la temperatura a partir de la edad\")\n",
    "print(estimate_temperature(age=0))"
   ]
  },
  {
   "attachments": {},
   "cell_type": "markdown",
   "metadata": {},
   "source": [
    "    Ejercicio: entrenar un modelo de regresión lineal múltiple\n",
    "En este ejercicio, entrenaremos un modelo de regresión lineal simple y un modelo de regresión lineal múltiple, y compararemos su desempeño usando R-Squared.\n",
    "\n",
    "    Cargando datos\n",
    "Comencemos echando un vistazo a nuestros datos."
   ]
  },
  {
   "cell_type": "code",
   "execution_count": 12,
   "metadata": {},
   "outputs": [
    {
     "data": {
      "text/html": [
       "<div>\n",
       "<style scoped>\n",
       "    .dataframe tbody tr th:only-of-type {\n",
       "        vertical-align: middle;\n",
       "    }\n",
       "\n",
       "    .dataframe tbody tr th {\n",
       "        vertical-align: top;\n",
       "    }\n",
       "\n",
       "    .dataframe thead th {\n",
       "        text-align: right;\n",
       "    }\n",
       "</style>\n",
       "<table border=\"1\" class=\"dataframe\">\n",
       "  <thead>\n",
       "    <tr style=\"text-align: right;\">\n",
       "      <th></th>\n",
       "      <th>male</th>\n",
       "      <th>attended_training</th>\n",
       "      <th>age</th>\n",
       "      <th>body_fat_percentage</th>\n",
       "      <th>core_temperature</th>\n",
       "      <th>ate_at_tonys_steakhouse</th>\n",
       "      <th>needed_intensive_care</th>\n",
       "      <th>protein_content_of_last_meal</th>\n",
       "    </tr>\n",
       "  </thead>\n",
       "  <tbody>\n",
       "    <tr>\n",
       "      <th>0</th>\n",
       "      <td>0</td>\n",
       "      <td>1</td>\n",
       "      <td>6.9</td>\n",
       "      <td>38</td>\n",
       "      <td>38.423169</td>\n",
       "      <td>0</td>\n",
       "      <td>0</td>\n",
       "      <td>7.66</td>\n",
       "    </tr>\n",
       "    <tr>\n",
       "      <th>1</th>\n",
       "      <td>0</td>\n",
       "      <td>1</td>\n",
       "      <td>5.4</td>\n",
       "      <td>32</td>\n",
       "      <td>39.015998</td>\n",
       "      <td>0</td>\n",
       "      <td>0</td>\n",
       "      <td>13.36</td>\n",
       "    </tr>\n",
       "    <tr>\n",
       "      <th>2</th>\n",
       "      <td>1</td>\n",
       "      <td>1</td>\n",
       "      <td>5.4</td>\n",
       "      <td>12</td>\n",
       "      <td>39.148341</td>\n",
       "      <td>0</td>\n",
       "      <td>0</td>\n",
       "      <td>12.90</td>\n",
       "    </tr>\n",
       "    <tr>\n",
       "      <th>3</th>\n",
       "      <td>1</td>\n",
       "      <td>0</td>\n",
       "      <td>4.8</td>\n",
       "      <td>23</td>\n",
       "      <td>39.060049</td>\n",
       "      <td>0</td>\n",
       "      <td>0</td>\n",
       "      <td>13.45</td>\n",
       "    </tr>\n",
       "    <tr>\n",
       "      <th>4</th>\n",
       "      <td>1</td>\n",
       "      <td>0</td>\n",
       "      <td>4.8</td>\n",
       "      <td>15</td>\n",
       "      <td>38.655439</td>\n",
       "      <td>0</td>\n",
       "      <td>0</td>\n",
       "      <td>10.53</td>\n",
       "    </tr>\n",
       "    <tr>\n",
       "      <th>...</th>\n",
       "      <td>...</td>\n",
       "      <td>...</td>\n",
       "      <td>...</td>\n",
       "      <td>...</td>\n",
       "      <td>...</td>\n",
       "      <td>...</td>\n",
       "      <td>...</td>\n",
       "      <td>...</td>\n",
       "    </tr>\n",
       "    <tr>\n",
       "      <th>93</th>\n",
       "      <td>0</td>\n",
       "      <td>0</td>\n",
       "      <td>4.5</td>\n",
       "      <td>38</td>\n",
       "      <td>37.939942</td>\n",
       "      <td>0</td>\n",
       "      <td>0</td>\n",
       "      <td>7.35</td>\n",
       "    </tr>\n",
       "    <tr>\n",
       "      <th>94</th>\n",
       "      <td>1</td>\n",
       "      <td>0</td>\n",
       "      <td>1.8</td>\n",
       "      <td>11</td>\n",
       "      <td>38.790426</td>\n",
       "      <td>1</td>\n",
       "      <td>1</td>\n",
       "      <td>12.18</td>\n",
       "    </tr>\n",
       "    <tr>\n",
       "      <th>95</th>\n",
       "      <td>0</td>\n",
       "      <td>0</td>\n",
       "      <td>6.6</td>\n",
       "      <td>20</td>\n",
       "      <td>39.489962</td>\n",
       "      <td>0</td>\n",
       "      <td>0</td>\n",
       "      <td>15.84</td>\n",
       "    </tr>\n",
       "    <tr>\n",
       "      <th>96</th>\n",
       "      <td>0</td>\n",
       "      <td>0</td>\n",
       "      <td>6.9</td>\n",
       "      <td>32</td>\n",
       "      <td>38.575742</td>\n",
       "      <td>1</td>\n",
       "      <td>1</td>\n",
       "      <td>9.79</td>\n",
       "    </tr>\n",
       "    <tr>\n",
       "      <th>97</th>\n",
       "      <td>1</td>\n",
       "      <td>1</td>\n",
       "      <td>6.0</td>\n",
       "      <td>21</td>\n",
       "      <td>39.766447</td>\n",
       "      <td>1</td>\n",
       "      <td>1</td>\n",
       "      <td>21.30</td>\n",
       "    </tr>\n",
       "  </tbody>\n",
       "</table>\n",
       "<p>98 rows × 8 columns</p>\n",
       "</div>"
      ],
      "text/plain": [
       "    male  attended_training  age  body_fat_percentage  core_temperature  \\\n",
       "0      0                  1  6.9                   38         38.423169   \n",
       "1      0                  1  5.4                   32         39.015998   \n",
       "2      1                  1  5.4                   12         39.148341   \n",
       "3      1                  0  4.8                   23         39.060049   \n",
       "4      1                  0  4.8                   15         38.655439   \n",
       "..   ...                ...  ...                  ...               ...   \n",
       "93     0                  0  4.5                   38         37.939942   \n",
       "94     1                  0  1.8                   11         38.790426   \n",
       "95     0                  0  6.6                   20         39.489962   \n",
       "96     0                  0  6.9                   32         38.575742   \n",
       "97     1                  1  6.0                   21         39.766447   \n",
       "\n",
       "    ate_at_tonys_steakhouse  needed_intensive_care  \\\n",
       "0                         0                      0   \n",
       "1                         0                      0   \n",
       "2                         0                      0   \n",
       "3                         0                      0   \n",
       "4                         0                      0   \n",
       "..                      ...                    ...   \n",
       "93                        0                      0   \n",
       "94                        1                      1   \n",
       "95                        0                      0   \n",
       "96                        1                      1   \n",
       "97                        1                      1   \n",
       "\n",
       "    protein_content_of_last_meal  \n",
       "0                           7.66  \n",
       "1                          13.36  \n",
       "2                          12.90  \n",
       "3                          13.45  \n",
       "4                          10.53  \n",
       "..                           ...  \n",
       "93                          7.35  \n",
       "94                         12.18  \n",
       "95                         15.84  \n",
       "96                          9.79  \n",
       "97                         21.30  \n",
       "\n",
       "[98 rows x 8 columns]"
      ]
     },
     "execution_count": 12,
     "metadata": {},
     "output_type": "execute_result"
    }
   ],
   "source": [
    "import pandas as pd\n",
    "\n",
    "#Importar los datos\n",
    "dataset = pd.read_csv('C:/Users/santi/OneDrive/Escritorio/Desktop/doggy-illness.csv',delimiter='\\t')\n",
    "\n",
    "#mirar los datos\n",
    "dataset"
   ]
  },
  {
   "attachments": {},
   "cell_type": "markdown",
   "metadata": {},
   "source": [
    "Para este ejercicio, intentaremos predecir core_temperature a partir de algunas de las otras funciones disponibles"
   ]
  },
  {
   "attachments": {},
   "cell_type": "markdown",
   "metadata": {},
   "source": [
    "    Visualización de datos\n",
    "Veamos rápidamente qué características parecen tener algún tipo de relación con core_temperature"
   ]
  },
  {
   "cell_type": "code",
   "execution_count": 13,
   "metadata": {},
   "outputs": [
    {
     "data": {
      "application/vnd.plotly.v1+json": {
       "config": {
        "plotlyServerURL": "https://plot.ly"
       },
       "data": [
        {
         "alignmentgroup": "True",
         "hovertemplate": "male=%{x}<br>core temperature=%{y}<extra></extra>",
         "legendgroup": "",
         "marker": {
          "color": "#636efa"
         },
         "name": "",
         "notched": false,
         "offsetgroup": "",
         "orientation": "v",
         "showlegend": false,
         "type": "box",
         "x": [
          0,
          0,
          1,
          1,
          1,
          0,
          1,
          1,
          0,
          0,
          1,
          0,
          1,
          1,
          0,
          1,
          1,
          1,
          0,
          1,
          0,
          1,
          0,
          1,
          1,
          0,
          1,
          0,
          0,
          0,
          1,
          0,
          1,
          1,
          1,
          1,
          1,
          1,
          0,
          1,
          0,
          1,
          0,
          0,
          0,
          0,
          0,
          1,
          0,
          1,
          1,
          1,
          0,
          0,
          1,
          0,
          1,
          0,
          1,
          0,
          1,
          1,
          1,
          1,
          1,
          1,
          1,
          0,
          0,
          1,
          0,
          1,
          1,
          0,
          0,
          1,
          0,
          1,
          0,
          0,
          0,
          1,
          0,
          0,
          1,
          1,
          0,
          1,
          0,
          0,
          0,
          1,
          0,
          0,
          1,
          0,
          0,
          1
         ],
         "x0": " ",
         "xaxis": "x",
         "y": [
          38.42316895,
          39.01599822,
          39.14834088,
          39.06004863,
          38.65543905,
          38.6092188,
          39.47390806,
          38.81521612,
          37.77845286,
          39.17685034,
          39.52090819,
          38.57896943,
          38.28013391,
          38.40158039,
          38.65157641,
          39.61720308,
          37.72843549,
          39.36694049,
          37.98848685,
          39.93405104,
          37.60559023,
          38.83468198,
          37.39892664,
          38.98633063,
          39.72456882,
          38.09695504,
          37.59597881,
          39.49731323,
          38.50187636,
          38.27036031,
          38.69964224,
          39.08411118,
          38.29400364,
          38.39872285,
          39.29951536,
          38.37598649,
          38.46968433,
          39.58561173,
          38.12682317,
          39.80156649,
          37.92682179,
          39.67264697,
          38.21409556,
          38.93217418,
          37.80121676,
          37.52097889,
          39.34942824,
          38.9163822,
          38.72595498,
          38.35421436,
          40.17337876,
          39.48214424,
          39.9557292,
          39.02529641,
          39.70565695,
          37.87210056,
          38.92730588,
          38.75694066,
          38.98157028,
          39.07020183,
          39.31023381,
          40.26487847,
          39.19531025,
          37.46606804,
          38.61929591,
          39.74308443,
          37.9590829,
          38.52387016,
          39.58821189,
          39.48780846,
          37.32113362,
          38.30311301,
          39.32598796,
          38.18373964,
          37.78518905,
          38.97361387,
          37.97719515,
          38.92654301,
          37.98922316,
          39.87010492,
          38.51344083,
          39.14710639,
          38.61129304,
          38.95232638,
          37.46812464,
          38.24131363,
          38.7661591,
          39.87233432,
          38.87492299,
          39.09337261,
          39.00124171,
          39.25963687,
          38.6808734,
          37.93994229,
          38.79042609,
          39.48996228,
          38.57574159,
          39.76644658
         ],
         "y0": " ",
         "yaxis": "y"
        }
       ],
       "layout": {
        "boxmode": "group",
        "legend": {
         "tracegroupgap": 0
        },
        "template": {
         "data": {
          "bar": [
           {
            "error_x": {
             "color": "#2a3f5f"
            },
            "error_y": {
             "color": "#2a3f5f"
            },
            "marker": {
             "line": {
              "color": "white",
              "width": 0.5
             },
             "pattern": {
              "fillmode": "overlay",
              "size": 10,
              "solidity": 0.2
             }
            },
            "type": "bar"
           }
          ],
          "barpolar": [
           {
            "marker": {
             "line": {
              "color": "white",
              "width": 0.5
             },
             "pattern": {
              "fillmode": "overlay",
              "size": 10,
              "solidity": 0.2
             }
            },
            "type": "barpolar"
           }
          ],
          "box": [
           {
            "boxpoints": "outliers",
            "notched": false,
            "type": "box"
           }
          ],
          "carpet": [
           {
            "aaxis": {
             "endlinecolor": "#2a3f5f",
             "gridcolor": "#C8D4E3",
             "linecolor": "#C8D4E3",
             "minorgridcolor": "#C8D4E3",
             "startlinecolor": "#2a3f5f"
            },
            "baxis": {
             "endlinecolor": "#2a3f5f",
             "gridcolor": "#C8D4E3",
             "linecolor": "#C8D4E3",
             "minorgridcolor": "#C8D4E3",
             "startlinecolor": "#2a3f5f"
            },
            "type": "carpet"
           }
          ],
          "choropleth": [
           {
            "colorbar": {
             "outlinewidth": 0,
             "ticks": ""
            },
            "type": "choropleth"
           }
          ],
          "contour": [
           {
            "colorbar": {
             "outlinewidth": 0,
             "ticks": ""
            },
            "colorscale": [
             [
              0,
              "#0d0887"
             ],
             [
              0.1111111111111111,
              "#46039f"
             ],
             [
              0.2222222222222222,
              "#7201a8"
             ],
             [
              0.3333333333333333,
              "#9c179e"
             ],
             [
              0.4444444444444444,
              "#bd3786"
             ],
             [
              0.5555555555555556,
              "#d8576b"
             ],
             [
              0.6666666666666666,
              "#ed7953"
             ],
             [
              0.7777777777777778,
              "#fb9f3a"
             ],
             [
              0.8888888888888888,
              "#fdca26"
             ],
             [
              1,
              "#f0f921"
             ]
            ],
            "type": "contour"
           }
          ],
          "contourcarpet": [
           {
            "colorbar": {
             "outlinewidth": 0,
             "ticks": ""
            },
            "type": "contourcarpet"
           }
          ],
          "heatmap": [
           {
            "colorbar": {
             "outlinewidth": 0,
             "ticks": ""
            },
            "colorscale": [
             [
              0,
              "#0d0887"
             ],
             [
              0.1111111111111111,
              "#46039f"
             ],
             [
              0.2222222222222222,
              "#7201a8"
             ],
             [
              0.3333333333333333,
              "#9c179e"
             ],
             [
              0.4444444444444444,
              "#bd3786"
             ],
             [
              0.5555555555555556,
              "#d8576b"
             ],
             [
              0.6666666666666666,
              "#ed7953"
             ],
             [
              0.7777777777777778,
              "#fb9f3a"
             ],
             [
              0.8888888888888888,
              "#fdca26"
             ],
             [
              1,
              "#f0f921"
             ]
            ],
            "type": "heatmap"
           }
          ],
          "heatmapgl": [
           {
            "colorbar": {
             "outlinewidth": 0,
             "ticks": ""
            },
            "colorscale": [
             [
              0,
              "#0d0887"
             ],
             [
              0.1111111111111111,
              "#46039f"
             ],
             [
              0.2222222222222222,
              "#7201a8"
             ],
             [
              0.3333333333333333,
              "#9c179e"
             ],
             [
              0.4444444444444444,
              "#bd3786"
             ],
             [
              0.5555555555555556,
              "#d8576b"
             ],
             [
              0.6666666666666666,
              "#ed7953"
             ],
             [
              0.7777777777777778,
              "#fb9f3a"
             ],
             [
              0.8888888888888888,
              "#fdca26"
             ],
             [
              1,
              "#f0f921"
             ]
            ],
            "type": "heatmapgl"
           }
          ],
          "histogram": [
           {
            "marker": {
             "line": {
              "width": 1
             },
             "pattern": {
              "fillmode": "overlay",
              "size": 10,
              "solidity": 0.2
             }
            },
            "type": "histogram"
           }
          ],
          "histogram2d": [
           {
            "colorbar": {
             "outlinewidth": 0,
             "ticks": ""
            },
            "colorscale": [
             [
              0,
              "#0d0887"
             ],
             [
              0.1111111111111111,
              "#46039f"
             ],
             [
              0.2222222222222222,
              "#7201a8"
             ],
             [
              0.3333333333333333,
              "#9c179e"
             ],
             [
              0.4444444444444444,
              "#bd3786"
             ],
             [
              0.5555555555555556,
              "#d8576b"
             ],
             [
              0.6666666666666666,
              "#ed7953"
             ],
             [
              0.7777777777777778,
              "#fb9f3a"
             ],
             [
              0.8888888888888888,
              "#fdca26"
             ],
             [
              1,
              "#f0f921"
             ]
            ],
            "type": "histogram2d"
           }
          ],
          "histogram2dcontour": [
           {
            "colorbar": {
             "outlinewidth": 0,
             "ticks": ""
            },
            "colorscale": [
             [
              0,
              "#0d0887"
             ],
             [
              0.1111111111111111,
              "#46039f"
             ],
             [
              0.2222222222222222,
              "#7201a8"
             ],
             [
              0.3333333333333333,
              "#9c179e"
             ],
             [
              0.4444444444444444,
              "#bd3786"
             ],
             [
              0.5555555555555556,
              "#d8576b"
             ],
             [
              0.6666666666666666,
              "#ed7953"
             ],
             [
              0.7777777777777778,
              "#fb9f3a"
             ],
             [
              0.8888888888888888,
              "#fdca26"
             ],
             [
              1,
              "#f0f921"
             ]
            ],
            "type": "histogram2dcontour"
           }
          ],
          "mesh3d": [
           {
            "colorbar": {
             "outlinewidth": 0,
             "ticks": ""
            },
            "type": "mesh3d"
           }
          ],
          "parcoords": [
           {
            "line": {
             "colorbar": {
              "outlinewidth": 0,
              "ticks": ""
             }
            },
            "type": "parcoords"
           }
          ],
          "pie": [
           {
            "automargin": true,
            "type": "pie"
           }
          ],
          "scatter": [
           {
            "fillpattern": {
             "fillmode": "overlay",
             "size": 10,
             "solidity": 0.2
            },
            "marker": {
             "opacity": 0.8
            },
            "type": "scatter"
           }
          ],
          "scatter3d": [
           {
            "line": {
             "colorbar": {
              "outlinewidth": 0,
              "ticks": ""
             }
            },
            "marker": {
             "colorbar": {
              "outlinewidth": 0,
              "ticks": ""
             },
             "opacity": 0.8
            },
            "type": "scatter3d"
           }
          ],
          "scattercarpet": [
           {
            "marker": {
             "colorbar": {
              "outlinewidth": 0,
              "ticks": ""
             }
            },
            "type": "scattercarpet"
           }
          ],
          "scattergeo": [
           {
            "marker": {
             "colorbar": {
              "outlinewidth": 0,
              "ticks": ""
             }
            },
            "type": "scattergeo"
           }
          ],
          "scattergl": [
           {
            "marker": {
             "colorbar": {
              "outlinewidth": 0,
              "ticks": ""
             }
            },
            "type": "scattergl"
           }
          ],
          "scattermapbox": [
           {
            "marker": {
             "colorbar": {
              "outlinewidth": 0,
              "ticks": ""
             }
            },
            "type": "scattermapbox"
           }
          ],
          "scatterpolar": [
           {
            "marker": {
             "colorbar": {
              "outlinewidth": 0,
              "ticks": ""
             }
            },
            "type": "scatterpolar"
           }
          ],
          "scatterpolargl": [
           {
            "marker": {
             "colorbar": {
              "outlinewidth": 0,
              "ticks": ""
             }
            },
            "type": "scatterpolargl"
           }
          ],
          "scatterternary": [
           {
            "marker": {
             "colorbar": {
              "outlinewidth": 0,
              "ticks": ""
             }
            },
            "type": "scatterternary"
           }
          ],
          "surface": [
           {
            "colorbar": {
             "outlinewidth": 0,
             "ticks": ""
            },
            "colorscale": [
             [
              0,
              "#0d0887"
             ],
             [
              0.1111111111111111,
              "#46039f"
             ],
             [
              0.2222222222222222,
              "#7201a8"
             ],
             [
              0.3333333333333333,
              "#9c179e"
             ],
             [
              0.4444444444444444,
              "#bd3786"
             ],
             [
              0.5555555555555556,
              "#d8576b"
             ],
             [
              0.6666666666666666,
              "#ed7953"
             ],
             [
              0.7777777777777778,
              "#fb9f3a"
             ],
             [
              0.8888888888888888,
              "#fdca26"
             ],
             [
              1,
              "#f0f921"
             ]
            ],
            "type": "surface"
           }
          ],
          "table": [
           {
            "cells": {
             "fill": {
              "color": "#EBF0F8"
             },
             "line": {
              "color": "white"
             }
            },
            "header": {
             "fill": {
              "color": "#C8D4E3"
             },
             "line": {
              "color": "white"
             }
            },
            "type": "table"
           }
          ]
         },
         "layout": {
          "annotationdefaults": {
           "arrowcolor": "#2a3f5f",
           "arrowhead": 0,
           "arrowwidth": 1
          },
          "autotypenumbers": "strict",
          "coloraxis": {
           "colorbar": {
            "outlinewidth": 0,
            "ticks": ""
           }
          },
          "colorscale": {
           "diverging": [
            [
             0,
             "#8e0152"
            ],
            [
             0.1,
             "#c51b7d"
            ],
            [
             0.2,
             "#de77ae"
            ],
            [
             0.3,
             "#f1b6da"
            ],
            [
             0.4,
             "#fde0ef"
            ],
            [
             0.5,
             "#f7f7f7"
            ],
            [
             0.6,
             "#e6f5d0"
            ],
            [
             0.7,
             "#b8e186"
            ],
            [
             0.8,
             "#7fbc41"
            ],
            [
             0.9,
             "#4d9221"
            ],
            [
             1,
             "#276419"
            ]
           ],
           "sequential": [
            [
             0,
             "#0d0887"
            ],
            [
             0.1111111111111111,
             "#46039f"
            ],
            [
             0.2222222222222222,
             "#7201a8"
            ],
            [
             0.3333333333333333,
             "#9c179e"
            ],
            [
             0.4444444444444444,
             "#bd3786"
            ],
            [
             0.5555555555555556,
             "#d8576b"
            ],
            [
             0.6666666666666666,
             "#ed7953"
            ],
            [
             0.7777777777777778,
             "#fb9f3a"
            ],
            [
             0.8888888888888888,
             "#fdca26"
            ],
            [
             1,
             "#f0f921"
            ]
           ],
           "sequentialminus": [
            [
             0,
             "#0d0887"
            ],
            [
             0.1111111111111111,
             "#46039f"
            ],
            [
             0.2222222222222222,
             "#7201a8"
            ],
            [
             0.3333333333333333,
             "#9c179e"
            ],
            [
             0.4444444444444444,
             "#bd3786"
            ],
            [
             0.5555555555555556,
             "#d8576b"
            ],
            [
             0.6666666666666666,
             "#ed7953"
            ],
            [
             0.7777777777777778,
             "#fb9f3a"
            ],
            [
             0.8888888888888888,
             "#fdca26"
            ],
            [
             1,
             "#f0f921"
            ]
           ]
          },
          "colorway": [
           "#636efa",
           "#EF553B",
           "#00cc96",
           "#ab63fa",
           "#FFA15A",
           "#19d3f3",
           "#FF6692",
           "#B6E880",
           "#FF97FF",
           "#FECB52"
          ],
          "font": {
           "color": "#2a3f5f"
          },
          "geo": {
           "bgcolor": "white",
           "lakecolor": "white",
           "landcolor": "white",
           "showlakes": true,
           "showland": true,
           "subunitcolor": "#C8D4E3"
          },
          "height": 400,
          "hoverlabel": {
           "align": "left"
          },
          "hovermode": "closest",
          "mapbox": {
           "style": "light"
          },
          "margin": {
           "b": 2,
           "l": 2,
           "r": 2,
           "t": 30
          },
          "paper_bgcolor": "white",
          "plot_bgcolor": "white",
          "polar": {
           "angularaxis": {
            "gridcolor": "#EBF0F8",
            "linecolor": "#EBF0F8",
            "ticks": ""
           },
           "bgcolor": "white",
           "radialaxis": {
            "gridcolor": "#EBF0F8",
            "linecolor": "#EBF0F8",
            "ticks": ""
           }
          },
          "scene": {
           "camera": {
            "eye": {
             "x": 1.5,
             "y": 1.5,
             "z": 0.1
            }
           },
           "xaxis": {
            "backgroundcolor": "white",
            "gridcolor": "#DFE8F3",
            "gridwidth": 2,
            "linecolor": "#EBF0F8",
            "showbackground": true,
            "ticks": "",
            "zerolinecolor": "#EBF0F8"
           },
           "yaxis": {
            "backgroundcolor": "white",
            "gridcolor": "#DFE8F3",
            "gridwidth": 2,
            "linecolor": "#EBF0F8",
            "showbackground": true,
            "ticks": "",
            "zerolinecolor": "#EBF0F8"
           },
           "zaxis": {
            "backgroundcolor": "white",
            "gridcolor": "#DFE8F3",
            "gridwidth": 2,
            "linecolor": "#EBF0F8",
            "showbackground": true,
            "ticks": "",
            "zerolinecolor": "#EBF0F8"
           }
          },
          "shapedefaults": {
           "line": {
            "color": "#2a3f5f"
           }
          },
          "ternary": {
           "aaxis": {
            "gridcolor": "#DFE8F3",
            "linecolor": "#A2B1C6",
            "ticks": ""
           },
           "baxis": {
            "gridcolor": "#DFE8F3",
            "linecolor": "#A2B1C6",
            "ticks": ""
           },
           "bgcolor": "white",
           "caxis": {
            "gridcolor": "#DFE8F3",
            "linecolor": "#A2B1C6",
            "ticks": ""
           }
          },
          "title": {
           "x": 0.5
          },
          "xaxis": {
           "automargin": true,
           "gridcolor": "#EBF0F8",
           "linecolor": "#EBF0F8",
           "linewidth": 2,
           "showline": true,
           "ticks": "",
           "title": {
            "standoff": 15
           },
           "zerolinecolor": "#EBF0F8",
           "zerolinewidth": 2
          },
          "yaxis": {
           "automargin": true,
           "gridcolor": "#EBF0F8",
           "linecolor": "#EBF0F8",
           "linewidth": 2,
           "showline": true,
           "ticks": "",
           "title": {
            "standoff": 15
           },
           "zerolinecolor": "#EBF0F8",
           "zerolinewidth": 2
          }
         }
        },
        "xaxis": {
         "anchor": "y",
         "domain": [
          0,
          1
         ],
         "title": {
          "text": "male"
         }
        },
        "yaxis": {
         "anchor": "x",
         "domain": [
          0,
          1
         ],
         "title": {
          "text": "core temperature"
         }
        }
       }
      }
     },
     "metadata": {},
     "output_type": "display_data"
    },
    {
     "data": {
      "application/vnd.plotly.v1+json": {
       "config": {
        "plotlyServerURL": "https://plot.ly"
       },
       "data": [
        {
         "alignmentgroup": "True",
         "hovertemplate": "attended training=%{x}<br>core temperature=%{y}<extra></extra>",
         "legendgroup": "",
         "marker": {
          "color": "#636efa"
         },
         "name": "",
         "notched": false,
         "offsetgroup": "",
         "orientation": "v",
         "showlegend": false,
         "type": "box",
         "x": [
          1,
          1,
          1,
          0,
          0,
          1,
          1,
          0,
          0,
          1,
          0,
          0,
          1,
          1,
          1,
          0,
          1,
          1,
          0,
          0,
          0,
          0,
          1,
          0,
          0,
          1,
          0,
          0,
          1,
          1,
          0,
          1,
          1,
          1,
          1,
          0,
          1,
          1,
          0,
          0,
          1,
          0,
          0,
          1,
          0,
          0,
          1,
          0,
          0,
          0,
          0,
          1,
          1,
          1,
          0,
          1,
          1,
          1,
          1,
          1,
          1,
          0,
          1,
          0,
          1,
          1,
          1,
          0,
          0,
          0,
          1,
          1,
          0,
          1,
          0,
          1,
          1,
          1,
          0,
          1,
          0,
          1,
          0,
          1,
          1,
          0,
          1,
          0,
          1,
          0,
          0,
          0,
          0,
          0,
          0,
          0,
          0,
          1
         ],
         "x0": " ",
         "xaxis": "x",
         "y": [
          38.42316895,
          39.01599822,
          39.14834088,
          39.06004863,
          38.65543905,
          38.6092188,
          39.47390806,
          38.81521612,
          37.77845286,
          39.17685034,
          39.52090819,
          38.57896943,
          38.28013391,
          38.40158039,
          38.65157641,
          39.61720308,
          37.72843549,
          39.36694049,
          37.98848685,
          39.93405104,
          37.60559023,
          38.83468198,
          37.39892664,
          38.98633063,
          39.72456882,
          38.09695504,
          37.59597881,
          39.49731323,
          38.50187636,
          38.27036031,
          38.69964224,
          39.08411118,
          38.29400364,
          38.39872285,
          39.29951536,
          38.37598649,
          38.46968433,
          39.58561173,
          38.12682317,
          39.80156649,
          37.92682179,
          39.67264697,
          38.21409556,
          38.93217418,
          37.80121676,
          37.52097889,
          39.34942824,
          38.9163822,
          38.72595498,
          38.35421436,
          40.17337876,
          39.48214424,
          39.9557292,
          39.02529641,
          39.70565695,
          37.87210056,
          38.92730588,
          38.75694066,
          38.98157028,
          39.07020183,
          39.31023381,
          40.26487847,
          39.19531025,
          37.46606804,
          38.61929591,
          39.74308443,
          37.9590829,
          38.52387016,
          39.58821189,
          39.48780846,
          37.32113362,
          38.30311301,
          39.32598796,
          38.18373964,
          37.78518905,
          38.97361387,
          37.97719515,
          38.92654301,
          37.98922316,
          39.87010492,
          38.51344083,
          39.14710639,
          38.61129304,
          38.95232638,
          37.46812464,
          38.24131363,
          38.7661591,
          39.87233432,
          38.87492299,
          39.09337261,
          39.00124171,
          39.25963687,
          38.6808734,
          37.93994229,
          38.79042609,
          39.48996228,
          38.57574159,
          39.76644658
         ],
         "y0": " ",
         "yaxis": "y"
        }
       ],
       "layout": {
        "boxmode": "group",
        "legend": {
         "tracegroupgap": 0
        },
        "template": {
         "data": {
          "bar": [
           {
            "error_x": {
             "color": "#2a3f5f"
            },
            "error_y": {
             "color": "#2a3f5f"
            },
            "marker": {
             "line": {
              "color": "white",
              "width": 0.5
             },
             "pattern": {
              "fillmode": "overlay",
              "size": 10,
              "solidity": 0.2
             }
            },
            "type": "bar"
           }
          ],
          "barpolar": [
           {
            "marker": {
             "line": {
              "color": "white",
              "width": 0.5
             },
             "pattern": {
              "fillmode": "overlay",
              "size": 10,
              "solidity": 0.2
             }
            },
            "type": "barpolar"
           }
          ],
          "box": [
           {
            "boxpoints": "outliers",
            "notched": false,
            "type": "box"
           }
          ],
          "carpet": [
           {
            "aaxis": {
             "endlinecolor": "#2a3f5f",
             "gridcolor": "#C8D4E3",
             "linecolor": "#C8D4E3",
             "minorgridcolor": "#C8D4E3",
             "startlinecolor": "#2a3f5f"
            },
            "baxis": {
             "endlinecolor": "#2a3f5f",
             "gridcolor": "#C8D4E3",
             "linecolor": "#C8D4E3",
             "minorgridcolor": "#C8D4E3",
             "startlinecolor": "#2a3f5f"
            },
            "type": "carpet"
           }
          ],
          "choropleth": [
           {
            "colorbar": {
             "outlinewidth": 0,
             "ticks": ""
            },
            "type": "choropleth"
           }
          ],
          "contour": [
           {
            "colorbar": {
             "outlinewidth": 0,
             "ticks": ""
            },
            "colorscale": [
             [
              0,
              "#0d0887"
             ],
             [
              0.1111111111111111,
              "#46039f"
             ],
             [
              0.2222222222222222,
              "#7201a8"
             ],
             [
              0.3333333333333333,
              "#9c179e"
             ],
             [
              0.4444444444444444,
              "#bd3786"
             ],
             [
              0.5555555555555556,
              "#d8576b"
             ],
             [
              0.6666666666666666,
              "#ed7953"
             ],
             [
              0.7777777777777778,
              "#fb9f3a"
             ],
             [
              0.8888888888888888,
              "#fdca26"
             ],
             [
              1,
              "#f0f921"
             ]
            ],
            "type": "contour"
           }
          ],
          "contourcarpet": [
           {
            "colorbar": {
             "outlinewidth": 0,
             "ticks": ""
            },
            "type": "contourcarpet"
           }
          ],
          "heatmap": [
           {
            "colorbar": {
             "outlinewidth": 0,
             "ticks": ""
            },
            "colorscale": [
             [
              0,
              "#0d0887"
             ],
             [
              0.1111111111111111,
              "#46039f"
             ],
             [
              0.2222222222222222,
              "#7201a8"
             ],
             [
              0.3333333333333333,
              "#9c179e"
             ],
             [
              0.4444444444444444,
              "#bd3786"
             ],
             [
              0.5555555555555556,
              "#d8576b"
             ],
             [
              0.6666666666666666,
              "#ed7953"
             ],
             [
              0.7777777777777778,
              "#fb9f3a"
             ],
             [
              0.8888888888888888,
              "#fdca26"
             ],
             [
              1,
              "#f0f921"
             ]
            ],
            "type": "heatmap"
           }
          ],
          "heatmapgl": [
           {
            "colorbar": {
             "outlinewidth": 0,
             "ticks": ""
            },
            "colorscale": [
             [
              0,
              "#0d0887"
             ],
             [
              0.1111111111111111,
              "#46039f"
             ],
             [
              0.2222222222222222,
              "#7201a8"
             ],
             [
              0.3333333333333333,
              "#9c179e"
             ],
             [
              0.4444444444444444,
              "#bd3786"
             ],
             [
              0.5555555555555556,
              "#d8576b"
             ],
             [
              0.6666666666666666,
              "#ed7953"
             ],
             [
              0.7777777777777778,
              "#fb9f3a"
             ],
             [
              0.8888888888888888,
              "#fdca26"
             ],
             [
              1,
              "#f0f921"
             ]
            ],
            "type": "heatmapgl"
           }
          ],
          "histogram": [
           {
            "marker": {
             "line": {
              "width": 1
             },
             "pattern": {
              "fillmode": "overlay",
              "size": 10,
              "solidity": 0.2
             }
            },
            "type": "histogram"
           }
          ],
          "histogram2d": [
           {
            "colorbar": {
             "outlinewidth": 0,
             "ticks": ""
            },
            "colorscale": [
             [
              0,
              "#0d0887"
             ],
             [
              0.1111111111111111,
              "#46039f"
             ],
             [
              0.2222222222222222,
              "#7201a8"
             ],
             [
              0.3333333333333333,
              "#9c179e"
             ],
             [
              0.4444444444444444,
              "#bd3786"
             ],
             [
              0.5555555555555556,
              "#d8576b"
             ],
             [
              0.6666666666666666,
              "#ed7953"
             ],
             [
              0.7777777777777778,
              "#fb9f3a"
             ],
             [
              0.8888888888888888,
              "#fdca26"
             ],
             [
              1,
              "#f0f921"
             ]
            ],
            "type": "histogram2d"
           }
          ],
          "histogram2dcontour": [
           {
            "colorbar": {
             "outlinewidth": 0,
             "ticks": ""
            },
            "colorscale": [
             [
              0,
              "#0d0887"
             ],
             [
              0.1111111111111111,
              "#46039f"
             ],
             [
              0.2222222222222222,
              "#7201a8"
             ],
             [
              0.3333333333333333,
              "#9c179e"
             ],
             [
              0.4444444444444444,
              "#bd3786"
             ],
             [
              0.5555555555555556,
              "#d8576b"
             ],
             [
              0.6666666666666666,
              "#ed7953"
             ],
             [
              0.7777777777777778,
              "#fb9f3a"
             ],
             [
              0.8888888888888888,
              "#fdca26"
             ],
             [
              1,
              "#f0f921"
             ]
            ],
            "type": "histogram2dcontour"
           }
          ],
          "mesh3d": [
           {
            "colorbar": {
             "outlinewidth": 0,
             "ticks": ""
            },
            "type": "mesh3d"
           }
          ],
          "parcoords": [
           {
            "line": {
             "colorbar": {
              "outlinewidth": 0,
              "ticks": ""
             }
            },
            "type": "parcoords"
           }
          ],
          "pie": [
           {
            "automargin": true,
            "type": "pie"
           }
          ],
          "scatter": [
           {
            "fillpattern": {
             "fillmode": "overlay",
             "size": 10,
             "solidity": 0.2
            },
            "marker": {
             "opacity": 0.8
            },
            "type": "scatter"
           }
          ],
          "scatter3d": [
           {
            "line": {
             "colorbar": {
              "outlinewidth": 0,
              "ticks": ""
             }
            },
            "marker": {
             "colorbar": {
              "outlinewidth": 0,
              "ticks": ""
             },
             "opacity": 0.8
            },
            "type": "scatter3d"
           }
          ],
          "scattercarpet": [
           {
            "marker": {
             "colorbar": {
              "outlinewidth": 0,
              "ticks": ""
             }
            },
            "type": "scattercarpet"
           }
          ],
          "scattergeo": [
           {
            "marker": {
             "colorbar": {
              "outlinewidth": 0,
              "ticks": ""
             }
            },
            "type": "scattergeo"
           }
          ],
          "scattergl": [
           {
            "marker": {
             "colorbar": {
              "outlinewidth": 0,
              "ticks": ""
             }
            },
            "type": "scattergl"
           }
          ],
          "scattermapbox": [
           {
            "marker": {
             "colorbar": {
              "outlinewidth": 0,
              "ticks": ""
             }
            },
            "type": "scattermapbox"
           }
          ],
          "scatterpolar": [
           {
            "marker": {
             "colorbar": {
              "outlinewidth": 0,
              "ticks": ""
             }
            },
            "type": "scatterpolar"
           }
          ],
          "scatterpolargl": [
           {
            "marker": {
             "colorbar": {
              "outlinewidth": 0,
              "ticks": ""
             }
            },
            "type": "scatterpolargl"
           }
          ],
          "scatterternary": [
           {
            "marker": {
             "colorbar": {
              "outlinewidth": 0,
              "ticks": ""
             }
            },
            "type": "scatterternary"
           }
          ],
          "surface": [
           {
            "colorbar": {
             "outlinewidth": 0,
             "ticks": ""
            },
            "colorscale": [
             [
              0,
              "#0d0887"
             ],
             [
              0.1111111111111111,
              "#46039f"
             ],
             [
              0.2222222222222222,
              "#7201a8"
             ],
             [
              0.3333333333333333,
              "#9c179e"
             ],
             [
              0.4444444444444444,
              "#bd3786"
             ],
             [
              0.5555555555555556,
              "#d8576b"
             ],
             [
              0.6666666666666666,
              "#ed7953"
             ],
             [
              0.7777777777777778,
              "#fb9f3a"
             ],
             [
              0.8888888888888888,
              "#fdca26"
             ],
             [
              1,
              "#f0f921"
             ]
            ],
            "type": "surface"
           }
          ],
          "table": [
           {
            "cells": {
             "fill": {
              "color": "#EBF0F8"
             },
             "line": {
              "color": "white"
             }
            },
            "header": {
             "fill": {
              "color": "#C8D4E3"
             },
             "line": {
              "color": "white"
             }
            },
            "type": "table"
           }
          ]
         },
         "layout": {
          "annotationdefaults": {
           "arrowcolor": "#2a3f5f",
           "arrowhead": 0,
           "arrowwidth": 1
          },
          "autotypenumbers": "strict",
          "coloraxis": {
           "colorbar": {
            "outlinewidth": 0,
            "ticks": ""
           }
          },
          "colorscale": {
           "diverging": [
            [
             0,
             "#8e0152"
            ],
            [
             0.1,
             "#c51b7d"
            ],
            [
             0.2,
             "#de77ae"
            ],
            [
             0.3,
             "#f1b6da"
            ],
            [
             0.4,
             "#fde0ef"
            ],
            [
             0.5,
             "#f7f7f7"
            ],
            [
             0.6,
             "#e6f5d0"
            ],
            [
             0.7,
             "#b8e186"
            ],
            [
             0.8,
             "#7fbc41"
            ],
            [
             0.9,
             "#4d9221"
            ],
            [
             1,
             "#276419"
            ]
           ],
           "sequential": [
            [
             0,
             "#0d0887"
            ],
            [
             0.1111111111111111,
             "#46039f"
            ],
            [
             0.2222222222222222,
             "#7201a8"
            ],
            [
             0.3333333333333333,
             "#9c179e"
            ],
            [
             0.4444444444444444,
             "#bd3786"
            ],
            [
             0.5555555555555556,
             "#d8576b"
            ],
            [
             0.6666666666666666,
             "#ed7953"
            ],
            [
             0.7777777777777778,
             "#fb9f3a"
            ],
            [
             0.8888888888888888,
             "#fdca26"
            ],
            [
             1,
             "#f0f921"
            ]
           ],
           "sequentialminus": [
            [
             0,
             "#0d0887"
            ],
            [
             0.1111111111111111,
             "#46039f"
            ],
            [
             0.2222222222222222,
             "#7201a8"
            ],
            [
             0.3333333333333333,
             "#9c179e"
            ],
            [
             0.4444444444444444,
             "#bd3786"
            ],
            [
             0.5555555555555556,
             "#d8576b"
            ],
            [
             0.6666666666666666,
             "#ed7953"
            ],
            [
             0.7777777777777778,
             "#fb9f3a"
            ],
            [
             0.8888888888888888,
             "#fdca26"
            ],
            [
             1,
             "#f0f921"
            ]
           ]
          },
          "colorway": [
           "#636efa",
           "#EF553B",
           "#00cc96",
           "#ab63fa",
           "#FFA15A",
           "#19d3f3",
           "#FF6692",
           "#B6E880",
           "#FF97FF",
           "#FECB52"
          ],
          "font": {
           "color": "#2a3f5f"
          },
          "geo": {
           "bgcolor": "white",
           "lakecolor": "white",
           "landcolor": "white",
           "showlakes": true,
           "showland": true,
           "subunitcolor": "#C8D4E3"
          },
          "height": 400,
          "hoverlabel": {
           "align": "left"
          },
          "hovermode": "closest",
          "mapbox": {
           "style": "light"
          },
          "margin": {
           "b": 2,
           "l": 2,
           "r": 2,
           "t": 30
          },
          "paper_bgcolor": "white",
          "plot_bgcolor": "white",
          "polar": {
           "angularaxis": {
            "gridcolor": "#EBF0F8",
            "linecolor": "#EBF0F8",
            "ticks": ""
           },
           "bgcolor": "white",
           "radialaxis": {
            "gridcolor": "#EBF0F8",
            "linecolor": "#EBF0F8",
            "ticks": ""
           }
          },
          "scene": {
           "camera": {
            "eye": {
             "x": 1.5,
             "y": 1.5,
             "z": 0.1
            }
           },
           "xaxis": {
            "backgroundcolor": "white",
            "gridcolor": "#DFE8F3",
            "gridwidth": 2,
            "linecolor": "#EBF0F8",
            "showbackground": true,
            "ticks": "",
            "zerolinecolor": "#EBF0F8"
           },
           "yaxis": {
            "backgroundcolor": "white",
            "gridcolor": "#DFE8F3",
            "gridwidth": 2,
            "linecolor": "#EBF0F8",
            "showbackground": true,
            "ticks": "",
            "zerolinecolor": "#EBF0F8"
           },
           "zaxis": {
            "backgroundcolor": "white",
            "gridcolor": "#DFE8F3",
            "gridwidth": 2,
            "linecolor": "#EBF0F8",
            "showbackground": true,
            "ticks": "",
            "zerolinecolor": "#EBF0F8"
           }
          },
          "shapedefaults": {
           "line": {
            "color": "#2a3f5f"
           }
          },
          "ternary": {
           "aaxis": {
            "gridcolor": "#DFE8F3",
            "linecolor": "#A2B1C6",
            "ticks": ""
           },
           "baxis": {
            "gridcolor": "#DFE8F3",
            "linecolor": "#A2B1C6",
            "ticks": ""
           },
           "bgcolor": "white",
           "caxis": {
            "gridcolor": "#DFE8F3",
            "linecolor": "#A2B1C6",
            "ticks": ""
           }
          },
          "title": {
           "x": 0.5
          },
          "xaxis": {
           "automargin": true,
           "gridcolor": "#EBF0F8",
           "linecolor": "#EBF0F8",
           "linewidth": 2,
           "showline": true,
           "ticks": "",
           "title": {
            "standoff": 15
           },
           "zerolinecolor": "#EBF0F8",
           "zerolinewidth": 2
          },
          "yaxis": {
           "automargin": true,
           "gridcolor": "#EBF0F8",
           "linecolor": "#EBF0F8",
           "linewidth": 2,
           "showline": true,
           "ticks": "",
           "title": {
            "standoff": 15
           },
           "zerolinecolor": "#EBF0F8",
           "zerolinewidth": 2
          }
         }
        },
        "xaxis": {
         "anchor": "y",
         "domain": [
          0,
          1
         ],
         "title": {
          "text": "attended training"
         }
        },
        "yaxis": {
         "anchor": "x",
         "domain": [
          0,
          1
         ],
         "title": {
          "text": "core temperature"
         }
        }
       }
      }
     },
     "metadata": {},
     "output_type": "display_data"
    },
    {
     "data": {
      "application/vnd.plotly.v1+json": {
       "config": {
        "plotlyServerURL": "https://plot.ly"
       },
       "data": [
        {
         "alignmentgroup": "True",
         "hovertemplate": "ate at tonys steakhouse=%{x}<br>core temperature=%{y}<extra></extra>",
         "legendgroup": "",
         "marker": {
          "color": "#636efa"
         },
         "name": "",
         "notched": false,
         "offsetgroup": "",
         "orientation": "v",
         "showlegend": false,
         "type": "box",
         "x": [
          0,
          0,
          0,
          0,
          0,
          0,
          1,
          0,
          0,
          1,
          1,
          0,
          1,
          1,
          1,
          0,
          1,
          0,
          0,
          1,
          0,
          1,
          1,
          1,
          0,
          0,
          1,
          1,
          0,
          0,
          1,
          0,
          1,
          1,
          1,
          0,
          1,
          0,
          1,
          1,
          1,
          1,
          1,
          0,
          1,
          1,
          1,
          1,
          1,
          1,
          1,
          1,
          1,
          1,
          1,
          0,
          1,
          1,
          1,
          0,
          1,
          0,
          1,
          0,
          1,
          1,
          1,
          1,
          0,
          0,
          1,
          0,
          1,
          0,
          1,
          0,
          0,
          0,
          0,
          1,
          1,
          1,
          1,
          0,
          1,
          1,
          1,
          0,
          1,
          1,
          0,
          1,
          1,
          0,
          1,
          0,
          1,
          1
         ],
         "x0": " ",
         "xaxis": "x",
         "y": [
          38.42316895,
          39.01599822,
          39.14834088,
          39.06004863,
          38.65543905,
          38.6092188,
          39.47390806,
          38.81521612,
          37.77845286,
          39.17685034,
          39.52090819,
          38.57896943,
          38.28013391,
          38.40158039,
          38.65157641,
          39.61720308,
          37.72843549,
          39.36694049,
          37.98848685,
          39.93405104,
          37.60559023,
          38.83468198,
          37.39892664,
          38.98633063,
          39.72456882,
          38.09695504,
          37.59597881,
          39.49731323,
          38.50187636,
          38.27036031,
          38.69964224,
          39.08411118,
          38.29400364,
          38.39872285,
          39.29951536,
          38.37598649,
          38.46968433,
          39.58561173,
          38.12682317,
          39.80156649,
          37.92682179,
          39.67264697,
          38.21409556,
          38.93217418,
          37.80121676,
          37.52097889,
          39.34942824,
          38.9163822,
          38.72595498,
          38.35421436,
          40.17337876,
          39.48214424,
          39.9557292,
          39.02529641,
          39.70565695,
          37.87210056,
          38.92730588,
          38.75694066,
          38.98157028,
          39.07020183,
          39.31023381,
          40.26487847,
          39.19531025,
          37.46606804,
          38.61929591,
          39.74308443,
          37.9590829,
          38.52387016,
          39.58821189,
          39.48780846,
          37.32113362,
          38.30311301,
          39.32598796,
          38.18373964,
          37.78518905,
          38.97361387,
          37.97719515,
          38.92654301,
          37.98922316,
          39.87010492,
          38.51344083,
          39.14710639,
          38.61129304,
          38.95232638,
          37.46812464,
          38.24131363,
          38.7661591,
          39.87233432,
          38.87492299,
          39.09337261,
          39.00124171,
          39.25963687,
          38.6808734,
          37.93994229,
          38.79042609,
          39.48996228,
          38.57574159,
          39.76644658
         ],
         "y0": " ",
         "yaxis": "y"
        }
       ],
       "layout": {
        "boxmode": "group",
        "legend": {
         "tracegroupgap": 0
        },
        "template": {
         "data": {
          "bar": [
           {
            "error_x": {
             "color": "#2a3f5f"
            },
            "error_y": {
             "color": "#2a3f5f"
            },
            "marker": {
             "line": {
              "color": "white",
              "width": 0.5
             },
             "pattern": {
              "fillmode": "overlay",
              "size": 10,
              "solidity": 0.2
             }
            },
            "type": "bar"
           }
          ],
          "barpolar": [
           {
            "marker": {
             "line": {
              "color": "white",
              "width": 0.5
             },
             "pattern": {
              "fillmode": "overlay",
              "size": 10,
              "solidity": 0.2
             }
            },
            "type": "barpolar"
           }
          ],
          "box": [
           {
            "boxpoints": "outliers",
            "notched": false,
            "type": "box"
           }
          ],
          "carpet": [
           {
            "aaxis": {
             "endlinecolor": "#2a3f5f",
             "gridcolor": "#C8D4E3",
             "linecolor": "#C8D4E3",
             "minorgridcolor": "#C8D4E3",
             "startlinecolor": "#2a3f5f"
            },
            "baxis": {
             "endlinecolor": "#2a3f5f",
             "gridcolor": "#C8D4E3",
             "linecolor": "#C8D4E3",
             "minorgridcolor": "#C8D4E3",
             "startlinecolor": "#2a3f5f"
            },
            "type": "carpet"
           }
          ],
          "choropleth": [
           {
            "colorbar": {
             "outlinewidth": 0,
             "ticks": ""
            },
            "type": "choropleth"
           }
          ],
          "contour": [
           {
            "colorbar": {
             "outlinewidth": 0,
             "ticks": ""
            },
            "colorscale": [
             [
              0,
              "#0d0887"
             ],
             [
              0.1111111111111111,
              "#46039f"
             ],
             [
              0.2222222222222222,
              "#7201a8"
             ],
             [
              0.3333333333333333,
              "#9c179e"
             ],
             [
              0.4444444444444444,
              "#bd3786"
             ],
             [
              0.5555555555555556,
              "#d8576b"
             ],
             [
              0.6666666666666666,
              "#ed7953"
             ],
             [
              0.7777777777777778,
              "#fb9f3a"
             ],
             [
              0.8888888888888888,
              "#fdca26"
             ],
             [
              1,
              "#f0f921"
             ]
            ],
            "type": "contour"
           }
          ],
          "contourcarpet": [
           {
            "colorbar": {
             "outlinewidth": 0,
             "ticks": ""
            },
            "type": "contourcarpet"
           }
          ],
          "heatmap": [
           {
            "colorbar": {
             "outlinewidth": 0,
             "ticks": ""
            },
            "colorscale": [
             [
              0,
              "#0d0887"
             ],
             [
              0.1111111111111111,
              "#46039f"
             ],
             [
              0.2222222222222222,
              "#7201a8"
             ],
             [
              0.3333333333333333,
              "#9c179e"
             ],
             [
              0.4444444444444444,
              "#bd3786"
             ],
             [
              0.5555555555555556,
              "#d8576b"
             ],
             [
              0.6666666666666666,
              "#ed7953"
             ],
             [
              0.7777777777777778,
              "#fb9f3a"
             ],
             [
              0.8888888888888888,
              "#fdca26"
             ],
             [
              1,
              "#f0f921"
             ]
            ],
            "type": "heatmap"
           }
          ],
          "heatmapgl": [
           {
            "colorbar": {
             "outlinewidth": 0,
             "ticks": ""
            },
            "colorscale": [
             [
              0,
              "#0d0887"
             ],
             [
              0.1111111111111111,
              "#46039f"
             ],
             [
              0.2222222222222222,
              "#7201a8"
             ],
             [
              0.3333333333333333,
              "#9c179e"
             ],
             [
              0.4444444444444444,
              "#bd3786"
             ],
             [
              0.5555555555555556,
              "#d8576b"
             ],
             [
              0.6666666666666666,
              "#ed7953"
             ],
             [
              0.7777777777777778,
              "#fb9f3a"
             ],
             [
              0.8888888888888888,
              "#fdca26"
             ],
             [
              1,
              "#f0f921"
             ]
            ],
            "type": "heatmapgl"
           }
          ],
          "histogram": [
           {
            "marker": {
             "line": {
              "width": 1
             },
             "pattern": {
              "fillmode": "overlay",
              "size": 10,
              "solidity": 0.2
             }
            },
            "type": "histogram"
           }
          ],
          "histogram2d": [
           {
            "colorbar": {
             "outlinewidth": 0,
             "ticks": ""
            },
            "colorscale": [
             [
              0,
              "#0d0887"
             ],
             [
              0.1111111111111111,
              "#46039f"
             ],
             [
              0.2222222222222222,
              "#7201a8"
             ],
             [
              0.3333333333333333,
              "#9c179e"
             ],
             [
              0.4444444444444444,
              "#bd3786"
             ],
             [
              0.5555555555555556,
              "#d8576b"
             ],
             [
              0.6666666666666666,
              "#ed7953"
             ],
             [
              0.7777777777777778,
              "#fb9f3a"
             ],
             [
              0.8888888888888888,
              "#fdca26"
             ],
             [
              1,
              "#f0f921"
             ]
            ],
            "type": "histogram2d"
           }
          ],
          "histogram2dcontour": [
           {
            "colorbar": {
             "outlinewidth": 0,
             "ticks": ""
            },
            "colorscale": [
             [
              0,
              "#0d0887"
             ],
             [
              0.1111111111111111,
              "#46039f"
             ],
             [
              0.2222222222222222,
              "#7201a8"
             ],
             [
              0.3333333333333333,
              "#9c179e"
             ],
             [
              0.4444444444444444,
              "#bd3786"
             ],
             [
              0.5555555555555556,
              "#d8576b"
             ],
             [
              0.6666666666666666,
              "#ed7953"
             ],
             [
              0.7777777777777778,
              "#fb9f3a"
             ],
             [
              0.8888888888888888,
              "#fdca26"
             ],
             [
              1,
              "#f0f921"
             ]
            ],
            "type": "histogram2dcontour"
           }
          ],
          "mesh3d": [
           {
            "colorbar": {
             "outlinewidth": 0,
             "ticks": ""
            },
            "type": "mesh3d"
           }
          ],
          "parcoords": [
           {
            "line": {
             "colorbar": {
              "outlinewidth": 0,
              "ticks": ""
             }
            },
            "type": "parcoords"
           }
          ],
          "pie": [
           {
            "automargin": true,
            "type": "pie"
           }
          ],
          "scatter": [
           {
            "fillpattern": {
             "fillmode": "overlay",
             "size": 10,
             "solidity": 0.2
            },
            "marker": {
             "opacity": 0.8
            },
            "type": "scatter"
           }
          ],
          "scatter3d": [
           {
            "line": {
             "colorbar": {
              "outlinewidth": 0,
              "ticks": ""
             }
            },
            "marker": {
             "colorbar": {
              "outlinewidth": 0,
              "ticks": ""
             },
             "opacity": 0.8
            },
            "type": "scatter3d"
           }
          ],
          "scattercarpet": [
           {
            "marker": {
             "colorbar": {
              "outlinewidth": 0,
              "ticks": ""
             }
            },
            "type": "scattercarpet"
           }
          ],
          "scattergeo": [
           {
            "marker": {
             "colorbar": {
              "outlinewidth": 0,
              "ticks": ""
             }
            },
            "type": "scattergeo"
           }
          ],
          "scattergl": [
           {
            "marker": {
             "colorbar": {
              "outlinewidth": 0,
              "ticks": ""
             }
            },
            "type": "scattergl"
           }
          ],
          "scattermapbox": [
           {
            "marker": {
             "colorbar": {
              "outlinewidth": 0,
              "ticks": ""
             }
            },
            "type": "scattermapbox"
           }
          ],
          "scatterpolar": [
           {
            "marker": {
             "colorbar": {
              "outlinewidth": 0,
              "ticks": ""
             }
            },
            "type": "scatterpolar"
           }
          ],
          "scatterpolargl": [
           {
            "marker": {
             "colorbar": {
              "outlinewidth": 0,
              "ticks": ""
             }
            },
            "type": "scatterpolargl"
           }
          ],
          "scatterternary": [
           {
            "marker": {
             "colorbar": {
              "outlinewidth": 0,
              "ticks": ""
             }
            },
            "type": "scatterternary"
           }
          ],
          "surface": [
           {
            "colorbar": {
             "outlinewidth": 0,
             "ticks": ""
            },
            "colorscale": [
             [
              0,
              "#0d0887"
             ],
             [
              0.1111111111111111,
              "#46039f"
             ],
             [
              0.2222222222222222,
              "#7201a8"
             ],
             [
              0.3333333333333333,
              "#9c179e"
             ],
             [
              0.4444444444444444,
              "#bd3786"
             ],
             [
              0.5555555555555556,
              "#d8576b"
             ],
             [
              0.6666666666666666,
              "#ed7953"
             ],
             [
              0.7777777777777778,
              "#fb9f3a"
             ],
             [
              0.8888888888888888,
              "#fdca26"
             ],
             [
              1,
              "#f0f921"
             ]
            ],
            "type": "surface"
           }
          ],
          "table": [
           {
            "cells": {
             "fill": {
              "color": "#EBF0F8"
             },
             "line": {
              "color": "white"
             }
            },
            "header": {
             "fill": {
              "color": "#C8D4E3"
             },
             "line": {
              "color": "white"
             }
            },
            "type": "table"
           }
          ]
         },
         "layout": {
          "annotationdefaults": {
           "arrowcolor": "#2a3f5f",
           "arrowhead": 0,
           "arrowwidth": 1
          },
          "autotypenumbers": "strict",
          "coloraxis": {
           "colorbar": {
            "outlinewidth": 0,
            "ticks": ""
           }
          },
          "colorscale": {
           "diverging": [
            [
             0,
             "#8e0152"
            ],
            [
             0.1,
             "#c51b7d"
            ],
            [
             0.2,
             "#de77ae"
            ],
            [
             0.3,
             "#f1b6da"
            ],
            [
             0.4,
             "#fde0ef"
            ],
            [
             0.5,
             "#f7f7f7"
            ],
            [
             0.6,
             "#e6f5d0"
            ],
            [
             0.7,
             "#b8e186"
            ],
            [
             0.8,
             "#7fbc41"
            ],
            [
             0.9,
             "#4d9221"
            ],
            [
             1,
             "#276419"
            ]
           ],
           "sequential": [
            [
             0,
             "#0d0887"
            ],
            [
             0.1111111111111111,
             "#46039f"
            ],
            [
             0.2222222222222222,
             "#7201a8"
            ],
            [
             0.3333333333333333,
             "#9c179e"
            ],
            [
             0.4444444444444444,
             "#bd3786"
            ],
            [
             0.5555555555555556,
             "#d8576b"
            ],
            [
             0.6666666666666666,
             "#ed7953"
            ],
            [
             0.7777777777777778,
             "#fb9f3a"
            ],
            [
             0.8888888888888888,
             "#fdca26"
            ],
            [
             1,
             "#f0f921"
            ]
           ],
           "sequentialminus": [
            [
             0,
             "#0d0887"
            ],
            [
             0.1111111111111111,
             "#46039f"
            ],
            [
             0.2222222222222222,
             "#7201a8"
            ],
            [
             0.3333333333333333,
             "#9c179e"
            ],
            [
             0.4444444444444444,
             "#bd3786"
            ],
            [
             0.5555555555555556,
             "#d8576b"
            ],
            [
             0.6666666666666666,
             "#ed7953"
            ],
            [
             0.7777777777777778,
             "#fb9f3a"
            ],
            [
             0.8888888888888888,
             "#fdca26"
            ],
            [
             1,
             "#f0f921"
            ]
           ]
          },
          "colorway": [
           "#636efa",
           "#EF553B",
           "#00cc96",
           "#ab63fa",
           "#FFA15A",
           "#19d3f3",
           "#FF6692",
           "#B6E880",
           "#FF97FF",
           "#FECB52"
          ],
          "font": {
           "color": "#2a3f5f"
          },
          "geo": {
           "bgcolor": "white",
           "lakecolor": "white",
           "landcolor": "white",
           "showlakes": true,
           "showland": true,
           "subunitcolor": "#C8D4E3"
          },
          "height": 400,
          "hoverlabel": {
           "align": "left"
          },
          "hovermode": "closest",
          "mapbox": {
           "style": "light"
          },
          "margin": {
           "b": 2,
           "l": 2,
           "r": 2,
           "t": 30
          },
          "paper_bgcolor": "white",
          "plot_bgcolor": "white",
          "polar": {
           "angularaxis": {
            "gridcolor": "#EBF0F8",
            "linecolor": "#EBF0F8",
            "ticks": ""
           },
           "bgcolor": "white",
           "radialaxis": {
            "gridcolor": "#EBF0F8",
            "linecolor": "#EBF0F8",
            "ticks": ""
           }
          },
          "scene": {
           "camera": {
            "eye": {
             "x": 1.5,
             "y": 1.5,
             "z": 0.1
            }
           },
           "xaxis": {
            "backgroundcolor": "white",
            "gridcolor": "#DFE8F3",
            "gridwidth": 2,
            "linecolor": "#EBF0F8",
            "showbackground": true,
            "ticks": "",
            "zerolinecolor": "#EBF0F8"
           },
           "yaxis": {
            "backgroundcolor": "white",
            "gridcolor": "#DFE8F3",
            "gridwidth": 2,
            "linecolor": "#EBF0F8",
            "showbackground": true,
            "ticks": "",
            "zerolinecolor": "#EBF0F8"
           },
           "zaxis": {
            "backgroundcolor": "white",
            "gridcolor": "#DFE8F3",
            "gridwidth": 2,
            "linecolor": "#EBF0F8",
            "showbackground": true,
            "ticks": "",
            "zerolinecolor": "#EBF0F8"
           }
          },
          "shapedefaults": {
           "line": {
            "color": "#2a3f5f"
           }
          },
          "ternary": {
           "aaxis": {
            "gridcolor": "#DFE8F3",
            "linecolor": "#A2B1C6",
            "ticks": ""
           },
           "baxis": {
            "gridcolor": "#DFE8F3",
            "linecolor": "#A2B1C6",
            "ticks": ""
           },
           "bgcolor": "white",
           "caxis": {
            "gridcolor": "#DFE8F3",
            "linecolor": "#A2B1C6",
            "ticks": ""
           }
          },
          "title": {
           "x": 0.5
          },
          "xaxis": {
           "automargin": true,
           "gridcolor": "#EBF0F8",
           "linecolor": "#EBF0F8",
           "linewidth": 2,
           "showline": true,
           "ticks": "",
           "title": {
            "standoff": 15
           },
           "zerolinecolor": "#EBF0F8",
           "zerolinewidth": 2
          },
          "yaxis": {
           "automargin": true,
           "gridcolor": "#EBF0F8",
           "linecolor": "#EBF0F8",
           "linewidth": 2,
           "showline": true,
           "ticks": "",
           "title": {
            "standoff": 15
           },
           "zerolinecolor": "#EBF0F8",
           "zerolinewidth": 2
          }
         }
        },
        "xaxis": {
         "anchor": "y",
         "domain": [
          0,
          1
         ],
         "title": {
          "text": "ate at tonys steakhouse"
         }
        },
        "yaxis": {
         "anchor": "x",
         "domain": [
          0,
          1
         ],
         "title": {
          "text": "core temperature"
         }
        }
       }
      }
     },
     "metadata": {},
     "output_type": "display_data"
    },
    {
     "data": {
      "application/vnd.plotly.v1+json": {
       "config": {
        "plotlyServerURL": "https://plot.ly"
       },
       "data": [
        {
         "hovertemplate": "body fat percentage=%{x}<br>core temperature=%{y}<extra></extra>",
         "legendgroup": "",
         "marker": {
          "color": "#636efa",
          "size": 17,
          "symbol": "circle"
         },
         "mode": "markers",
         "name": "",
         "orientation": "v",
         "showlegend": false,
         "type": "scatter",
         "x": [
          38,
          32,
          12,
          23,
          15,
          14,
          25,
          18,
          34,
          31,
          13,
          18,
          26,
          36,
          31,
          12,
          30,
          35,
          11,
          26,
          19,
          36,
          24,
          29,
          20,
          16,
          17,
          17,
          32,
          12,
          20,
          34,
          29,
          12,
          36,
          39,
          12,
          15,
          35,
          32,
          39,
          31,
          17,
          20,
          40,
          40,
          23,
          38,
          18,
          28,
          40,
          28,
          40,
          11,
          16,
          39,
          20,
          39,
          15,
          21,
          16,
          33,
          40,
          19,
          38,
          20,
          17,
          40,
          36,
          23,
          10,
          30,
          38,
          23,
          35,
          27,
          21,
          16,
          40,
          29,
          20,
          11,
          37,
          33,
          15,
          25,
          39,
          25,
          38,
          36,
          29,
          30,
          18,
          38,
          11,
          20,
          32,
          21
         ],
         "xaxis": "x",
         "y": [
          38.42316895,
          39.01599822,
          39.14834088,
          39.06004863,
          38.65543905,
          38.6092188,
          39.47390806,
          38.81521612,
          37.77845286,
          39.17685034,
          39.52090819,
          38.57896943,
          38.28013391,
          38.40158039,
          38.65157641,
          39.61720308,
          37.72843549,
          39.36694049,
          37.98848685,
          39.93405104,
          37.60559023,
          38.83468198,
          37.39892664,
          38.98633063,
          39.72456882,
          38.09695504,
          37.59597881,
          39.49731323,
          38.50187636,
          38.27036031,
          38.69964224,
          39.08411118,
          38.29400364,
          38.39872285,
          39.29951536,
          38.37598649,
          38.46968433,
          39.58561173,
          38.12682317,
          39.80156649,
          37.92682179,
          39.67264697,
          38.21409556,
          38.93217418,
          37.80121676,
          37.52097889,
          39.34942824,
          38.9163822,
          38.72595498,
          38.35421436,
          40.17337876,
          39.48214424,
          39.9557292,
          39.02529641,
          39.70565695,
          37.87210056,
          38.92730588,
          38.75694066,
          38.98157028,
          39.07020183,
          39.31023381,
          40.26487847,
          39.19531025,
          37.46606804,
          38.61929591,
          39.74308443,
          37.9590829,
          38.52387016,
          39.58821189,
          39.48780846,
          37.32113362,
          38.30311301,
          39.32598796,
          38.18373964,
          37.78518905,
          38.97361387,
          37.97719515,
          38.92654301,
          37.98922316,
          39.87010492,
          38.51344083,
          39.14710639,
          38.61129304,
          38.95232638,
          37.46812464,
          38.24131363,
          38.7661591,
          39.87233432,
          38.87492299,
          39.09337261,
          39.00124171,
          39.25963687,
          38.6808734,
          37.93994229,
          38.79042609,
          39.48996228,
          38.57574159,
          39.76644658
         ],
         "yaxis": "y"
        }
       ],
       "layout": {
        "legend": {
         "tracegroupgap": 0
        },
        "template": {
         "data": {
          "bar": [
           {
            "error_x": {
             "color": "#2a3f5f"
            },
            "error_y": {
             "color": "#2a3f5f"
            },
            "marker": {
             "line": {
              "color": "white",
              "width": 0.5
             },
             "pattern": {
              "fillmode": "overlay",
              "size": 10,
              "solidity": 0.2
             }
            },
            "type": "bar"
           }
          ],
          "barpolar": [
           {
            "marker": {
             "line": {
              "color": "white",
              "width": 0.5
             },
             "pattern": {
              "fillmode": "overlay",
              "size": 10,
              "solidity": 0.2
             }
            },
            "type": "barpolar"
           }
          ],
          "box": [
           {
            "boxpoints": "outliers",
            "notched": false,
            "type": "box"
           }
          ],
          "carpet": [
           {
            "aaxis": {
             "endlinecolor": "#2a3f5f",
             "gridcolor": "#C8D4E3",
             "linecolor": "#C8D4E3",
             "minorgridcolor": "#C8D4E3",
             "startlinecolor": "#2a3f5f"
            },
            "baxis": {
             "endlinecolor": "#2a3f5f",
             "gridcolor": "#C8D4E3",
             "linecolor": "#C8D4E3",
             "minorgridcolor": "#C8D4E3",
             "startlinecolor": "#2a3f5f"
            },
            "type": "carpet"
           }
          ],
          "choropleth": [
           {
            "colorbar": {
             "outlinewidth": 0,
             "ticks": ""
            },
            "type": "choropleth"
           }
          ],
          "contour": [
           {
            "colorbar": {
             "outlinewidth": 0,
             "ticks": ""
            },
            "colorscale": [
             [
              0,
              "#0d0887"
             ],
             [
              0.1111111111111111,
              "#46039f"
             ],
             [
              0.2222222222222222,
              "#7201a8"
             ],
             [
              0.3333333333333333,
              "#9c179e"
             ],
             [
              0.4444444444444444,
              "#bd3786"
             ],
             [
              0.5555555555555556,
              "#d8576b"
             ],
             [
              0.6666666666666666,
              "#ed7953"
             ],
             [
              0.7777777777777778,
              "#fb9f3a"
             ],
             [
              0.8888888888888888,
              "#fdca26"
             ],
             [
              1,
              "#f0f921"
             ]
            ],
            "type": "contour"
           }
          ],
          "contourcarpet": [
           {
            "colorbar": {
             "outlinewidth": 0,
             "ticks": ""
            },
            "type": "contourcarpet"
           }
          ],
          "heatmap": [
           {
            "colorbar": {
             "outlinewidth": 0,
             "ticks": ""
            },
            "colorscale": [
             [
              0,
              "#0d0887"
             ],
             [
              0.1111111111111111,
              "#46039f"
             ],
             [
              0.2222222222222222,
              "#7201a8"
             ],
             [
              0.3333333333333333,
              "#9c179e"
             ],
             [
              0.4444444444444444,
              "#bd3786"
             ],
             [
              0.5555555555555556,
              "#d8576b"
             ],
             [
              0.6666666666666666,
              "#ed7953"
             ],
             [
              0.7777777777777778,
              "#fb9f3a"
             ],
             [
              0.8888888888888888,
              "#fdca26"
             ],
             [
              1,
              "#f0f921"
             ]
            ],
            "type": "heatmap"
           }
          ],
          "heatmapgl": [
           {
            "colorbar": {
             "outlinewidth": 0,
             "ticks": ""
            },
            "colorscale": [
             [
              0,
              "#0d0887"
             ],
             [
              0.1111111111111111,
              "#46039f"
             ],
             [
              0.2222222222222222,
              "#7201a8"
             ],
             [
              0.3333333333333333,
              "#9c179e"
             ],
             [
              0.4444444444444444,
              "#bd3786"
             ],
             [
              0.5555555555555556,
              "#d8576b"
             ],
             [
              0.6666666666666666,
              "#ed7953"
             ],
             [
              0.7777777777777778,
              "#fb9f3a"
             ],
             [
              0.8888888888888888,
              "#fdca26"
             ],
             [
              1,
              "#f0f921"
             ]
            ],
            "type": "heatmapgl"
           }
          ],
          "histogram": [
           {
            "marker": {
             "line": {
              "width": 1
             },
             "pattern": {
              "fillmode": "overlay",
              "size": 10,
              "solidity": 0.2
             }
            },
            "type": "histogram"
           }
          ],
          "histogram2d": [
           {
            "colorbar": {
             "outlinewidth": 0,
             "ticks": ""
            },
            "colorscale": [
             [
              0,
              "#0d0887"
             ],
             [
              0.1111111111111111,
              "#46039f"
             ],
             [
              0.2222222222222222,
              "#7201a8"
             ],
             [
              0.3333333333333333,
              "#9c179e"
             ],
             [
              0.4444444444444444,
              "#bd3786"
             ],
             [
              0.5555555555555556,
              "#d8576b"
             ],
             [
              0.6666666666666666,
              "#ed7953"
             ],
             [
              0.7777777777777778,
              "#fb9f3a"
             ],
             [
              0.8888888888888888,
              "#fdca26"
             ],
             [
              1,
              "#f0f921"
             ]
            ],
            "type": "histogram2d"
           }
          ],
          "histogram2dcontour": [
           {
            "colorbar": {
             "outlinewidth": 0,
             "ticks": ""
            },
            "colorscale": [
             [
              0,
              "#0d0887"
             ],
             [
              0.1111111111111111,
              "#46039f"
             ],
             [
              0.2222222222222222,
              "#7201a8"
             ],
             [
              0.3333333333333333,
              "#9c179e"
             ],
             [
              0.4444444444444444,
              "#bd3786"
             ],
             [
              0.5555555555555556,
              "#d8576b"
             ],
             [
              0.6666666666666666,
              "#ed7953"
             ],
             [
              0.7777777777777778,
              "#fb9f3a"
             ],
             [
              0.8888888888888888,
              "#fdca26"
             ],
             [
              1,
              "#f0f921"
             ]
            ],
            "type": "histogram2dcontour"
           }
          ],
          "mesh3d": [
           {
            "colorbar": {
             "outlinewidth": 0,
             "ticks": ""
            },
            "type": "mesh3d"
           }
          ],
          "parcoords": [
           {
            "line": {
             "colorbar": {
              "outlinewidth": 0,
              "ticks": ""
             }
            },
            "type": "parcoords"
           }
          ],
          "pie": [
           {
            "automargin": true,
            "type": "pie"
           }
          ],
          "scatter": [
           {
            "fillpattern": {
             "fillmode": "overlay",
             "size": 10,
             "solidity": 0.2
            },
            "marker": {
             "opacity": 0.8
            },
            "type": "scatter"
           }
          ],
          "scatter3d": [
           {
            "line": {
             "colorbar": {
              "outlinewidth": 0,
              "ticks": ""
             }
            },
            "marker": {
             "colorbar": {
              "outlinewidth": 0,
              "ticks": ""
             },
             "opacity": 0.8
            },
            "type": "scatter3d"
           }
          ],
          "scattercarpet": [
           {
            "marker": {
             "colorbar": {
              "outlinewidth": 0,
              "ticks": ""
             }
            },
            "type": "scattercarpet"
           }
          ],
          "scattergeo": [
           {
            "marker": {
             "colorbar": {
              "outlinewidth": 0,
              "ticks": ""
             }
            },
            "type": "scattergeo"
           }
          ],
          "scattergl": [
           {
            "marker": {
             "colorbar": {
              "outlinewidth": 0,
              "ticks": ""
             }
            },
            "type": "scattergl"
           }
          ],
          "scattermapbox": [
           {
            "marker": {
             "colorbar": {
              "outlinewidth": 0,
              "ticks": ""
             }
            },
            "type": "scattermapbox"
           }
          ],
          "scatterpolar": [
           {
            "marker": {
             "colorbar": {
              "outlinewidth": 0,
              "ticks": ""
             }
            },
            "type": "scatterpolar"
           }
          ],
          "scatterpolargl": [
           {
            "marker": {
             "colorbar": {
              "outlinewidth": 0,
              "ticks": ""
             }
            },
            "type": "scatterpolargl"
           }
          ],
          "scatterternary": [
           {
            "marker": {
             "colorbar": {
              "outlinewidth": 0,
              "ticks": ""
             }
            },
            "type": "scatterternary"
           }
          ],
          "surface": [
           {
            "colorbar": {
             "outlinewidth": 0,
             "ticks": ""
            },
            "colorscale": [
             [
              0,
              "#0d0887"
             ],
             [
              0.1111111111111111,
              "#46039f"
             ],
             [
              0.2222222222222222,
              "#7201a8"
             ],
             [
              0.3333333333333333,
              "#9c179e"
             ],
             [
              0.4444444444444444,
              "#bd3786"
             ],
             [
              0.5555555555555556,
              "#d8576b"
             ],
             [
              0.6666666666666666,
              "#ed7953"
             ],
             [
              0.7777777777777778,
              "#fb9f3a"
             ],
             [
              0.8888888888888888,
              "#fdca26"
             ],
             [
              1,
              "#f0f921"
             ]
            ],
            "type": "surface"
           }
          ],
          "table": [
           {
            "cells": {
             "fill": {
              "color": "#EBF0F8"
             },
             "line": {
              "color": "white"
             }
            },
            "header": {
             "fill": {
              "color": "#C8D4E3"
             },
             "line": {
              "color": "white"
             }
            },
            "type": "table"
           }
          ]
         },
         "layout": {
          "annotationdefaults": {
           "arrowcolor": "#2a3f5f",
           "arrowhead": 0,
           "arrowwidth": 1
          },
          "autotypenumbers": "strict",
          "coloraxis": {
           "colorbar": {
            "outlinewidth": 0,
            "ticks": ""
           }
          },
          "colorscale": {
           "diverging": [
            [
             0,
             "#8e0152"
            ],
            [
             0.1,
             "#c51b7d"
            ],
            [
             0.2,
             "#de77ae"
            ],
            [
             0.3,
             "#f1b6da"
            ],
            [
             0.4,
             "#fde0ef"
            ],
            [
             0.5,
             "#f7f7f7"
            ],
            [
             0.6,
             "#e6f5d0"
            ],
            [
             0.7,
             "#b8e186"
            ],
            [
             0.8,
             "#7fbc41"
            ],
            [
             0.9,
             "#4d9221"
            ],
            [
             1,
             "#276419"
            ]
           ],
           "sequential": [
            [
             0,
             "#0d0887"
            ],
            [
             0.1111111111111111,
             "#46039f"
            ],
            [
             0.2222222222222222,
             "#7201a8"
            ],
            [
             0.3333333333333333,
             "#9c179e"
            ],
            [
             0.4444444444444444,
             "#bd3786"
            ],
            [
             0.5555555555555556,
             "#d8576b"
            ],
            [
             0.6666666666666666,
             "#ed7953"
            ],
            [
             0.7777777777777778,
             "#fb9f3a"
            ],
            [
             0.8888888888888888,
             "#fdca26"
            ],
            [
             1,
             "#f0f921"
            ]
           ],
           "sequentialminus": [
            [
             0,
             "#0d0887"
            ],
            [
             0.1111111111111111,
             "#46039f"
            ],
            [
             0.2222222222222222,
             "#7201a8"
            ],
            [
             0.3333333333333333,
             "#9c179e"
            ],
            [
             0.4444444444444444,
             "#bd3786"
            ],
            [
             0.5555555555555556,
             "#d8576b"
            ],
            [
             0.6666666666666666,
             "#ed7953"
            ],
            [
             0.7777777777777778,
             "#fb9f3a"
            ],
            [
             0.8888888888888888,
             "#fdca26"
            ],
            [
             1,
             "#f0f921"
            ]
           ]
          },
          "colorway": [
           "#636efa",
           "#EF553B",
           "#00cc96",
           "#ab63fa",
           "#FFA15A",
           "#19d3f3",
           "#FF6692",
           "#B6E880",
           "#FF97FF",
           "#FECB52"
          ],
          "font": {
           "color": "#2a3f5f"
          },
          "geo": {
           "bgcolor": "white",
           "lakecolor": "white",
           "landcolor": "white",
           "showlakes": true,
           "showland": true,
           "subunitcolor": "#C8D4E3"
          },
          "height": 400,
          "hoverlabel": {
           "align": "left"
          },
          "hovermode": "closest",
          "mapbox": {
           "style": "light"
          },
          "margin": {
           "b": 2,
           "l": 2,
           "r": 2,
           "t": 30
          },
          "paper_bgcolor": "white",
          "plot_bgcolor": "white",
          "polar": {
           "angularaxis": {
            "gridcolor": "#EBF0F8",
            "linecolor": "#EBF0F8",
            "ticks": ""
           },
           "bgcolor": "white",
           "radialaxis": {
            "gridcolor": "#EBF0F8",
            "linecolor": "#EBF0F8",
            "ticks": ""
           }
          },
          "scene": {
           "camera": {
            "eye": {
             "x": 1.5,
             "y": 1.5,
             "z": 0.1
            }
           },
           "xaxis": {
            "backgroundcolor": "white",
            "gridcolor": "#DFE8F3",
            "gridwidth": 2,
            "linecolor": "#EBF0F8",
            "showbackground": true,
            "ticks": "",
            "zerolinecolor": "#EBF0F8"
           },
           "yaxis": {
            "backgroundcolor": "white",
            "gridcolor": "#DFE8F3",
            "gridwidth": 2,
            "linecolor": "#EBF0F8",
            "showbackground": true,
            "ticks": "",
            "zerolinecolor": "#EBF0F8"
           },
           "zaxis": {
            "backgroundcolor": "white",
            "gridcolor": "#DFE8F3",
            "gridwidth": 2,
            "linecolor": "#EBF0F8",
            "showbackground": true,
            "ticks": "",
            "zerolinecolor": "#EBF0F8"
           }
          },
          "shapedefaults": {
           "line": {
            "color": "#2a3f5f"
           }
          },
          "ternary": {
           "aaxis": {
            "gridcolor": "#DFE8F3",
            "linecolor": "#A2B1C6",
            "ticks": ""
           },
           "baxis": {
            "gridcolor": "#DFE8F3",
            "linecolor": "#A2B1C6",
            "ticks": ""
           },
           "bgcolor": "white",
           "caxis": {
            "gridcolor": "#DFE8F3",
            "linecolor": "#A2B1C6",
            "ticks": ""
           }
          },
          "title": {
           "x": 0.5
          },
          "xaxis": {
           "automargin": true,
           "gridcolor": "#EBF0F8",
           "linecolor": "#EBF0F8",
           "linewidth": 2,
           "showline": true,
           "ticks": "",
           "title": {
            "standoff": 15
           },
           "zerolinecolor": "#EBF0F8",
           "zerolinewidth": 2
          },
          "yaxis": {
           "automargin": true,
           "gridcolor": "#EBF0F8",
           "linecolor": "#EBF0F8",
           "linewidth": 2,
           "showline": true,
           "ticks": "",
           "title": {
            "standoff": 15
           },
           "zerolinecolor": "#EBF0F8",
           "zerolinewidth": 2
          }
         }
        },
        "xaxis": {
         "anchor": "y",
         "domain": [
          0,
          1
         ],
         "title": {
          "text": "body fat percentage"
         }
        },
        "yaxis": {
         "anchor": "x",
         "domain": [
          0,
          1
         ],
         "title": {
          "text": "core temperature"
         }
        }
       }
      }
     },
     "metadata": {},
     "output_type": "display_data"
    },
    {
     "data": {
      "application/vnd.plotly.v1+json": {
       "config": {
        "plotlyServerURL": "https://plot.ly"
       },
       "data": [
        {
         "hovertemplate": "protein content of last meal=%{x}<br>core temperature=%{y}<extra></extra>",
         "legendgroup": "",
         "marker": {
          "color": "#636efa",
          "size": 17,
          "symbol": "circle"
         },
         "mode": "markers",
         "name": "",
         "orientation": "v",
         "showlegend": false,
         "type": "scatter",
         "x": [
          7.66,
          13.36,
          12.9,
          13.45,
          10.53,
          11.17,
          16,
          10.3,
          5.71,
          15.38,
          18.47,
          8.52,
          7.36,
          7.78,
          10.76,
          19.94,
          5.86,
          17.56,
          8.14,
          22.18,
          4.43,
          12.29,
          4.83,
          13.68,
          18.52,
          7.12,
          6.99,
          17.39,
          10.6,
          9.03,
          9.54,
          13.29,
          8.79,
          7.72,
          15.43,
          7.17,
          8.9,
          19.72,
          8.47,
          21.73,
          5.95,
          19.16,
          7.28,
          11.57,
          7.62,
          5.33,
          15.95,
          13.04,
          11.96,
          8.96,
          24.89,
          17.45,
          23.65,
          11.9,
          20.52,
          6.76,
          11.71,
          11.51,
          11.76,
          13.78,
          16.51,
          26.61,
          14.84,
          4.99,
          9.98,
          19.91,
          6.5,
          8.2,
          18.86,
          16.26,
          3.93,
          7.66,
          14.68,
          6.4,
          5.31,
          13.52,
          7.9,
          10.86,
          7.91,
          21.93,
          9.51,
          12.79,
          9.64,
          13.31,
          6.45,
          9.44,
          10.04,
          22.78,
          11.12,
          13.99,
          14.22,
          15.06,
          10,
          7.35,
          12.18,
          15.84,
          9.79,
          21.3
         ],
         "xaxis": "x",
         "y": [
          38.42316895,
          39.01599822,
          39.14834088,
          39.06004863,
          38.65543905,
          38.6092188,
          39.47390806,
          38.81521612,
          37.77845286,
          39.17685034,
          39.52090819,
          38.57896943,
          38.28013391,
          38.40158039,
          38.65157641,
          39.61720308,
          37.72843549,
          39.36694049,
          37.98848685,
          39.93405104,
          37.60559023,
          38.83468198,
          37.39892664,
          38.98633063,
          39.72456882,
          38.09695504,
          37.59597881,
          39.49731323,
          38.50187636,
          38.27036031,
          38.69964224,
          39.08411118,
          38.29400364,
          38.39872285,
          39.29951536,
          38.37598649,
          38.46968433,
          39.58561173,
          38.12682317,
          39.80156649,
          37.92682179,
          39.67264697,
          38.21409556,
          38.93217418,
          37.80121676,
          37.52097889,
          39.34942824,
          38.9163822,
          38.72595498,
          38.35421436,
          40.17337876,
          39.48214424,
          39.9557292,
          39.02529641,
          39.70565695,
          37.87210056,
          38.92730588,
          38.75694066,
          38.98157028,
          39.07020183,
          39.31023381,
          40.26487847,
          39.19531025,
          37.46606804,
          38.61929591,
          39.74308443,
          37.9590829,
          38.52387016,
          39.58821189,
          39.48780846,
          37.32113362,
          38.30311301,
          39.32598796,
          38.18373964,
          37.78518905,
          38.97361387,
          37.97719515,
          38.92654301,
          37.98922316,
          39.87010492,
          38.51344083,
          39.14710639,
          38.61129304,
          38.95232638,
          37.46812464,
          38.24131363,
          38.7661591,
          39.87233432,
          38.87492299,
          39.09337261,
          39.00124171,
          39.25963687,
          38.6808734,
          37.93994229,
          38.79042609,
          39.48996228,
          38.57574159,
          39.76644658
         ],
         "yaxis": "y"
        }
       ],
       "layout": {
        "legend": {
         "tracegroupgap": 0
        },
        "template": {
         "data": {
          "bar": [
           {
            "error_x": {
             "color": "#2a3f5f"
            },
            "error_y": {
             "color": "#2a3f5f"
            },
            "marker": {
             "line": {
              "color": "white",
              "width": 0.5
             },
             "pattern": {
              "fillmode": "overlay",
              "size": 10,
              "solidity": 0.2
             }
            },
            "type": "bar"
           }
          ],
          "barpolar": [
           {
            "marker": {
             "line": {
              "color": "white",
              "width": 0.5
             },
             "pattern": {
              "fillmode": "overlay",
              "size": 10,
              "solidity": 0.2
             }
            },
            "type": "barpolar"
           }
          ],
          "box": [
           {
            "boxpoints": "outliers",
            "notched": false,
            "type": "box"
           }
          ],
          "carpet": [
           {
            "aaxis": {
             "endlinecolor": "#2a3f5f",
             "gridcolor": "#C8D4E3",
             "linecolor": "#C8D4E3",
             "minorgridcolor": "#C8D4E3",
             "startlinecolor": "#2a3f5f"
            },
            "baxis": {
             "endlinecolor": "#2a3f5f",
             "gridcolor": "#C8D4E3",
             "linecolor": "#C8D4E3",
             "minorgridcolor": "#C8D4E3",
             "startlinecolor": "#2a3f5f"
            },
            "type": "carpet"
           }
          ],
          "choropleth": [
           {
            "colorbar": {
             "outlinewidth": 0,
             "ticks": ""
            },
            "type": "choropleth"
           }
          ],
          "contour": [
           {
            "colorbar": {
             "outlinewidth": 0,
             "ticks": ""
            },
            "colorscale": [
             [
              0,
              "#0d0887"
             ],
             [
              0.1111111111111111,
              "#46039f"
             ],
             [
              0.2222222222222222,
              "#7201a8"
             ],
             [
              0.3333333333333333,
              "#9c179e"
             ],
             [
              0.4444444444444444,
              "#bd3786"
             ],
             [
              0.5555555555555556,
              "#d8576b"
             ],
             [
              0.6666666666666666,
              "#ed7953"
             ],
             [
              0.7777777777777778,
              "#fb9f3a"
             ],
             [
              0.8888888888888888,
              "#fdca26"
             ],
             [
              1,
              "#f0f921"
             ]
            ],
            "type": "contour"
           }
          ],
          "contourcarpet": [
           {
            "colorbar": {
             "outlinewidth": 0,
             "ticks": ""
            },
            "type": "contourcarpet"
           }
          ],
          "heatmap": [
           {
            "colorbar": {
             "outlinewidth": 0,
             "ticks": ""
            },
            "colorscale": [
             [
              0,
              "#0d0887"
             ],
             [
              0.1111111111111111,
              "#46039f"
             ],
             [
              0.2222222222222222,
              "#7201a8"
             ],
             [
              0.3333333333333333,
              "#9c179e"
             ],
             [
              0.4444444444444444,
              "#bd3786"
             ],
             [
              0.5555555555555556,
              "#d8576b"
             ],
             [
              0.6666666666666666,
              "#ed7953"
             ],
             [
              0.7777777777777778,
              "#fb9f3a"
             ],
             [
              0.8888888888888888,
              "#fdca26"
             ],
             [
              1,
              "#f0f921"
             ]
            ],
            "type": "heatmap"
           }
          ],
          "heatmapgl": [
           {
            "colorbar": {
             "outlinewidth": 0,
             "ticks": ""
            },
            "colorscale": [
             [
              0,
              "#0d0887"
             ],
             [
              0.1111111111111111,
              "#46039f"
             ],
             [
              0.2222222222222222,
              "#7201a8"
             ],
             [
              0.3333333333333333,
              "#9c179e"
             ],
             [
              0.4444444444444444,
              "#bd3786"
             ],
             [
              0.5555555555555556,
              "#d8576b"
             ],
             [
              0.6666666666666666,
              "#ed7953"
             ],
             [
              0.7777777777777778,
              "#fb9f3a"
             ],
             [
              0.8888888888888888,
              "#fdca26"
             ],
             [
              1,
              "#f0f921"
             ]
            ],
            "type": "heatmapgl"
           }
          ],
          "histogram": [
           {
            "marker": {
             "line": {
              "width": 1
             },
             "pattern": {
              "fillmode": "overlay",
              "size": 10,
              "solidity": 0.2
             }
            },
            "type": "histogram"
           }
          ],
          "histogram2d": [
           {
            "colorbar": {
             "outlinewidth": 0,
             "ticks": ""
            },
            "colorscale": [
             [
              0,
              "#0d0887"
             ],
             [
              0.1111111111111111,
              "#46039f"
             ],
             [
              0.2222222222222222,
              "#7201a8"
             ],
             [
              0.3333333333333333,
              "#9c179e"
             ],
             [
              0.4444444444444444,
              "#bd3786"
             ],
             [
              0.5555555555555556,
              "#d8576b"
             ],
             [
              0.6666666666666666,
              "#ed7953"
             ],
             [
              0.7777777777777778,
              "#fb9f3a"
             ],
             [
              0.8888888888888888,
              "#fdca26"
             ],
             [
              1,
              "#f0f921"
             ]
            ],
            "type": "histogram2d"
           }
          ],
          "histogram2dcontour": [
           {
            "colorbar": {
             "outlinewidth": 0,
             "ticks": ""
            },
            "colorscale": [
             [
              0,
              "#0d0887"
             ],
             [
              0.1111111111111111,
              "#46039f"
             ],
             [
              0.2222222222222222,
              "#7201a8"
             ],
             [
              0.3333333333333333,
              "#9c179e"
             ],
             [
              0.4444444444444444,
              "#bd3786"
             ],
             [
              0.5555555555555556,
              "#d8576b"
             ],
             [
              0.6666666666666666,
              "#ed7953"
             ],
             [
              0.7777777777777778,
              "#fb9f3a"
             ],
             [
              0.8888888888888888,
              "#fdca26"
             ],
             [
              1,
              "#f0f921"
             ]
            ],
            "type": "histogram2dcontour"
           }
          ],
          "mesh3d": [
           {
            "colorbar": {
             "outlinewidth": 0,
             "ticks": ""
            },
            "type": "mesh3d"
           }
          ],
          "parcoords": [
           {
            "line": {
             "colorbar": {
              "outlinewidth": 0,
              "ticks": ""
             }
            },
            "type": "parcoords"
           }
          ],
          "pie": [
           {
            "automargin": true,
            "type": "pie"
           }
          ],
          "scatter": [
           {
            "fillpattern": {
             "fillmode": "overlay",
             "size": 10,
             "solidity": 0.2
            },
            "marker": {
             "opacity": 0.8
            },
            "type": "scatter"
           }
          ],
          "scatter3d": [
           {
            "line": {
             "colorbar": {
              "outlinewidth": 0,
              "ticks": ""
             }
            },
            "marker": {
             "colorbar": {
              "outlinewidth": 0,
              "ticks": ""
             },
             "opacity": 0.8
            },
            "type": "scatter3d"
           }
          ],
          "scattercarpet": [
           {
            "marker": {
             "colorbar": {
              "outlinewidth": 0,
              "ticks": ""
             }
            },
            "type": "scattercarpet"
           }
          ],
          "scattergeo": [
           {
            "marker": {
             "colorbar": {
              "outlinewidth": 0,
              "ticks": ""
             }
            },
            "type": "scattergeo"
           }
          ],
          "scattergl": [
           {
            "marker": {
             "colorbar": {
              "outlinewidth": 0,
              "ticks": ""
             }
            },
            "type": "scattergl"
           }
          ],
          "scattermapbox": [
           {
            "marker": {
             "colorbar": {
              "outlinewidth": 0,
              "ticks": ""
             }
            },
            "type": "scattermapbox"
           }
          ],
          "scatterpolar": [
           {
            "marker": {
             "colorbar": {
              "outlinewidth": 0,
              "ticks": ""
             }
            },
            "type": "scatterpolar"
           }
          ],
          "scatterpolargl": [
           {
            "marker": {
             "colorbar": {
              "outlinewidth": 0,
              "ticks": ""
             }
            },
            "type": "scatterpolargl"
           }
          ],
          "scatterternary": [
           {
            "marker": {
             "colorbar": {
              "outlinewidth": 0,
              "ticks": ""
             }
            },
            "type": "scatterternary"
           }
          ],
          "surface": [
           {
            "colorbar": {
             "outlinewidth": 0,
             "ticks": ""
            },
            "colorscale": [
             [
              0,
              "#0d0887"
             ],
             [
              0.1111111111111111,
              "#46039f"
             ],
             [
              0.2222222222222222,
              "#7201a8"
             ],
             [
              0.3333333333333333,
              "#9c179e"
             ],
             [
              0.4444444444444444,
              "#bd3786"
             ],
             [
              0.5555555555555556,
              "#d8576b"
             ],
             [
              0.6666666666666666,
              "#ed7953"
             ],
             [
              0.7777777777777778,
              "#fb9f3a"
             ],
             [
              0.8888888888888888,
              "#fdca26"
             ],
             [
              1,
              "#f0f921"
             ]
            ],
            "type": "surface"
           }
          ],
          "table": [
           {
            "cells": {
             "fill": {
              "color": "#EBF0F8"
             },
             "line": {
              "color": "white"
             }
            },
            "header": {
             "fill": {
              "color": "#C8D4E3"
             },
             "line": {
              "color": "white"
             }
            },
            "type": "table"
           }
          ]
         },
         "layout": {
          "annotationdefaults": {
           "arrowcolor": "#2a3f5f",
           "arrowhead": 0,
           "arrowwidth": 1
          },
          "autotypenumbers": "strict",
          "coloraxis": {
           "colorbar": {
            "outlinewidth": 0,
            "ticks": ""
           }
          },
          "colorscale": {
           "diverging": [
            [
             0,
             "#8e0152"
            ],
            [
             0.1,
             "#c51b7d"
            ],
            [
             0.2,
             "#de77ae"
            ],
            [
             0.3,
             "#f1b6da"
            ],
            [
             0.4,
             "#fde0ef"
            ],
            [
             0.5,
             "#f7f7f7"
            ],
            [
             0.6,
             "#e6f5d0"
            ],
            [
             0.7,
             "#b8e186"
            ],
            [
             0.8,
             "#7fbc41"
            ],
            [
             0.9,
             "#4d9221"
            ],
            [
             1,
             "#276419"
            ]
           ],
           "sequential": [
            [
             0,
             "#0d0887"
            ],
            [
             0.1111111111111111,
             "#46039f"
            ],
            [
             0.2222222222222222,
             "#7201a8"
            ],
            [
             0.3333333333333333,
             "#9c179e"
            ],
            [
             0.4444444444444444,
             "#bd3786"
            ],
            [
             0.5555555555555556,
             "#d8576b"
            ],
            [
             0.6666666666666666,
             "#ed7953"
            ],
            [
             0.7777777777777778,
             "#fb9f3a"
            ],
            [
             0.8888888888888888,
             "#fdca26"
            ],
            [
             1,
             "#f0f921"
            ]
           ],
           "sequentialminus": [
            [
             0,
             "#0d0887"
            ],
            [
             0.1111111111111111,
             "#46039f"
            ],
            [
             0.2222222222222222,
             "#7201a8"
            ],
            [
             0.3333333333333333,
             "#9c179e"
            ],
            [
             0.4444444444444444,
             "#bd3786"
            ],
            [
             0.5555555555555556,
             "#d8576b"
            ],
            [
             0.6666666666666666,
             "#ed7953"
            ],
            [
             0.7777777777777778,
             "#fb9f3a"
            ],
            [
             0.8888888888888888,
             "#fdca26"
            ],
            [
             1,
             "#f0f921"
            ]
           ]
          },
          "colorway": [
           "#636efa",
           "#EF553B",
           "#00cc96",
           "#ab63fa",
           "#FFA15A",
           "#19d3f3",
           "#FF6692",
           "#B6E880",
           "#FF97FF",
           "#FECB52"
          ],
          "font": {
           "color": "#2a3f5f"
          },
          "geo": {
           "bgcolor": "white",
           "lakecolor": "white",
           "landcolor": "white",
           "showlakes": true,
           "showland": true,
           "subunitcolor": "#C8D4E3"
          },
          "height": 400,
          "hoverlabel": {
           "align": "left"
          },
          "hovermode": "closest",
          "mapbox": {
           "style": "light"
          },
          "margin": {
           "b": 2,
           "l": 2,
           "r": 2,
           "t": 30
          },
          "paper_bgcolor": "white",
          "plot_bgcolor": "white",
          "polar": {
           "angularaxis": {
            "gridcolor": "#EBF0F8",
            "linecolor": "#EBF0F8",
            "ticks": ""
           },
           "bgcolor": "white",
           "radialaxis": {
            "gridcolor": "#EBF0F8",
            "linecolor": "#EBF0F8",
            "ticks": ""
           }
          },
          "scene": {
           "camera": {
            "eye": {
             "x": 1.5,
             "y": 1.5,
             "z": 0.1
            }
           },
           "xaxis": {
            "backgroundcolor": "white",
            "gridcolor": "#DFE8F3",
            "gridwidth": 2,
            "linecolor": "#EBF0F8",
            "showbackground": true,
            "ticks": "",
            "zerolinecolor": "#EBF0F8"
           },
           "yaxis": {
            "backgroundcolor": "white",
            "gridcolor": "#DFE8F3",
            "gridwidth": 2,
            "linecolor": "#EBF0F8",
            "showbackground": true,
            "ticks": "",
            "zerolinecolor": "#EBF0F8"
           },
           "zaxis": {
            "backgroundcolor": "white",
            "gridcolor": "#DFE8F3",
            "gridwidth": 2,
            "linecolor": "#EBF0F8",
            "showbackground": true,
            "ticks": "",
            "zerolinecolor": "#EBF0F8"
           }
          },
          "shapedefaults": {
           "line": {
            "color": "#2a3f5f"
           }
          },
          "ternary": {
           "aaxis": {
            "gridcolor": "#DFE8F3",
            "linecolor": "#A2B1C6",
            "ticks": ""
           },
           "baxis": {
            "gridcolor": "#DFE8F3",
            "linecolor": "#A2B1C6",
            "ticks": ""
           },
           "bgcolor": "white",
           "caxis": {
            "gridcolor": "#DFE8F3",
            "linecolor": "#A2B1C6",
            "ticks": ""
           }
          },
          "title": {
           "x": 0.5
          },
          "xaxis": {
           "automargin": true,
           "gridcolor": "#EBF0F8",
           "linecolor": "#EBF0F8",
           "linewidth": 2,
           "showline": true,
           "ticks": "",
           "title": {
            "standoff": 15
           },
           "zerolinecolor": "#EBF0F8",
           "zerolinewidth": 2
          },
          "yaxis": {
           "automargin": true,
           "gridcolor": "#EBF0F8",
           "linecolor": "#EBF0F8",
           "linewidth": 2,
           "showline": true,
           "ticks": "",
           "title": {
            "standoff": 15
           },
           "zerolinecolor": "#EBF0F8",
           "zerolinewidth": 2
          }
         }
        },
        "xaxis": {
         "anchor": "y",
         "domain": [
          0,
          1
         ],
         "title": {
          "text": "protein content of last meal"
         }
        },
        "yaxis": {
         "anchor": "x",
         "domain": [
          0,
          1
         ],
         "title": {
          "text": "core temperature"
         }
        }
       }
      }
     },
     "metadata": {},
     "output_type": "display_data"
    },
    {
     "data": {
      "application/vnd.plotly.v1+json": {
       "config": {
        "plotlyServerURL": "https://plot.ly"
       },
       "data": [
        {
         "hovertemplate": "age=%{x}<br>core temperature=%{y}<extra></extra>",
         "legendgroup": "",
         "marker": {
          "color": "#636efa",
          "size": 17,
          "symbol": "circle"
         },
         "mode": "markers",
         "name": "",
         "orientation": "v",
         "showlegend": false,
         "type": "scatter",
         "x": [
          6.9,
          5.4,
          5.4,
          4.8,
          4.8,
          7.8,
          2.7,
          5.7,
          1.5,
          1.8,
          4.2,
          4.5,
          1.5,
          5.1,
          4.8,
          5.1,
          3.6,
          4.2,
          2.7,
          8.7,
          0.9,
          6.3,
          1.2,
          2.7,
          6,
          6,
          0.6,
          3.9,
          6,
          5.7,
          6.9,
          5.1,
          2.1,
          3.6,
          6.3,
          2.4,
          8.4,
          7.5,
          5.7,
          5.7,
          2.7,
          4.2,
          6.9,
          3,
          1.8,
          2.4,
          6.3,
          0.6,
          1.8,
          4.8,
          8.4,
          8.1,
          6.3,
          8.7,
          4.5,
          4.5,
          7.5,
          1.2,
          5.7,
          0.6,
          6.9,
          8.1,
          0.6,
          1.2,
          6.6,
          8.1,
          2.7,
          3.9,
          4.2,
          6.9,
          1.2,
          3.9,
          3.6,
          0.3,
          3,
          8.7,
          2.1,
          6.6,
          1.5,
          5.1,
          6,
          2.1,
          6,
          4.2,
          1.5,
          1.8,
          1.8,
          6.9,
          6.9,
          4.5,
          1.8,
          8.4,
          3,
          4.5,
          1.8,
          6.6,
          6.9,
          6
         ],
         "xaxis": "x",
         "y": [
          38.42316895,
          39.01599822,
          39.14834088,
          39.06004863,
          38.65543905,
          38.6092188,
          39.47390806,
          38.81521612,
          37.77845286,
          39.17685034,
          39.52090819,
          38.57896943,
          38.28013391,
          38.40158039,
          38.65157641,
          39.61720308,
          37.72843549,
          39.36694049,
          37.98848685,
          39.93405104,
          37.60559023,
          38.83468198,
          37.39892664,
          38.98633063,
          39.72456882,
          38.09695504,
          37.59597881,
          39.49731323,
          38.50187636,
          38.27036031,
          38.69964224,
          39.08411118,
          38.29400364,
          38.39872285,
          39.29951536,
          38.37598649,
          38.46968433,
          39.58561173,
          38.12682317,
          39.80156649,
          37.92682179,
          39.67264697,
          38.21409556,
          38.93217418,
          37.80121676,
          37.52097889,
          39.34942824,
          38.9163822,
          38.72595498,
          38.35421436,
          40.17337876,
          39.48214424,
          39.9557292,
          39.02529641,
          39.70565695,
          37.87210056,
          38.92730588,
          38.75694066,
          38.98157028,
          39.07020183,
          39.31023381,
          40.26487847,
          39.19531025,
          37.46606804,
          38.61929591,
          39.74308443,
          37.9590829,
          38.52387016,
          39.58821189,
          39.48780846,
          37.32113362,
          38.30311301,
          39.32598796,
          38.18373964,
          37.78518905,
          38.97361387,
          37.97719515,
          38.92654301,
          37.98922316,
          39.87010492,
          38.51344083,
          39.14710639,
          38.61129304,
          38.95232638,
          37.46812464,
          38.24131363,
          38.7661591,
          39.87233432,
          38.87492299,
          39.09337261,
          39.00124171,
          39.25963687,
          38.6808734,
          37.93994229,
          38.79042609,
          39.48996228,
          38.57574159,
          39.76644658
         ],
         "yaxis": "y"
        }
       ],
       "layout": {
        "legend": {
         "tracegroupgap": 0
        },
        "template": {
         "data": {
          "bar": [
           {
            "error_x": {
             "color": "#2a3f5f"
            },
            "error_y": {
             "color": "#2a3f5f"
            },
            "marker": {
             "line": {
              "color": "white",
              "width": 0.5
             },
             "pattern": {
              "fillmode": "overlay",
              "size": 10,
              "solidity": 0.2
             }
            },
            "type": "bar"
           }
          ],
          "barpolar": [
           {
            "marker": {
             "line": {
              "color": "white",
              "width": 0.5
             },
             "pattern": {
              "fillmode": "overlay",
              "size": 10,
              "solidity": 0.2
             }
            },
            "type": "barpolar"
           }
          ],
          "box": [
           {
            "boxpoints": "outliers",
            "notched": false,
            "type": "box"
           }
          ],
          "carpet": [
           {
            "aaxis": {
             "endlinecolor": "#2a3f5f",
             "gridcolor": "#C8D4E3",
             "linecolor": "#C8D4E3",
             "minorgridcolor": "#C8D4E3",
             "startlinecolor": "#2a3f5f"
            },
            "baxis": {
             "endlinecolor": "#2a3f5f",
             "gridcolor": "#C8D4E3",
             "linecolor": "#C8D4E3",
             "minorgridcolor": "#C8D4E3",
             "startlinecolor": "#2a3f5f"
            },
            "type": "carpet"
           }
          ],
          "choropleth": [
           {
            "colorbar": {
             "outlinewidth": 0,
             "ticks": ""
            },
            "type": "choropleth"
           }
          ],
          "contour": [
           {
            "colorbar": {
             "outlinewidth": 0,
             "ticks": ""
            },
            "colorscale": [
             [
              0,
              "#0d0887"
             ],
             [
              0.1111111111111111,
              "#46039f"
             ],
             [
              0.2222222222222222,
              "#7201a8"
             ],
             [
              0.3333333333333333,
              "#9c179e"
             ],
             [
              0.4444444444444444,
              "#bd3786"
             ],
             [
              0.5555555555555556,
              "#d8576b"
             ],
             [
              0.6666666666666666,
              "#ed7953"
             ],
             [
              0.7777777777777778,
              "#fb9f3a"
             ],
             [
              0.8888888888888888,
              "#fdca26"
             ],
             [
              1,
              "#f0f921"
             ]
            ],
            "type": "contour"
           }
          ],
          "contourcarpet": [
           {
            "colorbar": {
             "outlinewidth": 0,
             "ticks": ""
            },
            "type": "contourcarpet"
           }
          ],
          "heatmap": [
           {
            "colorbar": {
             "outlinewidth": 0,
             "ticks": ""
            },
            "colorscale": [
             [
              0,
              "#0d0887"
             ],
             [
              0.1111111111111111,
              "#46039f"
             ],
             [
              0.2222222222222222,
              "#7201a8"
             ],
             [
              0.3333333333333333,
              "#9c179e"
             ],
             [
              0.4444444444444444,
              "#bd3786"
             ],
             [
              0.5555555555555556,
              "#d8576b"
             ],
             [
              0.6666666666666666,
              "#ed7953"
             ],
             [
              0.7777777777777778,
              "#fb9f3a"
             ],
             [
              0.8888888888888888,
              "#fdca26"
             ],
             [
              1,
              "#f0f921"
             ]
            ],
            "type": "heatmap"
           }
          ],
          "heatmapgl": [
           {
            "colorbar": {
             "outlinewidth": 0,
             "ticks": ""
            },
            "colorscale": [
             [
              0,
              "#0d0887"
             ],
             [
              0.1111111111111111,
              "#46039f"
             ],
             [
              0.2222222222222222,
              "#7201a8"
             ],
             [
              0.3333333333333333,
              "#9c179e"
             ],
             [
              0.4444444444444444,
              "#bd3786"
             ],
             [
              0.5555555555555556,
              "#d8576b"
             ],
             [
              0.6666666666666666,
              "#ed7953"
             ],
             [
              0.7777777777777778,
              "#fb9f3a"
             ],
             [
              0.8888888888888888,
              "#fdca26"
             ],
             [
              1,
              "#f0f921"
             ]
            ],
            "type": "heatmapgl"
           }
          ],
          "histogram": [
           {
            "marker": {
             "line": {
              "width": 1
             },
             "pattern": {
              "fillmode": "overlay",
              "size": 10,
              "solidity": 0.2
             }
            },
            "type": "histogram"
           }
          ],
          "histogram2d": [
           {
            "colorbar": {
             "outlinewidth": 0,
             "ticks": ""
            },
            "colorscale": [
             [
              0,
              "#0d0887"
             ],
             [
              0.1111111111111111,
              "#46039f"
             ],
             [
              0.2222222222222222,
              "#7201a8"
             ],
             [
              0.3333333333333333,
              "#9c179e"
             ],
             [
              0.4444444444444444,
              "#bd3786"
             ],
             [
              0.5555555555555556,
              "#d8576b"
             ],
             [
              0.6666666666666666,
              "#ed7953"
             ],
             [
              0.7777777777777778,
              "#fb9f3a"
             ],
             [
              0.8888888888888888,
              "#fdca26"
             ],
             [
              1,
              "#f0f921"
             ]
            ],
            "type": "histogram2d"
           }
          ],
          "histogram2dcontour": [
           {
            "colorbar": {
             "outlinewidth": 0,
             "ticks": ""
            },
            "colorscale": [
             [
              0,
              "#0d0887"
             ],
             [
              0.1111111111111111,
              "#46039f"
             ],
             [
              0.2222222222222222,
              "#7201a8"
             ],
             [
              0.3333333333333333,
              "#9c179e"
             ],
             [
              0.4444444444444444,
              "#bd3786"
             ],
             [
              0.5555555555555556,
              "#d8576b"
             ],
             [
              0.6666666666666666,
              "#ed7953"
             ],
             [
              0.7777777777777778,
              "#fb9f3a"
             ],
             [
              0.8888888888888888,
              "#fdca26"
             ],
             [
              1,
              "#f0f921"
             ]
            ],
            "type": "histogram2dcontour"
           }
          ],
          "mesh3d": [
           {
            "colorbar": {
             "outlinewidth": 0,
             "ticks": ""
            },
            "type": "mesh3d"
           }
          ],
          "parcoords": [
           {
            "line": {
             "colorbar": {
              "outlinewidth": 0,
              "ticks": ""
             }
            },
            "type": "parcoords"
           }
          ],
          "pie": [
           {
            "automargin": true,
            "type": "pie"
           }
          ],
          "scatter": [
           {
            "fillpattern": {
             "fillmode": "overlay",
             "size": 10,
             "solidity": 0.2
            },
            "marker": {
             "opacity": 0.8
            },
            "type": "scatter"
           }
          ],
          "scatter3d": [
           {
            "line": {
             "colorbar": {
              "outlinewidth": 0,
              "ticks": ""
             }
            },
            "marker": {
             "colorbar": {
              "outlinewidth": 0,
              "ticks": ""
             },
             "opacity": 0.8
            },
            "type": "scatter3d"
           }
          ],
          "scattercarpet": [
           {
            "marker": {
             "colorbar": {
              "outlinewidth": 0,
              "ticks": ""
             }
            },
            "type": "scattercarpet"
           }
          ],
          "scattergeo": [
           {
            "marker": {
             "colorbar": {
              "outlinewidth": 0,
              "ticks": ""
             }
            },
            "type": "scattergeo"
           }
          ],
          "scattergl": [
           {
            "marker": {
             "colorbar": {
              "outlinewidth": 0,
              "ticks": ""
             }
            },
            "type": "scattergl"
           }
          ],
          "scattermapbox": [
           {
            "marker": {
             "colorbar": {
              "outlinewidth": 0,
              "ticks": ""
             }
            },
            "type": "scattermapbox"
           }
          ],
          "scatterpolar": [
           {
            "marker": {
             "colorbar": {
              "outlinewidth": 0,
              "ticks": ""
             }
            },
            "type": "scatterpolar"
           }
          ],
          "scatterpolargl": [
           {
            "marker": {
             "colorbar": {
              "outlinewidth": 0,
              "ticks": ""
             }
            },
            "type": "scatterpolargl"
           }
          ],
          "scatterternary": [
           {
            "marker": {
             "colorbar": {
              "outlinewidth": 0,
              "ticks": ""
             }
            },
            "type": "scatterternary"
           }
          ],
          "surface": [
           {
            "colorbar": {
             "outlinewidth": 0,
             "ticks": ""
            },
            "colorscale": [
             [
              0,
              "#0d0887"
             ],
             [
              0.1111111111111111,
              "#46039f"
             ],
             [
              0.2222222222222222,
              "#7201a8"
             ],
             [
              0.3333333333333333,
              "#9c179e"
             ],
             [
              0.4444444444444444,
              "#bd3786"
             ],
             [
              0.5555555555555556,
              "#d8576b"
             ],
             [
              0.6666666666666666,
              "#ed7953"
             ],
             [
              0.7777777777777778,
              "#fb9f3a"
             ],
             [
              0.8888888888888888,
              "#fdca26"
             ],
             [
              1,
              "#f0f921"
             ]
            ],
            "type": "surface"
           }
          ],
          "table": [
           {
            "cells": {
             "fill": {
              "color": "#EBF0F8"
             },
             "line": {
              "color": "white"
             }
            },
            "header": {
             "fill": {
              "color": "#C8D4E3"
             },
             "line": {
              "color": "white"
             }
            },
            "type": "table"
           }
          ]
         },
         "layout": {
          "annotationdefaults": {
           "arrowcolor": "#2a3f5f",
           "arrowhead": 0,
           "arrowwidth": 1
          },
          "autotypenumbers": "strict",
          "coloraxis": {
           "colorbar": {
            "outlinewidth": 0,
            "ticks": ""
           }
          },
          "colorscale": {
           "diverging": [
            [
             0,
             "#8e0152"
            ],
            [
             0.1,
             "#c51b7d"
            ],
            [
             0.2,
             "#de77ae"
            ],
            [
             0.3,
             "#f1b6da"
            ],
            [
             0.4,
             "#fde0ef"
            ],
            [
             0.5,
             "#f7f7f7"
            ],
            [
             0.6,
             "#e6f5d0"
            ],
            [
             0.7,
             "#b8e186"
            ],
            [
             0.8,
             "#7fbc41"
            ],
            [
             0.9,
             "#4d9221"
            ],
            [
             1,
             "#276419"
            ]
           ],
           "sequential": [
            [
             0,
             "#0d0887"
            ],
            [
             0.1111111111111111,
             "#46039f"
            ],
            [
             0.2222222222222222,
             "#7201a8"
            ],
            [
             0.3333333333333333,
             "#9c179e"
            ],
            [
             0.4444444444444444,
             "#bd3786"
            ],
            [
             0.5555555555555556,
             "#d8576b"
            ],
            [
             0.6666666666666666,
             "#ed7953"
            ],
            [
             0.7777777777777778,
             "#fb9f3a"
            ],
            [
             0.8888888888888888,
             "#fdca26"
            ],
            [
             1,
             "#f0f921"
            ]
           ],
           "sequentialminus": [
            [
             0,
             "#0d0887"
            ],
            [
             0.1111111111111111,
             "#46039f"
            ],
            [
             0.2222222222222222,
             "#7201a8"
            ],
            [
             0.3333333333333333,
             "#9c179e"
            ],
            [
             0.4444444444444444,
             "#bd3786"
            ],
            [
             0.5555555555555556,
             "#d8576b"
            ],
            [
             0.6666666666666666,
             "#ed7953"
            ],
            [
             0.7777777777777778,
             "#fb9f3a"
            ],
            [
             0.8888888888888888,
             "#fdca26"
            ],
            [
             1,
             "#f0f921"
            ]
           ]
          },
          "colorway": [
           "#636efa",
           "#EF553B",
           "#00cc96",
           "#ab63fa",
           "#FFA15A",
           "#19d3f3",
           "#FF6692",
           "#B6E880",
           "#FF97FF",
           "#FECB52"
          ],
          "font": {
           "color": "#2a3f5f"
          },
          "geo": {
           "bgcolor": "white",
           "lakecolor": "white",
           "landcolor": "white",
           "showlakes": true,
           "showland": true,
           "subunitcolor": "#C8D4E3"
          },
          "height": 400,
          "hoverlabel": {
           "align": "left"
          },
          "hovermode": "closest",
          "mapbox": {
           "style": "light"
          },
          "margin": {
           "b": 2,
           "l": 2,
           "r": 2,
           "t": 30
          },
          "paper_bgcolor": "white",
          "plot_bgcolor": "white",
          "polar": {
           "angularaxis": {
            "gridcolor": "#EBF0F8",
            "linecolor": "#EBF0F8",
            "ticks": ""
           },
           "bgcolor": "white",
           "radialaxis": {
            "gridcolor": "#EBF0F8",
            "linecolor": "#EBF0F8",
            "ticks": ""
           }
          },
          "scene": {
           "camera": {
            "eye": {
             "x": 1.5,
             "y": 1.5,
             "z": 0.1
            }
           },
           "xaxis": {
            "backgroundcolor": "white",
            "gridcolor": "#DFE8F3",
            "gridwidth": 2,
            "linecolor": "#EBF0F8",
            "showbackground": true,
            "ticks": "",
            "zerolinecolor": "#EBF0F8"
           },
           "yaxis": {
            "backgroundcolor": "white",
            "gridcolor": "#DFE8F3",
            "gridwidth": 2,
            "linecolor": "#EBF0F8",
            "showbackground": true,
            "ticks": "",
            "zerolinecolor": "#EBF0F8"
           },
           "zaxis": {
            "backgroundcolor": "white",
            "gridcolor": "#DFE8F3",
            "gridwidth": 2,
            "linecolor": "#EBF0F8",
            "showbackground": true,
            "ticks": "",
            "zerolinecolor": "#EBF0F8"
           }
          },
          "shapedefaults": {
           "line": {
            "color": "#2a3f5f"
           }
          },
          "ternary": {
           "aaxis": {
            "gridcolor": "#DFE8F3",
            "linecolor": "#A2B1C6",
            "ticks": ""
           },
           "baxis": {
            "gridcolor": "#DFE8F3",
            "linecolor": "#A2B1C6",
            "ticks": ""
           },
           "bgcolor": "white",
           "caxis": {
            "gridcolor": "#DFE8F3",
            "linecolor": "#A2B1C6",
            "ticks": ""
           }
          },
          "title": {
           "x": 0.5
          },
          "xaxis": {
           "automargin": true,
           "gridcolor": "#EBF0F8",
           "linecolor": "#EBF0F8",
           "linewidth": 2,
           "showline": true,
           "ticks": "",
           "title": {
            "standoff": 15
           },
           "zerolinecolor": "#EBF0F8",
           "zerolinewidth": 2
          },
          "yaxis": {
           "automargin": true,
           "gridcolor": "#EBF0F8",
           "linecolor": "#EBF0F8",
           "linewidth": 2,
           "showline": true,
           "ticks": "",
           "title": {
            "standoff": 15
           },
           "zerolinecolor": "#EBF0F8",
           "zerolinewidth": 2
          }
         }
        },
        "xaxis": {
         "anchor": "y",
         "domain": [
          0,
          1
         ],
         "title": {
          "text": "age"
         }
        },
        "yaxis": {
         "anchor": "x",
         "domain": [
          0,
          1
         ],
         "title": {
          "text": "core temperature"
         }
        }
       }
      }
     },
     "metadata": {},
     "output_type": "display_data"
    }
   ],
   "source": [
    "import graphing \n",
    "\n",
    "graphing.box_and_whisker(dataset, \"male\", \"core_temperature\", show=True)\n",
    "graphing.box_and_whisker(dataset, \"attended_training\", \"core_temperature\", show=True)\n",
    "graphing.box_and_whisker(dataset, \"ate_at_tonys_steakhouse\", \"core_temperature\", show=True)\n",
    "graphing.scatter_2D(dataset, \"body_fat_percentage\", \"core_temperature\", show=True)\n",
    "graphing.scatter_2D(dataset, \"protein_content_of_last_meal\", \"core_temperature\", show=True)\n",
    "graphing.scatter_2D(dataset, \"age\", \"core_temperature\")"
   ]
  },
  {
   "attachments": {},
   "cell_type": "markdown",
   "metadata": {},
   "source": [
    "De un vistazo, los perros más gordos, mayores y machos parecen tener temperaturas más altas que los perros más delgados, jóvenes o hembras. Los perros que comieron muchas proteínas anoche también parecen estar más enfermos. Las otras características no parecen particularmente útiles."
   ]
  },
  {
   "attachments": {},
   "cell_type": "markdown",
   "metadata": {},
   "source": [
    "    Regresión lineal simple\n",
    "Tratemos de predecir core_temperature usando una regresión lineal simple y observemos el R-Cuadrado para estas relaciones."
   ]
  },
  {
   "cell_type": "code",
   "execution_count": 14,
   "metadata": {},
   "outputs": [
    {
     "name": "stdout",
     "output_type": "stream",
     "text": [
      "male\n",
      "R-squared: 0.0999007443071992\n"
     ]
    },
    {
     "data": {
      "application/vnd.plotly.v1+json": {
       "config": {
        "plotlyServerURL": "https://plot.ly"
       },
       "data": [
        {
         "hovertemplate": "male=%{x}<br>core temperature=%{y}<extra></extra>",
         "legendgroup": "",
         "marker": {
          "color": "#636efa",
          "size": 17,
          "symbol": "circle"
         },
         "mode": "markers",
         "name": "",
         "orientation": "v",
         "showlegend": false,
         "type": "scatter",
         "x": [
          0,
          0,
          1,
          1,
          1,
          0,
          1,
          1,
          0,
          0,
          1,
          0,
          1,
          1,
          0,
          1,
          1,
          1,
          0,
          1,
          0,
          1,
          0,
          1,
          1,
          0,
          1,
          0,
          0,
          0,
          1,
          0,
          1,
          1,
          1,
          1,
          1,
          1,
          0,
          1,
          0,
          1,
          0,
          0,
          0,
          0,
          0,
          1,
          0,
          1,
          1,
          1,
          0,
          0,
          1,
          0,
          1,
          0,
          1,
          0,
          1,
          1,
          1,
          1,
          1,
          1,
          1,
          0,
          0,
          1,
          0,
          1,
          1,
          0,
          0,
          1,
          0,
          1,
          0,
          0,
          0,
          1,
          0,
          0,
          1,
          1,
          0,
          1,
          0,
          0,
          0,
          1,
          0,
          0,
          1,
          0,
          0,
          1
         ],
         "xaxis": "x",
         "y": [
          38.42316895,
          39.01599822,
          39.14834088,
          39.06004863,
          38.65543905,
          38.6092188,
          39.47390806,
          38.81521612,
          37.77845286,
          39.17685034,
          39.52090819,
          38.57896943,
          38.28013391,
          38.40158039,
          38.65157641,
          39.61720308,
          37.72843549,
          39.36694049,
          37.98848685,
          39.93405104,
          37.60559023,
          38.83468198,
          37.39892664,
          38.98633063,
          39.72456882,
          38.09695504,
          37.59597881,
          39.49731323,
          38.50187636,
          38.27036031,
          38.69964224,
          39.08411118,
          38.29400364,
          38.39872285,
          39.29951536,
          38.37598649,
          38.46968433,
          39.58561173,
          38.12682317,
          39.80156649,
          37.92682179,
          39.67264697,
          38.21409556,
          38.93217418,
          37.80121676,
          37.52097889,
          39.34942824,
          38.9163822,
          38.72595498,
          38.35421436,
          40.17337876,
          39.48214424,
          39.9557292,
          39.02529641,
          39.70565695,
          37.87210056,
          38.92730588,
          38.75694066,
          38.98157028,
          39.07020183,
          39.31023381,
          40.26487847,
          39.19531025,
          37.46606804,
          38.61929591,
          39.74308443,
          37.9590829,
          38.52387016,
          39.58821189,
          39.48780846,
          37.32113362,
          38.30311301,
          39.32598796,
          38.18373964,
          37.78518905,
          38.97361387,
          37.97719515,
          38.92654301,
          37.98922316,
          39.87010492,
          38.51344083,
          39.14710639,
          38.61129304,
          38.95232638,
          37.46812464,
          38.24131363,
          38.7661591,
          39.87233432,
          38.87492299,
          39.09337261,
          39.00124171,
          39.25963687,
          38.6808734,
          37.93994229,
          38.79042609,
          39.48996228,
          38.57574159,
          39.76644658
         ],
         "yaxis": "y"
        }
       ],
       "layout": {
        "legend": {
         "tracegroupgap": 0
        },
        "shapes": [
         {
          "line": {
           "color": "rgb(228,26,28)"
          },
          "path": "M0.0 38.546671508297855 L 0.005025125628140704 38.54889063925231 L 0.010050251256281407 38.55110977020677 L 0.01507537688442211 38.55332890116124 L 0.020100502512562814 38.555548032115695 L 0.02512562814070352 38.55776716307015 L 0.03015075376884422 38.55998629402461 L 0.035175879396984924 38.56220542497907 L 0.04020100502512563 38.56442455593353 L 0.04522613065326633 38.56664368688799 L 0.05025125628140704 38.56886281784245 L 0.05527638190954774 38.57108194879691 L 0.06030150753768844 38.57330107975137 L 0.06532663316582915 38.575520210705825 L 0.07035175879396985 38.57773934166028 L 0.07537688442211056 38.57995847261475 L 0.08040201005025126 38.58217760356921 L 0.08542713567839195 38.584396734523665 L 0.09045226130653267 38.58661586547812 L 0.09547738693467336 38.58883499643258 L 0.10050251256281408 38.59105412738704 L 0.10552763819095477 38.593273258341505 L 0.11055276381909548 38.59549238929596 L 0.11557788944723618 38.59771152025042 L 0.12060301507537688 38.59993065120488 L 0.12562814070351758 38.60214978215934 L 0.1306532663316583 38.604368913113795 L 0.135678391959799 38.60658804406826 L 0.1407035175879397 38.60880717502272 L 0.1457286432160804 38.61102630597718 L 0.15075376884422112 38.613245436931635 L 0.15577889447236182 38.61546456788609 L 0.16080402010050251 38.61768369884055 L 0.1658291457286432 38.619902829795016 L 0.1708542713567839 38.622121960749475 L 0.17587939698492464 38.62434109170393 L 0.18090452261306533 38.62656022265839 L 0.18592964824120603 38.62877935361285 L 0.19095477386934673 38.63099848456731 L 0.19597989949748745 38.63321761552177 L 0.20100502512562815 38.63543674647623 L 0.20603015075376885 38.63765587743069 L 0.21105527638190955 38.63987500838515 L 0.21608040201005024 38.642094139339605 L 0.22110552763819097 38.64431327029407 L 0.22613065326633167 38.64653240124853 L 0.23115577889447236 38.648751532202986 L 0.23618090452261306 38.650970663157445 L 0.24120603015075376 38.6531897941119 L 0.24623115577889448 38.65540892506636 L 0.25125628140703515 38.657628056020826 L 0.2562814070351759 38.659847186975284 L 0.2613065326633166 38.66206631792974 L 0.2663316582914573 38.6642854488842 L 0.271356783919598 38.66650457983866 L 0.2763819095477387 38.66872371079312 L 0.2814070351758794 38.67094284174758 L 0.2864321608040201 38.67316197270204 L 0.2914572864321608 38.6753811036565 L 0.2964824120603015 38.677600234610956 L 0.30150753768844224 38.679819365565415 L 0.3065326633165829 38.68203849651987 L 0.31155778894472363 38.68425762747434 L 0.3165829145728643 38.686476758428796 L 0.32160804020100503 38.688695889383254 L 0.32663316582914576 38.69091502033771 L 0.3316582914572864 38.69313415129217 L 0.33668341708542715 38.69535328224663 L 0.3417085427135678 38.697572413201094 L 0.34673366834170855 38.69979154415555 L 0.35175879396984927 38.70201067511001 L 0.35678391959798994 38.70422980606447 L 0.36180904522613067 38.706448937018926 L 0.36683417085427134 38.708668067973385 L 0.37185929648241206 38.71088719892785 L 0.3768844221105528 38.71310632988231 L 0.38190954773869346 38.715325460836766 L 0.3869346733668342 38.717544591791224 L 0.3919597989949749 38.71976372274568 L 0.3969849246231156 38.72198285370014 L 0.4020100502512563 38.724201984654606 L 0.40703517587939697 38.726421115609064 L 0.4120603015075377 38.72864024656352 L 0.4170854271356784 38.73085937751798 L 0.4221105527638191 38.73307850847244 L 0.4271356783919598 38.7352976394269 L 0.4321608040201005 38.73751677038136 L 0.4371859296482412 38.73973590133582 L 0.44221105527638194 38.74195503229028 L 0.4472361809045226 38.744174163244736 L 0.45226130653266333 38.746393294199194 L 0.457286432160804 38.74861242515366 L 0.4623115577889447 38.75083155610812 L 0.46733668341708545 38.753050687062576 L 0.4723618090452261 38.755269818017034 L 0.47738693467336685 38.75748894897149 L 0.4824120603015075 38.75970807992595 L 0.48743718592964824 38.761927210880415 L 0.49246231155778897 38.76414634183487 L 0.49748743718592964 38.76636547278933 L 0.5025125628140703 38.76858460374379 L 0.507537688442211 38.77080373469825 L 0.5125628140703518 38.773022865652706 L 0.5175879396984925 38.77524199660717 L 0.5226130653266332 38.77746112756163 L 0.5276381909547738 38.77968025851609 L 0.5326633165829145 38.781899389470546 L 0.5376884422110553 38.784118520425004 L 0.542713567839196 38.78633765137946 L 0.5477386934673367 38.78855678233393 L 0.5527638190954774 38.790775913288385 L 0.5577889447236181 38.79299504424284 L 0.5628140703517588 38.7952141751973 L 0.5678391959798995 38.79743330615176 L 0.5728643216080402 38.79965243710622 L 0.577889447236181 38.80187156806068 L 0.5829145728643216 38.80409069901514 L 0.5879396984924623 38.8063098299696 L 0.592964824120603 38.80852896092406 L 0.5979899497487438 38.810748091878516 L 0.6030150753768845 38.81296722283298 L 0.6080402010050251 38.81518635378744 L 0.6130653266331658 38.8174054847419 L 0.6180904522613065 38.819624615696355 L 0.6231155778894473 38.82184374665081 L 0.628140703517588 38.82406287760527 L 0.6331658291457286 38.82628200855974 L 0.6381909547738693 38.828501139514195 L 0.6432160804020101 38.83072027046865 L 0.6482412060301508 38.83293940142311 L 0.6532663316582915 38.83515853237757 L 0.6582914572864321 38.83737766333203 L 0.6633165829145728 38.83959679428649 L 0.6683417085427136 38.84181592524095 L 0.6733668341708543 38.84403505619541 L 0.678391959798995 38.84625418714987 L 0.6834170854271356 38.848473318104325 L 0.6884422110552764 38.85069244905878 L 0.6934673366834171 38.85291158001325 L 0.6984924623115578 38.85513071096771 L 0.7035175879396985 38.857349841922165 L 0.7085427135678392 38.85956897287662 L 0.7135678391959799 38.86178810383108 L 0.7185929648241206 38.86400723478554 L 0.7236180904522613 38.866226365740005 L 0.7286432160804021 38.86844549669446 L 0.7336683417085427 38.87066462764892 L 0.7386934673366834 38.87288375860338 L 0.7437185929648241 38.87510288955784 L 0.7487437185929648 38.877322020512295 L 0.7537688442211056 38.87954115146676 L 0.7587939698492463 38.88176028242122 L 0.7638190954773869 38.88397941337568 L 0.7688442211055276 38.886198544330135 L 0.7738693467336684 38.88841767528459 L 0.7788944723618091 38.89063680623905 L 0.7839195979899498 38.89285593719352 L 0.7889447236180904 38.895075068147975 L 0.7939698492462312 38.89729419910243 L 0.7989949748743719 38.89951333005689 L 0.8040201005025126 38.90173246101135 L 0.8090452261306533 38.903951591965814 L 0.8140703517587939 38.90617072292027 L 0.8190954773869347 38.90838985387473 L 0.8241206030150754 38.91060898482919 L 0.8291457286432161 38.91282811578365 L 0.8341708542713568 38.915047246738105 L 0.8391959798994975 38.91726637769257 L 0.8442211055276382 38.91948550864703 L 0.8492462311557789 38.92170463960149 L 0.8542713567839196 38.923923770555945 L 0.8592964824120604 38.9261429015104 L 0.864321608040201 38.92836203246486 L 0.8693467336683417 38.930581163419326 L 0.8743718592964824 38.932800294373784 L 0.8793969849246231 38.93501942532824 L 0.8844221105527639 38.9372385562827 L 0.8894472361809045 38.93945768723716 L 0.8944723618090452 38.94167681819162 L 0.8994974874371859 38.94389594914608 L 0.9045226130653267 38.94611508010054 L 0.9095477386934674 38.948334211055 L 0.914572864321608 38.95055334200946 L 0.9195979899497487 38.952772472963915 L 0.9246231155778895 38.95499160391837 L 0.9296482412060302 38.95721073487284 L 0.9346733668341709 38.959429865827296 L 0.9396984924623115 38.961648996781754 L 0.9447236180904522 38.96386812773621 L 0.949748743718593 38.96608725869067 L 0.9547738693467337 38.96830638964513 L 0.9597989949748744 38.970525520599594 L 0.964824120603015 38.97274465155405 L 0.9698492462311558 38.97496378250851 L 0.9748743718592965 38.97718291346297 L 0.9798994974874372 38.97940204441743 L 0.9849246231155779 38.981621175371885 L 0.9899497487437187 38.98384030632635 L 0.9949748743718593 38.98605943728081 L 1.0 38.988278568235266",
          "type": "path"
         }
        ],
        "template": {
         "data": {
          "bar": [
           {
            "error_x": {
             "color": "#2a3f5f"
            },
            "error_y": {
             "color": "#2a3f5f"
            },
            "marker": {
             "line": {
              "color": "white",
              "width": 0.5
             },
             "pattern": {
              "fillmode": "overlay",
              "size": 10,
              "solidity": 0.2
             }
            },
            "type": "bar"
           }
          ],
          "barpolar": [
           {
            "marker": {
             "line": {
              "color": "white",
              "width": 0.5
             },
             "pattern": {
              "fillmode": "overlay",
              "size": 10,
              "solidity": 0.2
             }
            },
            "type": "barpolar"
           }
          ],
          "box": [
           {
            "boxpoints": "outliers",
            "notched": false,
            "type": "box"
           }
          ],
          "carpet": [
           {
            "aaxis": {
             "endlinecolor": "#2a3f5f",
             "gridcolor": "#C8D4E3",
             "linecolor": "#C8D4E3",
             "minorgridcolor": "#C8D4E3",
             "startlinecolor": "#2a3f5f"
            },
            "baxis": {
             "endlinecolor": "#2a3f5f",
             "gridcolor": "#C8D4E3",
             "linecolor": "#C8D4E3",
             "minorgridcolor": "#C8D4E3",
             "startlinecolor": "#2a3f5f"
            },
            "type": "carpet"
           }
          ],
          "choropleth": [
           {
            "colorbar": {
             "outlinewidth": 0,
             "ticks": ""
            },
            "type": "choropleth"
           }
          ],
          "contour": [
           {
            "colorbar": {
             "outlinewidth": 0,
             "ticks": ""
            },
            "colorscale": [
             [
              0,
              "#0d0887"
             ],
             [
              0.1111111111111111,
              "#46039f"
             ],
             [
              0.2222222222222222,
              "#7201a8"
             ],
             [
              0.3333333333333333,
              "#9c179e"
             ],
             [
              0.4444444444444444,
              "#bd3786"
             ],
             [
              0.5555555555555556,
              "#d8576b"
             ],
             [
              0.6666666666666666,
              "#ed7953"
             ],
             [
              0.7777777777777778,
              "#fb9f3a"
             ],
             [
              0.8888888888888888,
              "#fdca26"
             ],
             [
              1,
              "#f0f921"
             ]
            ],
            "type": "contour"
           }
          ],
          "contourcarpet": [
           {
            "colorbar": {
             "outlinewidth": 0,
             "ticks": ""
            },
            "type": "contourcarpet"
           }
          ],
          "heatmap": [
           {
            "colorbar": {
             "outlinewidth": 0,
             "ticks": ""
            },
            "colorscale": [
             [
              0,
              "#0d0887"
             ],
             [
              0.1111111111111111,
              "#46039f"
             ],
             [
              0.2222222222222222,
              "#7201a8"
             ],
             [
              0.3333333333333333,
              "#9c179e"
             ],
             [
              0.4444444444444444,
              "#bd3786"
             ],
             [
              0.5555555555555556,
              "#d8576b"
             ],
             [
              0.6666666666666666,
              "#ed7953"
             ],
             [
              0.7777777777777778,
              "#fb9f3a"
             ],
             [
              0.8888888888888888,
              "#fdca26"
             ],
             [
              1,
              "#f0f921"
             ]
            ],
            "type": "heatmap"
           }
          ],
          "heatmapgl": [
           {
            "colorbar": {
             "outlinewidth": 0,
             "ticks": ""
            },
            "colorscale": [
             [
              0,
              "#0d0887"
             ],
             [
              0.1111111111111111,
              "#46039f"
             ],
             [
              0.2222222222222222,
              "#7201a8"
             ],
             [
              0.3333333333333333,
              "#9c179e"
             ],
             [
              0.4444444444444444,
              "#bd3786"
             ],
             [
              0.5555555555555556,
              "#d8576b"
             ],
             [
              0.6666666666666666,
              "#ed7953"
             ],
             [
              0.7777777777777778,
              "#fb9f3a"
             ],
             [
              0.8888888888888888,
              "#fdca26"
             ],
             [
              1,
              "#f0f921"
             ]
            ],
            "type": "heatmapgl"
           }
          ],
          "histogram": [
           {
            "marker": {
             "line": {
              "width": 1
             },
             "pattern": {
              "fillmode": "overlay",
              "size": 10,
              "solidity": 0.2
             }
            },
            "type": "histogram"
           }
          ],
          "histogram2d": [
           {
            "colorbar": {
             "outlinewidth": 0,
             "ticks": ""
            },
            "colorscale": [
             [
              0,
              "#0d0887"
             ],
             [
              0.1111111111111111,
              "#46039f"
             ],
             [
              0.2222222222222222,
              "#7201a8"
             ],
             [
              0.3333333333333333,
              "#9c179e"
             ],
             [
              0.4444444444444444,
              "#bd3786"
             ],
             [
              0.5555555555555556,
              "#d8576b"
             ],
             [
              0.6666666666666666,
              "#ed7953"
             ],
             [
              0.7777777777777778,
              "#fb9f3a"
             ],
             [
              0.8888888888888888,
              "#fdca26"
             ],
             [
              1,
              "#f0f921"
             ]
            ],
            "type": "histogram2d"
           }
          ],
          "histogram2dcontour": [
           {
            "colorbar": {
             "outlinewidth": 0,
             "ticks": ""
            },
            "colorscale": [
             [
              0,
              "#0d0887"
             ],
             [
              0.1111111111111111,
              "#46039f"
             ],
             [
              0.2222222222222222,
              "#7201a8"
             ],
             [
              0.3333333333333333,
              "#9c179e"
             ],
             [
              0.4444444444444444,
              "#bd3786"
             ],
             [
              0.5555555555555556,
              "#d8576b"
             ],
             [
              0.6666666666666666,
              "#ed7953"
             ],
             [
              0.7777777777777778,
              "#fb9f3a"
             ],
             [
              0.8888888888888888,
              "#fdca26"
             ],
             [
              1,
              "#f0f921"
             ]
            ],
            "type": "histogram2dcontour"
           }
          ],
          "mesh3d": [
           {
            "colorbar": {
             "outlinewidth": 0,
             "ticks": ""
            },
            "type": "mesh3d"
           }
          ],
          "parcoords": [
           {
            "line": {
             "colorbar": {
              "outlinewidth": 0,
              "ticks": ""
             }
            },
            "type": "parcoords"
           }
          ],
          "pie": [
           {
            "automargin": true,
            "type": "pie"
           }
          ],
          "scatter": [
           {
            "fillpattern": {
             "fillmode": "overlay",
             "size": 10,
             "solidity": 0.2
            },
            "marker": {
             "opacity": 0.8
            },
            "type": "scatter"
           }
          ],
          "scatter3d": [
           {
            "line": {
             "colorbar": {
              "outlinewidth": 0,
              "ticks": ""
             }
            },
            "marker": {
             "colorbar": {
              "outlinewidth": 0,
              "ticks": ""
             },
             "opacity": 0.8
            },
            "type": "scatter3d"
           }
          ],
          "scattercarpet": [
           {
            "marker": {
             "colorbar": {
              "outlinewidth": 0,
              "ticks": ""
             }
            },
            "type": "scattercarpet"
           }
          ],
          "scattergeo": [
           {
            "marker": {
             "colorbar": {
              "outlinewidth": 0,
              "ticks": ""
             }
            },
            "type": "scattergeo"
           }
          ],
          "scattergl": [
           {
            "marker": {
             "colorbar": {
              "outlinewidth": 0,
              "ticks": ""
             }
            },
            "type": "scattergl"
           }
          ],
          "scattermapbox": [
           {
            "marker": {
             "colorbar": {
              "outlinewidth": 0,
              "ticks": ""
             }
            },
            "type": "scattermapbox"
           }
          ],
          "scatterpolar": [
           {
            "marker": {
             "colorbar": {
              "outlinewidth": 0,
              "ticks": ""
             }
            },
            "type": "scatterpolar"
           }
          ],
          "scatterpolargl": [
           {
            "marker": {
             "colorbar": {
              "outlinewidth": 0,
              "ticks": ""
             }
            },
            "type": "scatterpolargl"
           }
          ],
          "scatterternary": [
           {
            "marker": {
             "colorbar": {
              "outlinewidth": 0,
              "ticks": ""
             }
            },
            "type": "scatterternary"
           }
          ],
          "surface": [
           {
            "colorbar": {
             "outlinewidth": 0,
             "ticks": ""
            },
            "colorscale": [
             [
              0,
              "#0d0887"
             ],
             [
              0.1111111111111111,
              "#46039f"
             ],
             [
              0.2222222222222222,
              "#7201a8"
             ],
             [
              0.3333333333333333,
              "#9c179e"
             ],
             [
              0.4444444444444444,
              "#bd3786"
             ],
             [
              0.5555555555555556,
              "#d8576b"
             ],
             [
              0.6666666666666666,
              "#ed7953"
             ],
             [
              0.7777777777777778,
              "#fb9f3a"
             ],
             [
              0.8888888888888888,
              "#fdca26"
             ],
             [
              1,
              "#f0f921"
             ]
            ],
            "type": "surface"
           }
          ],
          "table": [
           {
            "cells": {
             "fill": {
              "color": "#EBF0F8"
             },
             "line": {
              "color": "white"
             }
            },
            "header": {
             "fill": {
              "color": "#C8D4E3"
             },
             "line": {
              "color": "white"
             }
            },
            "type": "table"
           }
          ]
         },
         "layout": {
          "annotationdefaults": {
           "arrowcolor": "#2a3f5f",
           "arrowhead": 0,
           "arrowwidth": 1
          },
          "autotypenumbers": "strict",
          "coloraxis": {
           "colorbar": {
            "outlinewidth": 0,
            "ticks": ""
           }
          },
          "colorscale": {
           "diverging": [
            [
             0,
             "#8e0152"
            ],
            [
             0.1,
             "#c51b7d"
            ],
            [
             0.2,
             "#de77ae"
            ],
            [
             0.3,
             "#f1b6da"
            ],
            [
             0.4,
             "#fde0ef"
            ],
            [
             0.5,
             "#f7f7f7"
            ],
            [
             0.6,
             "#e6f5d0"
            ],
            [
             0.7,
             "#b8e186"
            ],
            [
             0.8,
             "#7fbc41"
            ],
            [
             0.9,
             "#4d9221"
            ],
            [
             1,
             "#276419"
            ]
           ],
           "sequential": [
            [
             0,
             "#0d0887"
            ],
            [
             0.1111111111111111,
             "#46039f"
            ],
            [
             0.2222222222222222,
             "#7201a8"
            ],
            [
             0.3333333333333333,
             "#9c179e"
            ],
            [
             0.4444444444444444,
             "#bd3786"
            ],
            [
             0.5555555555555556,
             "#d8576b"
            ],
            [
             0.6666666666666666,
             "#ed7953"
            ],
            [
             0.7777777777777778,
             "#fb9f3a"
            ],
            [
             0.8888888888888888,
             "#fdca26"
            ],
            [
             1,
             "#f0f921"
            ]
           ],
           "sequentialminus": [
            [
             0,
             "#0d0887"
            ],
            [
             0.1111111111111111,
             "#46039f"
            ],
            [
             0.2222222222222222,
             "#7201a8"
            ],
            [
             0.3333333333333333,
             "#9c179e"
            ],
            [
             0.4444444444444444,
             "#bd3786"
            ],
            [
             0.5555555555555556,
             "#d8576b"
            ],
            [
             0.6666666666666666,
             "#ed7953"
            ],
            [
             0.7777777777777778,
             "#fb9f3a"
            ],
            [
             0.8888888888888888,
             "#fdca26"
            ],
            [
             1,
             "#f0f921"
            ]
           ]
          },
          "colorway": [
           "#636efa",
           "#EF553B",
           "#00cc96",
           "#ab63fa",
           "#FFA15A",
           "#19d3f3",
           "#FF6692",
           "#B6E880",
           "#FF97FF",
           "#FECB52"
          ],
          "font": {
           "color": "#2a3f5f"
          },
          "geo": {
           "bgcolor": "white",
           "lakecolor": "white",
           "landcolor": "white",
           "showlakes": true,
           "showland": true,
           "subunitcolor": "#C8D4E3"
          },
          "height": 400,
          "hoverlabel": {
           "align": "left"
          },
          "hovermode": "closest",
          "mapbox": {
           "style": "light"
          },
          "margin": {
           "b": 2,
           "l": 2,
           "r": 2,
           "t": 30
          },
          "paper_bgcolor": "white",
          "plot_bgcolor": "white",
          "polar": {
           "angularaxis": {
            "gridcolor": "#EBF0F8",
            "linecolor": "#EBF0F8",
            "ticks": ""
           },
           "bgcolor": "white",
           "radialaxis": {
            "gridcolor": "#EBF0F8",
            "linecolor": "#EBF0F8",
            "ticks": ""
           }
          },
          "scene": {
           "camera": {
            "eye": {
             "x": 1.5,
             "y": 1.5,
             "z": 0.1
            }
           },
           "xaxis": {
            "backgroundcolor": "white",
            "gridcolor": "#DFE8F3",
            "gridwidth": 2,
            "linecolor": "#EBF0F8",
            "showbackground": true,
            "ticks": "",
            "zerolinecolor": "#EBF0F8"
           },
           "yaxis": {
            "backgroundcolor": "white",
            "gridcolor": "#DFE8F3",
            "gridwidth": 2,
            "linecolor": "#EBF0F8",
            "showbackground": true,
            "ticks": "",
            "zerolinecolor": "#EBF0F8"
           },
           "zaxis": {
            "backgroundcolor": "white",
            "gridcolor": "#DFE8F3",
            "gridwidth": 2,
            "linecolor": "#EBF0F8",
            "showbackground": true,
            "ticks": "",
            "zerolinecolor": "#EBF0F8"
           }
          },
          "shapedefaults": {
           "line": {
            "color": "#2a3f5f"
           }
          },
          "ternary": {
           "aaxis": {
            "gridcolor": "#DFE8F3",
            "linecolor": "#A2B1C6",
            "ticks": ""
           },
           "baxis": {
            "gridcolor": "#DFE8F3",
            "linecolor": "#A2B1C6",
            "ticks": ""
           },
           "bgcolor": "white",
           "caxis": {
            "gridcolor": "#DFE8F3",
            "linecolor": "#A2B1C6",
            "ticks": ""
           }
          },
          "title": {
           "x": 0.5
          },
          "xaxis": {
           "automargin": true,
           "gridcolor": "#EBF0F8",
           "linecolor": "#EBF0F8",
           "linewidth": 2,
           "showline": true,
           "ticks": "",
           "title": {
            "standoff": 15
           },
           "zerolinecolor": "#EBF0F8",
           "zerolinewidth": 2
          },
          "yaxis": {
           "automargin": true,
           "gridcolor": "#EBF0F8",
           "linecolor": "#EBF0F8",
           "linewidth": 2,
           "showline": true,
           "ticks": "",
           "title": {
            "standoff": 15
           },
           "zerolinecolor": "#EBF0F8",
           "zerolinewidth": 2
          }
         }
        },
        "title": {
         "text": "male"
        },
        "xaxis": {
         "anchor": "y",
         "domain": [
          0,
          1
         ],
         "title": {
          "text": "male"
         }
        },
        "yaxis": {
         "anchor": "x",
         "domain": [
          0,
          1
         ],
         "title": {
          "text": "core temperature"
         }
        }
       }
      }
     },
     "metadata": {},
     "output_type": "display_data"
    },
    {
     "name": "stdout",
     "output_type": "stream",
     "text": [
      "age\n",
      "R-squared: 0.2648116081342463\n"
     ]
    },
    {
     "data": {
      "application/vnd.plotly.v1+json": {
       "config": {
        "plotlyServerURL": "https://plot.ly"
       },
       "data": [
        {
         "hovertemplate": "age=%{x}<br>core temperature=%{y}<extra></extra>",
         "legendgroup": "",
         "marker": {
          "color": "#636efa",
          "size": 17,
          "symbol": "circle"
         },
         "mode": "markers",
         "name": "",
         "orientation": "v",
         "showlegend": false,
         "type": "scatter",
         "x": [
          6.9,
          5.4,
          5.4,
          4.8,
          4.8,
          7.8,
          2.7,
          5.7,
          1.5,
          1.8,
          4.2,
          4.5,
          1.5,
          5.1,
          4.8,
          5.1,
          3.6,
          4.2,
          2.7,
          8.7,
          0.9,
          6.3,
          1.2,
          2.7,
          6,
          6,
          0.6,
          3.9,
          6,
          5.7,
          6.9,
          5.1,
          2.1,
          3.6,
          6.3,
          2.4,
          8.4,
          7.5,
          5.7,
          5.7,
          2.7,
          4.2,
          6.9,
          3,
          1.8,
          2.4,
          6.3,
          0.6,
          1.8,
          4.8,
          8.4,
          8.1,
          6.3,
          8.7,
          4.5,
          4.5,
          7.5,
          1.2,
          5.7,
          0.6,
          6.9,
          8.1,
          0.6,
          1.2,
          6.6,
          8.1,
          2.7,
          3.9,
          4.2,
          6.9,
          1.2,
          3.9,
          3.6,
          0.3,
          3,
          8.7,
          2.1,
          6.6,
          1.5,
          5.1,
          6,
          2.1,
          6,
          4.2,
          1.5,
          1.8,
          1.8,
          6.9,
          6.9,
          4.5,
          1.8,
          8.4,
          3,
          4.5,
          1.8,
          6.6,
          6.9,
          6
         ],
         "xaxis": "x",
         "y": [
          38.42316895,
          39.01599822,
          39.14834088,
          39.06004863,
          38.65543905,
          38.6092188,
          39.47390806,
          38.81521612,
          37.77845286,
          39.17685034,
          39.52090819,
          38.57896943,
          38.28013391,
          38.40158039,
          38.65157641,
          39.61720308,
          37.72843549,
          39.36694049,
          37.98848685,
          39.93405104,
          37.60559023,
          38.83468198,
          37.39892664,
          38.98633063,
          39.72456882,
          38.09695504,
          37.59597881,
          39.49731323,
          38.50187636,
          38.27036031,
          38.69964224,
          39.08411118,
          38.29400364,
          38.39872285,
          39.29951536,
          38.37598649,
          38.46968433,
          39.58561173,
          38.12682317,
          39.80156649,
          37.92682179,
          39.67264697,
          38.21409556,
          38.93217418,
          37.80121676,
          37.52097889,
          39.34942824,
          38.9163822,
          38.72595498,
          38.35421436,
          40.17337876,
          39.48214424,
          39.9557292,
          39.02529641,
          39.70565695,
          37.87210056,
          38.92730588,
          38.75694066,
          38.98157028,
          39.07020183,
          39.31023381,
          40.26487847,
          39.19531025,
          37.46606804,
          38.61929591,
          39.74308443,
          37.9590829,
          38.52387016,
          39.58821189,
          39.48780846,
          37.32113362,
          38.30311301,
          39.32598796,
          38.18373964,
          37.78518905,
          38.97361387,
          37.97719515,
          38.92654301,
          37.98922316,
          39.87010492,
          38.51344083,
          39.14710639,
          38.61129304,
          38.95232638,
          37.46812464,
          38.24131363,
          38.7661591,
          39.87233432,
          38.87492299,
          39.09337261,
          39.00124171,
          39.25963687,
          38.6808734,
          37.93994229,
          38.79042609,
          39.48996228,
          38.57574159,
          39.76644658
         ],
         "yaxis": "y"
        }
       ],
       "layout": {
        "legend": {
         "tracegroupgap": 0
        },
        "shapes": [
         {
          "line": {
           "color": "rgb(228,26,28)"
          },
          "path": "M0.3 38.13386942215629 L 0.3422110552763819 38.140342047540194 L 0.38442211055276376 38.1468146729241 L 0.4266331658291457 38.15328729830801 L 0.4688442211055276 38.159759923691915 L 0.5110552763819095 38.16623254907582 L 0.5532663316582913 38.17270517445973 L 0.5954773869346732 38.179177799843636 L 0.6376884422110551 38.18565042522754 L 0.679899497487437 38.19212305061145 L 0.722110552763819 38.19859567599536 L 0.7643216080402009 38.205068301379264 L 0.8065326633165828 38.21154092676317 L 0.8487437185929647 38.21801355214708 L 0.8909547738693466 38.224486177530984 L 0.9331658291457285 38.23095880291489 L 0.9753768844221105 38.2374314282988 L 1.0175879396984924 38.243904053682705 L 1.0597989949748743 38.25037667906661 L 1.1020100502512562 38.25684930445052 L 1.1442211055276381 38.263321929834426 L 1.1864321608040198 38.26979455521833 L 1.2286432160804017 38.27626718060224 L 1.2708542713567836 38.28273980598615 L 1.3130653266331656 38.28921243137005 L 1.3552763819095475 38.29568505675396 L 1.3974874371859294 38.30215768213787 L 1.4396984924623113 38.308630307521774 L 1.4819095477386932 38.31510293290568 L 1.5241206030150751 38.32157555828959 L 1.566331658291457 38.328048183673495 L 1.608542713567839 38.3345208090574 L 1.6507537688442209 38.34099343444131 L 1.6929648241206028 38.347466059825216 L 1.7351758793969847 38.35393868520912 L 1.7773869346733666 38.36041131059303 L 1.8195979899497485 38.36688393597694 L 1.8618090452261304 38.37335656136084 L 1.9040201005025124 38.37982918674475 L 1.9462311557788943 38.38630181212866 L 1.9884422110552762 38.392774437512564 L 2.0306532663316577 38.39924706289647 L 2.07286432160804 38.40571968828038 L 2.1150753768844215 38.412192313664285 L 2.1572864321608036 38.41866493904819 L 2.1994974874371853 38.4251375644321 L 2.2417085427135675 38.431610189816006 L 2.283919597989949 38.43808281519991 L 2.326130653266331 38.44455544058382 L 2.368341708542713 38.451028065967726 L 2.4105527638190947 38.45750069135163 L 2.452763819095477 38.46397331673554 L 2.4949748743718585 38.47044594211945 L 2.5371859296482406 38.476918567503354 L 2.5793969849246223 38.48339119288726 L 2.6216080402010045 38.48986381827117 L 2.663819095477386 38.496336443655075 L 2.7060301507537683 38.50280906903898 L 2.74824120603015 38.50928169442289 L 2.790452261306532 38.515754319806796 L 2.832663316582914 38.5222269451907 L 2.874874371859296 38.52869957057461 L 2.9170854271356776 38.535172195958516 L 2.95929648241206 38.54164482134242 L 3.0015075376884415 38.54811744672633 L 3.043718592964823 38.55459007211024 L 3.0859296482412053 38.561062697494144 L 3.128140703517587 38.56753532287805 L 3.170351758793969 38.57400794826196 L 3.212562814070351 38.580480573645865 L 3.254773869346733 38.58695319902977 L 3.2969849246231147 38.59342582441368 L 3.339195979899497 38.599898449797585 L 3.3814070351758785 38.60637107518149 L 3.4236180904522606 38.6128437005654 L 3.4658291457286423 38.619316325949306 L 3.5080402010050244 38.62578895133321 L 3.550251256281406 38.63226157671712 L 3.5924623115577883 38.63873420210103 L 3.63467336683417 38.645206827484934 L 3.676884422110552 38.65167945286884 L 3.719095477386934 38.65815207825275 L 3.7613065326633155 38.664624703636655 L 3.8035175879396976 38.67109732902056 L 3.8457286432160793 38.67756995440447 L 3.8879396984924615 38.684042579788375 L 3.930150753768843 38.69051520517228 L 3.9723618090452253 38.69698783055619 L 4.014572864321607 38.703460455940096 L 4.056783919597989 38.709933081324 L 4.098994974874371 38.71640570670791 L 4.141206030150753 38.72287833209182 L 4.183417085427135 38.729350957475724 L 4.225628140703517 38.73582358285963 L 4.2678391959798985 38.74229620824354 L 4.31005025125628 38.748768833627445 L 4.352261306532662 38.75524145901135 L 4.394472361809044 38.76171408439526 L 4.436683417085426 38.768186709779165 L 4.478894472361808 38.77465933516307 L 4.5211055276381895 38.78113196054698 L 4.563316582914572 38.787604585930886 L 4.605527638190954 38.79407721131479 L 4.6477386934673355 38.8005498366987 L 4.689949748743717 38.80702246208261 L 4.7321608040201 38.813495087466514 L 4.7743718592964814 38.81996771285042 L 4.816582914572863 38.82644033823433 L 4.858793969849245 38.832912963618234 L 4.901005025125627 38.83938558900214 L 4.943216080402009 38.84585821438605 L 4.985427135678391 38.852330839769955 L 5.0276381909547725 38.85880346515386 L 5.069849246231154 38.86527609053777 L 5.112060301507537 38.871748715921676 L 5.1542713567839185 38.87822134130558 L 5.1964824120603 38.88469396668949 L 5.238693467336682 38.8911665920734 L 5.280904522613064 38.897639217457304 L 5.323115577889446 38.90411184284121 L 5.365326633165828 38.91058446822512 L 5.4075376884422095 38.917057093609024 L 5.449748743718592 38.92352971899293 L 5.491959798994974 38.93000234437684 L 5.5341708542713555 38.936474969760745 L 5.576381909547737 38.94294759514465 L 5.61859296482412 38.94942022052856 L 5.660804020100501 38.955892845912466 L 5.703015075376883 38.96236547129637 L 5.745226130653265 38.96883809668028 L 5.7874371859296465 38.97531072206419 L 5.829648241206029 38.98178334744809 L 5.871859296482411 38.988255972832 L 5.9140703517587925 38.99472859821591 L 5.956281407035174 39.001201223599814 L 5.998492462311557 39.00767384898372 L 6.040703517587938 39.01414647436763 L 6.08291457286432 39.020619099751535 L 6.125125628140702 39.02709172513544 L 6.167336683417084 39.03356435051935 L 6.209547738693466 39.040036975903256 L 6.251758793969848 39.04650960128716 L 6.2939698492462295 39.05298222667107 L 6.336180904522612 39.05945485205498 L 6.378391959798994 39.06592747743888 L 6.4206030150753755 39.07240010282279 L 6.462814070351757 39.0788727282067 L 6.505025125628139 39.085345353590604 L 6.547236180904521 39.09181797897451 L 6.589447236180903 39.09829060435842 L 6.631658291457285 39.104763229742325 L 6.6738693467336665 39.11123585512623 L 6.716080402010049 39.11770848051014 L 6.758291457286431 39.124181105894046 L 6.8005025125628125 39.13065373127795 L 6.842713567839194 39.13712635666186 L 6.884924623115577 39.143598982045766 L 6.927135678391958 39.15007160742967 L 6.96934673366834 39.15654423281358 L 7.011557788944722 39.16301685819749 L 7.053768844221104 39.169489483581394 L 7.095979899497486 39.1759621089653 L 7.138190954773868 39.18243473434921 L 7.1804020100502495 39.188907359733115 L 7.222613065326631 39.19537998511702 L 7.264824120603014 39.20185261050093 L 7.307035175879395 39.208325235884836 L 7.349246231155777 39.21479786126874 L 7.391457286432159 39.22127048665265 L 7.433668341708541 39.227743112036556 L 7.475879396984923 39.23421573742046 L 7.518090452261305 39.24068836280437 L 7.5603015075376865 39.24716098818828 L 7.602512562814069 39.253633613572184 L 7.644723618090451 39.26010623895609 L 7.6869346733668324 39.26657886434 L 7.729145728643214 39.273051489723905 L 7.771356783919596 39.27952411510781 L 7.813567839195978 39.28599674049172 L 7.85577889447236 39.292469365875625 L 7.897989949748742 39.29894199125953 L 7.9402010050251235 39.30541461664344 L 7.982412060301506 39.311887242027346 L 8.024623115577889 39.31835986741125 L 8.06683417085427 39.32483249279516 L 8.109045226130652 39.33130511817907 L 8.151256281407035 39.337777743562974 L 8.193467336683415 39.34425036894688 L 8.235678391959798 39.35072299433079 L 8.277889447236179 39.357195619714695 L 8.320100502512561 39.3636682450986 L 8.362311557788944 39.37014087048251 L 8.404522613065325 39.376613495866415 L 8.446733668341707 39.38308612125032 L 8.48894472361809 39.38955874663423 L 8.53115577889447 39.396031372018136 L 8.573366834170853 39.40250399740204 L 8.615577889447236 39.40897662278595 L 8.657788944723617 39.41544924816986 L 8.7 39.421921873553764",
          "type": "path"
         }
        ],
        "template": {
         "data": {
          "bar": [
           {
            "error_x": {
             "color": "#2a3f5f"
            },
            "error_y": {
             "color": "#2a3f5f"
            },
            "marker": {
             "line": {
              "color": "white",
              "width": 0.5
             },
             "pattern": {
              "fillmode": "overlay",
              "size": 10,
              "solidity": 0.2
             }
            },
            "type": "bar"
           }
          ],
          "barpolar": [
           {
            "marker": {
             "line": {
              "color": "white",
              "width": 0.5
             },
             "pattern": {
              "fillmode": "overlay",
              "size": 10,
              "solidity": 0.2
             }
            },
            "type": "barpolar"
           }
          ],
          "box": [
           {
            "boxpoints": "outliers",
            "notched": false,
            "type": "box"
           }
          ],
          "carpet": [
           {
            "aaxis": {
             "endlinecolor": "#2a3f5f",
             "gridcolor": "#C8D4E3",
             "linecolor": "#C8D4E3",
             "minorgridcolor": "#C8D4E3",
             "startlinecolor": "#2a3f5f"
            },
            "baxis": {
             "endlinecolor": "#2a3f5f",
             "gridcolor": "#C8D4E3",
             "linecolor": "#C8D4E3",
             "minorgridcolor": "#C8D4E3",
             "startlinecolor": "#2a3f5f"
            },
            "type": "carpet"
           }
          ],
          "choropleth": [
           {
            "colorbar": {
             "outlinewidth": 0,
             "ticks": ""
            },
            "type": "choropleth"
           }
          ],
          "contour": [
           {
            "colorbar": {
             "outlinewidth": 0,
             "ticks": ""
            },
            "colorscale": [
             [
              0,
              "#0d0887"
             ],
             [
              0.1111111111111111,
              "#46039f"
             ],
             [
              0.2222222222222222,
              "#7201a8"
             ],
             [
              0.3333333333333333,
              "#9c179e"
             ],
             [
              0.4444444444444444,
              "#bd3786"
             ],
             [
              0.5555555555555556,
              "#d8576b"
             ],
             [
              0.6666666666666666,
              "#ed7953"
             ],
             [
              0.7777777777777778,
              "#fb9f3a"
             ],
             [
              0.8888888888888888,
              "#fdca26"
             ],
             [
              1,
              "#f0f921"
             ]
            ],
            "type": "contour"
           }
          ],
          "contourcarpet": [
           {
            "colorbar": {
             "outlinewidth": 0,
             "ticks": ""
            },
            "type": "contourcarpet"
           }
          ],
          "heatmap": [
           {
            "colorbar": {
             "outlinewidth": 0,
             "ticks": ""
            },
            "colorscale": [
             [
              0,
              "#0d0887"
             ],
             [
              0.1111111111111111,
              "#46039f"
             ],
             [
              0.2222222222222222,
              "#7201a8"
             ],
             [
              0.3333333333333333,
              "#9c179e"
             ],
             [
              0.4444444444444444,
              "#bd3786"
             ],
             [
              0.5555555555555556,
              "#d8576b"
             ],
             [
              0.6666666666666666,
              "#ed7953"
             ],
             [
              0.7777777777777778,
              "#fb9f3a"
             ],
             [
              0.8888888888888888,
              "#fdca26"
             ],
             [
              1,
              "#f0f921"
             ]
            ],
            "type": "heatmap"
           }
          ],
          "heatmapgl": [
           {
            "colorbar": {
             "outlinewidth": 0,
             "ticks": ""
            },
            "colorscale": [
             [
              0,
              "#0d0887"
             ],
             [
              0.1111111111111111,
              "#46039f"
             ],
             [
              0.2222222222222222,
              "#7201a8"
             ],
             [
              0.3333333333333333,
              "#9c179e"
             ],
             [
              0.4444444444444444,
              "#bd3786"
             ],
             [
              0.5555555555555556,
              "#d8576b"
             ],
             [
              0.6666666666666666,
              "#ed7953"
             ],
             [
              0.7777777777777778,
              "#fb9f3a"
             ],
             [
              0.8888888888888888,
              "#fdca26"
             ],
             [
              1,
              "#f0f921"
             ]
            ],
            "type": "heatmapgl"
           }
          ],
          "histogram": [
           {
            "marker": {
             "line": {
              "width": 1
             },
             "pattern": {
              "fillmode": "overlay",
              "size": 10,
              "solidity": 0.2
             }
            },
            "type": "histogram"
           }
          ],
          "histogram2d": [
           {
            "colorbar": {
             "outlinewidth": 0,
             "ticks": ""
            },
            "colorscale": [
             [
              0,
              "#0d0887"
             ],
             [
              0.1111111111111111,
              "#46039f"
             ],
             [
              0.2222222222222222,
              "#7201a8"
             ],
             [
              0.3333333333333333,
              "#9c179e"
             ],
             [
              0.4444444444444444,
              "#bd3786"
             ],
             [
              0.5555555555555556,
              "#d8576b"
             ],
             [
              0.6666666666666666,
              "#ed7953"
             ],
             [
              0.7777777777777778,
              "#fb9f3a"
             ],
             [
              0.8888888888888888,
              "#fdca26"
             ],
             [
              1,
              "#f0f921"
             ]
            ],
            "type": "histogram2d"
           }
          ],
          "histogram2dcontour": [
           {
            "colorbar": {
             "outlinewidth": 0,
             "ticks": ""
            },
            "colorscale": [
             [
              0,
              "#0d0887"
             ],
             [
              0.1111111111111111,
              "#46039f"
             ],
             [
              0.2222222222222222,
              "#7201a8"
             ],
             [
              0.3333333333333333,
              "#9c179e"
             ],
             [
              0.4444444444444444,
              "#bd3786"
             ],
             [
              0.5555555555555556,
              "#d8576b"
             ],
             [
              0.6666666666666666,
              "#ed7953"
             ],
             [
              0.7777777777777778,
              "#fb9f3a"
             ],
             [
              0.8888888888888888,
              "#fdca26"
             ],
             [
              1,
              "#f0f921"
             ]
            ],
            "type": "histogram2dcontour"
           }
          ],
          "mesh3d": [
           {
            "colorbar": {
             "outlinewidth": 0,
             "ticks": ""
            },
            "type": "mesh3d"
           }
          ],
          "parcoords": [
           {
            "line": {
             "colorbar": {
              "outlinewidth": 0,
              "ticks": ""
             }
            },
            "type": "parcoords"
           }
          ],
          "pie": [
           {
            "automargin": true,
            "type": "pie"
           }
          ],
          "scatter": [
           {
            "fillpattern": {
             "fillmode": "overlay",
             "size": 10,
             "solidity": 0.2
            },
            "marker": {
             "opacity": 0.8
            },
            "type": "scatter"
           }
          ],
          "scatter3d": [
           {
            "line": {
             "colorbar": {
              "outlinewidth": 0,
              "ticks": ""
             }
            },
            "marker": {
             "colorbar": {
              "outlinewidth": 0,
              "ticks": ""
             },
             "opacity": 0.8
            },
            "type": "scatter3d"
           }
          ],
          "scattercarpet": [
           {
            "marker": {
             "colorbar": {
              "outlinewidth": 0,
              "ticks": ""
             }
            },
            "type": "scattercarpet"
           }
          ],
          "scattergeo": [
           {
            "marker": {
             "colorbar": {
              "outlinewidth": 0,
              "ticks": ""
             }
            },
            "type": "scattergeo"
           }
          ],
          "scattergl": [
           {
            "marker": {
             "colorbar": {
              "outlinewidth": 0,
              "ticks": ""
             }
            },
            "type": "scattergl"
           }
          ],
          "scattermapbox": [
           {
            "marker": {
             "colorbar": {
              "outlinewidth": 0,
              "ticks": ""
             }
            },
            "type": "scattermapbox"
           }
          ],
          "scatterpolar": [
           {
            "marker": {
             "colorbar": {
              "outlinewidth": 0,
              "ticks": ""
             }
            },
            "type": "scatterpolar"
           }
          ],
          "scatterpolargl": [
           {
            "marker": {
             "colorbar": {
              "outlinewidth": 0,
              "ticks": ""
             }
            },
            "type": "scatterpolargl"
           }
          ],
          "scatterternary": [
           {
            "marker": {
             "colorbar": {
              "outlinewidth": 0,
              "ticks": ""
             }
            },
            "type": "scatterternary"
           }
          ],
          "surface": [
           {
            "colorbar": {
             "outlinewidth": 0,
             "ticks": ""
            },
            "colorscale": [
             [
              0,
              "#0d0887"
             ],
             [
              0.1111111111111111,
              "#46039f"
             ],
             [
              0.2222222222222222,
              "#7201a8"
             ],
             [
              0.3333333333333333,
              "#9c179e"
             ],
             [
              0.4444444444444444,
              "#bd3786"
             ],
             [
              0.5555555555555556,
              "#d8576b"
             ],
             [
              0.6666666666666666,
              "#ed7953"
             ],
             [
              0.7777777777777778,
              "#fb9f3a"
             ],
             [
              0.8888888888888888,
              "#fdca26"
             ],
             [
              1,
              "#f0f921"
             ]
            ],
            "type": "surface"
           }
          ],
          "table": [
           {
            "cells": {
             "fill": {
              "color": "#EBF0F8"
             },
             "line": {
              "color": "white"
             }
            },
            "header": {
             "fill": {
              "color": "#C8D4E3"
             },
             "line": {
              "color": "white"
             }
            },
            "type": "table"
           }
          ]
         },
         "layout": {
          "annotationdefaults": {
           "arrowcolor": "#2a3f5f",
           "arrowhead": 0,
           "arrowwidth": 1
          },
          "autotypenumbers": "strict",
          "coloraxis": {
           "colorbar": {
            "outlinewidth": 0,
            "ticks": ""
           }
          },
          "colorscale": {
           "diverging": [
            [
             0,
             "#8e0152"
            ],
            [
             0.1,
             "#c51b7d"
            ],
            [
             0.2,
             "#de77ae"
            ],
            [
             0.3,
             "#f1b6da"
            ],
            [
             0.4,
             "#fde0ef"
            ],
            [
             0.5,
             "#f7f7f7"
            ],
            [
             0.6,
             "#e6f5d0"
            ],
            [
             0.7,
             "#b8e186"
            ],
            [
             0.8,
             "#7fbc41"
            ],
            [
             0.9,
             "#4d9221"
            ],
            [
             1,
             "#276419"
            ]
           ],
           "sequential": [
            [
             0,
             "#0d0887"
            ],
            [
             0.1111111111111111,
             "#46039f"
            ],
            [
             0.2222222222222222,
             "#7201a8"
            ],
            [
             0.3333333333333333,
             "#9c179e"
            ],
            [
             0.4444444444444444,
             "#bd3786"
            ],
            [
             0.5555555555555556,
             "#d8576b"
            ],
            [
             0.6666666666666666,
             "#ed7953"
            ],
            [
             0.7777777777777778,
             "#fb9f3a"
            ],
            [
             0.8888888888888888,
             "#fdca26"
            ],
            [
             1,
             "#f0f921"
            ]
           ],
           "sequentialminus": [
            [
             0,
             "#0d0887"
            ],
            [
             0.1111111111111111,
             "#46039f"
            ],
            [
             0.2222222222222222,
             "#7201a8"
            ],
            [
             0.3333333333333333,
             "#9c179e"
            ],
            [
             0.4444444444444444,
             "#bd3786"
            ],
            [
             0.5555555555555556,
             "#d8576b"
            ],
            [
             0.6666666666666666,
             "#ed7953"
            ],
            [
             0.7777777777777778,
             "#fb9f3a"
            ],
            [
             0.8888888888888888,
             "#fdca26"
            ],
            [
             1,
             "#f0f921"
            ]
           ]
          },
          "colorway": [
           "#636efa",
           "#EF553B",
           "#00cc96",
           "#ab63fa",
           "#FFA15A",
           "#19d3f3",
           "#FF6692",
           "#B6E880",
           "#FF97FF",
           "#FECB52"
          ],
          "font": {
           "color": "#2a3f5f"
          },
          "geo": {
           "bgcolor": "white",
           "lakecolor": "white",
           "landcolor": "white",
           "showlakes": true,
           "showland": true,
           "subunitcolor": "#C8D4E3"
          },
          "height": 400,
          "hoverlabel": {
           "align": "left"
          },
          "hovermode": "closest",
          "mapbox": {
           "style": "light"
          },
          "margin": {
           "b": 2,
           "l": 2,
           "r": 2,
           "t": 30
          },
          "paper_bgcolor": "white",
          "plot_bgcolor": "white",
          "polar": {
           "angularaxis": {
            "gridcolor": "#EBF0F8",
            "linecolor": "#EBF0F8",
            "ticks": ""
           },
           "bgcolor": "white",
           "radialaxis": {
            "gridcolor": "#EBF0F8",
            "linecolor": "#EBF0F8",
            "ticks": ""
           }
          },
          "scene": {
           "camera": {
            "eye": {
             "x": 1.5,
             "y": 1.5,
             "z": 0.1
            }
           },
           "xaxis": {
            "backgroundcolor": "white",
            "gridcolor": "#DFE8F3",
            "gridwidth": 2,
            "linecolor": "#EBF0F8",
            "showbackground": true,
            "ticks": "",
            "zerolinecolor": "#EBF0F8"
           },
           "yaxis": {
            "backgroundcolor": "white",
            "gridcolor": "#DFE8F3",
            "gridwidth": 2,
            "linecolor": "#EBF0F8",
            "showbackground": true,
            "ticks": "",
            "zerolinecolor": "#EBF0F8"
           },
           "zaxis": {
            "backgroundcolor": "white",
            "gridcolor": "#DFE8F3",
            "gridwidth": 2,
            "linecolor": "#EBF0F8",
            "showbackground": true,
            "ticks": "",
            "zerolinecolor": "#EBF0F8"
           }
          },
          "shapedefaults": {
           "line": {
            "color": "#2a3f5f"
           }
          },
          "ternary": {
           "aaxis": {
            "gridcolor": "#DFE8F3",
            "linecolor": "#A2B1C6",
            "ticks": ""
           },
           "baxis": {
            "gridcolor": "#DFE8F3",
            "linecolor": "#A2B1C6",
            "ticks": ""
           },
           "bgcolor": "white",
           "caxis": {
            "gridcolor": "#DFE8F3",
            "linecolor": "#A2B1C6",
            "ticks": ""
           }
          },
          "title": {
           "x": 0.5
          },
          "xaxis": {
           "automargin": true,
           "gridcolor": "#EBF0F8",
           "linecolor": "#EBF0F8",
           "linewidth": 2,
           "showline": true,
           "ticks": "",
           "title": {
            "standoff": 15
           },
           "zerolinecolor": "#EBF0F8",
           "zerolinewidth": 2
          },
          "yaxis": {
           "automargin": true,
           "gridcolor": "#EBF0F8",
           "linecolor": "#EBF0F8",
           "linewidth": 2,
           "showline": true,
           "ticks": "",
           "title": {
            "standoff": 15
           },
           "zerolinecolor": "#EBF0F8",
           "zerolinewidth": 2
          }
         }
        },
        "title": {
         "text": "age"
        },
        "xaxis": {
         "anchor": "y",
         "domain": [
          0,
          1
         ],
         "title": {
          "text": "age"
         }
        },
        "yaxis": {
         "anchor": "x",
         "domain": [
          0,
          1
         ],
         "title": {
          "text": "core temperature"
         }
        }
       }
      }
     },
     "metadata": {},
     "output_type": "display_data"
    },
    {
     "name": "stdout",
     "output_type": "stream",
     "text": [
      "protein_content_of_last_meal\n",
      "R-squared: 0.9155158150005704\n"
     ]
    },
    {
     "data": {
      "application/vnd.plotly.v1+json": {
       "config": {
        "plotlyServerURL": "https://plot.ly"
       },
       "data": [
        {
         "hovertemplate": "protein content of last meal=%{x}<br>core temperature=%{y}<extra></extra>",
         "legendgroup": "",
         "marker": {
          "color": "#636efa",
          "size": 17,
          "symbol": "circle"
         },
         "mode": "markers",
         "name": "",
         "orientation": "v",
         "showlegend": false,
         "type": "scatter",
         "x": [
          7.66,
          13.36,
          12.9,
          13.45,
          10.53,
          11.17,
          16,
          10.3,
          5.71,
          15.38,
          18.47,
          8.52,
          7.36,
          7.78,
          10.76,
          19.94,
          5.86,
          17.56,
          8.14,
          22.18,
          4.43,
          12.29,
          4.83,
          13.68,
          18.52,
          7.12,
          6.99,
          17.39,
          10.6,
          9.03,
          9.54,
          13.29,
          8.79,
          7.72,
          15.43,
          7.17,
          8.9,
          19.72,
          8.47,
          21.73,
          5.95,
          19.16,
          7.28,
          11.57,
          7.62,
          5.33,
          15.95,
          13.04,
          11.96,
          8.96,
          24.89,
          17.45,
          23.65,
          11.9,
          20.52,
          6.76,
          11.71,
          11.51,
          11.76,
          13.78,
          16.51,
          26.61,
          14.84,
          4.99,
          9.98,
          19.91,
          6.5,
          8.2,
          18.86,
          16.26,
          3.93,
          7.66,
          14.68,
          6.4,
          5.31,
          13.52,
          7.9,
          10.86,
          7.91,
          21.93,
          9.51,
          12.79,
          9.64,
          13.31,
          6.45,
          9.44,
          10.04,
          22.78,
          11.12,
          13.99,
          14.22,
          15.06,
          10,
          7.35,
          12.18,
          15.84,
          9.79,
          21.3
         ],
         "xaxis": "x",
         "y": [
          38.42316895,
          39.01599822,
          39.14834088,
          39.06004863,
          38.65543905,
          38.6092188,
          39.47390806,
          38.81521612,
          37.77845286,
          39.17685034,
          39.52090819,
          38.57896943,
          38.28013391,
          38.40158039,
          38.65157641,
          39.61720308,
          37.72843549,
          39.36694049,
          37.98848685,
          39.93405104,
          37.60559023,
          38.83468198,
          37.39892664,
          38.98633063,
          39.72456882,
          38.09695504,
          37.59597881,
          39.49731323,
          38.50187636,
          38.27036031,
          38.69964224,
          39.08411118,
          38.29400364,
          38.39872285,
          39.29951536,
          38.37598649,
          38.46968433,
          39.58561173,
          38.12682317,
          39.80156649,
          37.92682179,
          39.67264697,
          38.21409556,
          38.93217418,
          37.80121676,
          37.52097889,
          39.34942824,
          38.9163822,
          38.72595498,
          38.35421436,
          40.17337876,
          39.48214424,
          39.9557292,
          39.02529641,
          39.70565695,
          37.87210056,
          38.92730588,
          38.75694066,
          38.98157028,
          39.07020183,
          39.31023381,
          40.26487847,
          39.19531025,
          37.46606804,
          38.61929591,
          39.74308443,
          37.9590829,
          38.52387016,
          39.58821189,
          39.48780846,
          37.32113362,
          38.30311301,
          39.32598796,
          38.18373964,
          37.78518905,
          38.97361387,
          37.97719515,
          38.92654301,
          37.98922316,
          39.87010492,
          38.51344083,
          39.14710639,
          38.61129304,
          38.95232638,
          37.46812464,
          38.24131363,
          38.7661591,
          39.87233432,
          38.87492299,
          39.09337261,
          39.00124171,
          39.25963687,
          38.6808734,
          37.93994229,
          38.79042609,
          39.48996228,
          38.57574159,
          39.76644658
         ],
         "yaxis": "y"
        }
       ],
       "layout": {
        "legend": {
         "tracegroupgap": 0
        },
        "shapes": [
         {
          "line": {
           "color": "rgb(228,26,28)"
          },
          "path": "M3.93 37.7136142892452 L 4.043969849246231 37.728236791121105 L 4.157939698492463 37.74285929299702 L 4.2719095477386935 37.75748179487293 L 4.385879396984925 37.77210429674884 L 4.499849246231156 37.78672679862475 L 4.613819095477387 37.80134930050066 L 4.727788944723619 37.81597180237657 L 4.841758793969849 37.830594304252486 L 4.95572864321608 37.8452168061284 L 5.069698492462312 37.859839308004304 L 5.183668341708543 37.874461809880216 L 5.297638190954774 37.88908431175613 L 5.411608040201005 37.90370681363204 L 5.525577889447236 37.91832931550795 L 5.639547738693468 37.93295181738386 L 5.753517587939699 37.94757431925977 L 5.86748743718593 37.962196821135684 L 5.9814572864321605 37.9768193230116 L 6.095427135678392 37.9914418248875 L 6.2093969849246236 38.006064326763415 L 6.323366834170855 38.02068682863933 L 6.437336683417086 38.03530933051524 L 6.551306532663316 38.049931832391145 L 6.665276381909548 38.06455433426706 L 6.7792462311557795 38.07917683614297 L 6.89321608040201 38.09379933801888 L 7.007185929648241 38.108421839894795 L 7.121155778894472 38.1230443417707 L 7.235125628140704 38.13766684364661 L 7.3490954773869355 38.152289345522526 L 7.463065326633166 38.16691184739844 L 7.577035175879397 38.181534349274344 L 7.691005025125628 38.196156851150256 L 7.80497487437186 38.21077935302617 L 7.9189447236180905 38.22540185490208 L 8.032914572864321 38.240024356777994 L 8.146884422110553 38.2546468586539 L 8.260854271356784 38.26926936052981 L 8.374824120603016 38.283891862405724 L 8.488793969849246 38.29851436428164 L 8.602763819095477 38.31313686615755 L 8.716733668341709 38.327759368033455 L 8.83070351758794 38.34238186990937 L 8.944673366834172 38.35700437178528 L 9.058643216080402 38.37162687366119 L 9.172613065326633 38.3862493755371 L 9.286582914572865 38.40087187741301 L 9.400552763819096 38.41549437928892 L 9.514522613065328 38.430116881164835 L 9.628492462311558 38.44473938304074 L 9.742462311557789 38.45936188491665 L 9.85643216080402 38.473984386792566 L 9.970402010050252 38.48860688866848 L 10.084371859296482 38.50322939054439 L 10.198341708542713 38.517851892420296 L 10.312311557788945 38.53247439429621 L 10.426281407035177 38.54709689617212 L 10.540251256281408 38.561719398048034 L 10.654221105527638 38.576341899923946 L 10.76819095477387 38.59096440179985 L 10.882160804020101 38.605586903675764 L 10.996130653266333 38.62020940555168 L 11.110100502512562 38.63483190742759 L 11.224070351758794 38.649454409303495 L 11.338040201005025 38.66407691117941 L 11.452010050251257 38.67869941305532 L 11.565979899497489 38.69332191493123 L 11.679949748743718 38.70794441680714 L 11.79391959798995 38.72256691868305 L 11.907889447236181 38.73718942055896 L 12.021859296482411 38.751811922434875 L 12.135829145728643 38.76643442431079 L 12.249798994974874 38.78105692618669 L 12.363768844221106 38.795679428062606 L 12.477738693467337 38.81030192993852 L 12.591708542713567 38.82492443181443 L 12.705678391959799 38.83954693369034 L 12.81964824120603 38.85416943556625 L 12.933618090452262 38.86879193744216 L 13.047587939698492 38.883414439318074 L 13.161557788944723 38.898036941193986 L 13.275527638190955 38.91265944306989 L 13.389497487437186 38.927281944945804 L 13.503467336683418 38.94190444682172 L 13.617437185929647 38.95652694869763 L 13.731407035175879 38.971149450573535 L 13.84537688442211 38.98577195244945 L 13.959346733668342 39.00039445432536 L 14.073316582914574 39.01501695620127 L 14.187286432160803 39.029639458077185 L 14.301256281407035 39.04426195995309 L 14.415226130653267 39.058884461829 L 14.529195979899498 39.073506963704915 L 14.643165829145728 39.08812946558083 L 14.75713567839196 39.10275196745674 L 14.871105527638191 39.117374469332646 L 14.985075376884422 39.13199697120856 L 15.099045226130654 39.14661947308447 L 15.213015075376884 39.16124197496038 L 15.326984924623115 39.17586447683629 L 15.440954773869347 39.1904869787122 L 15.554924623115578 39.20510948058811 L 15.668894472361808 39.219731982464026 L 15.78286432160804 39.23435448433993 L 15.896834170854271 39.248976986215844 L 16.010804020100505 39.26359948809176 L 16.124773869346736 39.27822198996767 L 16.238743718592964 39.29284449184358 L 16.352713567839196 39.30746699371949 L 16.466683417085427 39.3220894955954 L 16.58065326633166 39.33671199747131 L 16.69462311557789 39.351334499347224 L 16.808592964824122 39.36595700122314 L 16.922562814070353 39.38057950309904 L 17.036532663316585 39.395202004974955 L 17.150502512562817 39.40982450685087 L 17.264472361809045 39.42444700872678 L 17.378442211055276 39.439069510602685 L 17.492412060301508 39.4536920124786 L 17.60638190954774 39.46831451435451 L 17.72035175879397 39.48293701623042 L 17.834321608040202 39.49755951810633 L 17.948291457286434 39.51218201998224 L 18.062261306532665 39.52680452185815 L 18.176231155778897 39.541427023734066 L 18.290201005025125 39.55604952560998 L 18.404170854271356 39.570672027485884 L 18.518140703517588 39.585294529361796 L 18.63211055276382 39.59991703123771 L 18.74608040201005 39.61453953311362 L 18.860050251256283 39.629162034989534 L 18.974020100502514 39.64378453686544 L 19.087989949748746 39.65840703874135 L 19.201959798994977 39.673029540617264 L 19.315929648241205 39.68765204249318 L 19.429899497487437 39.70227454436908 L 19.54386934673367 39.716897046244995 L 19.6578391959799 39.73151954812091 L 19.77180904522613 39.74614204999682 L 19.885778894472363 39.760764551872725 L 19.999748743718595 39.77538705374864 L 20.113718592964823 39.79000955562455 L 20.227688442211054 39.80463205750046 L 20.341658291457286 39.819254559376375 L 20.455628140703517 39.83387706125228 L 20.56959798994975 39.84849956312819 L 20.68356783919598 39.863122065004106 L 20.797537688442212 39.87774456688002 L 20.911507537688443 39.89236706875593 L 21.025477386934675 39.906989570631836 L 21.139447236180903 39.92161207250775 L 21.253417085427134 39.93623457438366 L 21.367386934673366 39.950857076259574 L 21.481356783919598 39.96547957813548 L 21.59532663316583 39.98010208001139 L 21.70929648241206 39.994724581887304 L 21.823266331658292 40.00934708376322 L 21.937236180904524 40.02396958563912 L 22.051206030150755 40.038592087515035 L 22.165175879396983 40.05321458939095 L 22.279145728643215 40.06783709126686 L 22.393115577889446 40.08245959314277 L 22.507085427135678 40.09708209501868 L 22.62105527638191 40.11170459689459 L 22.73502512562814 40.1263270987705 L 22.848994974874373 40.140949600646415 L 22.962964824120604 40.15557210252233 L 23.076934673366836 40.17019460439823 L 23.190904522613067 40.184817106274146 L 23.304874371859295 40.19943960815006 L 23.418844221105527 40.21406211002597 L 23.53281407035176 40.228684611901876 L 23.64678391959799 40.24330711377779 L 23.76075376884422 40.2579296156537 L 23.874723618090453 40.272552117529614 L 23.988693467336685 40.28717461940552 L 24.102663316582916 40.30179712128143 L 24.216633165829148 40.316419623157344 L 24.330603015075376 40.33104212503326 L 24.444572864321607 40.34566462690917 L 24.55854271356784 40.360287128785075 L 24.67251256281407 40.37490963066099 L 24.786482412060302 40.3895321325369 L 24.900452261306533 40.40415463441281 L 25.014422110552765 40.418777136288725 L 25.128391959798996 40.43339963816463 L 25.242361809045228 40.44802214004054 L 25.356331658291456 40.462644641916455 L 25.470301507537688 40.47726714379237 L 25.58427135678392 40.49188964566827 L 25.69824120603015 40.506512147544186 L 25.812211055276382 40.5211346494201 L 25.926180904522614 40.53575715129601 L 26.040150753768845 40.550379653171916 L 26.154120603015077 40.56500215504783 L 26.26809045226131 40.57962465692374 L 26.382060301507536 40.594247158799654 L 26.496030150753768 40.608869660675566 L 26.61 40.62349216255147",
          "type": "path"
         }
        ],
        "template": {
         "data": {
          "bar": [
           {
            "error_x": {
             "color": "#2a3f5f"
            },
            "error_y": {
             "color": "#2a3f5f"
            },
            "marker": {
             "line": {
              "color": "white",
              "width": 0.5
             },
             "pattern": {
              "fillmode": "overlay",
              "size": 10,
              "solidity": 0.2
             }
            },
            "type": "bar"
           }
          ],
          "barpolar": [
           {
            "marker": {
             "line": {
              "color": "white",
              "width": 0.5
             },
             "pattern": {
              "fillmode": "overlay",
              "size": 10,
              "solidity": 0.2
             }
            },
            "type": "barpolar"
           }
          ],
          "box": [
           {
            "boxpoints": "outliers",
            "notched": false,
            "type": "box"
           }
          ],
          "carpet": [
           {
            "aaxis": {
             "endlinecolor": "#2a3f5f",
             "gridcolor": "#C8D4E3",
             "linecolor": "#C8D4E3",
             "minorgridcolor": "#C8D4E3",
             "startlinecolor": "#2a3f5f"
            },
            "baxis": {
             "endlinecolor": "#2a3f5f",
             "gridcolor": "#C8D4E3",
             "linecolor": "#C8D4E3",
             "minorgridcolor": "#C8D4E3",
             "startlinecolor": "#2a3f5f"
            },
            "type": "carpet"
           }
          ],
          "choropleth": [
           {
            "colorbar": {
             "outlinewidth": 0,
             "ticks": ""
            },
            "type": "choropleth"
           }
          ],
          "contour": [
           {
            "colorbar": {
             "outlinewidth": 0,
             "ticks": ""
            },
            "colorscale": [
             [
              0,
              "#0d0887"
             ],
             [
              0.1111111111111111,
              "#46039f"
             ],
             [
              0.2222222222222222,
              "#7201a8"
             ],
             [
              0.3333333333333333,
              "#9c179e"
             ],
             [
              0.4444444444444444,
              "#bd3786"
             ],
             [
              0.5555555555555556,
              "#d8576b"
             ],
             [
              0.6666666666666666,
              "#ed7953"
             ],
             [
              0.7777777777777778,
              "#fb9f3a"
             ],
             [
              0.8888888888888888,
              "#fdca26"
             ],
             [
              1,
              "#f0f921"
             ]
            ],
            "type": "contour"
           }
          ],
          "contourcarpet": [
           {
            "colorbar": {
             "outlinewidth": 0,
             "ticks": ""
            },
            "type": "contourcarpet"
           }
          ],
          "heatmap": [
           {
            "colorbar": {
             "outlinewidth": 0,
             "ticks": ""
            },
            "colorscale": [
             [
              0,
              "#0d0887"
             ],
             [
              0.1111111111111111,
              "#46039f"
             ],
             [
              0.2222222222222222,
              "#7201a8"
             ],
             [
              0.3333333333333333,
              "#9c179e"
             ],
             [
              0.4444444444444444,
              "#bd3786"
             ],
             [
              0.5555555555555556,
              "#d8576b"
             ],
             [
              0.6666666666666666,
              "#ed7953"
             ],
             [
              0.7777777777777778,
              "#fb9f3a"
             ],
             [
              0.8888888888888888,
              "#fdca26"
             ],
             [
              1,
              "#f0f921"
             ]
            ],
            "type": "heatmap"
           }
          ],
          "heatmapgl": [
           {
            "colorbar": {
             "outlinewidth": 0,
             "ticks": ""
            },
            "colorscale": [
             [
              0,
              "#0d0887"
             ],
             [
              0.1111111111111111,
              "#46039f"
             ],
             [
              0.2222222222222222,
              "#7201a8"
             ],
             [
              0.3333333333333333,
              "#9c179e"
             ],
             [
              0.4444444444444444,
              "#bd3786"
             ],
             [
              0.5555555555555556,
              "#d8576b"
             ],
             [
              0.6666666666666666,
              "#ed7953"
             ],
             [
              0.7777777777777778,
              "#fb9f3a"
             ],
             [
              0.8888888888888888,
              "#fdca26"
             ],
             [
              1,
              "#f0f921"
             ]
            ],
            "type": "heatmapgl"
           }
          ],
          "histogram": [
           {
            "marker": {
             "line": {
              "width": 1
             },
             "pattern": {
              "fillmode": "overlay",
              "size": 10,
              "solidity": 0.2
             }
            },
            "type": "histogram"
           }
          ],
          "histogram2d": [
           {
            "colorbar": {
             "outlinewidth": 0,
             "ticks": ""
            },
            "colorscale": [
             [
              0,
              "#0d0887"
             ],
             [
              0.1111111111111111,
              "#46039f"
             ],
             [
              0.2222222222222222,
              "#7201a8"
             ],
             [
              0.3333333333333333,
              "#9c179e"
             ],
             [
              0.4444444444444444,
              "#bd3786"
             ],
             [
              0.5555555555555556,
              "#d8576b"
             ],
             [
              0.6666666666666666,
              "#ed7953"
             ],
             [
              0.7777777777777778,
              "#fb9f3a"
             ],
             [
              0.8888888888888888,
              "#fdca26"
             ],
             [
              1,
              "#f0f921"
             ]
            ],
            "type": "histogram2d"
           }
          ],
          "histogram2dcontour": [
           {
            "colorbar": {
             "outlinewidth": 0,
             "ticks": ""
            },
            "colorscale": [
             [
              0,
              "#0d0887"
             ],
             [
              0.1111111111111111,
              "#46039f"
             ],
             [
              0.2222222222222222,
              "#7201a8"
             ],
             [
              0.3333333333333333,
              "#9c179e"
             ],
             [
              0.4444444444444444,
              "#bd3786"
             ],
             [
              0.5555555555555556,
              "#d8576b"
             ],
             [
              0.6666666666666666,
              "#ed7953"
             ],
             [
              0.7777777777777778,
              "#fb9f3a"
             ],
             [
              0.8888888888888888,
              "#fdca26"
             ],
             [
              1,
              "#f0f921"
             ]
            ],
            "type": "histogram2dcontour"
           }
          ],
          "mesh3d": [
           {
            "colorbar": {
             "outlinewidth": 0,
             "ticks": ""
            },
            "type": "mesh3d"
           }
          ],
          "parcoords": [
           {
            "line": {
             "colorbar": {
              "outlinewidth": 0,
              "ticks": ""
             }
            },
            "type": "parcoords"
           }
          ],
          "pie": [
           {
            "automargin": true,
            "type": "pie"
           }
          ],
          "scatter": [
           {
            "fillpattern": {
             "fillmode": "overlay",
             "size": 10,
             "solidity": 0.2
            },
            "marker": {
             "opacity": 0.8
            },
            "type": "scatter"
           }
          ],
          "scatter3d": [
           {
            "line": {
             "colorbar": {
              "outlinewidth": 0,
              "ticks": ""
             }
            },
            "marker": {
             "colorbar": {
              "outlinewidth": 0,
              "ticks": ""
             },
             "opacity": 0.8
            },
            "type": "scatter3d"
           }
          ],
          "scattercarpet": [
           {
            "marker": {
             "colorbar": {
              "outlinewidth": 0,
              "ticks": ""
             }
            },
            "type": "scattercarpet"
           }
          ],
          "scattergeo": [
           {
            "marker": {
             "colorbar": {
              "outlinewidth": 0,
              "ticks": ""
             }
            },
            "type": "scattergeo"
           }
          ],
          "scattergl": [
           {
            "marker": {
             "colorbar": {
              "outlinewidth": 0,
              "ticks": ""
             }
            },
            "type": "scattergl"
           }
          ],
          "scattermapbox": [
           {
            "marker": {
             "colorbar": {
              "outlinewidth": 0,
              "ticks": ""
             }
            },
            "type": "scattermapbox"
           }
          ],
          "scatterpolar": [
           {
            "marker": {
             "colorbar": {
              "outlinewidth": 0,
              "ticks": ""
             }
            },
            "type": "scatterpolar"
           }
          ],
          "scatterpolargl": [
           {
            "marker": {
             "colorbar": {
              "outlinewidth": 0,
              "ticks": ""
             }
            },
            "type": "scatterpolargl"
           }
          ],
          "scatterternary": [
           {
            "marker": {
             "colorbar": {
              "outlinewidth": 0,
              "ticks": ""
             }
            },
            "type": "scatterternary"
           }
          ],
          "surface": [
           {
            "colorbar": {
             "outlinewidth": 0,
             "ticks": ""
            },
            "colorscale": [
             [
              0,
              "#0d0887"
             ],
             [
              0.1111111111111111,
              "#46039f"
             ],
             [
              0.2222222222222222,
              "#7201a8"
             ],
             [
              0.3333333333333333,
              "#9c179e"
             ],
             [
              0.4444444444444444,
              "#bd3786"
             ],
             [
              0.5555555555555556,
              "#d8576b"
             ],
             [
              0.6666666666666666,
              "#ed7953"
             ],
             [
              0.7777777777777778,
              "#fb9f3a"
             ],
             [
              0.8888888888888888,
              "#fdca26"
             ],
             [
              1,
              "#f0f921"
             ]
            ],
            "type": "surface"
           }
          ],
          "table": [
           {
            "cells": {
             "fill": {
              "color": "#EBF0F8"
             },
             "line": {
              "color": "white"
             }
            },
            "header": {
             "fill": {
              "color": "#C8D4E3"
             },
             "line": {
              "color": "white"
             }
            },
            "type": "table"
           }
          ]
         },
         "layout": {
          "annotationdefaults": {
           "arrowcolor": "#2a3f5f",
           "arrowhead": 0,
           "arrowwidth": 1
          },
          "autotypenumbers": "strict",
          "coloraxis": {
           "colorbar": {
            "outlinewidth": 0,
            "ticks": ""
           }
          },
          "colorscale": {
           "diverging": [
            [
             0,
             "#8e0152"
            ],
            [
             0.1,
             "#c51b7d"
            ],
            [
             0.2,
             "#de77ae"
            ],
            [
             0.3,
             "#f1b6da"
            ],
            [
             0.4,
             "#fde0ef"
            ],
            [
             0.5,
             "#f7f7f7"
            ],
            [
             0.6,
             "#e6f5d0"
            ],
            [
             0.7,
             "#b8e186"
            ],
            [
             0.8,
             "#7fbc41"
            ],
            [
             0.9,
             "#4d9221"
            ],
            [
             1,
             "#276419"
            ]
           ],
           "sequential": [
            [
             0,
             "#0d0887"
            ],
            [
             0.1111111111111111,
             "#46039f"
            ],
            [
             0.2222222222222222,
             "#7201a8"
            ],
            [
             0.3333333333333333,
             "#9c179e"
            ],
            [
             0.4444444444444444,
             "#bd3786"
            ],
            [
             0.5555555555555556,
             "#d8576b"
            ],
            [
             0.6666666666666666,
             "#ed7953"
            ],
            [
             0.7777777777777778,
             "#fb9f3a"
            ],
            [
             0.8888888888888888,
             "#fdca26"
            ],
            [
             1,
             "#f0f921"
            ]
           ],
           "sequentialminus": [
            [
             0,
             "#0d0887"
            ],
            [
             0.1111111111111111,
             "#46039f"
            ],
            [
             0.2222222222222222,
             "#7201a8"
            ],
            [
             0.3333333333333333,
             "#9c179e"
            ],
            [
             0.4444444444444444,
             "#bd3786"
            ],
            [
             0.5555555555555556,
             "#d8576b"
            ],
            [
             0.6666666666666666,
             "#ed7953"
            ],
            [
             0.7777777777777778,
             "#fb9f3a"
            ],
            [
             0.8888888888888888,
             "#fdca26"
            ],
            [
             1,
             "#f0f921"
            ]
           ]
          },
          "colorway": [
           "#636efa",
           "#EF553B",
           "#00cc96",
           "#ab63fa",
           "#FFA15A",
           "#19d3f3",
           "#FF6692",
           "#B6E880",
           "#FF97FF",
           "#FECB52"
          ],
          "font": {
           "color": "#2a3f5f"
          },
          "geo": {
           "bgcolor": "white",
           "lakecolor": "white",
           "landcolor": "white",
           "showlakes": true,
           "showland": true,
           "subunitcolor": "#C8D4E3"
          },
          "height": 400,
          "hoverlabel": {
           "align": "left"
          },
          "hovermode": "closest",
          "mapbox": {
           "style": "light"
          },
          "margin": {
           "b": 2,
           "l": 2,
           "r": 2,
           "t": 30
          },
          "paper_bgcolor": "white",
          "plot_bgcolor": "white",
          "polar": {
           "angularaxis": {
            "gridcolor": "#EBF0F8",
            "linecolor": "#EBF0F8",
            "ticks": ""
           },
           "bgcolor": "white",
           "radialaxis": {
            "gridcolor": "#EBF0F8",
            "linecolor": "#EBF0F8",
            "ticks": ""
           }
          },
          "scene": {
           "camera": {
            "eye": {
             "x": 1.5,
             "y": 1.5,
             "z": 0.1
            }
           },
           "xaxis": {
            "backgroundcolor": "white",
            "gridcolor": "#DFE8F3",
            "gridwidth": 2,
            "linecolor": "#EBF0F8",
            "showbackground": true,
            "ticks": "",
            "zerolinecolor": "#EBF0F8"
           },
           "yaxis": {
            "backgroundcolor": "white",
            "gridcolor": "#DFE8F3",
            "gridwidth": 2,
            "linecolor": "#EBF0F8",
            "showbackground": true,
            "ticks": "",
            "zerolinecolor": "#EBF0F8"
           },
           "zaxis": {
            "backgroundcolor": "white",
            "gridcolor": "#DFE8F3",
            "gridwidth": 2,
            "linecolor": "#EBF0F8",
            "showbackground": true,
            "ticks": "",
            "zerolinecolor": "#EBF0F8"
           }
          },
          "shapedefaults": {
           "line": {
            "color": "#2a3f5f"
           }
          },
          "ternary": {
           "aaxis": {
            "gridcolor": "#DFE8F3",
            "linecolor": "#A2B1C6",
            "ticks": ""
           },
           "baxis": {
            "gridcolor": "#DFE8F3",
            "linecolor": "#A2B1C6",
            "ticks": ""
           },
           "bgcolor": "white",
           "caxis": {
            "gridcolor": "#DFE8F3",
            "linecolor": "#A2B1C6",
            "ticks": ""
           }
          },
          "title": {
           "x": 0.5
          },
          "xaxis": {
           "automargin": true,
           "gridcolor": "#EBF0F8",
           "linecolor": "#EBF0F8",
           "linewidth": 2,
           "showline": true,
           "ticks": "",
           "title": {
            "standoff": 15
           },
           "zerolinecolor": "#EBF0F8",
           "zerolinewidth": 2
          },
          "yaxis": {
           "automargin": true,
           "gridcolor": "#EBF0F8",
           "linecolor": "#EBF0F8",
           "linewidth": 2,
           "showline": true,
           "ticks": "",
           "title": {
            "standoff": 15
           },
           "zerolinecolor": "#EBF0F8",
           "zerolinewidth": 2
          }
         }
        },
        "title": {
         "text": "protein_content_of_last_meal"
        },
        "xaxis": {
         "anchor": "y",
         "domain": [
          0,
          1
         ],
         "title": {
          "text": "protein content of last meal"
         }
        },
        "yaxis": {
         "anchor": "x",
         "domain": [
          0,
          1
         ],
         "title": {
          "text": "core temperature"
         }
        }
       }
      }
     },
     "metadata": {},
     "output_type": "display_data"
    },
    {
     "name": "stdout",
     "output_type": "stream",
     "text": [
      "body_fat_percentage\n",
      "R-squared: 0.00020809002637678375\n"
     ]
    },
    {
     "data": {
      "application/vnd.plotly.v1+json": {
       "config": {
        "plotlyServerURL": "https://plot.ly"
       },
       "data": [
        {
         "hovertemplate": "body fat percentage=%{x}<br>core temperature=%{y}<extra></extra>",
         "legendgroup": "",
         "marker": {
          "color": "#636efa",
          "size": 17,
          "symbol": "circle"
         },
         "mode": "markers",
         "name": "",
         "orientation": "v",
         "showlegend": false,
         "type": "scatter",
         "x": [
          38,
          32,
          12,
          23,
          15,
          14,
          25,
          18,
          34,
          31,
          13,
          18,
          26,
          36,
          31,
          12,
          30,
          35,
          11,
          26,
          19,
          36,
          24,
          29,
          20,
          16,
          17,
          17,
          32,
          12,
          20,
          34,
          29,
          12,
          36,
          39,
          12,
          15,
          35,
          32,
          39,
          31,
          17,
          20,
          40,
          40,
          23,
          38,
          18,
          28,
          40,
          28,
          40,
          11,
          16,
          39,
          20,
          39,
          15,
          21,
          16,
          33,
          40,
          19,
          38,
          20,
          17,
          40,
          36,
          23,
          10,
          30,
          38,
          23,
          35,
          27,
          21,
          16,
          40,
          29,
          20,
          11,
          37,
          33,
          15,
          25,
          39,
          25,
          38,
          36,
          29,
          30,
          18,
          38,
          11,
          20,
          32,
          21
         ],
         "xaxis": "x",
         "y": [
          38.42316895,
          39.01599822,
          39.14834088,
          39.06004863,
          38.65543905,
          38.6092188,
          39.47390806,
          38.81521612,
          37.77845286,
          39.17685034,
          39.52090819,
          38.57896943,
          38.28013391,
          38.40158039,
          38.65157641,
          39.61720308,
          37.72843549,
          39.36694049,
          37.98848685,
          39.93405104,
          37.60559023,
          38.83468198,
          37.39892664,
          38.98633063,
          39.72456882,
          38.09695504,
          37.59597881,
          39.49731323,
          38.50187636,
          38.27036031,
          38.69964224,
          39.08411118,
          38.29400364,
          38.39872285,
          39.29951536,
          38.37598649,
          38.46968433,
          39.58561173,
          38.12682317,
          39.80156649,
          37.92682179,
          39.67264697,
          38.21409556,
          38.93217418,
          37.80121676,
          37.52097889,
          39.34942824,
          38.9163822,
          38.72595498,
          38.35421436,
          40.17337876,
          39.48214424,
          39.9557292,
          39.02529641,
          39.70565695,
          37.87210056,
          38.92730588,
          38.75694066,
          38.98157028,
          39.07020183,
          39.31023381,
          40.26487847,
          39.19531025,
          37.46606804,
          38.61929591,
          39.74308443,
          37.9590829,
          38.52387016,
          39.58821189,
          39.48780846,
          37.32113362,
          38.30311301,
          39.32598796,
          38.18373964,
          37.78518905,
          38.97361387,
          37.97719515,
          38.92654301,
          37.98922316,
          39.87010492,
          38.51344083,
          39.14710639,
          38.61129304,
          38.95232638,
          37.46812464,
          38.24131363,
          38.7661591,
          39.87233432,
          38.87492299,
          39.09337261,
          39.00124171,
          39.25963687,
          38.6808734,
          37.93994229,
          38.79042609,
          39.48996228,
          38.57574159,
          39.76644658
         ],
         "yaxis": "y"
        }
       ],
       "layout": {
        "legend": {
         "tracegroupgap": 0
        },
        "shapes": [
         {
          "line": {
           "color": "rgb(228,26,28)"
          },
          "path": "M10.0 38.75943880428584 L 10.150753768844222 38.75959842033663 L 10.301507537688442 38.75975803638741 L 10.452261306532662 38.7599176524382 L 10.603015075376884 38.760077268488985 L 10.753768844221106 38.760236884539765 L 10.904522613065327 38.76039650059055 L 11.055276381909547 38.76055611664134 L 11.206030150753769 38.76071573269212 L 11.35678391959799 38.76087534874291 L 11.507537688442211 38.761034964793694 L 11.658291457286431 38.761194580844474 L 11.809045226130653 38.76135419689526 L 11.959798994974875 38.76151381294604 L 12.110552763819095 38.76167342899683 L 12.261306532663315 38.76183304504762 L 12.412060301507537 38.7619926610984 L 12.56281407035176 38.762152277149184 L 12.71356783919598 38.76231189319997 L 12.8643216080402 38.76247150925075 L 13.015075376884422 38.76263112530154 L 13.165829145728644 38.762790741352326 L 13.316582914572864 38.762950357403106 L 13.467336683417084 38.76310997345389 L 13.618090452261306 38.76326958950468 L 13.768844221105528 38.76342920555546 L 13.919597989949748 38.76358882160625 L 14.070351758793969 38.763748437657036 L 14.22110552763819 38.763908053707816 L 14.371859296482413 38.7640676697586 L 14.522613065326633 38.76422728580939 L 14.673366834170853 38.76438690186017 L 14.824120603015075 38.76454651791096 L 14.974874371859297 38.764706133961745 L 15.125628140703517 38.764865750012525 L 15.276381909547737 38.76502536606331 L 15.42713567839196 38.76518498211409 L 15.577889447236181 38.76534459816488 L 15.728643216080402 38.76550421421567 L 15.879396984924622 38.76566383026645 L 16.030150753768844 38.765823446317235 L 16.180904522613066 38.76598306236802 L 16.331658291457288 38.7661426784188 L 16.482412060301506 38.76630229446959 L 16.633165829145728 38.76646191052038 L 16.78391959798995 38.76662152657116 L 16.93467336683417 38.766781142621944 L 17.08542713567839 38.76694075867273 L 17.236180904522612 38.76710037472351 L 17.386934673366834 38.7672599907743 L 17.537688442211056 38.76741960682509 L 17.688442211055275 38.76757922287587 L 17.839195979899497 38.767738838926654 L 17.98994974874372 38.76789845497744 L 18.140703517587937 38.76805807102822 L 18.29145728643216 38.76821768707901 L 18.44221105527638 38.768377303129796 L 18.592964824120603 38.768536919180576 L 18.743718592964825 38.76869653523136 L 18.894472361809044 38.76885615128215 L 19.045226130653266 38.76901576733293 L 19.195979899497488 38.76917538338372 L 19.346733668341706 38.7693349994345 L 19.497487437185928 38.769494615485286 L 19.64824120603015 38.76965423153607 L 19.798994974874372 38.76981384758685 L 19.949748743718594 38.76997346363764 L 20.100502512562812 38.77013307968843 L 20.251256281407034 38.77029269573921 L 20.402010050251256 38.770452311789995 L 20.552763819095475 38.77061192784078 L 20.703517587939697 38.77077154389156 L 20.85427135678392 38.77093115994235 L 21.00502512562814 38.77109077599314 L 21.155778894472363 38.77125039204392 L 21.30653266331658 38.771410008094705 L 21.457286432160803 38.77156962414549 L 21.608040201005025 38.77172924019627 L 21.758793969849243 38.77188885624706 L 21.909547738693465 38.77204847229785 L 22.060301507537687 38.77220808834863 L 22.21105527638191 38.772367704399414 L 22.36180904522613 38.7725273204502 L 22.51256281407035 38.77268693650098 L 22.66331658291457 38.77284655255177 L 22.814070351758794 38.77300616860255 L 22.964824120603012 38.77316578465334 L 23.115577889447234 38.773325400704124 L 23.266331658291456 38.773485016754904 L 23.417085427135678 38.77364463280569 L 23.5678391959799 38.77380424885648 L 23.71859296482412 38.77396386490726 L 23.86934673366834 38.774123480958046 L 24.020100502512562 38.77428309700883 L 24.17085427135678 38.774442713059614 L 24.321608040201003 38.7746023291104 L 24.472361809045225 38.77476194516119 L 24.623115577889447 38.77492156121197 L 24.77386934673367 38.775081177262756 L 24.924623115577887 38.77524079331354 L 25.07537688442211 38.77540040936432 L 25.22613065326633 38.77556002541511 L 25.37688442211055 38.7757196414659 L 25.52763819095477 38.77587925751668 L 25.678391959798994 38.776038873567465 L 25.829145728643216 38.77619848961825 L 25.979899497487438 38.77635810566903 L 26.130653266331656 38.77651772171982 L 26.281407035175878 38.77667733777061 L 26.4321608040201 38.77683695382139 L 26.58291457286432 38.776996569872175 L 26.73366834170854 38.777156185922955 L 26.884422110552762 38.77731580197374 L 27.035175879396984 38.77747541802453 L 27.185929648241206 38.77763503407531 L 27.336683417085425 38.7777946501261 L 27.487437185929647 38.777954266176884 L 27.63819095477387 38.778113882227665 L 27.788944723618087 38.77827349827845 L 27.93969849246231 38.77843311432924 L 28.09045226130653 38.77859273038002 L 28.241206030150753 38.77875234643081 L 28.391959798994975 38.778911962481594 L 28.542713567839193 38.779071578532374 L 28.693467336683415 38.77923119458316 L 28.844221105527637 38.77939081063395 L 28.994974874371856 38.77955042668473 L 29.145728643216078 38.779710042735516 L 29.2964824120603 38.7798696587863 L 29.44723618090452 38.780029274837084 L 29.597989949748744 38.78018889088787 L 29.748743718592962 38.78034850693866 L 29.899497487437184 38.78050812298944 L 30.050251256281406 38.780667739040226 L 30.201005025125625 38.780827355091006 L 30.351758793969847 38.78098697114179 L 30.50251256281407 38.78114658719258 L 30.65326633165829 38.78130620324336 L 30.804020100502512 38.78146581929415 L 30.95477386934673 38.781625435344935 L 31.105527638190953 38.781785051395715 L 31.256281407035175 38.7819446674465 L 31.407035175879393 38.78210428349729 L 31.557788944723615 38.78226389954807 L 31.708542713567837 38.78242351559886 L 31.85929648241206 38.782583131649645 L 32.01005025125628 38.782742747700425 L 32.1608040201005 38.78290236375121 L 32.311557788944725 38.783061979802 L 32.462311557788944 38.78322159585278 L 32.61306532663316 38.78338121190357 L 32.76381909547739 38.783540827954354 L 32.914572864321606 38.783700444005135 L 33.065326633165824 38.78386006005592 L 33.21608040201005 38.78401967610671 L 33.36683417085427 38.78417929215749 L 33.51758793969849 38.78433890820828 L 33.66834170854271 38.784498524259064 L 33.81909547738693 38.784658140309844 L 33.96984924623115 38.78481775636063 L 34.120603015075375 38.78497737241141 L 34.2713567839196 38.7851369884622 L 34.42211055276382 38.785296604512986 L 34.57286432160804 38.785456220563766 L 34.72361809045226 38.785615836614554 L 34.87437185929648 38.78577545266534 L 35.0251256281407 38.78593506871612 L 35.175879396984925 38.78609468476691 L 35.32663316582914 38.786254300817696 L 35.47738693467336 38.786413916868476 L 35.62814070351759 38.78657353291926 L 35.778894472361806 38.78673314897005 L 35.929648241206024 38.78689276502083 L 36.08040201005025 38.78705238107162 L 36.23115577889447 38.787211997122405 L 36.38190954773869 38.787371613173185 L 36.53266331658291 38.78753122922397 L 36.68341708542714 38.78769084527476 L 36.834170854271356 38.78785046132554 L 36.984924623115575 38.78801007737633 L 37.1356783919598 38.788169693427115 L 37.28643216080402 38.788329309477895 L 37.43718592964824 38.78848892552868 L 37.58793969849246 38.78864854157946 L 37.73869346733668 38.78880815763025 L 37.8894472361809 38.78896777368104 L 38.040201005025125 38.78912738973182 L 38.19095477386934 38.789287005782604 L 38.34170854271356 38.78944662183339 L 38.49246231155779 38.78960623788417 L 38.643216080402006 38.78976585393496 L 38.793969849246224 38.78992546998575 L 38.94472361809045 38.79008508603653 L 39.095477386934675 38.790244702087314 L 39.246231155778894 38.7904043181381 L 39.39698492462311 38.79056393418888 L 39.54773869346734 38.79072355023967 L 39.698492462311556 38.790883166290456 L 39.849246231155774 38.791042782341236 L 40.0 38.791202398392024",
          "type": "path"
         }
        ],
        "template": {
         "data": {
          "bar": [
           {
            "error_x": {
             "color": "#2a3f5f"
            },
            "error_y": {
             "color": "#2a3f5f"
            },
            "marker": {
             "line": {
              "color": "white",
              "width": 0.5
             },
             "pattern": {
              "fillmode": "overlay",
              "size": 10,
              "solidity": 0.2
             }
            },
            "type": "bar"
           }
          ],
          "barpolar": [
           {
            "marker": {
             "line": {
              "color": "white",
              "width": 0.5
             },
             "pattern": {
              "fillmode": "overlay",
              "size": 10,
              "solidity": 0.2
             }
            },
            "type": "barpolar"
           }
          ],
          "box": [
           {
            "boxpoints": "outliers",
            "notched": false,
            "type": "box"
           }
          ],
          "carpet": [
           {
            "aaxis": {
             "endlinecolor": "#2a3f5f",
             "gridcolor": "#C8D4E3",
             "linecolor": "#C8D4E3",
             "minorgridcolor": "#C8D4E3",
             "startlinecolor": "#2a3f5f"
            },
            "baxis": {
             "endlinecolor": "#2a3f5f",
             "gridcolor": "#C8D4E3",
             "linecolor": "#C8D4E3",
             "minorgridcolor": "#C8D4E3",
             "startlinecolor": "#2a3f5f"
            },
            "type": "carpet"
           }
          ],
          "choropleth": [
           {
            "colorbar": {
             "outlinewidth": 0,
             "ticks": ""
            },
            "type": "choropleth"
           }
          ],
          "contour": [
           {
            "colorbar": {
             "outlinewidth": 0,
             "ticks": ""
            },
            "colorscale": [
             [
              0,
              "#0d0887"
             ],
             [
              0.1111111111111111,
              "#46039f"
             ],
             [
              0.2222222222222222,
              "#7201a8"
             ],
             [
              0.3333333333333333,
              "#9c179e"
             ],
             [
              0.4444444444444444,
              "#bd3786"
             ],
             [
              0.5555555555555556,
              "#d8576b"
             ],
             [
              0.6666666666666666,
              "#ed7953"
             ],
             [
              0.7777777777777778,
              "#fb9f3a"
             ],
             [
              0.8888888888888888,
              "#fdca26"
             ],
             [
              1,
              "#f0f921"
             ]
            ],
            "type": "contour"
           }
          ],
          "contourcarpet": [
           {
            "colorbar": {
             "outlinewidth": 0,
             "ticks": ""
            },
            "type": "contourcarpet"
           }
          ],
          "heatmap": [
           {
            "colorbar": {
             "outlinewidth": 0,
             "ticks": ""
            },
            "colorscale": [
             [
              0,
              "#0d0887"
             ],
             [
              0.1111111111111111,
              "#46039f"
             ],
             [
              0.2222222222222222,
              "#7201a8"
             ],
             [
              0.3333333333333333,
              "#9c179e"
             ],
             [
              0.4444444444444444,
              "#bd3786"
             ],
             [
              0.5555555555555556,
              "#d8576b"
             ],
             [
              0.6666666666666666,
              "#ed7953"
             ],
             [
              0.7777777777777778,
              "#fb9f3a"
             ],
             [
              0.8888888888888888,
              "#fdca26"
             ],
             [
              1,
              "#f0f921"
             ]
            ],
            "type": "heatmap"
           }
          ],
          "heatmapgl": [
           {
            "colorbar": {
             "outlinewidth": 0,
             "ticks": ""
            },
            "colorscale": [
             [
              0,
              "#0d0887"
             ],
             [
              0.1111111111111111,
              "#46039f"
             ],
             [
              0.2222222222222222,
              "#7201a8"
             ],
             [
              0.3333333333333333,
              "#9c179e"
             ],
             [
              0.4444444444444444,
              "#bd3786"
             ],
             [
              0.5555555555555556,
              "#d8576b"
             ],
             [
              0.6666666666666666,
              "#ed7953"
             ],
             [
              0.7777777777777778,
              "#fb9f3a"
             ],
             [
              0.8888888888888888,
              "#fdca26"
             ],
             [
              1,
              "#f0f921"
             ]
            ],
            "type": "heatmapgl"
           }
          ],
          "histogram": [
           {
            "marker": {
             "line": {
              "width": 1
             },
             "pattern": {
              "fillmode": "overlay",
              "size": 10,
              "solidity": 0.2
             }
            },
            "type": "histogram"
           }
          ],
          "histogram2d": [
           {
            "colorbar": {
             "outlinewidth": 0,
             "ticks": ""
            },
            "colorscale": [
             [
              0,
              "#0d0887"
             ],
             [
              0.1111111111111111,
              "#46039f"
             ],
             [
              0.2222222222222222,
              "#7201a8"
             ],
             [
              0.3333333333333333,
              "#9c179e"
             ],
             [
              0.4444444444444444,
              "#bd3786"
             ],
             [
              0.5555555555555556,
              "#d8576b"
             ],
             [
              0.6666666666666666,
              "#ed7953"
             ],
             [
              0.7777777777777778,
              "#fb9f3a"
             ],
             [
              0.8888888888888888,
              "#fdca26"
             ],
             [
              1,
              "#f0f921"
             ]
            ],
            "type": "histogram2d"
           }
          ],
          "histogram2dcontour": [
           {
            "colorbar": {
             "outlinewidth": 0,
             "ticks": ""
            },
            "colorscale": [
             [
              0,
              "#0d0887"
             ],
             [
              0.1111111111111111,
              "#46039f"
             ],
             [
              0.2222222222222222,
              "#7201a8"
             ],
             [
              0.3333333333333333,
              "#9c179e"
             ],
             [
              0.4444444444444444,
              "#bd3786"
             ],
             [
              0.5555555555555556,
              "#d8576b"
             ],
             [
              0.6666666666666666,
              "#ed7953"
             ],
             [
              0.7777777777777778,
              "#fb9f3a"
             ],
             [
              0.8888888888888888,
              "#fdca26"
             ],
             [
              1,
              "#f0f921"
             ]
            ],
            "type": "histogram2dcontour"
           }
          ],
          "mesh3d": [
           {
            "colorbar": {
             "outlinewidth": 0,
             "ticks": ""
            },
            "type": "mesh3d"
           }
          ],
          "parcoords": [
           {
            "line": {
             "colorbar": {
              "outlinewidth": 0,
              "ticks": ""
             }
            },
            "type": "parcoords"
           }
          ],
          "pie": [
           {
            "automargin": true,
            "type": "pie"
           }
          ],
          "scatter": [
           {
            "fillpattern": {
             "fillmode": "overlay",
             "size": 10,
             "solidity": 0.2
            },
            "marker": {
             "opacity": 0.8
            },
            "type": "scatter"
           }
          ],
          "scatter3d": [
           {
            "line": {
             "colorbar": {
              "outlinewidth": 0,
              "ticks": ""
             }
            },
            "marker": {
             "colorbar": {
              "outlinewidth": 0,
              "ticks": ""
             },
             "opacity": 0.8
            },
            "type": "scatter3d"
           }
          ],
          "scattercarpet": [
           {
            "marker": {
             "colorbar": {
              "outlinewidth": 0,
              "ticks": ""
             }
            },
            "type": "scattercarpet"
           }
          ],
          "scattergeo": [
           {
            "marker": {
             "colorbar": {
              "outlinewidth": 0,
              "ticks": ""
             }
            },
            "type": "scattergeo"
           }
          ],
          "scattergl": [
           {
            "marker": {
             "colorbar": {
              "outlinewidth": 0,
              "ticks": ""
             }
            },
            "type": "scattergl"
           }
          ],
          "scattermapbox": [
           {
            "marker": {
             "colorbar": {
              "outlinewidth": 0,
              "ticks": ""
             }
            },
            "type": "scattermapbox"
           }
          ],
          "scatterpolar": [
           {
            "marker": {
             "colorbar": {
              "outlinewidth": 0,
              "ticks": ""
             }
            },
            "type": "scatterpolar"
           }
          ],
          "scatterpolargl": [
           {
            "marker": {
             "colorbar": {
              "outlinewidth": 0,
              "ticks": ""
             }
            },
            "type": "scatterpolargl"
           }
          ],
          "scatterternary": [
           {
            "marker": {
             "colorbar": {
              "outlinewidth": 0,
              "ticks": ""
             }
            },
            "type": "scatterternary"
           }
          ],
          "surface": [
           {
            "colorbar": {
             "outlinewidth": 0,
             "ticks": ""
            },
            "colorscale": [
             [
              0,
              "#0d0887"
             ],
             [
              0.1111111111111111,
              "#46039f"
             ],
             [
              0.2222222222222222,
              "#7201a8"
             ],
             [
              0.3333333333333333,
              "#9c179e"
             ],
             [
              0.4444444444444444,
              "#bd3786"
             ],
             [
              0.5555555555555556,
              "#d8576b"
             ],
             [
              0.6666666666666666,
              "#ed7953"
             ],
             [
              0.7777777777777778,
              "#fb9f3a"
             ],
             [
              0.8888888888888888,
              "#fdca26"
             ],
             [
              1,
              "#f0f921"
             ]
            ],
            "type": "surface"
           }
          ],
          "table": [
           {
            "cells": {
             "fill": {
              "color": "#EBF0F8"
             },
             "line": {
              "color": "white"
             }
            },
            "header": {
             "fill": {
              "color": "#C8D4E3"
             },
             "line": {
              "color": "white"
             }
            },
            "type": "table"
           }
          ]
         },
         "layout": {
          "annotationdefaults": {
           "arrowcolor": "#2a3f5f",
           "arrowhead": 0,
           "arrowwidth": 1
          },
          "autotypenumbers": "strict",
          "coloraxis": {
           "colorbar": {
            "outlinewidth": 0,
            "ticks": ""
           }
          },
          "colorscale": {
           "diverging": [
            [
             0,
             "#8e0152"
            ],
            [
             0.1,
             "#c51b7d"
            ],
            [
             0.2,
             "#de77ae"
            ],
            [
             0.3,
             "#f1b6da"
            ],
            [
             0.4,
             "#fde0ef"
            ],
            [
             0.5,
             "#f7f7f7"
            ],
            [
             0.6,
             "#e6f5d0"
            ],
            [
             0.7,
             "#b8e186"
            ],
            [
             0.8,
             "#7fbc41"
            ],
            [
             0.9,
             "#4d9221"
            ],
            [
             1,
             "#276419"
            ]
           ],
           "sequential": [
            [
             0,
             "#0d0887"
            ],
            [
             0.1111111111111111,
             "#46039f"
            ],
            [
             0.2222222222222222,
             "#7201a8"
            ],
            [
             0.3333333333333333,
             "#9c179e"
            ],
            [
             0.4444444444444444,
             "#bd3786"
            ],
            [
             0.5555555555555556,
             "#d8576b"
            ],
            [
             0.6666666666666666,
             "#ed7953"
            ],
            [
             0.7777777777777778,
             "#fb9f3a"
            ],
            [
             0.8888888888888888,
             "#fdca26"
            ],
            [
             1,
             "#f0f921"
            ]
           ],
           "sequentialminus": [
            [
             0,
             "#0d0887"
            ],
            [
             0.1111111111111111,
             "#46039f"
            ],
            [
             0.2222222222222222,
             "#7201a8"
            ],
            [
             0.3333333333333333,
             "#9c179e"
            ],
            [
             0.4444444444444444,
             "#bd3786"
            ],
            [
             0.5555555555555556,
             "#d8576b"
            ],
            [
             0.6666666666666666,
             "#ed7953"
            ],
            [
             0.7777777777777778,
             "#fb9f3a"
            ],
            [
             0.8888888888888888,
             "#fdca26"
            ],
            [
             1,
             "#f0f921"
            ]
           ]
          },
          "colorway": [
           "#636efa",
           "#EF553B",
           "#00cc96",
           "#ab63fa",
           "#FFA15A",
           "#19d3f3",
           "#FF6692",
           "#B6E880",
           "#FF97FF",
           "#FECB52"
          ],
          "font": {
           "color": "#2a3f5f"
          },
          "geo": {
           "bgcolor": "white",
           "lakecolor": "white",
           "landcolor": "white",
           "showlakes": true,
           "showland": true,
           "subunitcolor": "#C8D4E3"
          },
          "height": 400,
          "hoverlabel": {
           "align": "left"
          },
          "hovermode": "closest",
          "mapbox": {
           "style": "light"
          },
          "margin": {
           "b": 2,
           "l": 2,
           "r": 2,
           "t": 30
          },
          "paper_bgcolor": "white",
          "plot_bgcolor": "white",
          "polar": {
           "angularaxis": {
            "gridcolor": "#EBF0F8",
            "linecolor": "#EBF0F8",
            "ticks": ""
           },
           "bgcolor": "white",
           "radialaxis": {
            "gridcolor": "#EBF0F8",
            "linecolor": "#EBF0F8",
            "ticks": ""
           }
          },
          "scene": {
           "camera": {
            "eye": {
             "x": 1.5,
             "y": 1.5,
             "z": 0.1
            }
           },
           "xaxis": {
            "backgroundcolor": "white",
            "gridcolor": "#DFE8F3",
            "gridwidth": 2,
            "linecolor": "#EBF0F8",
            "showbackground": true,
            "ticks": "",
            "zerolinecolor": "#EBF0F8"
           },
           "yaxis": {
            "backgroundcolor": "white",
            "gridcolor": "#DFE8F3",
            "gridwidth": 2,
            "linecolor": "#EBF0F8",
            "showbackground": true,
            "ticks": "",
            "zerolinecolor": "#EBF0F8"
           },
           "zaxis": {
            "backgroundcolor": "white",
            "gridcolor": "#DFE8F3",
            "gridwidth": 2,
            "linecolor": "#EBF0F8",
            "showbackground": true,
            "ticks": "",
            "zerolinecolor": "#EBF0F8"
           }
          },
          "shapedefaults": {
           "line": {
            "color": "#2a3f5f"
           }
          },
          "ternary": {
           "aaxis": {
            "gridcolor": "#DFE8F3",
            "linecolor": "#A2B1C6",
            "ticks": ""
           },
           "baxis": {
            "gridcolor": "#DFE8F3",
            "linecolor": "#A2B1C6",
            "ticks": ""
           },
           "bgcolor": "white",
           "caxis": {
            "gridcolor": "#DFE8F3",
            "linecolor": "#A2B1C6",
            "ticks": ""
           }
          },
          "title": {
           "x": 0.5
          },
          "xaxis": {
           "automargin": true,
           "gridcolor": "#EBF0F8",
           "linecolor": "#EBF0F8",
           "linewidth": 2,
           "showline": true,
           "ticks": "",
           "title": {
            "standoff": 15
           },
           "zerolinecolor": "#EBF0F8",
           "zerolinewidth": 2
          },
          "yaxis": {
           "automargin": true,
           "gridcolor": "#EBF0F8",
           "linecolor": "#EBF0F8",
           "linewidth": 2,
           "showline": true,
           "ticks": "",
           "title": {
            "standoff": 15
           },
           "zerolinecolor": "#EBF0F8",
           "zerolinewidth": 2
          }
         }
        },
        "title": {
         "text": "body_fat_percentage"
        },
        "xaxis": {
         "anchor": "y",
         "domain": [
          0,
          1
         ],
         "title": {
          "text": "body fat percentage"
         }
        },
        "yaxis": {
         "anchor": "x",
         "domain": [
          0,
          1
         ],
         "title": {
          "text": "core temperature"
         }
        }
       }
      }
     },
     "metadata": {},
     "output_type": "display_data"
    }
   ],
   "source": [
    "import statsmodels.formula.api as smf\n",
    "import graphing\n",
    "\n",
    "for feature in [\"male\", \"age\", \"protein_content_of_last_meal\", \"body_fat_percentage\"]:\n",
    "    # Realizar regresión lineal. Este método se encarga \n",
    "    # todo el procedimiento de ajuste para nosotros.\n",
    "    formula = \"core_temperature ~ \" + feature\n",
    "    simple_model = smf.ols(formula = formula, data = dataset).fit()\n",
    "\n",
    "    print(feature)\n",
    "    print(\"R-squared:\", simple_model.rsquared)\n",
    "    \n",
    "    # Mostrar un gráfico del resultado.\n",
    "    graphing.scatter_2D(dataset, label_x=feature, \n",
    "                                 label_y=\"core_temperature\",\n",
    "                                 title = feature,\n",
    "                                 trendline=lambda x: simple_model.params[1] * x + simple_model.params[0],\n",
    "                                 show=True)"
   ]
  },
  {
   "attachments": {},
   "cell_type": "markdown",
   "metadata": {},
   "source": [
    "\n",
    "Al desplazarnos por estos gráficos, obtenemos valores de R-cuadrado de 0,0002 ( body_fat_percentage), 0,1 ( male) y 0,26 ( age).\n",
    "\n",
    "Si bien protein_content_of_last_meal también parece muy prometedor, la relación parece curva, no lineal. Dejaremos esta función por ahora y volveremos a ella en el próximo ejercicio."
   ]
  },
  {
   "attachments": {},
   "cell_type": "markdown",
   "metadata": {},
   "source": [
    "    R-cuadrado \n",
    "Mostramos el valor R-Squared para estos modelos y lo usamos como una medida de \"corrección\" para nuestra regresión, pero ¿qué es? \n",
    "\n",
    "Intuitivamente, podemos pensar en R-Squared como una proporción de cuánto mejor es nuestra línea de regresión que una regresión ingenua que pasa directamente por la media de todos los ejemplos. Aproximadamente, el R-Squared se calcula tomando la pérdida/error del modelo entrenado y dividiéndola por la pérdida/error del modelo ingenuo. Eso da un rango donde 0 es mejor y 1 es peor, por lo que todo se resta de 1 para cambiar esos resultados. \n",
    "\n",
    "A continuación, mostramos una vez más el diagrama de dispersión con la edad y la temperatura central, pero esta vez, mostramos dos líneas de regresión. La primera es la línea ingenua que simplemente pasa directamente por la media. Esto tiene un R-Squared de 0 (ya que no es mejor que él mismo). Un R-Squared de 1 sería una línea que encajaría perfectamente en cada ejemplo de entrenamiento. La segunda gráfica muestra nuestra línea de regresión entrenada y una vez más vemos su R-Squared."
   ]
  },
  {
   "cell_type": "code",
   "execution_count": 16,
   "metadata": {},
   "outputs": [
    {
     "name": "stdout",
     "output_type": "stream",
     "text": [
      "naive R-squared: 0.0\n",
      "trained R-squared: 0.2648116081342463\n"
     ]
    },
    {
     "data": {
      "application/vnd.plotly.v1+json": {
       "config": {
        "plotlyServerURL": "https://plot.ly"
       },
       "data": [
        {
         "hovertemplate": "age=%{x}<br>core temperature=%{y}<extra></extra>",
         "legendgroup": "",
         "marker": {
          "color": "#636efa",
          "size": 17,
          "symbol": "circle"
         },
         "mode": "markers",
         "name": "",
         "orientation": "v",
         "showlegend": false,
         "type": "scatter",
         "x": [
          6.9,
          5.4,
          5.4,
          4.8,
          4.8,
          7.8,
          2.7,
          5.7,
          1.5,
          1.8,
          4.2,
          4.5,
          1.5,
          5.1,
          4.8,
          5.1,
          3.6,
          4.2,
          2.7,
          8.7,
          0.9,
          6.3,
          1.2,
          2.7,
          6,
          6,
          0.6,
          3.9,
          6,
          5.7,
          6.9,
          5.1,
          2.1,
          3.6,
          6.3,
          2.4,
          8.4,
          7.5,
          5.7,
          5.7,
          2.7,
          4.2,
          6.9,
          3,
          1.8,
          2.4,
          6.3,
          0.6,
          1.8,
          4.8,
          8.4,
          8.1,
          6.3,
          8.7,
          4.5,
          4.5,
          7.5,
          1.2,
          5.7,
          0.6,
          6.9,
          8.1,
          0.6,
          1.2,
          6.6,
          8.1,
          2.7,
          3.9,
          4.2,
          6.9,
          1.2,
          3.9,
          3.6,
          0.3,
          3,
          8.7,
          2.1,
          6.6,
          1.5,
          5.1,
          6,
          2.1,
          6,
          4.2,
          1.5,
          1.8,
          1.8,
          6.9,
          6.9,
          4.5,
          1.8,
          8.4,
          3,
          4.5,
          1.8,
          6.6,
          6.9,
          6
         ],
         "xaxis": "x",
         "y": [
          38.42316895,
          39.01599822,
          39.14834088,
          39.06004863,
          38.65543905,
          38.6092188,
          39.47390806,
          38.81521612,
          37.77845286,
          39.17685034,
          39.52090819,
          38.57896943,
          38.28013391,
          38.40158039,
          38.65157641,
          39.61720308,
          37.72843549,
          39.36694049,
          37.98848685,
          39.93405104,
          37.60559023,
          38.83468198,
          37.39892664,
          38.98633063,
          39.72456882,
          38.09695504,
          37.59597881,
          39.49731323,
          38.50187636,
          38.27036031,
          38.69964224,
          39.08411118,
          38.29400364,
          38.39872285,
          39.29951536,
          38.37598649,
          38.46968433,
          39.58561173,
          38.12682317,
          39.80156649,
          37.92682179,
          39.67264697,
          38.21409556,
          38.93217418,
          37.80121676,
          37.52097889,
          39.34942824,
          38.9163822,
          38.72595498,
          38.35421436,
          40.17337876,
          39.48214424,
          39.9557292,
          39.02529641,
          39.70565695,
          37.87210056,
          38.92730588,
          38.75694066,
          38.98157028,
          39.07020183,
          39.31023381,
          40.26487847,
          39.19531025,
          37.46606804,
          38.61929591,
          39.74308443,
          37.9590829,
          38.52387016,
          39.58821189,
          39.48780846,
          37.32113362,
          38.30311301,
          39.32598796,
          38.18373964,
          37.78518905,
          38.97361387,
          37.97719515,
          38.92654301,
          37.98922316,
          39.87010492,
          38.51344083,
          39.14710639,
          38.61129304,
          38.95232638,
          37.46812464,
          38.24131363,
          38.7661591,
          39.87233432,
          38.87492299,
          39.09337261,
          39.00124171,
          39.25963687,
          38.6808734,
          37.93994229,
          38.79042609,
          39.48996228,
          38.57574159,
          39.76644658
         ],
         "yaxis": "y"
        }
       ],
       "layout": {
        "legend": {
         "tracegroupgap": 0
        },
        "shapes": [
         {
          "line": {
           "color": "rgb(228,26,28)"
          },
          "path": "M0.3 38.42316895 L 0.3422110552763819 38.42316895 L 0.38442211055276376 38.42316895 L 0.4266331658291457 38.42316895 L 0.4688442211055276 38.42316895 L 0.5110552763819095 38.42316895 L 0.5532663316582913 38.42316895 L 0.5954773869346732 38.42316895 L 0.6376884422110551 38.42316895 L 0.679899497487437 38.42316895 L 0.722110552763819 38.42316895 L 0.7643216080402009 38.42316895 L 0.8065326633165828 38.42316895 L 0.8487437185929647 38.42316895 L 0.8909547738693466 38.42316895 L 0.9331658291457285 38.42316895 L 0.9753768844221105 38.42316895 L 1.0175879396984924 38.42316895 L 1.0597989949748743 38.42316895 L 1.1020100502512562 38.42316895 L 1.1442211055276381 38.42316895 L 1.1864321608040198 38.42316895 L 1.2286432160804017 38.42316895 L 1.2708542713567836 38.42316895 L 1.3130653266331656 38.42316895 L 1.3552763819095475 38.42316895 L 1.3974874371859294 38.42316895 L 1.4396984924623113 38.42316895 L 1.4819095477386932 38.42316895 L 1.5241206030150751 38.42316895 L 1.566331658291457 38.42316895 L 1.608542713567839 38.42316895 L 1.6507537688442209 38.42316895 L 1.6929648241206028 38.42316895 L 1.7351758793969847 38.42316895 L 1.7773869346733666 38.42316895 L 1.8195979899497485 38.42316895 L 1.8618090452261304 38.42316895 L 1.9040201005025124 38.42316895 L 1.9462311557788943 38.42316895 L 1.9884422110552762 38.42316895 L 2.0306532663316577 38.42316895 L 2.07286432160804 38.42316895 L 2.1150753768844215 38.42316895 L 2.1572864321608036 38.42316895 L 2.1994974874371853 38.42316895 L 2.2417085427135675 38.42316895 L 2.283919597989949 38.42316895 L 2.326130653266331 38.42316895 L 2.368341708542713 38.42316895 L 2.4105527638190947 38.42316895 L 2.452763819095477 38.42316895 L 2.4949748743718585 38.42316895 L 2.5371859296482406 38.42316895 L 2.5793969849246223 38.42316895 L 2.6216080402010045 38.42316895 L 2.663819095477386 38.42316895 L 2.7060301507537683 38.42316895 L 2.74824120603015 38.42316895 L 2.790452261306532 38.42316895 L 2.832663316582914 38.42316895 L 2.874874371859296 38.42316895 L 2.9170854271356776 38.42316895 L 2.95929648241206 38.42316895 L 3.0015075376884415 38.42316895 L 3.043718592964823 38.42316895 L 3.0859296482412053 38.42316895 L 3.128140703517587 38.42316895 L 3.170351758793969 38.42316895 L 3.212562814070351 38.42316895 L 3.254773869346733 38.42316895 L 3.2969849246231147 38.42316895 L 3.339195979899497 38.42316895 L 3.3814070351758785 38.42316895 L 3.4236180904522606 38.42316895 L 3.4658291457286423 38.42316895 L 3.5080402010050244 38.42316895 L 3.550251256281406 38.42316895 L 3.5924623115577883 38.42316895 L 3.63467336683417 38.42316895 L 3.676884422110552 38.42316895 L 3.719095477386934 38.42316895 L 3.7613065326633155 38.42316895 L 3.8035175879396976 38.42316895 L 3.8457286432160793 38.42316895 L 3.8879396984924615 38.42316895 L 3.930150753768843 38.42316895 L 3.9723618090452253 38.42316895 L 4.014572864321607 38.42316895 L 4.056783919597989 38.42316895 L 4.098994974874371 38.42316895 L 4.141206030150753 38.42316895 L 4.183417085427135 38.42316895 L 4.225628140703517 38.42316895 L 4.2678391959798985 38.42316895 L 4.31005025125628 38.42316895 L 4.352261306532662 38.42316895 L 4.394472361809044 38.42316895 L 4.436683417085426 38.42316895 L 4.478894472361808 38.42316895 L 4.5211055276381895 38.42316895 L 4.563316582914572 38.42316895 L 4.605527638190954 38.42316895 L 4.6477386934673355 38.42316895 L 4.689949748743717 38.42316895 L 4.7321608040201 38.42316895 L 4.7743718592964814 38.42316895 L 4.816582914572863 38.42316895 L 4.858793969849245 38.42316895 L 4.901005025125627 38.42316895 L 4.943216080402009 38.42316895 L 4.985427135678391 38.42316895 L 5.0276381909547725 38.42316895 L 5.069849246231154 38.42316895 L 5.112060301507537 38.42316895 L 5.1542713567839185 38.42316895 L 5.1964824120603 38.42316895 L 5.238693467336682 38.42316895 L 5.280904522613064 38.42316895 L 5.323115577889446 38.42316895 L 5.365326633165828 38.42316895 L 5.4075376884422095 38.42316895 L 5.449748743718592 38.42316895 L 5.491959798994974 38.42316895 L 5.5341708542713555 38.42316895 L 5.576381909547737 38.42316895 L 5.61859296482412 38.42316895 L 5.660804020100501 38.42316895 L 5.703015075376883 38.42316895 L 5.745226130653265 38.42316895 L 5.7874371859296465 38.42316895 L 5.829648241206029 38.42316895 L 5.871859296482411 38.42316895 L 5.9140703517587925 38.42316895 L 5.956281407035174 38.42316895 L 5.998492462311557 38.42316895 L 6.040703517587938 38.42316895 L 6.08291457286432 38.42316895 L 6.125125628140702 38.42316895 L 6.167336683417084 38.42316895 L 6.209547738693466 38.42316895 L 6.251758793969848 38.42316895 L 6.2939698492462295 38.42316895 L 6.336180904522612 38.42316895 L 6.378391959798994 38.42316895 L 6.4206030150753755 38.42316895 L 6.462814070351757 38.42316895 L 6.505025125628139 38.42316895 L 6.547236180904521 38.42316895 L 6.589447236180903 38.42316895 L 6.631658291457285 38.42316895 L 6.6738693467336665 38.42316895 L 6.716080402010049 38.42316895 L 6.758291457286431 38.42316895 L 6.8005025125628125 38.42316895 L 6.842713567839194 38.42316895 L 6.884924623115577 38.42316895 L 6.927135678391958 38.42316895 L 6.96934673366834 38.42316895 L 7.011557788944722 38.42316895 L 7.053768844221104 38.42316895 L 7.095979899497486 38.42316895 L 7.138190954773868 38.42316895 L 7.1804020100502495 38.42316895 L 7.222613065326631 38.42316895 L 7.264824120603014 38.42316895 L 7.307035175879395 38.42316895 L 7.349246231155777 38.42316895 L 7.391457286432159 38.42316895 L 7.433668341708541 38.42316895 L 7.475879396984923 38.42316895 L 7.518090452261305 38.42316895 L 7.5603015075376865 38.42316895 L 7.602512562814069 38.42316895 L 7.644723618090451 38.42316895 L 7.6869346733668324 38.42316895 L 7.729145728643214 38.42316895 L 7.771356783919596 38.42316895 L 7.813567839195978 38.42316895 L 7.85577889447236 38.42316895 L 7.897989949748742 38.42316895 L 7.9402010050251235 38.42316895 L 7.982412060301506 38.42316895 L 8.024623115577889 38.42316895 L 8.06683417085427 38.42316895 L 8.109045226130652 38.42316895 L 8.151256281407035 38.42316895 L 8.193467336683415 38.42316895 L 8.235678391959798 38.42316895 L 8.277889447236179 38.42316895 L 8.320100502512561 38.42316895 L 8.362311557788944 38.42316895 L 8.404522613065325 38.42316895 L 8.446733668341707 38.42316895 L 8.48894472361809 38.42316895 L 8.53115577889447 38.42316895 L 8.573366834170853 38.42316895 L 8.615577889447236 38.42316895 L 8.657788944723617 38.42316895 L 8.7 38.42316895",
          "type": "path"
         }
        ],
        "template": {
         "data": {
          "bar": [
           {
            "error_x": {
             "color": "#2a3f5f"
            },
            "error_y": {
             "color": "#2a3f5f"
            },
            "marker": {
             "line": {
              "color": "white",
              "width": 0.5
             },
             "pattern": {
              "fillmode": "overlay",
              "size": 10,
              "solidity": 0.2
             }
            },
            "type": "bar"
           }
          ],
          "barpolar": [
           {
            "marker": {
             "line": {
              "color": "white",
              "width": 0.5
             },
             "pattern": {
              "fillmode": "overlay",
              "size": 10,
              "solidity": 0.2
             }
            },
            "type": "barpolar"
           }
          ],
          "box": [
           {
            "boxpoints": "outliers",
            "notched": false,
            "type": "box"
           }
          ],
          "carpet": [
           {
            "aaxis": {
             "endlinecolor": "#2a3f5f",
             "gridcolor": "#C8D4E3",
             "linecolor": "#C8D4E3",
             "minorgridcolor": "#C8D4E3",
             "startlinecolor": "#2a3f5f"
            },
            "baxis": {
             "endlinecolor": "#2a3f5f",
             "gridcolor": "#C8D4E3",
             "linecolor": "#C8D4E3",
             "minorgridcolor": "#C8D4E3",
             "startlinecolor": "#2a3f5f"
            },
            "type": "carpet"
           }
          ],
          "choropleth": [
           {
            "colorbar": {
             "outlinewidth": 0,
             "ticks": ""
            },
            "type": "choropleth"
           }
          ],
          "contour": [
           {
            "colorbar": {
             "outlinewidth": 0,
             "ticks": ""
            },
            "colorscale": [
             [
              0,
              "#0d0887"
             ],
             [
              0.1111111111111111,
              "#46039f"
             ],
             [
              0.2222222222222222,
              "#7201a8"
             ],
             [
              0.3333333333333333,
              "#9c179e"
             ],
             [
              0.4444444444444444,
              "#bd3786"
             ],
             [
              0.5555555555555556,
              "#d8576b"
             ],
             [
              0.6666666666666666,
              "#ed7953"
             ],
             [
              0.7777777777777778,
              "#fb9f3a"
             ],
             [
              0.8888888888888888,
              "#fdca26"
             ],
             [
              1,
              "#f0f921"
             ]
            ],
            "type": "contour"
           }
          ],
          "contourcarpet": [
           {
            "colorbar": {
             "outlinewidth": 0,
             "ticks": ""
            },
            "type": "contourcarpet"
           }
          ],
          "heatmap": [
           {
            "colorbar": {
             "outlinewidth": 0,
             "ticks": ""
            },
            "colorscale": [
             [
              0,
              "#0d0887"
             ],
             [
              0.1111111111111111,
              "#46039f"
             ],
             [
              0.2222222222222222,
              "#7201a8"
             ],
             [
              0.3333333333333333,
              "#9c179e"
             ],
             [
              0.4444444444444444,
              "#bd3786"
             ],
             [
              0.5555555555555556,
              "#d8576b"
             ],
             [
              0.6666666666666666,
              "#ed7953"
             ],
             [
              0.7777777777777778,
              "#fb9f3a"
             ],
             [
              0.8888888888888888,
              "#fdca26"
             ],
             [
              1,
              "#f0f921"
             ]
            ],
            "type": "heatmap"
           }
          ],
          "heatmapgl": [
           {
            "colorbar": {
             "outlinewidth": 0,
             "ticks": ""
            },
            "colorscale": [
             [
              0,
              "#0d0887"
             ],
             [
              0.1111111111111111,
              "#46039f"
             ],
             [
              0.2222222222222222,
              "#7201a8"
             ],
             [
              0.3333333333333333,
              "#9c179e"
             ],
             [
              0.4444444444444444,
              "#bd3786"
             ],
             [
              0.5555555555555556,
              "#d8576b"
             ],
             [
              0.6666666666666666,
              "#ed7953"
             ],
             [
              0.7777777777777778,
              "#fb9f3a"
             ],
             [
              0.8888888888888888,
              "#fdca26"
             ],
             [
              1,
              "#f0f921"
             ]
            ],
            "type": "heatmapgl"
           }
          ],
          "histogram": [
           {
            "marker": {
             "line": {
              "width": 1
             },
             "pattern": {
              "fillmode": "overlay",
              "size": 10,
              "solidity": 0.2
             }
            },
            "type": "histogram"
           }
          ],
          "histogram2d": [
           {
            "colorbar": {
             "outlinewidth": 0,
             "ticks": ""
            },
            "colorscale": [
             [
              0,
              "#0d0887"
             ],
             [
              0.1111111111111111,
              "#46039f"
             ],
             [
              0.2222222222222222,
              "#7201a8"
             ],
             [
              0.3333333333333333,
              "#9c179e"
             ],
             [
              0.4444444444444444,
              "#bd3786"
             ],
             [
              0.5555555555555556,
              "#d8576b"
             ],
             [
              0.6666666666666666,
              "#ed7953"
             ],
             [
              0.7777777777777778,
              "#fb9f3a"
             ],
             [
              0.8888888888888888,
              "#fdca26"
             ],
             [
              1,
              "#f0f921"
             ]
            ],
            "type": "histogram2d"
           }
          ],
          "histogram2dcontour": [
           {
            "colorbar": {
             "outlinewidth": 0,
             "ticks": ""
            },
            "colorscale": [
             [
              0,
              "#0d0887"
             ],
             [
              0.1111111111111111,
              "#46039f"
             ],
             [
              0.2222222222222222,
              "#7201a8"
             ],
             [
              0.3333333333333333,
              "#9c179e"
             ],
             [
              0.4444444444444444,
              "#bd3786"
             ],
             [
              0.5555555555555556,
              "#d8576b"
             ],
             [
              0.6666666666666666,
              "#ed7953"
             ],
             [
              0.7777777777777778,
              "#fb9f3a"
             ],
             [
              0.8888888888888888,
              "#fdca26"
             ],
             [
              1,
              "#f0f921"
             ]
            ],
            "type": "histogram2dcontour"
           }
          ],
          "mesh3d": [
           {
            "colorbar": {
             "outlinewidth": 0,
             "ticks": ""
            },
            "type": "mesh3d"
           }
          ],
          "parcoords": [
           {
            "line": {
             "colorbar": {
              "outlinewidth": 0,
              "ticks": ""
             }
            },
            "type": "parcoords"
           }
          ],
          "pie": [
           {
            "automargin": true,
            "type": "pie"
           }
          ],
          "scatter": [
           {
            "fillpattern": {
             "fillmode": "overlay",
             "size": 10,
             "solidity": 0.2
            },
            "marker": {
             "opacity": 0.8
            },
            "type": "scatter"
           }
          ],
          "scatter3d": [
           {
            "line": {
             "colorbar": {
              "outlinewidth": 0,
              "ticks": ""
             }
            },
            "marker": {
             "colorbar": {
              "outlinewidth": 0,
              "ticks": ""
             },
             "opacity": 0.8
            },
            "type": "scatter3d"
           }
          ],
          "scattercarpet": [
           {
            "marker": {
             "colorbar": {
              "outlinewidth": 0,
              "ticks": ""
             }
            },
            "type": "scattercarpet"
           }
          ],
          "scattergeo": [
           {
            "marker": {
             "colorbar": {
              "outlinewidth": 0,
              "ticks": ""
             }
            },
            "type": "scattergeo"
           }
          ],
          "scattergl": [
           {
            "marker": {
             "colorbar": {
              "outlinewidth": 0,
              "ticks": ""
             }
            },
            "type": "scattergl"
           }
          ],
          "scattermapbox": [
           {
            "marker": {
             "colorbar": {
              "outlinewidth": 0,
              "ticks": ""
             }
            },
            "type": "scattermapbox"
           }
          ],
          "scatterpolar": [
           {
            "marker": {
             "colorbar": {
              "outlinewidth": 0,
              "ticks": ""
             }
            },
            "type": "scatterpolar"
           }
          ],
          "scatterpolargl": [
           {
            "marker": {
             "colorbar": {
              "outlinewidth": 0,
              "ticks": ""
             }
            },
            "type": "scatterpolargl"
           }
          ],
          "scatterternary": [
           {
            "marker": {
             "colorbar": {
              "outlinewidth": 0,
              "ticks": ""
             }
            },
            "type": "scatterternary"
           }
          ],
          "surface": [
           {
            "colorbar": {
             "outlinewidth": 0,
             "ticks": ""
            },
            "colorscale": [
             [
              0,
              "#0d0887"
             ],
             [
              0.1111111111111111,
              "#46039f"
             ],
             [
              0.2222222222222222,
              "#7201a8"
             ],
             [
              0.3333333333333333,
              "#9c179e"
             ],
             [
              0.4444444444444444,
              "#bd3786"
             ],
             [
              0.5555555555555556,
              "#d8576b"
             ],
             [
              0.6666666666666666,
              "#ed7953"
             ],
             [
              0.7777777777777778,
              "#fb9f3a"
             ],
             [
              0.8888888888888888,
              "#fdca26"
             ],
             [
              1,
              "#f0f921"
             ]
            ],
            "type": "surface"
           }
          ],
          "table": [
           {
            "cells": {
             "fill": {
              "color": "#EBF0F8"
             },
             "line": {
              "color": "white"
             }
            },
            "header": {
             "fill": {
              "color": "#C8D4E3"
             },
             "line": {
              "color": "white"
             }
            },
            "type": "table"
           }
          ]
         },
         "layout": {
          "annotationdefaults": {
           "arrowcolor": "#2a3f5f",
           "arrowhead": 0,
           "arrowwidth": 1
          },
          "autotypenumbers": "strict",
          "coloraxis": {
           "colorbar": {
            "outlinewidth": 0,
            "ticks": ""
           }
          },
          "colorscale": {
           "diverging": [
            [
             0,
             "#8e0152"
            ],
            [
             0.1,
             "#c51b7d"
            ],
            [
             0.2,
             "#de77ae"
            ],
            [
             0.3,
             "#f1b6da"
            ],
            [
             0.4,
             "#fde0ef"
            ],
            [
             0.5,
             "#f7f7f7"
            ],
            [
             0.6,
             "#e6f5d0"
            ],
            [
             0.7,
             "#b8e186"
            ],
            [
             0.8,
             "#7fbc41"
            ],
            [
             0.9,
             "#4d9221"
            ],
            [
             1,
             "#276419"
            ]
           ],
           "sequential": [
            [
             0,
             "#0d0887"
            ],
            [
             0.1111111111111111,
             "#46039f"
            ],
            [
             0.2222222222222222,
             "#7201a8"
            ],
            [
             0.3333333333333333,
             "#9c179e"
            ],
            [
             0.4444444444444444,
             "#bd3786"
            ],
            [
             0.5555555555555556,
             "#d8576b"
            ],
            [
             0.6666666666666666,
             "#ed7953"
            ],
            [
             0.7777777777777778,
             "#fb9f3a"
            ],
            [
             0.8888888888888888,
             "#fdca26"
            ],
            [
             1,
             "#f0f921"
            ]
           ],
           "sequentialminus": [
            [
             0,
             "#0d0887"
            ],
            [
             0.1111111111111111,
             "#46039f"
            ],
            [
             0.2222222222222222,
             "#7201a8"
            ],
            [
             0.3333333333333333,
             "#9c179e"
            ],
            [
             0.4444444444444444,
             "#bd3786"
            ],
            [
             0.5555555555555556,
             "#d8576b"
            ],
            [
             0.6666666666666666,
             "#ed7953"
            ],
            [
             0.7777777777777778,
             "#fb9f3a"
            ],
            [
             0.8888888888888888,
             "#fdca26"
            ],
            [
             1,
             "#f0f921"
            ]
           ]
          },
          "colorway": [
           "#636efa",
           "#EF553B",
           "#00cc96",
           "#ab63fa",
           "#FFA15A",
           "#19d3f3",
           "#FF6692",
           "#B6E880",
           "#FF97FF",
           "#FECB52"
          ],
          "font": {
           "color": "#2a3f5f"
          },
          "geo": {
           "bgcolor": "white",
           "lakecolor": "white",
           "landcolor": "white",
           "showlakes": true,
           "showland": true,
           "subunitcolor": "#C8D4E3"
          },
          "height": 400,
          "hoverlabel": {
           "align": "left"
          },
          "hovermode": "closest",
          "mapbox": {
           "style": "light"
          },
          "margin": {
           "b": 2,
           "l": 2,
           "r": 2,
           "t": 30
          },
          "paper_bgcolor": "white",
          "plot_bgcolor": "white",
          "polar": {
           "angularaxis": {
            "gridcolor": "#EBF0F8",
            "linecolor": "#EBF0F8",
            "ticks": ""
           },
           "bgcolor": "white",
           "radialaxis": {
            "gridcolor": "#EBF0F8",
            "linecolor": "#EBF0F8",
            "ticks": ""
           }
          },
          "scene": {
           "camera": {
            "eye": {
             "x": 1.5,
             "y": 1.5,
             "z": 0.1
            }
           },
           "xaxis": {
            "backgroundcolor": "white",
            "gridcolor": "#DFE8F3",
            "gridwidth": 2,
            "linecolor": "#EBF0F8",
            "showbackground": true,
            "ticks": "",
            "zerolinecolor": "#EBF0F8"
           },
           "yaxis": {
            "backgroundcolor": "white",
            "gridcolor": "#DFE8F3",
            "gridwidth": 2,
            "linecolor": "#EBF0F8",
            "showbackground": true,
            "ticks": "",
            "zerolinecolor": "#EBF0F8"
           },
           "zaxis": {
            "backgroundcolor": "white",
            "gridcolor": "#DFE8F3",
            "gridwidth": 2,
            "linecolor": "#EBF0F8",
            "showbackground": true,
            "ticks": "",
            "zerolinecolor": "#EBF0F8"
           }
          },
          "shapedefaults": {
           "line": {
            "color": "#2a3f5f"
           }
          },
          "ternary": {
           "aaxis": {
            "gridcolor": "#DFE8F3",
            "linecolor": "#A2B1C6",
            "ticks": ""
           },
           "baxis": {
            "gridcolor": "#DFE8F3",
            "linecolor": "#A2B1C6",
            "ticks": ""
           },
           "bgcolor": "white",
           "caxis": {
            "gridcolor": "#DFE8F3",
            "linecolor": "#A2B1C6",
            "ticks": ""
           }
          },
          "title": {
           "x": 0.5
          },
          "xaxis": {
           "automargin": true,
           "gridcolor": "#EBF0F8",
           "linecolor": "#EBF0F8",
           "linewidth": 2,
           "showline": true,
           "ticks": "",
           "title": {
            "standoff": 15
           },
           "zerolinecolor": "#EBF0F8",
           "zerolinewidth": 2
          },
          "yaxis": {
           "automargin": true,
           "gridcolor": "#EBF0F8",
           "linecolor": "#EBF0F8",
           "linewidth": 2,
           "showline": true,
           "ticks": "",
           "title": {
            "standoff": 15
           },
           "zerolinecolor": "#EBF0F8",
           "zerolinewidth": 2
          }
         }
        },
        "title": {
         "text": "Modelo ingenuo"
        },
        "xaxis": {
         "anchor": "y",
         "domain": [
          0,
          1
         ],
         "title": {
          "text": "age"
         }
        },
        "yaxis": {
         "anchor": "x",
         "domain": [
          0,
          1
         ],
         "title": {
          "text": "core temperature"
         }
        }
       }
      }
     },
     "metadata": {},
     "output_type": "display_data"
    },
    {
     "data": {
      "application/vnd.plotly.v1+json": {
       "config": {
        "plotlyServerURL": "https://plot.ly"
       },
       "data": [
        {
         "hovertemplate": "age=%{x}<br>core temperature=%{y}<extra></extra>",
         "legendgroup": "",
         "marker": {
          "color": "#636efa",
          "size": 17,
          "symbol": "circle"
         },
         "mode": "markers",
         "name": "",
         "orientation": "v",
         "showlegend": false,
         "type": "scatter",
         "x": [
          6.9,
          5.4,
          5.4,
          4.8,
          4.8,
          7.8,
          2.7,
          5.7,
          1.5,
          1.8,
          4.2,
          4.5,
          1.5,
          5.1,
          4.8,
          5.1,
          3.6,
          4.2,
          2.7,
          8.7,
          0.9,
          6.3,
          1.2,
          2.7,
          6,
          6,
          0.6,
          3.9,
          6,
          5.7,
          6.9,
          5.1,
          2.1,
          3.6,
          6.3,
          2.4,
          8.4,
          7.5,
          5.7,
          5.7,
          2.7,
          4.2,
          6.9,
          3,
          1.8,
          2.4,
          6.3,
          0.6,
          1.8,
          4.8,
          8.4,
          8.1,
          6.3,
          8.7,
          4.5,
          4.5,
          7.5,
          1.2,
          5.7,
          0.6,
          6.9,
          8.1,
          0.6,
          1.2,
          6.6,
          8.1,
          2.7,
          3.9,
          4.2,
          6.9,
          1.2,
          3.9,
          3.6,
          0.3,
          3,
          8.7,
          2.1,
          6.6,
          1.5,
          5.1,
          6,
          2.1,
          6,
          4.2,
          1.5,
          1.8,
          1.8,
          6.9,
          6.9,
          4.5,
          1.8,
          8.4,
          3,
          4.5,
          1.8,
          6.6,
          6.9,
          6
         ],
         "xaxis": "x",
         "y": [
          38.42316895,
          39.01599822,
          39.14834088,
          39.06004863,
          38.65543905,
          38.6092188,
          39.47390806,
          38.81521612,
          37.77845286,
          39.17685034,
          39.52090819,
          38.57896943,
          38.28013391,
          38.40158039,
          38.65157641,
          39.61720308,
          37.72843549,
          39.36694049,
          37.98848685,
          39.93405104,
          37.60559023,
          38.83468198,
          37.39892664,
          38.98633063,
          39.72456882,
          38.09695504,
          37.59597881,
          39.49731323,
          38.50187636,
          38.27036031,
          38.69964224,
          39.08411118,
          38.29400364,
          38.39872285,
          39.29951536,
          38.37598649,
          38.46968433,
          39.58561173,
          38.12682317,
          39.80156649,
          37.92682179,
          39.67264697,
          38.21409556,
          38.93217418,
          37.80121676,
          37.52097889,
          39.34942824,
          38.9163822,
          38.72595498,
          38.35421436,
          40.17337876,
          39.48214424,
          39.9557292,
          39.02529641,
          39.70565695,
          37.87210056,
          38.92730588,
          38.75694066,
          38.98157028,
          39.07020183,
          39.31023381,
          40.26487847,
          39.19531025,
          37.46606804,
          38.61929591,
          39.74308443,
          37.9590829,
          38.52387016,
          39.58821189,
          39.48780846,
          37.32113362,
          38.30311301,
          39.32598796,
          38.18373964,
          37.78518905,
          38.97361387,
          37.97719515,
          38.92654301,
          37.98922316,
          39.87010492,
          38.51344083,
          39.14710639,
          38.61129304,
          38.95232638,
          37.46812464,
          38.24131363,
          38.7661591,
          39.87233432,
          38.87492299,
          39.09337261,
          39.00124171,
          39.25963687,
          38.6808734,
          37.93994229,
          38.79042609,
          39.48996228,
          38.57574159,
          39.76644658
         ],
         "yaxis": "y"
        }
       ],
       "layout": {
        "legend": {
         "tracegroupgap": 0
        },
        "shapes": [
         {
          "line": {
           "color": "rgb(228,26,28)"
          },
          "path": "M0.3 38.13386942215629 L 0.3422110552763819 38.140342047540194 L 0.38442211055276376 38.1468146729241 L 0.4266331658291457 38.15328729830801 L 0.4688442211055276 38.159759923691915 L 0.5110552763819095 38.16623254907582 L 0.5532663316582913 38.17270517445973 L 0.5954773869346732 38.179177799843636 L 0.6376884422110551 38.18565042522754 L 0.679899497487437 38.19212305061145 L 0.722110552763819 38.19859567599536 L 0.7643216080402009 38.205068301379264 L 0.8065326633165828 38.21154092676317 L 0.8487437185929647 38.21801355214708 L 0.8909547738693466 38.224486177530984 L 0.9331658291457285 38.23095880291489 L 0.9753768844221105 38.2374314282988 L 1.0175879396984924 38.243904053682705 L 1.0597989949748743 38.25037667906661 L 1.1020100502512562 38.25684930445052 L 1.1442211055276381 38.263321929834426 L 1.1864321608040198 38.26979455521833 L 1.2286432160804017 38.27626718060224 L 1.2708542713567836 38.28273980598615 L 1.3130653266331656 38.28921243137005 L 1.3552763819095475 38.29568505675396 L 1.3974874371859294 38.30215768213787 L 1.4396984924623113 38.308630307521774 L 1.4819095477386932 38.31510293290568 L 1.5241206030150751 38.32157555828959 L 1.566331658291457 38.328048183673495 L 1.608542713567839 38.3345208090574 L 1.6507537688442209 38.34099343444131 L 1.6929648241206028 38.347466059825216 L 1.7351758793969847 38.35393868520912 L 1.7773869346733666 38.36041131059303 L 1.8195979899497485 38.36688393597694 L 1.8618090452261304 38.37335656136084 L 1.9040201005025124 38.37982918674475 L 1.9462311557788943 38.38630181212866 L 1.9884422110552762 38.392774437512564 L 2.0306532663316577 38.39924706289647 L 2.07286432160804 38.40571968828038 L 2.1150753768844215 38.412192313664285 L 2.1572864321608036 38.41866493904819 L 2.1994974874371853 38.4251375644321 L 2.2417085427135675 38.431610189816006 L 2.283919597989949 38.43808281519991 L 2.326130653266331 38.44455544058382 L 2.368341708542713 38.451028065967726 L 2.4105527638190947 38.45750069135163 L 2.452763819095477 38.46397331673554 L 2.4949748743718585 38.47044594211945 L 2.5371859296482406 38.476918567503354 L 2.5793969849246223 38.48339119288726 L 2.6216080402010045 38.48986381827117 L 2.663819095477386 38.496336443655075 L 2.7060301507537683 38.50280906903898 L 2.74824120603015 38.50928169442289 L 2.790452261306532 38.515754319806796 L 2.832663316582914 38.5222269451907 L 2.874874371859296 38.52869957057461 L 2.9170854271356776 38.535172195958516 L 2.95929648241206 38.54164482134242 L 3.0015075376884415 38.54811744672633 L 3.043718592964823 38.55459007211024 L 3.0859296482412053 38.561062697494144 L 3.128140703517587 38.56753532287805 L 3.170351758793969 38.57400794826196 L 3.212562814070351 38.580480573645865 L 3.254773869346733 38.58695319902977 L 3.2969849246231147 38.59342582441368 L 3.339195979899497 38.599898449797585 L 3.3814070351758785 38.60637107518149 L 3.4236180904522606 38.6128437005654 L 3.4658291457286423 38.619316325949306 L 3.5080402010050244 38.62578895133321 L 3.550251256281406 38.63226157671712 L 3.5924623115577883 38.63873420210103 L 3.63467336683417 38.645206827484934 L 3.676884422110552 38.65167945286884 L 3.719095477386934 38.65815207825275 L 3.7613065326633155 38.664624703636655 L 3.8035175879396976 38.67109732902056 L 3.8457286432160793 38.67756995440447 L 3.8879396984924615 38.684042579788375 L 3.930150753768843 38.69051520517228 L 3.9723618090452253 38.69698783055619 L 4.014572864321607 38.703460455940096 L 4.056783919597989 38.709933081324 L 4.098994974874371 38.71640570670791 L 4.141206030150753 38.72287833209182 L 4.183417085427135 38.729350957475724 L 4.225628140703517 38.73582358285963 L 4.2678391959798985 38.74229620824354 L 4.31005025125628 38.748768833627445 L 4.352261306532662 38.75524145901135 L 4.394472361809044 38.76171408439526 L 4.436683417085426 38.768186709779165 L 4.478894472361808 38.77465933516307 L 4.5211055276381895 38.78113196054698 L 4.563316582914572 38.787604585930886 L 4.605527638190954 38.79407721131479 L 4.6477386934673355 38.8005498366987 L 4.689949748743717 38.80702246208261 L 4.7321608040201 38.813495087466514 L 4.7743718592964814 38.81996771285042 L 4.816582914572863 38.82644033823433 L 4.858793969849245 38.832912963618234 L 4.901005025125627 38.83938558900214 L 4.943216080402009 38.84585821438605 L 4.985427135678391 38.852330839769955 L 5.0276381909547725 38.85880346515386 L 5.069849246231154 38.86527609053777 L 5.112060301507537 38.871748715921676 L 5.1542713567839185 38.87822134130558 L 5.1964824120603 38.88469396668949 L 5.238693467336682 38.8911665920734 L 5.280904522613064 38.897639217457304 L 5.323115577889446 38.90411184284121 L 5.365326633165828 38.91058446822512 L 5.4075376884422095 38.917057093609024 L 5.449748743718592 38.92352971899293 L 5.491959798994974 38.93000234437684 L 5.5341708542713555 38.936474969760745 L 5.576381909547737 38.94294759514465 L 5.61859296482412 38.94942022052856 L 5.660804020100501 38.955892845912466 L 5.703015075376883 38.96236547129637 L 5.745226130653265 38.96883809668028 L 5.7874371859296465 38.97531072206419 L 5.829648241206029 38.98178334744809 L 5.871859296482411 38.988255972832 L 5.9140703517587925 38.99472859821591 L 5.956281407035174 39.001201223599814 L 5.998492462311557 39.00767384898372 L 6.040703517587938 39.01414647436763 L 6.08291457286432 39.020619099751535 L 6.125125628140702 39.02709172513544 L 6.167336683417084 39.03356435051935 L 6.209547738693466 39.040036975903256 L 6.251758793969848 39.04650960128716 L 6.2939698492462295 39.05298222667107 L 6.336180904522612 39.05945485205498 L 6.378391959798994 39.06592747743888 L 6.4206030150753755 39.07240010282279 L 6.462814070351757 39.0788727282067 L 6.505025125628139 39.085345353590604 L 6.547236180904521 39.09181797897451 L 6.589447236180903 39.09829060435842 L 6.631658291457285 39.104763229742325 L 6.6738693467336665 39.11123585512623 L 6.716080402010049 39.11770848051014 L 6.758291457286431 39.124181105894046 L 6.8005025125628125 39.13065373127795 L 6.842713567839194 39.13712635666186 L 6.884924623115577 39.143598982045766 L 6.927135678391958 39.15007160742967 L 6.96934673366834 39.15654423281358 L 7.011557788944722 39.16301685819749 L 7.053768844221104 39.169489483581394 L 7.095979899497486 39.1759621089653 L 7.138190954773868 39.18243473434921 L 7.1804020100502495 39.188907359733115 L 7.222613065326631 39.19537998511702 L 7.264824120603014 39.20185261050093 L 7.307035175879395 39.208325235884836 L 7.349246231155777 39.21479786126874 L 7.391457286432159 39.22127048665265 L 7.433668341708541 39.227743112036556 L 7.475879396984923 39.23421573742046 L 7.518090452261305 39.24068836280437 L 7.5603015075376865 39.24716098818828 L 7.602512562814069 39.253633613572184 L 7.644723618090451 39.26010623895609 L 7.6869346733668324 39.26657886434 L 7.729145728643214 39.273051489723905 L 7.771356783919596 39.27952411510781 L 7.813567839195978 39.28599674049172 L 7.85577889447236 39.292469365875625 L 7.897989949748742 39.29894199125953 L 7.9402010050251235 39.30541461664344 L 7.982412060301506 39.311887242027346 L 8.024623115577889 39.31835986741125 L 8.06683417085427 39.32483249279516 L 8.109045226130652 39.33130511817907 L 8.151256281407035 39.337777743562974 L 8.193467336683415 39.34425036894688 L 8.235678391959798 39.35072299433079 L 8.277889447236179 39.357195619714695 L 8.320100502512561 39.3636682450986 L 8.362311557788944 39.37014087048251 L 8.404522613065325 39.376613495866415 L 8.446733668341707 39.38308612125032 L 8.48894472361809 39.38955874663423 L 8.53115577889447 39.396031372018136 L 8.573366834170853 39.40250399740204 L 8.615577889447236 39.40897662278595 L 8.657788944723617 39.41544924816986 L 8.7 39.421921873553764",
          "type": "path"
         }
        ],
        "template": {
         "data": {
          "bar": [
           {
            "error_x": {
             "color": "#2a3f5f"
            },
            "error_y": {
             "color": "#2a3f5f"
            },
            "marker": {
             "line": {
              "color": "white",
              "width": 0.5
             },
             "pattern": {
              "fillmode": "overlay",
              "size": 10,
              "solidity": 0.2
             }
            },
            "type": "bar"
           }
          ],
          "barpolar": [
           {
            "marker": {
             "line": {
              "color": "white",
              "width": 0.5
             },
             "pattern": {
              "fillmode": "overlay",
              "size": 10,
              "solidity": 0.2
             }
            },
            "type": "barpolar"
           }
          ],
          "box": [
           {
            "boxpoints": "outliers",
            "notched": false,
            "type": "box"
           }
          ],
          "carpet": [
           {
            "aaxis": {
             "endlinecolor": "#2a3f5f",
             "gridcolor": "#C8D4E3",
             "linecolor": "#C8D4E3",
             "minorgridcolor": "#C8D4E3",
             "startlinecolor": "#2a3f5f"
            },
            "baxis": {
             "endlinecolor": "#2a3f5f",
             "gridcolor": "#C8D4E3",
             "linecolor": "#C8D4E3",
             "minorgridcolor": "#C8D4E3",
             "startlinecolor": "#2a3f5f"
            },
            "type": "carpet"
           }
          ],
          "choropleth": [
           {
            "colorbar": {
             "outlinewidth": 0,
             "ticks": ""
            },
            "type": "choropleth"
           }
          ],
          "contour": [
           {
            "colorbar": {
             "outlinewidth": 0,
             "ticks": ""
            },
            "colorscale": [
             [
              0,
              "#0d0887"
             ],
             [
              0.1111111111111111,
              "#46039f"
             ],
             [
              0.2222222222222222,
              "#7201a8"
             ],
             [
              0.3333333333333333,
              "#9c179e"
             ],
             [
              0.4444444444444444,
              "#bd3786"
             ],
             [
              0.5555555555555556,
              "#d8576b"
             ],
             [
              0.6666666666666666,
              "#ed7953"
             ],
             [
              0.7777777777777778,
              "#fb9f3a"
             ],
             [
              0.8888888888888888,
              "#fdca26"
             ],
             [
              1,
              "#f0f921"
             ]
            ],
            "type": "contour"
           }
          ],
          "contourcarpet": [
           {
            "colorbar": {
             "outlinewidth": 0,
             "ticks": ""
            },
            "type": "contourcarpet"
           }
          ],
          "heatmap": [
           {
            "colorbar": {
             "outlinewidth": 0,
             "ticks": ""
            },
            "colorscale": [
             [
              0,
              "#0d0887"
             ],
             [
              0.1111111111111111,
              "#46039f"
             ],
             [
              0.2222222222222222,
              "#7201a8"
             ],
             [
              0.3333333333333333,
              "#9c179e"
             ],
             [
              0.4444444444444444,
              "#bd3786"
             ],
             [
              0.5555555555555556,
              "#d8576b"
             ],
             [
              0.6666666666666666,
              "#ed7953"
             ],
             [
              0.7777777777777778,
              "#fb9f3a"
             ],
             [
              0.8888888888888888,
              "#fdca26"
             ],
             [
              1,
              "#f0f921"
             ]
            ],
            "type": "heatmap"
           }
          ],
          "heatmapgl": [
           {
            "colorbar": {
             "outlinewidth": 0,
             "ticks": ""
            },
            "colorscale": [
             [
              0,
              "#0d0887"
             ],
             [
              0.1111111111111111,
              "#46039f"
             ],
             [
              0.2222222222222222,
              "#7201a8"
             ],
             [
              0.3333333333333333,
              "#9c179e"
             ],
             [
              0.4444444444444444,
              "#bd3786"
             ],
             [
              0.5555555555555556,
              "#d8576b"
             ],
             [
              0.6666666666666666,
              "#ed7953"
             ],
             [
              0.7777777777777778,
              "#fb9f3a"
             ],
             [
              0.8888888888888888,
              "#fdca26"
             ],
             [
              1,
              "#f0f921"
             ]
            ],
            "type": "heatmapgl"
           }
          ],
          "histogram": [
           {
            "marker": {
             "line": {
              "width": 1
             },
             "pattern": {
              "fillmode": "overlay",
              "size": 10,
              "solidity": 0.2
             }
            },
            "type": "histogram"
           }
          ],
          "histogram2d": [
           {
            "colorbar": {
             "outlinewidth": 0,
             "ticks": ""
            },
            "colorscale": [
             [
              0,
              "#0d0887"
             ],
             [
              0.1111111111111111,
              "#46039f"
             ],
             [
              0.2222222222222222,
              "#7201a8"
             ],
             [
              0.3333333333333333,
              "#9c179e"
             ],
             [
              0.4444444444444444,
              "#bd3786"
             ],
             [
              0.5555555555555556,
              "#d8576b"
             ],
             [
              0.6666666666666666,
              "#ed7953"
             ],
             [
              0.7777777777777778,
              "#fb9f3a"
             ],
             [
              0.8888888888888888,
              "#fdca26"
             ],
             [
              1,
              "#f0f921"
             ]
            ],
            "type": "histogram2d"
           }
          ],
          "histogram2dcontour": [
           {
            "colorbar": {
             "outlinewidth": 0,
             "ticks": ""
            },
            "colorscale": [
             [
              0,
              "#0d0887"
             ],
             [
              0.1111111111111111,
              "#46039f"
             ],
             [
              0.2222222222222222,
              "#7201a8"
             ],
             [
              0.3333333333333333,
              "#9c179e"
             ],
             [
              0.4444444444444444,
              "#bd3786"
             ],
             [
              0.5555555555555556,
              "#d8576b"
             ],
             [
              0.6666666666666666,
              "#ed7953"
             ],
             [
              0.7777777777777778,
              "#fb9f3a"
             ],
             [
              0.8888888888888888,
              "#fdca26"
             ],
             [
              1,
              "#f0f921"
             ]
            ],
            "type": "histogram2dcontour"
           }
          ],
          "mesh3d": [
           {
            "colorbar": {
             "outlinewidth": 0,
             "ticks": ""
            },
            "type": "mesh3d"
           }
          ],
          "parcoords": [
           {
            "line": {
             "colorbar": {
              "outlinewidth": 0,
              "ticks": ""
             }
            },
            "type": "parcoords"
           }
          ],
          "pie": [
           {
            "automargin": true,
            "type": "pie"
           }
          ],
          "scatter": [
           {
            "fillpattern": {
             "fillmode": "overlay",
             "size": 10,
             "solidity": 0.2
            },
            "marker": {
             "opacity": 0.8
            },
            "type": "scatter"
           }
          ],
          "scatter3d": [
           {
            "line": {
             "colorbar": {
              "outlinewidth": 0,
              "ticks": ""
             }
            },
            "marker": {
             "colorbar": {
              "outlinewidth": 0,
              "ticks": ""
             },
             "opacity": 0.8
            },
            "type": "scatter3d"
           }
          ],
          "scattercarpet": [
           {
            "marker": {
             "colorbar": {
              "outlinewidth": 0,
              "ticks": ""
             }
            },
            "type": "scattercarpet"
           }
          ],
          "scattergeo": [
           {
            "marker": {
             "colorbar": {
              "outlinewidth": 0,
              "ticks": ""
             }
            },
            "type": "scattergeo"
           }
          ],
          "scattergl": [
           {
            "marker": {
             "colorbar": {
              "outlinewidth": 0,
              "ticks": ""
             }
            },
            "type": "scattergl"
           }
          ],
          "scattermapbox": [
           {
            "marker": {
             "colorbar": {
              "outlinewidth": 0,
              "ticks": ""
             }
            },
            "type": "scattermapbox"
           }
          ],
          "scatterpolar": [
           {
            "marker": {
             "colorbar": {
              "outlinewidth": 0,
              "ticks": ""
             }
            },
            "type": "scatterpolar"
           }
          ],
          "scatterpolargl": [
           {
            "marker": {
             "colorbar": {
              "outlinewidth": 0,
              "ticks": ""
             }
            },
            "type": "scatterpolargl"
           }
          ],
          "scatterternary": [
           {
            "marker": {
             "colorbar": {
              "outlinewidth": 0,
              "ticks": ""
             }
            },
            "type": "scatterternary"
           }
          ],
          "surface": [
           {
            "colorbar": {
             "outlinewidth": 0,
             "ticks": ""
            },
            "colorscale": [
             [
              0,
              "#0d0887"
             ],
             [
              0.1111111111111111,
              "#46039f"
             ],
             [
              0.2222222222222222,
              "#7201a8"
             ],
             [
              0.3333333333333333,
              "#9c179e"
             ],
             [
              0.4444444444444444,
              "#bd3786"
             ],
             [
              0.5555555555555556,
              "#d8576b"
             ],
             [
              0.6666666666666666,
              "#ed7953"
             ],
             [
              0.7777777777777778,
              "#fb9f3a"
             ],
             [
              0.8888888888888888,
              "#fdca26"
             ],
             [
              1,
              "#f0f921"
             ]
            ],
            "type": "surface"
           }
          ],
          "table": [
           {
            "cells": {
             "fill": {
              "color": "#EBF0F8"
             },
             "line": {
              "color": "white"
             }
            },
            "header": {
             "fill": {
              "color": "#C8D4E3"
             },
             "line": {
              "color": "white"
             }
            },
            "type": "table"
           }
          ]
         },
         "layout": {
          "annotationdefaults": {
           "arrowcolor": "#2a3f5f",
           "arrowhead": 0,
           "arrowwidth": 1
          },
          "autotypenumbers": "strict",
          "coloraxis": {
           "colorbar": {
            "outlinewidth": 0,
            "ticks": ""
           }
          },
          "colorscale": {
           "diverging": [
            [
             0,
             "#8e0152"
            ],
            [
             0.1,
             "#c51b7d"
            ],
            [
             0.2,
             "#de77ae"
            ],
            [
             0.3,
             "#f1b6da"
            ],
            [
             0.4,
             "#fde0ef"
            ],
            [
             0.5,
             "#f7f7f7"
            ],
            [
             0.6,
             "#e6f5d0"
            ],
            [
             0.7,
             "#b8e186"
            ],
            [
             0.8,
             "#7fbc41"
            ],
            [
             0.9,
             "#4d9221"
            ],
            [
             1,
             "#276419"
            ]
           ],
           "sequential": [
            [
             0,
             "#0d0887"
            ],
            [
             0.1111111111111111,
             "#46039f"
            ],
            [
             0.2222222222222222,
             "#7201a8"
            ],
            [
             0.3333333333333333,
             "#9c179e"
            ],
            [
             0.4444444444444444,
             "#bd3786"
            ],
            [
             0.5555555555555556,
             "#d8576b"
            ],
            [
             0.6666666666666666,
             "#ed7953"
            ],
            [
             0.7777777777777778,
             "#fb9f3a"
            ],
            [
             0.8888888888888888,
             "#fdca26"
            ],
            [
             1,
             "#f0f921"
            ]
           ],
           "sequentialminus": [
            [
             0,
             "#0d0887"
            ],
            [
             0.1111111111111111,
             "#46039f"
            ],
            [
             0.2222222222222222,
             "#7201a8"
            ],
            [
             0.3333333333333333,
             "#9c179e"
            ],
            [
             0.4444444444444444,
             "#bd3786"
            ],
            [
             0.5555555555555556,
             "#d8576b"
            ],
            [
             0.6666666666666666,
             "#ed7953"
            ],
            [
             0.7777777777777778,
             "#fb9f3a"
            ],
            [
             0.8888888888888888,
             "#fdca26"
            ],
            [
             1,
             "#f0f921"
            ]
           ]
          },
          "colorway": [
           "#636efa",
           "#EF553B",
           "#00cc96",
           "#ab63fa",
           "#FFA15A",
           "#19d3f3",
           "#FF6692",
           "#B6E880",
           "#FF97FF",
           "#FECB52"
          ],
          "font": {
           "color": "#2a3f5f"
          },
          "geo": {
           "bgcolor": "white",
           "lakecolor": "white",
           "landcolor": "white",
           "showlakes": true,
           "showland": true,
           "subunitcolor": "#C8D4E3"
          },
          "height": 400,
          "hoverlabel": {
           "align": "left"
          },
          "hovermode": "closest",
          "mapbox": {
           "style": "light"
          },
          "margin": {
           "b": 2,
           "l": 2,
           "r": 2,
           "t": 30
          },
          "paper_bgcolor": "white",
          "plot_bgcolor": "white",
          "polar": {
           "angularaxis": {
            "gridcolor": "#EBF0F8",
            "linecolor": "#EBF0F8",
            "ticks": ""
           },
           "bgcolor": "white",
           "radialaxis": {
            "gridcolor": "#EBF0F8",
            "linecolor": "#EBF0F8",
            "ticks": ""
           }
          },
          "scene": {
           "camera": {
            "eye": {
             "x": 1.5,
             "y": 1.5,
             "z": 0.1
            }
           },
           "xaxis": {
            "backgroundcolor": "white",
            "gridcolor": "#DFE8F3",
            "gridwidth": 2,
            "linecolor": "#EBF0F8",
            "showbackground": true,
            "ticks": "",
            "zerolinecolor": "#EBF0F8"
           },
           "yaxis": {
            "backgroundcolor": "white",
            "gridcolor": "#DFE8F3",
            "gridwidth": 2,
            "linecolor": "#EBF0F8",
            "showbackground": true,
            "ticks": "",
            "zerolinecolor": "#EBF0F8"
           },
           "zaxis": {
            "backgroundcolor": "white",
            "gridcolor": "#DFE8F3",
            "gridwidth": 2,
            "linecolor": "#EBF0F8",
            "showbackground": true,
            "ticks": "",
            "zerolinecolor": "#EBF0F8"
           }
          },
          "shapedefaults": {
           "line": {
            "color": "#2a3f5f"
           }
          },
          "ternary": {
           "aaxis": {
            "gridcolor": "#DFE8F3",
            "linecolor": "#A2B1C6",
            "ticks": ""
           },
           "baxis": {
            "gridcolor": "#DFE8F3",
            "linecolor": "#A2B1C6",
            "ticks": ""
           },
           "bgcolor": "white",
           "caxis": {
            "gridcolor": "#DFE8F3",
            "linecolor": "#A2B1C6",
            "ticks": ""
           }
          },
          "title": {
           "x": 0.5
          },
          "xaxis": {
           "automargin": true,
           "gridcolor": "#EBF0F8",
           "linecolor": "#EBF0F8",
           "linewidth": 2,
           "showline": true,
           "ticks": "",
           "title": {
            "standoff": 15
           },
           "zerolinecolor": "#EBF0F8",
           "zerolinewidth": 2
          },
          "yaxis": {
           "automargin": true,
           "gridcolor": "#EBF0F8",
           "linecolor": "#EBF0F8",
           "linewidth": 2,
           "showline": true,
           "ticks": "",
           "title": {
            "standoff": 15
           },
           "zerolinecolor": "#EBF0F8",
           "zerolinewidth": 2
          }
         }
        },
        "title": {
         "text": "Modelo entrenado"
        },
        "xaxis": {
         "anchor": "y",
         "domain": [
          0,
          1
         ],
         "title": {
          "text": "age"
         }
        },
        "yaxis": {
         "anchor": "x",
         "domain": [
          0,
          1
         ],
         "title": {
          "text": "core temperature"
         }
        }
       }
      }
     },
     "metadata": {},
     "output_type": "display_data"
    }
   ],
   "source": [
    "formula = \"core_temperature ~ age\"\n",
    "age_trained_model = smf.ols(formula = formula, data = dataset).fit()\n",
    "age_naive_model = smf.ols(formula = formula, data = dataset).fit()\n",
    "age_naive_model.params[0] = dataset['core_temperature'].mean()\n",
    "age_naive_model.params[1] = 0\n",
    "\n",
    "print(\"naive R-squared:\", age_naive_model.rsquared)\n",
    "print(\"trained R-squared:\", age_trained_model.rsquared)\n",
    "\n",
    "# mira elgrafico de resultados\n",
    "graphing.scatter_2D(dataset, label_x=\"age\", \n",
    "                                label_y=\"core_temperature\",\n",
    "                                title = \"Modelo ingenuo\",\n",
    "                                trendline=lambda x: dataset['core_temperature'].repeat(len(x)), \n",
    "                                show=True)\n",
    "# mira el grafico de resultados\n",
    "graphing.scatter_2D(dataset, label_x=\"age\", \n",
    "                                label_y=\"core_temperature\",\n",
    "                                title = \"Modelo entrenado\",\n",
    "                                trendline=lambda x: age_trained_model.params[1] * x + age_trained_model.params[0])"
   ]
  },
  {
   "attachments": {},
   "cell_type": "markdown",
   "metadata": {},
   "source": [
    "    Regresión lineal múltiple \n",
    "En lugar de modelarlos por separado, intentemos combinarlos en un solo modelo. Después de todo, la grasa corporal no parecía ser útil, así que usemos el sexo masculino y la edad como características."
   ]
  },
  {
   "cell_type": "code",
   "execution_count": 17,
   "metadata": {},
   "outputs": [
    {
     "name": "stdout",
     "output_type": "stream",
     "text": [
      "R-squared: 0.31485126997680135\n"
     ]
    }
   ],
   "source": [
    "model = smf.ols(formula = \"core_temperature ~ age + male\", data = dataset).fit()\n",
    "\n",
    "print(\"R-squared:\", model.rsquared)"
   ]
  },
  {
   "attachments": {},
   "cell_type": "markdown",
   "metadata": {},
   "source": [
    "Al usar ambas características al mismo tiempo, obtuvimos un mejor resultado que cualquiera de los modelos de una característica (univariante). \n",
    "\n",
    "Sin embargo, ¿cómo podemos ver esto? Bueno, se dibuja una regresión lineal simple en 2d. Si estamos trabajando con una variable extra, agregamos una dimensión y trabajamos en 3D."
   ]
  },
  {
   "cell_type": "code",
   "execution_count": 19,
   "metadata": {},
   "outputs": [
    {
     "data": {
      "application/vnd.plotly.v1+json": {
       "config": {
        "plotlyServerURL": "https://plot.ly"
       },
       "data": [
        {
         "colorbar": {
          "title": {
           "text": "Core temperature"
          }
         },
         "type": "surface",
         "x": [
          0.3,
          8.7
         ],
         "y": [
          0,
          1
         ],
         "z": [
          [
           38.02152564683269,
           39.20287941382098
          ],
          [
           38.33969218635934,
           39.52104595334763
          ]
         ]
        },
        {
         "mode": "markers",
         "type": "scatter3d",
         "x": [
          6.9,
          5.4,
          5.4,
          4.8,
          4.8,
          7.8,
          2.7,
          5.7,
          1.5,
          1.8,
          4.2,
          4.5,
          1.5,
          5.1,
          4.8,
          5.1,
          3.6,
          4.2,
          2.7,
          8.7,
          0.9,
          6.3,
          1.2,
          2.7,
          6,
          6,
          0.6,
          3.9,
          6,
          5.7,
          6.9,
          5.1,
          2.1,
          3.6,
          6.3,
          2.4,
          8.4,
          7.5,
          5.7,
          5.7,
          2.7,
          4.2,
          6.9,
          3,
          1.8,
          2.4,
          6.3,
          0.6,
          1.8,
          4.8,
          8.4,
          8.1,
          6.3,
          8.7,
          4.5,
          4.5,
          7.5,
          1.2,
          5.7,
          0.6,
          6.9,
          8.1,
          0.6,
          1.2,
          6.6,
          8.1,
          2.7,
          3.9,
          4.2,
          6.9,
          1.2,
          3.9,
          3.6,
          0.3,
          3,
          8.7,
          2.1,
          6.6,
          1.5,
          5.1,
          6,
          2.1,
          6,
          4.2,
          1.5,
          1.8,
          1.8,
          6.9,
          6.9,
          4.5,
          1.8,
          8.4,
          3,
          4.5,
          1.8,
          6.6,
          6.9,
          6
         ],
         "y": [
          0,
          0,
          1,
          1,
          1,
          0,
          1,
          1,
          0,
          0,
          1,
          0,
          1,
          1,
          0,
          1,
          1,
          1,
          0,
          1,
          0,
          1,
          0,
          1,
          1,
          0,
          1,
          0,
          0,
          0,
          1,
          0,
          1,
          1,
          1,
          1,
          1,
          1,
          0,
          1,
          0,
          1,
          0,
          0,
          0,
          0,
          0,
          1,
          0,
          1,
          1,
          1,
          0,
          0,
          1,
          0,
          1,
          0,
          1,
          0,
          1,
          1,
          1,
          1,
          1,
          1,
          1,
          0,
          0,
          1,
          0,
          1,
          1,
          0,
          0,
          1,
          0,
          1,
          0,
          0,
          0,
          1,
          0,
          0,
          1,
          1,
          0,
          1,
          0,
          0,
          0,
          1,
          0,
          0,
          1,
          0,
          0,
          1
         ],
         "z": [
          38.42316895,
          39.01599822,
          39.14834088,
          39.06004863,
          38.65543905,
          38.6092188,
          39.47390806,
          38.81521612,
          37.77845286,
          39.17685034,
          39.52090819,
          38.57896943,
          38.28013391,
          38.40158039,
          38.65157641,
          39.61720308,
          37.72843549,
          39.36694049,
          37.98848685,
          39.93405104,
          37.60559023,
          38.83468198,
          37.39892664,
          38.98633063,
          39.72456882,
          38.09695504,
          37.59597881,
          39.49731323,
          38.50187636,
          38.27036031,
          38.69964224,
          39.08411118,
          38.29400364,
          38.39872285,
          39.29951536,
          38.37598649,
          38.46968433,
          39.58561173,
          38.12682317,
          39.80156649,
          37.92682179,
          39.67264697,
          38.21409556,
          38.93217418,
          37.80121676,
          37.52097889,
          39.34942824,
          38.9163822,
          38.72595498,
          38.35421436,
          40.17337876,
          39.48214424,
          39.9557292,
          39.02529641,
          39.70565695,
          37.87210056,
          38.92730588,
          38.75694066,
          38.98157028,
          39.07020183,
          39.31023381,
          40.26487847,
          39.19531025,
          37.46606804,
          38.61929591,
          39.74308443,
          37.9590829,
          38.52387016,
          39.58821189,
          39.48780846,
          37.32113362,
          38.30311301,
          39.32598796,
          38.18373964,
          37.78518905,
          38.97361387,
          37.97719515,
          38.92654301,
          37.98922316,
          39.87010492,
          38.51344083,
          39.14710639,
          38.61129304,
          38.95232638,
          37.46812464,
          38.24131363,
          38.7661591,
          39.87233432,
          38.87492299,
          39.09337261,
          39.00124171,
          39.25963687,
          38.6808734,
          37.93994229,
          38.79042609,
          39.48996228,
          38.57574159,
          39.76644658
         ]
        }
       ],
       "layout": {
        "scene": {
         "xaxis": {
          "title": {
           "text": "Age"
          }
         },
         "yaxis": {
          "title": {
           "text": "Male"
          }
         },
         "zaxis": {
          "title": {
           "text": "Core temperature"
          }
         }
        },
        "template": {
         "data": {
          "bar": [
           {
            "error_x": {
             "color": "#2a3f5f"
            },
            "error_y": {
             "color": "#2a3f5f"
            },
            "marker": {
             "line": {
              "color": "white",
              "width": 0.5
             },
             "pattern": {
              "fillmode": "overlay",
              "size": 10,
              "solidity": 0.2
             }
            },
            "type": "bar"
           }
          ],
          "barpolar": [
           {
            "marker": {
             "line": {
              "color": "white",
              "width": 0.5
             },
             "pattern": {
              "fillmode": "overlay",
              "size": 10,
              "solidity": 0.2
             }
            },
            "type": "barpolar"
           }
          ],
          "box": [
           {
            "boxpoints": "outliers",
            "notched": false,
            "type": "box"
           }
          ],
          "carpet": [
           {
            "aaxis": {
             "endlinecolor": "#2a3f5f",
             "gridcolor": "#C8D4E3",
             "linecolor": "#C8D4E3",
             "minorgridcolor": "#C8D4E3",
             "startlinecolor": "#2a3f5f"
            },
            "baxis": {
             "endlinecolor": "#2a3f5f",
             "gridcolor": "#C8D4E3",
             "linecolor": "#C8D4E3",
             "minorgridcolor": "#C8D4E3",
             "startlinecolor": "#2a3f5f"
            },
            "type": "carpet"
           }
          ],
          "choropleth": [
           {
            "colorbar": {
             "outlinewidth": 0,
             "ticks": ""
            },
            "type": "choropleth"
           }
          ],
          "contour": [
           {
            "colorbar": {
             "outlinewidth": 0,
             "ticks": ""
            },
            "colorscale": [
             [
              0,
              "#0d0887"
             ],
             [
              0.1111111111111111,
              "#46039f"
             ],
             [
              0.2222222222222222,
              "#7201a8"
             ],
             [
              0.3333333333333333,
              "#9c179e"
             ],
             [
              0.4444444444444444,
              "#bd3786"
             ],
             [
              0.5555555555555556,
              "#d8576b"
             ],
             [
              0.6666666666666666,
              "#ed7953"
             ],
             [
              0.7777777777777778,
              "#fb9f3a"
             ],
             [
              0.8888888888888888,
              "#fdca26"
             ],
             [
              1,
              "#f0f921"
             ]
            ],
            "type": "contour"
           }
          ],
          "contourcarpet": [
           {
            "colorbar": {
             "outlinewidth": 0,
             "ticks": ""
            },
            "type": "contourcarpet"
           }
          ],
          "heatmap": [
           {
            "colorbar": {
             "outlinewidth": 0,
             "ticks": ""
            },
            "colorscale": [
             [
              0,
              "#0d0887"
             ],
             [
              0.1111111111111111,
              "#46039f"
             ],
             [
              0.2222222222222222,
              "#7201a8"
             ],
             [
              0.3333333333333333,
              "#9c179e"
             ],
             [
              0.4444444444444444,
              "#bd3786"
             ],
             [
              0.5555555555555556,
              "#d8576b"
             ],
             [
              0.6666666666666666,
              "#ed7953"
             ],
             [
              0.7777777777777778,
              "#fb9f3a"
             ],
             [
              0.8888888888888888,
              "#fdca26"
             ],
             [
              1,
              "#f0f921"
             ]
            ],
            "type": "heatmap"
           }
          ],
          "heatmapgl": [
           {
            "colorbar": {
             "outlinewidth": 0,
             "ticks": ""
            },
            "colorscale": [
             [
              0,
              "#0d0887"
             ],
             [
              0.1111111111111111,
              "#46039f"
             ],
             [
              0.2222222222222222,
              "#7201a8"
             ],
             [
              0.3333333333333333,
              "#9c179e"
             ],
             [
              0.4444444444444444,
              "#bd3786"
             ],
             [
              0.5555555555555556,
              "#d8576b"
             ],
             [
              0.6666666666666666,
              "#ed7953"
             ],
             [
              0.7777777777777778,
              "#fb9f3a"
             ],
             [
              0.8888888888888888,
              "#fdca26"
             ],
             [
              1,
              "#f0f921"
             ]
            ],
            "type": "heatmapgl"
           }
          ],
          "histogram": [
           {
            "marker": {
             "line": {
              "width": 1
             },
             "pattern": {
              "fillmode": "overlay",
              "size": 10,
              "solidity": 0.2
             }
            },
            "type": "histogram"
           }
          ],
          "histogram2d": [
           {
            "colorbar": {
             "outlinewidth": 0,
             "ticks": ""
            },
            "colorscale": [
             [
              0,
              "#0d0887"
             ],
             [
              0.1111111111111111,
              "#46039f"
             ],
             [
              0.2222222222222222,
              "#7201a8"
             ],
             [
              0.3333333333333333,
              "#9c179e"
             ],
             [
              0.4444444444444444,
              "#bd3786"
             ],
             [
              0.5555555555555556,
              "#d8576b"
             ],
             [
              0.6666666666666666,
              "#ed7953"
             ],
             [
              0.7777777777777778,
              "#fb9f3a"
             ],
             [
              0.8888888888888888,
              "#fdca26"
             ],
             [
              1,
              "#f0f921"
             ]
            ],
            "type": "histogram2d"
           }
          ],
          "histogram2dcontour": [
           {
            "colorbar": {
             "outlinewidth": 0,
             "ticks": ""
            },
            "colorscale": [
             [
              0,
              "#0d0887"
             ],
             [
              0.1111111111111111,
              "#46039f"
             ],
             [
              0.2222222222222222,
              "#7201a8"
             ],
             [
              0.3333333333333333,
              "#9c179e"
             ],
             [
              0.4444444444444444,
              "#bd3786"
             ],
             [
              0.5555555555555556,
              "#d8576b"
             ],
             [
              0.6666666666666666,
              "#ed7953"
             ],
             [
              0.7777777777777778,
              "#fb9f3a"
             ],
             [
              0.8888888888888888,
              "#fdca26"
             ],
             [
              1,
              "#f0f921"
             ]
            ],
            "type": "histogram2dcontour"
           }
          ],
          "mesh3d": [
           {
            "colorbar": {
             "outlinewidth": 0,
             "ticks": ""
            },
            "type": "mesh3d"
           }
          ],
          "parcoords": [
           {
            "line": {
             "colorbar": {
              "outlinewidth": 0,
              "ticks": ""
             }
            },
            "type": "parcoords"
           }
          ],
          "pie": [
           {
            "automargin": true,
            "type": "pie"
           }
          ],
          "scatter": [
           {
            "fillpattern": {
             "fillmode": "overlay",
             "size": 10,
             "solidity": 0.2
            },
            "marker": {
             "opacity": 0.8
            },
            "type": "scatter"
           }
          ],
          "scatter3d": [
           {
            "line": {
             "colorbar": {
              "outlinewidth": 0,
              "ticks": ""
             }
            },
            "marker": {
             "colorbar": {
              "outlinewidth": 0,
              "ticks": ""
             },
             "opacity": 0.8
            },
            "type": "scatter3d"
           }
          ],
          "scattercarpet": [
           {
            "marker": {
             "colorbar": {
              "outlinewidth": 0,
              "ticks": ""
             }
            },
            "type": "scattercarpet"
           }
          ],
          "scattergeo": [
           {
            "marker": {
             "colorbar": {
              "outlinewidth": 0,
              "ticks": ""
             }
            },
            "type": "scattergeo"
           }
          ],
          "scattergl": [
           {
            "marker": {
             "colorbar": {
              "outlinewidth": 0,
              "ticks": ""
             }
            },
            "type": "scattergl"
           }
          ],
          "scattermapbox": [
           {
            "marker": {
             "colorbar": {
              "outlinewidth": 0,
              "ticks": ""
             }
            },
            "type": "scattermapbox"
           }
          ],
          "scatterpolar": [
           {
            "marker": {
             "colorbar": {
              "outlinewidth": 0,
              "ticks": ""
             }
            },
            "type": "scatterpolar"
           }
          ],
          "scatterpolargl": [
           {
            "marker": {
             "colorbar": {
              "outlinewidth": 0,
              "ticks": ""
             }
            },
            "type": "scatterpolargl"
           }
          ],
          "scatterternary": [
           {
            "marker": {
             "colorbar": {
              "outlinewidth": 0,
              "ticks": ""
             }
            },
            "type": "scatterternary"
           }
          ],
          "surface": [
           {
            "colorbar": {
             "outlinewidth": 0,
             "ticks": ""
            },
            "colorscale": [
             [
              0,
              "#0d0887"
             ],
             [
              0.1111111111111111,
              "#46039f"
             ],
             [
              0.2222222222222222,
              "#7201a8"
             ],
             [
              0.3333333333333333,
              "#9c179e"
             ],
             [
              0.4444444444444444,
              "#bd3786"
             ],
             [
              0.5555555555555556,
              "#d8576b"
             ],
             [
              0.6666666666666666,
              "#ed7953"
             ],
             [
              0.7777777777777778,
              "#fb9f3a"
             ],
             [
              0.8888888888888888,
              "#fdca26"
             ],
             [
              1,
              "#f0f921"
             ]
            ],
            "type": "surface"
           }
          ],
          "table": [
           {
            "cells": {
             "fill": {
              "color": "#EBF0F8"
             },
             "line": {
              "color": "white"
             }
            },
            "header": {
             "fill": {
              "color": "#C8D4E3"
             },
             "line": {
              "color": "white"
             }
            },
            "type": "table"
           }
          ]
         },
         "layout": {
          "annotationdefaults": {
           "arrowcolor": "#2a3f5f",
           "arrowhead": 0,
           "arrowwidth": 1
          },
          "autotypenumbers": "strict",
          "coloraxis": {
           "colorbar": {
            "outlinewidth": 0,
            "ticks": ""
           }
          },
          "colorscale": {
           "diverging": [
            [
             0,
             "#8e0152"
            ],
            [
             0.1,
             "#c51b7d"
            ],
            [
             0.2,
             "#de77ae"
            ],
            [
             0.3,
             "#f1b6da"
            ],
            [
             0.4,
             "#fde0ef"
            ],
            [
             0.5,
             "#f7f7f7"
            ],
            [
             0.6,
             "#e6f5d0"
            ],
            [
             0.7,
             "#b8e186"
            ],
            [
             0.8,
             "#7fbc41"
            ],
            [
             0.9,
             "#4d9221"
            ],
            [
             1,
             "#276419"
            ]
           ],
           "sequential": [
            [
             0,
             "#0d0887"
            ],
            [
             0.1111111111111111,
             "#46039f"
            ],
            [
             0.2222222222222222,
             "#7201a8"
            ],
            [
             0.3333333333333333,
             "#9c179e"
            ],
            [
             0.4444444444444444,
             "#bd3786"
            ],
            [
             0.5555555555555556,
             "#d8576b"
            ],
            [
             0.6666666666666666,
             "#ed7953"
            ],
            [
             0.7777777777777778,
             "#fb9f3a"
            ],
            [
             0.8888888888888888,
             "#fdca26"
            ],
            [
             1,
             "#f0f921"
            ]
           ],
           "sequentialminus": [
            [
             0,
             "#0d0887"
            ],
            [
             0.1111111111111111,
             "#46039f"
            ],
            [
             0.2222222222222222,
             "#7201a8"
            ],
            [
             0.3333333333333333,
             "#9c179e"
            ],
            [
             0.4444444444444444,
             "#bd3786"
            ],
            [
             0.5555555555555556,
             "#d8576b"
            ],
            [
             0.6666666666666666,
             "#ed7953"
            ],
            [
             0.7777777777777778,
             "#fb9f3a"
            ],
            [
             0.8888888888888888,
             "#fdca26"
            ],
            [
             1,
             "#f0f921"
            ]
           ]
          },
          "colorway": [
           "#636efa",
           "#EF553B",
           "#00cc96",
           "#ab63fa",
           "#FFA15A",
           "#19d3f3",
           "#FF6692",
           "#B6E880",
           "#FF97FF",
           "#FECB52"
          ],
          "font": {
           "color": "#2a3f5f"
          },
          "geo": {
           "bgcolor": "white",
           "lakecolor": "white",
           "landcolor": "white",
           "showlakes": true,
           "showland": true,
           "subunitcolor": "#C8D4E3"
          },
          "height": 400,
          "hoverlabel": {
           "align": "left"
          },
          "hovermode": "closest",
          "mapbox": {
           "style": "light"
          },
          "margin": {
           "b": 2,
           "l": 2,
           "r": 2,
           "t": 30
          },
          "paper_bgcolor": "white",
          "plot_bgcolor": "white",
          "polar": {
           "angularaxis": {
            "gridcolor": "#EBF0F8",
            "linecolor": "#EBF0F8",
            "ticks": ""
           },
           "bgcolor": "white",
           "radialaxis": {
            "gridcolor": "#EBF0F8",
            "linecolor": "#EBF0F8",
            "ticks": ""
           }
          },
          "scene": {
           "camera": {
            "eye": {
             "x": 1.5,
             "y": 1.5,
             "z": 0.1
            }
           },
           "xaxis": {
            "backgroundcolor": "white",
            "gridcolor": "#DFE8F3",
            "gridwidth": 2,
            "linecolor": "#EBF0F8",
            "showbackground": true,
            "ticks": "",
            "zerolinecolor": "#EBF0F8"
           },
           "yaxis": {
            "backgroundcolor": "white",
            "gridcolor": "#DFE8F3",
            "gridwidth": 2,
            "linecolor": "#EBF0F8",
            "showbackground": true,
            "ticks": "",
            "zerolinecolor": "#EBF0F8"
           },
           "zaxis": {
            "backgroundcolor": "white",
            "gridcolor": "#DFE8F3",
            "gridwidth": 2,
            "linecolor": "#EBF0F8",
            "showbackground": true,
            "ticks": "",
            "zerolinecolor": "#EBF0F8"
           }
          },
          "shapedefaults": {
           "line": {
            "color": "#2a3f5f"
           }
          },
          "ternary": {
           "aaxis": {
            "gridcolor": "#DFE8F3",
            "linecolor": "#A2B1C6",
            "ticks": ""
           },
           "baxis": {
            "gridcolor": "#DFE8F3",
            "linecolor": "#A2B1C6",
            "ticks": ""
           },
           "bgcolor": "white",
           "caxis": {
            "gridcolor": "#DFE8F3",
            "linecolor": "#A2B1C6",
            "ticks": ""
           }
          },
          "title": {
           "x": 0.5
          },
          "xaxis": {
           "automargin": true,
           "gridcolor": "#EBF0F8",
           "linecolor": "#EBF0F8",
           "linewidth": 2,
           "showline": true,
           "ticks": "",
           "title": {
            "standoff": 15
           },
           "zerolinecolor": "#EBF0F8",
           "zerolinewidth": 2
          },
          "yaxis": {
           "automargin": true,
           "gridcolor": "#EBF0F8",
           "linecolor": "#EBF0F8",
           "linewidth": 2,
           "showline": true,
           "ticks": "",
           "title": {
            "standoff": 15
           },
           "zerolinecolor": "#EBF0F8",
           "zerolinewidth": 2
          }
         }
        },
        "title": {}
       }
      }
     },
     "metadata": {},
     "output_type": "display_data"
    }
   ],
   "source": [
    "import numpy as np\n",
    "# Mostrar un gráfico del resultado \n",
    "# esto debe ser 3D, porque ahora tenemos tres variables en juego: dos funciones y una etiqueta\n",
    "\n",
    "def predict(age, male):\n",
    "    '''\n",
    "    Esto convierte la edad y los valores masculinos dados en una predicción del modelo.\n",
    "    '''\n",
    "    # para hacer una predicción con statsmodels, necesitamos proporcionar un marco de datos \n",
    "    # así que crea un marco de datos con solo la edad y las variables masculinas\n",
    "    df = pd.DataFrame(dict(age=[age], male=[male]))\n",
    "    return model.predict(df)\n",
    "\n",
    "# Crear el gráfico de superficie\n",
    "fig = graphing.surface(\n",
    "    x_values=np.array([min(dataset.age), max(dataset.age)]),\n",
    "    y_values=np.array([0, 1]),\n",
    "    calc_z=predict,\n",
    "    axis_title_x=\"Age\",\n",
    "    axis_title_y=\"Male\",\n",
    "    axis_title_z=\"Core temperature\"\n",
    ")\n",
    "\n",
    "# Agregue nuestros puntos de datos y muestre\n",
    "fig.add_scatter3d(x=dataset.age, y=dataset.male, z=dataset.core_temperature, mode='markers')\n",
    "fig.show()"
   ]
  },
  {
   "attachments": {},
   "cell_type": "markdown",
   "metadata": {},
   "source": [
    "El gráfico anterior es interactivo. Intente girarlo para ver cómo el modelo (que se muestra como un plano sólido) predeciría la temperatura central a partir de diferentes combinaciones de edad y sexo."
   ]
  },
  {
   "attachments": {},
   "cell_type": "markdown",
   "metadata": {},
   "source": [
    "    Inspeccionando nuestro modelo \n",
    "Cuando tenemos más de dos características, se vuelve muy difícil visualizar estos modelos. Por lo general, tenemos que mirar los parámetros directamente. Hagamos eso ahora. Statsmodels, una de las bibliotecas comunes de estadísticas y aprendizaje automático, proporciona un método de resumen() que brinda información sobre nuestro modelo."
   ]
  },
  {
   "cell_type": "code",
   "execution_count": 20,
   "metadata": {},
   "outputs": [
    {
     "data": {
      "text/html": [
       "<table class=\"simpletable\">\n",
       "<caption>OLS Regression Results</caption>\n",
       "<tr>\n",
       "  <th>Dep. Variable:</th>    <td>core_temperature</td> <th>  R-squared:         </th> <td>   0.315</td>\n",
       "</tr>\n",
       "<tr>\n",
       "  <th>Model:</th>                   <td>OLS</td>       <th>  Adj. R-squared:    </th> <td>   0.300</td>\n",
       "</tr>\n",
       "<tr>\n",
       "  <th>Method:</th>             <td>Least Squares</td>  <th>  F-statistic:       </th> <td>   21.83</td>\n",
       "</tr>\n",
       "<tr>\n",
       "  <th>Date:</th>             <td>Wed, 29 Mar 2023</td> <th>  Prob (F-statistic):</th> <td>1.58e-08</td>\n",
       "</tr>\n",
       "<tr>\n",
       "  <th>Time:</th>                 <td>13:19:49</td>     <th>  Log-Likelihood:    </th> <td> -85.295</td>\n",
       "</tr>\n",
       "<tr>\n",
       "  <th>No. Observations:</th>      <td>    98</td>      <th>  AIC:               </th> <td>   176.6</td>\n",
       "</tr>\n",
       "<tr>\n",
       "  <th>Df Residuals:</th>          <td>    95</td>      <th>  BIC:               </th> <td>   184.3</td>\n",
       "</tr>\n",
       "<tr>\n",
       "  <th>Df Model:</th>              <td>     2</td>      <th>                     </th>     <td> </td>   \n",
       "</tr>\n",
       "<tr>\n",
       "  <th>Covariance Type:</th>      <td>nonrobust</td>    <th>                     </th>     <td> </td>   \n",
       "</tr>\n",
       "</table>\n",
       "<table class=\"simpletable\">\n",
       "<tr>\n",
       "      <td></td>         <th>coef</th>     <th>std err</th>      <th>t</th>      <th>P>|t|</th>  <th>[0.025</th>    <th>0.975]</th>  \n",
       "</tr>\n",
       "<tr>\n",
       "  <th>Intercept</th> <td>   37.9793</td> <td>    0.135</td> <td>  282.094</td> <td> 0.000</td> <td>   37.712</td> <td>   38.247</td>\n",
       "</tr>\n",
       "<tr>\n",
       "  <th>age</th>       <td>    0.1406</td> <td>    0.026</td> <td>    5.459</td> <td> 0.000</td> <td>    0.089</td> <td>    0.192</td>\n",
       "</tr>\n",
       "<tr>\n",
       "  <th>male</th>      <td>    0.3182</td> <td>    0.121</td> <td>    2.634</td> <td> 0.010</td> <td>    0.078</td> <td>    0.558</td>\n",
       "</tr>\n",
       "</table>\n",
       "<table class=\"simpletable\">\n",
       "<tr>\n",
       "  <th>Omnibus:</th>       <td>21.610</td> <th>  Durbin-Watson:     </th> <td>   2.369</td>\n",
       "</tr>\n",
       "<tr>\n",
       "  <th>Prob(Omnibus):</th> <td> 0.000</td> <th>  Jarque-Bera (JB):  </th> <td>   5.227</td>\n",
       "</tr>\n",
       "<tr>\n",
       "  <th>Skew:</th>          <td> 0.121</td> <th>  Prob(JB):          </th> <td>  0.0733</td>\n",
       "</tr>\n",
       "<tr>\n",
       "  <th>Kurtosis:</th>      <td> 1.895</td> <th>  Cond. No.          </th> <td>    12.9</td>\n",
       "</tr>\n",
       "</table><br/><br/>Notes:<br/>[1] Standard Errors assume that the covariance matrix of the errors is correctly specified."
      ],
      "text/plain": [
       "<class 'statsmodels.iolib.summary.Summary'>\n",
       "\"\"\"\n",
       "                            OLS Regression Results                            \n",
       "==============================================================================\n",
       "Dep. Variable:       core_temperature   R-squared:                       0.315\n",
       "Model:                            OLS   Adj. R-squared:                  0.300\n",
       "Method:                 Least Squares   F-statistic:                     21.83\n",
       "Date:                Wed, 29 Mar 2023   Prob (F-statistic):           1.58e-08\n",
       "Time:                        13:19:49   Log-Likelihood:                -85.295\n",
       "No. Observations:                  98   AIC:                             176.6\n",
       "Df Residuals:                      95   BIC:                             184.3\n",
       "Df Model:                           2                                         \n",
       "Covariance Type:            nonrobust                                         \n",
       "==============================================================================\n",
       "                 coef    std err          t      P>|t|      [0.025      0.975]\n",
       "------------------------------------------------------------------------------\n",
       "Intercept     37.9793      0.135    282.094      0.000      37.712      38.247\n",
       "age            0.1406      0.026      5.459      0.000       0.089       0.192\n",
       "male           0.3182      0.121      2.634      0.010       0.078       0.558\n",
       "==============================================================================\n",
       "Omnibus:                       21.610   Durbin-Watson:                   2.369\n",
       "Prob(Omnibus):                  0.000   Jarque-Bera (JB):                5.227\n",
       "Skew:                           0.121   Prob(JB):                       0.0733\n",
       "Kurtosis:                       1.895   Cond. No.                         12.9\n",
       "==============================================================================\n",
       "\n",
       "Notes:\n",
       "[1] Standard Errors assume that the covariance matrix of the errors is correctly specified.\n",
       "\"\"\""
      ]
     },
     "execution_count": 20,
     "metadata": {},
     "output_type": "execute_result"
    }
   ],
   "source": [
    "# Imprme la informacion resumen\n",
    "model.summary()"
   ]
  },
  {
   "attachments": {},
   "cell_type": "markdown",
   "metadata": {},
   "source": [
    "\n",
    "Si observamos la esquina superior derecha, podemos ver nuestra estadística R-cuadrada que imprimimos anteriormente.\n",
    "\n",
    " Ligeramente hacia abajo y hacia la izquierda, también podemos ver información sobre los datos con los que entrenamos nuestro modelo. Por ejemplo, podemos ver que lo entrenamos en 98 observaciones (No. Observaciones). \n",
    " \n",
    " Debajo de esto, encontramos información sobre nuestros parámetros, en una columna llamada coef (que significa coeficientes, un sinónimo de parámetros en aprendizaje automático). Aquí podemos ver que la intersección fue de aproximadamente 38, lo que significa que el modelo predice una temperatura central de 38 para un perro con edad = 0 y macho = 0. Debajo de esto, vemos que el parámetro para la edad es 0,14, lo que significa que por cada año adicional de edad, la temperatura pronosticada aumentaría 0,14 grados centígrados. Para los machos, podemos ver un parámetro de 0,32, lo que significa que el modelo estima que todos los perros (es decir, donde los machos == 1) tienen temperaturas 0,32 grados centígrados más altas que las perras (es decir, donde los machos == 0). \n",
    " \n",
    " Aunque no tenemos espacio aquí para entrar en detalles, la columna P también es muy útil. Esto nos dice qué tan seguro está el modelo sobre el valor de este parámetro. Como regla general, si el valor de p es inferior a 0,05, existe una buena posibilidad de que esta relación sea fiable. Por ejemplo, aquí tanto la edad como el sexo masculino son inferiores a 0,05, por lo que debemos sentirnos seguros al usar este modelo en el mundo real. \n",
    " \n",
    " Como ejercicio final, hagamos lo mismo con nuestro modelo de regresión lineal simple anterior, relacionando la edad con la temperatura central. Lea la siguiente tabla y vea lo que puede deducir de este modelo."
   ]
  },
  {
   "cell_type": "code",
   "execution_count": 21,
   "metadata": {},
   "outputs": [
    {
     "data": {
      "text/html": [
       "<table class=\"simpletable\">\n",
       "<caption>OLS Regression Results</caption>\n",
       "<tr>\n",
       "  <th>Dep. Variable:</th>    <td>core_temperature</td> <th>  R-squared:         </th> <td>   0.265</td>\n",
       "</tr>\n",
       "<tr>\n",
       "  <th>Model:</th>                   <td>OLS</td>       <th>  Adj. R-squared:    </th> <td>   0.257</td>\n",
       "</tr>\n",
       "<tr>\n",
       "  <th>Method:</th>             <td>Least Squares</td>  <th>  F-statistic:       </th> <td>   34.58</td>\n",
       "</tr>\n",
       "<tr>\n",
       "  <th>Date:</th>             <td>Wed, 29 Mar 2023</td> <th>  Prob (F-statistic):</th> <td>5.94e-08</td>\n",
       "</tr>\n",
       "<tr>\n",
       "  <th>Time:</th>                 <td>13:21:46</td>     <th>  Log-Likelihood:    </th> <td> -88.749</td>\n",
       "</tr>\n",
       "<tr>\n",
       "  <th>No. Observations:</th>      <td>    98</td>      <th>  AIC:               </th> <td>   181.5</td>\n",
       "</tr>\n",
       "<tr>\n",
       "  <th>Df Residuals:</th>          <td>    96</td>      <th>  BIC:               </th> <td>   186.7</td>\n",
       "</tr>\n",
       "<tr>\n",
       "  <th>Df Model:</th>              <td>     1</td>      <th>                     </th>     <td> </td>   \n",
       "</tr>\n",
       "<tr>\n",
       "  <th>Covariance Type:</th>      <td>nonrobust</td>    <th>                     </th>     <td> </td>   \n",
       "</tr>\n",
       "</table>\n",
       "<table class=\"simpletable\">\n",
       "<tr>\n",
       "      <td></td>         <th>coef</th>     <th>std err</th>      <th>t</th>      <th>P>|t|</th>  <th>[0.025</th>    <th>0.975]</th>  \n",
       "</tr>\n",
       "<tr>\n",
       "  <th>Intercept</th> <td>   38.0879</td> <td>    0.132</td> <td>  288.373</td> <td> 0.000</td> <td>   37.826</td> <td>   38.350</td>\n",
       "</tr>\n",
       "<tr>\n",
       "  <th>age</th>       <td>    0.1533</td> <td>    0.026</td> <td>    5.880</td> <td> 0.000</td> <td>    0.102</td> <td>    0.205</td>\n",
       "</tr>\n",
       "</table>\n",
       "<table class=\"simpletable\">\n",
       "<tr>\n",
       "  <th>Omnibus:</th>       <td>43.487</td> <th>  Durbin-Watson:     </th> <td>   2.492</td>\n",
       "</tr>\n",
       "<tr>\n",
       "  <th>Prob(Omnibus):</th> <td> 0.000</td> <th>  Jarque-Bera (JB):  </th> <td>   6.605</td>\n",
       "</tr>\n",
       "<tr>\n",
       "  <th>Skew:</th>          <td> 0.087</td> <th>  Prob(JB):          </th> <td>  0.0368</td>\n",
       "</tr>\n",
       "<tr>\n",
       "  <th>Kurtosis:</th>      <td> 1.740</td> <th>  Cond. No.          </th> <td>    11.3</td>\n",
       "</tr>\n",
       "</table><br/><br/>Notes:<br/>[1] Standard Errors assume that the covariance matrix of the errors is correctly specified."
      ],
      "text/plain": [
       "<class 'statsmodels.iolib.summary.Summary'>\n",
       "\"\"\"\n",
       "                            OLS Regression Results                            \n",
       "==============================================================================\n",
       "Dep. Variable:       core_temperature   R-squared:                       0.265\n",
       "Model:                            OLS   Adj. R-squared:                  0.257\n",
       "Method:                 Least Squares   F-statistic:                     34.58\n",
       "Date:                Wed, 29 Mar 2023   Prob (F-statistic):           5.94e-08\n",
       "Time:                        13:21:46   Log-Likelihood:                -88.749\n",
       "No. Observations:                  98   AIC:                             181.5\n",
       "Df Residuals:                      96   BIC:                             186.7\n",
       "Df Model:                           1                                         \n",
       "Covariance Type:            nonrobust                                         \n",
       "==============================================================================\n",
       "                 coef    std err          t      P>|t|      [0.025      0.975]\n",
       "------------------------------------------------------------------------------\n",
       "Intercept     38.0879      0.132    288.373      0.000      37.826      38.350\n",
       "age            0.1533      0.026      5.880      0.000       0.102       0.205\n",
       "==============================================================================\n",
       "Omnibus:                       43.487   Durbin-Watson:                   2.492\n",
       "Prob(Omnibus):                  0.000   Jarque-Bera (JB):                6.605\n",
       "Skew:                           0.087   Prob(JB):                       0.0368\n",
       "Kurtosis:                       1.740   Cond. No.                         11.3\n",
       "==============================================================================\n",
       "\n",
       "Notes:\n",
       "[1] Standard Errors assume that the covariance matrix of the errors is correctly specified.\n",
       "\"\"\""
      ]
     },
     "execution_count": 21,
     "metadata": {},
     "output_type": "execute_result"
    }
   ],
   "source": [
    "age_trained_model.summary()"
   ]
  },
  {
   "attachments": {},
   "cell_type": "markdown",
   "metadata": {},
   "source": [
    "    Regresión polinómica\n",
    "La regresión polinómica modela las relaciones como un tipo determinado de curva. Los polinomios son una familia de curvas que abarcan desde formas simples hasta complejas. Cuantos más parámetros tenga la ecuación (modelo), más compleja puede ser la curva.\n",
    "\n",
    "Por ejemplo, un polinomio de dos parámetros es simplemente una línea recta:\n",
    "\n",
    "y = intersección + B1 * x\n",
    "\n",
    "Mientras que un polinomio de tres parámetros tiene una única curva:\n",
    "\n",
    "y = intersección + B1 * x + B2 * x2\n",
    "\n",
    "Un polinomio de cuatro parámetros puede tener dos curvas:\n",
    "\n",
    "y = intersección + B1 * x + B2 * x2 + B3 * x3"
   ]
  },
  {
   "attachments": {},
   "cell_type": "markdown",
   "metadata": {},
   "source": [
    "    Ejercicio: ajuste de una curva polinomial\n",
    "En este ejercicio, veremos un tipo diferente de regresión llamada regresión polinomial . A diferencia de la regresión lineal que modela las relaciones como líneas rectas, la regresión polinomial modela las relaciones como curvas.\n",
    "\n",
    "Recuerda en nuestro ejercicio anterior cómo la relación entre core_temperaturey protein_content_of_last_mealno podía explicarse correctamente utilizando una línea recta. En este ejercicio, usaremos la regresión polinomial para ajustar una curva a los datos.\n",
    "\n",
    "    visualización de datos\n",
    "Comencemos este ejercicio cargando y echando un vistazo a nuestros datos."
   ]
  },
  {
   "cell_type": "code",
   "execution_count": 22,
   "metadata": {},
   "outputs": [
    {
     "data": {
      "text/html": [
       "<div>\n",
       "<style scoped>\n",
       "    .dataframe tbody tr th:only-of-type {\n",
       "        vertical-align: middle;\n",
       "    }\n",
       "\n",
       "    .dataframe tbody tr th {\n",
       "        vertical-align: top;\n",
       "    }\n",
       "\n",
       "    .dataframe thead th {\n",
       "        text-align: right;\n",
       "    }\n",
       "</style>\n",
       "<table border=\"1\" class=\"dataframe\">\n",
       "  <thead>\n",
       "    <tr style=\"text-align: right;\">\n",
       "      <th></th>\n",
       "      <th>male</th>\n",
       "      <th>attended_training</th>\n",
       "      <th>age</th>\n",
       "      <th>body_fat_percentage</th>\n",
       "      <th>core_temperature</th>\n",
       "      <th>ate_at_tonys_steakhouse</th>\n",
       "      <th>needed_intensive_care</th>\n",
       "      <th>protein_content_of_last_meal</th>\n",
       "    </tr>\n",
       "  </thead>\n",
       "  <tbody>\n",
       "    <tr>\n",
       "      <th>0</th>\n",
       "      <td>0</td>\n",
       "      <td>1</td>\n",
       "      <td>6.9</td>\n",
       "      <td>38</td>\n",
       "      <td>38.423169</td>\n",
       "      <td>0</td>\n",
       "      <td>0</td>\n",
       "      <td>7.66</td>\n",
       "    </tr>\n",
       "    <tr>\n",
       "      <th>1</th>\n",
       "      <td>0</td>\n",
       "      <td>1</td>\n",
       "      <td>5.4</td>\n",
       "      <td>32</td>\n",
       "      <td>39.015998</td>\n",
       "      <td>0</td>\n",
       "      <td>0</td>\n",
       "      <td>13.36</td>\n",
       "    </tr>\n",
       "    <tr>\n",
       "      <th>2</th>\n",
       "      <td>1</td>\n",
       "      <td>1</td>\n",
       "      <td>5.4</td>\n",
       "      <td>12</td>\n",
       "      <td>39.148341</td>\n",
       "      <td>0</td>\n",
       "      <td>0</td>\n",
       "      <td>12.90</td>\n",
       "    </tr>\n",
       "    <tr>\n",
       "      <th>3</th>\n",
       "      <td>1</td>\n",
       "      <td>0</td>\n",
       "      <td>4.8</td>\n",
       "      <td>23</td>\n",
       "      <td>39.060049</td>\n",
       "      <td>0</td>\n",
       "      <td>0</td>\n",
       "      <td>13.45</td>\n",
       "    </tr>\n",
       "    <tr>\n",
       "      <th>4</th>\n",
       "      <td>1</td>\n",
       "      <td>0</td>\n",
       "      <td>4.8</td>\n",
       "      <td>15</td>\n",
       "      <td>38.655439</td>\n",
       "      <td>0</td>\n",
       "      <td>0</td>\n",
       "      <td>10.53</td>\n",
       "    </tr>\n",
       "    <tr>\n",
       "      <th>...</th>\n",
       "      <td>...</td>\n",
       "      <td>...</td>\n",
       "      <td>...</td>\n",
       "      <td>...</td>\n",
       "      <td>...</td>\n",
       "      <td>...</td>\n",
       "      <td>...</td>\n",
       "      <td>...</td>\n",
       "    </tr>\n",
       "    <tr>\n",
       "      <th>93</th>\n",
       "      <td>0</td>\n",
       "      <td>0</td>\n",
       "      <td>4.5</td>\n",
       "      <td>38</td>\n",
       "      <td>37.939942</td>\n",
       "      <td>0</td>\n",
       "      <td>0</td>\n",
       "      <td>7.35</td>\n",
       "    </tr>\n",
       "    <tr>\n",
       "      <th>94</th>\n",
       "      <td>1</td>\n",
       "      <td>0</td>\n",
       "      <td>1.8</td>\n",
       "      <td>11</td>\n",
       "      <td>38.790426</td>\n",
       "      <td>1</td>\n",
       "      <td>1</td>\n",
       "      <td>12.18</td>\n",
       "    </tr>\n",
       "    <tr>\n",
       "      <th>95</th>\n",
       "      <td>0</td>\n",
       "      <td>0</td>\n",
       "      <td>6.6</td>\n",
       "      <td>20</td>\n",
       "      <td>39.489962</td>\n",
       "      <td>0</td>\n",
       "      <td>0</td>\n",
       "      <td>15.84</td>\n",
       "    </tr>\n",
       "    <tr>\n",
       "      <th>96</th>\n",
       "      <td>0</td>\n",
       "      <td>0</td>\n",
       "      <td>6.9</td>\n",
       "      <td>32</td>\n",
       "      <td>38.575742</td>\n",
       "      <td>1</td>\n",
       "      <td>1</td>\n",
       "      <td>9.79</td>\n",
       "    </tr>\n",
       "    <tr>\n",
       "      <th>97</th>\n",
       "      <td>1</td>\n",
       "      <td>1</td>\n",
       "      <td>6.0</td>\n",
       "      <td>21</td>\n",
       "      <td>39.766447</td>\n",
       "      <td>1</td>\n",
       "      <td>1</td>\n",
       "      <td>21.30</td>\n",
       "    </tr>\n",
       "  </tbody>\n",
       "</table>\n",
       "<p>98 rows × 8 columns</p>\n",
       "</div>"
      ],
      "text/plain": [
       "    male  attended_training  age  body_fat_percentage  core_temperature  \\\n",
       "0      0                  1  6.9                   38         38.423169   \n",
       "1      0                  1  5.4                   32         39.015998   \n",
       "2      1                  1  5.4                   12         39.148341   \n",
       "3      1                  0  4.8                   23         39.060049   \n",
       "4      1                  0  4.8                   15         38.655439   \n",
       "..   ...                ...  ...                  ...               ...   \n",
       "93     0                  0  4.5                   38         37.939942   \n",
       "94     1                  0  1.8                   11         38.790426   \n",
       "95     0                  0  6.6                   20         39.489962   \n",
       "96     0                  0  6.9                   32         38.575742   \n",
       "97     1                  1  6.0                   21         39.766447   \n",
       "\n",
       "    ate_at_tonys_steakhouse  needed_intensive_care  \\\n",
       "0                         0                      0   \n",
       "1                         0                      0   \n",
       "2                         0                      0   \n",
       "3                         0                      0   \n",
       "4                         0                      0   \n",
       "..                      ...                    ...   \n",
       "93                        0                      0   \n",
       "94                        1                      1   \n",
       "95                        0                      0   \n",
       "96                        1                      1   \n",
       "97                        1                      1   \n",
       "\n",
       "    protein_content_of_last_meal  \n",
       "0                           7.66  \n",
       "1                          13.36  \n",
       "2                          12.90  \n",
       "3                          13.45  \n",
       "4                          10.53  \n",
       "..                           ...  \n",
       "93                          7.35  \n",
       "94                         12.18  \n",
       "95                         15.84  \n",
       "96                          9.79  \n",
       "97                         21.30  \n",
       "\n",
       "[98 rows x 8 columns]"
      ]
     },
     "execution_count": 22,
     "metadata": {},
     "output_type": "execute_result"
    }
   ],
   "source": [
    "import pandas as pd\n",
    "\n",
    "#Importar los datos\n",
    "dataset = pd.read_csv('C:/Users/santi/OneDrive/Escritorio/Desktop/doggy-illness.csv',delimiter='\\t')\n",
    "\n",
    "#mirar los datos\n",
    "dataset"
   ]
  },
  {
   "attachments": {},
   "cell_type": "markdown",
   "metadata": {},
   "source": [
    "    Regresión lineal simple\n",
    "Refresquemos rápidamente nuestra memoria realizando la misma regresión lineal simple que hicimos en el ejercicio anterior usando las columnas temperature y protein_content_of_last_meal del conjunto de datos."
   ]
  },
  {
   "cell_type": "code",
   "execution_count": 23,
   "metadata": {},
   "outputs": [
    {
     "data": {
      "application/vnd.plotly.v1+json": {
       "config": {
        "plotlyServerURL": "https://plot.ly"
       },
       "data": [
        {
         "hovertemplate": "protein content of last meal=%{x}<br>core temperature=%{y}<extra></extra>",
         "legendgroup": "",
         "marker": {
          "color": "#636efa",
          "size": 17,
          "symbol": "circle"
         },
         "mode": "markers",
         "name": "",
         "orientation": "v",
         "showlegend": false,
         "type": "scatter",
         "x": [
          7.66,
          13.36,
          12.9,
          13.45,
          10.53,
          11.17,
          16,
          10.3,
          5.71,
          15.38,
          18.47,
          8.52,
          7.36,
          7.78,
          10.76,
          19.94,
          5.86,
          17.56,
          8.14,
          22.18,
          4.43,
          12.29,
          4.83,
          13.68,
          18.52,
          7.12,
          6.99,
          17.39,
          10.6,
          9.03,
          9.54,
          13.29,
          8.79,
          7.72,
          15.43,
          7.17,
          8.9,
          19.72,
          8.47,
          21.73,
          5.95,
          19.16,
          7.28,
          11.57,
          7.62,
          5.33,
          15.95,
          13.04,
          11.96,
          8.96,
          24.89,
          17.45,
          23.65,
          11.9,
          20.52,
          6.76,
          11.71,
          11.51,
          11.76,
          13.78,
          16.51,
          26.61,
          14.84,
          4.99,
          9.98,
          19.91,
          6.5,
          8.2,
          18.86,
          16.26,
          3.93,
          7.66,
          14.68,
          6.4,
          5.31,
          13.52,
          7.9,
          10.86,
          7.91,
          21.93,
          9.51,
          12.79,
          9.64,
          13.31,
          6.45,
          9.44,
          10.04,
          22.78,
          11.12,
          13.99,
          14.22,
          15.06,
          10,
          7.35,
          12.18,
          15.84,
          9.79,
          21.3
         ],
         "xaxis": "x",
         "y": [
          38.42316895,
          39.01599822,
          39.14834088,
          39.06004863,
          38.65543905,
          38.6092188,
          39.47390806,
          38.81521612,
          37.77845286,
          39.17685034,
          39.52090819,
          38.57896943,
          38.28013391,
          38.40158039,
          38.65157641,
          39.61720308,
          37.72843549,
          39.36694049,
          37.98848685,
          39.93405104,
          37.60559023,
          38.83468198,
          37.39892664,
          38.98633063,
          39.72456882,
          38.09695504,
          37.59597881,
          39.49731323,
          38.50187636,
          38.27036031,
          38.69964224,
          39.08411118,
          38.29400364,
          38.39872285,
          39.29951536,
          38.37598649,
          38.46968433,
          39.58561173,
          38.12682317,
          39.80156649,
          37.92682179,
          39.67264697,
          38.21409556,
          38.93217418,
          37.80121676,
          37.52097889,
          39.34942824,
          38.9163822,
          38.72595498,
          38.35421436,
          40.17337876,
          39.48214424,
          39.9557292,
          39.02529641,
          39.70565695,
          37.87210056,
          38.92730588,
          38.75694066,
          38.98157028,
          39.07020183,
          39.31023381,
          40.26487847,
          39.19531025,
          37.46606804,
          38.61929591,
          39.74308443,
          37.9590829,
          38.52387016,
          39.58821189,
          39.48780846,
          37.32113362,
          38.30311301,
          39.32598796,
          38.18373964,
          37.78518905,
          38.97361387,
          37.97719515,
          38.92654301,
          37.98922316,
          39.87010492,
          38.51344083,
          39.14710639,
          38.61129304,
          38.95232638,
          37.46812464,
          38.24131363,
          38.7661591,
          39.87233432,
          38.87492299,
          39.09337261,
          39.00124171,
          39.25963687,
          38.6808734,
          37.93994229,
          38.79042609,
          39.48996228,
          38.57574159,
          39.76644658
         ],
         "yaxis": "y"
        }
       ],
       "layout": {
        "legend": {
         "tracegroupgap": 0
        },
        "shapes": [
         {
          "line": {
           "color": "rgb(228,26,28)"
          },
          "path": "M3.93 37.7136142892452 L 4.043969849246231 37.728236791121105 L 4.157939698492463 37.74285929299702 L 4.2719095477386935 37.75748179487293 L 4.385879396984925 37.77210429674884 L 4.499849246231156 37.78672679862475 L 4.613819095477387 37.80134930050066 L 4.727788944723619 37.81597180237657 L 4.841758793969849 37.830594304252486 L 4.95572864321608 37.8452168061284 L 5.069698492462312 37.859839308004304 L 5.183668341708543 37.874461809880216 L 5.297638190954774 37.88908431175613 L 5.411608040201005 37.90370681363204 L 5.525577889447236 37.91832931550795 L 5.639547738693468 37.93295181738386 L 5.753517587939699 37.94757431925977 L 5.86748743718593 37.962196821135684 L 5.9814572864321605 37.9768193230116 L 6.095427135678392 37.9914418248875 L 6.2093969849246236 38.006064326763415 L 6.323366834170855 38.02068682863933 L 6.437336683417086 38.03530933051524 L 6.551306532663316 38.049931832391145 L 6.665276381909548 38.06455433426706 L 6.7792462311557795 38.07917683614297 L 6.89321608040201 38.09379933801888 L 7.007185929648241 38.108421839894795 L 7.121155778894472 38.1230443417707 L 7.235125628140704 38.13766684364661 L 7.3490954773869355 38.152289345522526 L 7.463065326633166 38.16691184739844 L 7.577035175879397 38.181534349274344 L 7.691005025125628 38.196156851150256 L 7.80497487437186 38.21077935302617 L 7.9189447236180905 38.22540185490208 L 8.032914572864321 38.240024356777994 L 8.146884422110553 38.2546468586539 L 8.260854271356784 38.26926936052981 L 8.374824120603016 38.283891862405724 L 8.488793969849246 38.29851436428164 L 8.602763819095477 38.31313686615755 L 8.716733668341709 38.327759368033455 L 8.83070351758794 38.34238186990937 L 8.944673366834172 38.35700437178528 L 9.058643216080402 38.37162687366119 L 9.172613065326633 38.3862493755371 L 9.286582914572865 38.40087187741301 L 9.400552763819096 38.41549437928892 L 9.514522613065328 38.430116881164835 L 9.628492462311558 38.44473938304074 L 9.742462311557789 38.45936188491665 L 9.85643216080402 38.473984386792566 L 9.970402010050252 38.48860688866848 L 10.084371859296482 38.50322939054439 L 10.198341708542713 38.517851892420296 L 10.312311557788945 38.53247439429621 L 10.426281407035177 38.54709689617212 L 10.540251256281408 38.561719398048034 L 10.654221105527638 38.576341899923946 L 10.76819095477387 38.59096440179985 L 10.882160804020101 38.605586903675764 L 10.996130653266333 38.62020940555168 L 11.110100502512562 38.63483190742759 L 11.224070351758794 38.649454409303495 L 11.338040201005025 38.66407691117941 L 11.452010050251257 38.67869941305532 L 11.565979899497489 38.69332191493123 L 11.679949748743718 38.70794441680714 L 11.79391959798995 38.72256691868305 L 11.907889447236181 38.73718942055896 L 12.021859296482411 38.751811922434875 L 12.135829145728643 38.76643442431079 L 12.249798994974874 38.78105692618669 L 12.363768844221106 38.795679428062606 L 12.477738693467337 38.81030192993852 L 12.591708542713567 38.82492443181443 L 12.705678391959799 38.83954693369034 L 12.81964824120603 38.85416943556625 L 12.933618090452262 38.86879193744216 L 13.047587939698492 38.883414439318074 L 13.161557788944723 38.898036941193986 L 13.275527638190955 38.91265944306989 L 13.389497487437186 38.927281944945804 L 13.503467336683418 38.94190444682172 L 13.617437185929647 38.95652694869763 L 13.731407035175879 38.971149450573535 L 13.84537688442211 38.98577195244945 L 13.959346733668342 39.00039445432536 L 14.073316582914574 39.01501695620127 L 14.187286432160803 39.029639458077185 L 14.301256281407035 39.04426195995309 L 14.415226130653267 39.058884461829 L 14.529195979899498 39.073506963704915 L 14.643165829145728 39.08812946558083 L 14.75713567839196 39.10275196745674 L 14.871105527638191 39.117374469332646 L 14.985075376884422 39.13199697120856 L 15.099045226130654 39.14661947308447 L 15.213015075376884 39.16124197496038 L 15.326984924623115 39.17586447683629 L 15.440954773869347 39.1904869787122 L 15.554924623115578 39.20510948058811 L 15.668894472361808 39.219731982464026 L 15.78286432160804 39.23435448433993 L 15.896834170854271 39.248976986215844 L 16.010804020100505 39.26359948809176 L 16.124773869346736 39.27822198996767 L 16.238743718592964 39.29284449184358 L 16.352713567839196 39.30746699371949 L 16.466683417085427 39.3220894955954 L 16.58065326633166 39.33671199747131 L 16.69462311557789 39.351334499347224 L 16.808592964824122 39.36595700122314 L 16.922562814070353 39.38057950309904 L 17.036532663316585 39.395202004974955 L 17.150502512562817 39.40982450685087 L 17.264472361809045 39.42444700872678 L 17.378442211055276 39.439069510602685 L 17.492412060301508 39.4536920124786 L 17.60638190954774 39.46831451435451 L 17.72035175879397 39.48293701623042 L 17.834321608040202 39.49755951810633 L 17.948291457286434 39.51218201998224 L 18.062261306532665 39.52680452185815 L 18.176231155778897 39.541427023734066 L 18.290201005025125 39.55604952560998 L 18.404170854271356 39.570672027485884 L 18.518140703517588 39.585294529361796 L 18.63211055276382 39.59991703123771 L 18.74608040201005 39.61453953311362 L 18.860050251256283 39.629162034989534 L 18.974020100502514 39.64378453686544 L 19.087989949748746 39.65840703874135 L 19.201959798994977 39.673029540617264 L 19.315929648241205 39.68765204249318 L 19.429899497487437 39.70227454436908 L 19.54386934673367 39.716897046244995 L 19.6578391959799 39.73151954812091 L 19.77180904522613 39.74614204999682 L 19.885778894472363 39.760764551872725 L 19.999748743718595 39.77538705374864 L 20.113718592964823 39.79000955562455 L 20.227688442211054 39.80463205750046 L 20.341658291457286 39.819254559376375 L 20.455628140703517 39.83387706125228 L 20.56959798994975 39.84849956312819 L 20.68356783919598 39.863122065004106 L 20.797537688442212 39.87774456688002 L 20.911507537688443 39.89236706875593 L 21.025477386934675 39.906989570631836 L 21.139447236180903 39.92161207250775 L 21.253417085427134 39.93623457438366 L 21.367386934673366 39.950857076259574 L 21.481356783919598 39.96547957813548 L 21.59532663316583 39.98010208001139 L 21.70929648241206 39.994724581887304 L 21.823266331658292 40.00934708376322 L 21.937236180904524 40.02396958563912 L 22.051206030150755 40.038592087515035 L 22.165175879396983 40.05321458939095 L 22.279145728643215 40.06783709126686 L 22.393115577889446 40.08245959314277 L 22.507085427135678 40.09708209501868 L 22.62105527638191 40.11170459689459 L 22.73502512562814 40.1263270987705 L 22.848994974874373 40.140949600646415 L 22.962964824120604 40.15557210252233 L 23.076934673366836 40.17019460439823 L 23.190904522613067 40.184817106274146 L 23.304874371859295 40.19943960815006 L 23.418844221105527 40.21406211002597 L 23.53281407035176 40.228684611901876 L 23.64678391959799 40.24330711377779 L 23.76075376884422 40.2579296156537 L 23.874723618090453 40.272552117529614 L 23.988693467336685 40.28717461940552 L 24.102663316582916 40.30179712128143 L 24.216633165829148 40.316419623157344 L 24.330603015075376 40.33104212503326 L 24.444572864321607 40.34566462690917 L 24.55854271356784 40.360287128785075 L 24.67251256281407 40.37490963066099 L 24.786482412060302 40.3895321325369 L 24.900452261306533 40.40415463441281 L 25.014422110552765 40.418777136288725 L 25.128391959798996 40.43339963816463 L 25.242361809045228 40.44802214004054 L 25.356331658291456 40.462644641916455 L 25.470301507537688 40.47726714379237 L 25.58427135678392 40.49188964566827 L 25.69824120603015 40.506512147544186 L 25.812211055276382 40.5211346494201 L 25.926180904522614 40.53575715129601 L 26.040150753768845 40.550379653171916 L 26.154120603015077 40.56500215504783 L 26.26809045226131 40.57962465692374 L 26.382060301507536 40.594247158799654 L 26.496030150753768 40.608869660675566 L 26.61 40.62349216255147",
          "type": "path"
         }
        ],
        "template": {
         "data": {
          "bar": [
           {
            "error_x": {
             "color": "#2a3f5f"
            },
            "error_y": {
             "color": "#2a3f5f"
            },
            "marker": {
             "line": {
              "color": "white",
              "width": 0.5
             },
             "pattern": {
              "fillmode": "overlay",
              "size": 10,
              "solidity": 0.2
             }
            },
            "type": "bar"
           }
          ],
          "barpolar": [
           {
            "marker": {
             "line": {
              "color": "white",
              "width": 0.5
             },
             "pattern": {
              "fillmode": "overlay",
              "size": 10,
              "solidity": 0.2
             }
            },
            "type": "barpolar"
           }
          ],
          "box": [
           {
            "boxpoints": "outliers",
            "notched": false,
            "type": "box"
           }
          ],
          "carpet": [
           {
            "aaxis": {
             "endlinecolor": "#2a3f5f",
             "gridcolor": "#C8D4E3",
             "linecolor": "#C8D4E3",
             "minorgridcolor": "#C8D4E3",
             "startlinecolor": "#2a3f5f"
            },
            "baxis": {
             "endlinecolor": "#2a3f5f",
             "gridcolor": "#C8D4E3",
             "linecolor": "#C8D4E3",
             "minorgridcolor": "#C8D4E3",
             "startlinecolor": "#2a3f5f"
            },
            "type": "carpet"
           }
          ],
          "choropleth": [
           {
            "colorbar": {
             "outlinewidth": 0,
             "ticks": ""
            },
            "type": "choropleth"
           }
          ],
          "contour": [
           {
            "colorbar": {
             "outlinewidth": 0,
             "ticks": ""
            },
            "colorscale": [
             [
              0,
              "#0d0887"
             ],
             [
              0.1111111111111111,
              "#46039f"
             ],
             [
              0.2222222222222222,
              "#7201a8"
             ],
             [
              0.3333333333333333,
              "#9c179e"
             ],
             [
              0.4444444444444444,
              "#bd3786"
             ],
             [
              0.5555555555555556,
              "#d8576b"
             ],
             [
              0.6666666666666666,
              "#ed7953"
             ],
             [
              0.7777777777777778,
              "#fb9f3a"
             ],
             [
              0.8888888888888888,
              "#fdca26"
             ],
             [
              1,
              "#f0f921"
             ]
            ],
            "type": "contour"
           }
          ],
          "contourcarpet": [
           {
            "colorbar": {
             "outlinewidth": 0,
             "ticks": ""
            },
            "type": "contourcarpet"
           }
          ],
          "heatmap": [
           {
            "colorbar": {
             "outlinewidth": 0,
             "ticks": ""
            },
            "colorscale": [
             [
              0,
              "#0d0887"
             ],
             [
              0.1111111111111111,
              "#46039f"
             ],
             [
              0.2222222222222222,
              "#7201a8"
             ],
             [
              0.3333333333333333,
              "#9c179e"
             ],
             [
              0.4444444444444444,
              "#bd3786"
             ],
             [
              0.5555555555555556,
              "#d8576b"
             ],
             [
              0.6666666666666666,
              "#ed7953"
             ],
             [
              0.7777777777777778,
              "#fb9f3a"
             ],
             [
              0.8888888888888888,
              "#fdca26"
             ],
             [
              1,
              "#f0f921"
             ]
            ],
            "type": "heatmap"
           }
          ],
          "heatmapgl": [
           {
            "colorbar": {
             "outlinewidth": 0,
             "ticks": ""
            },
            "colorscale": [
             [
              0,
              "#0d0887"
             ],
             [
              0.1111111111111111,
              "#46039f"
             ],
             [
              0.2222222222222222,
              "#7201a8"
             ],
             [
              0.3333333333333333,
              "#9c179e"
             ],
             [
              0.4444444444444444,
              "#bd3786"
             ],
             [
              0.5555555555555556,
              "#d8576b"
             ],
             [
              0.6666666666666666,
              "#ed7953"
             ],
             [
              0.7777777777777778,
              "#fb9f3a"
             ],
             [
              0.8888888888888888,
              "#fdca26"
             ],
             [
              1,
              "#f0f921"
             ]
            ],
            "type": "heatmapgl"
           }
          ],
          "histogram": [
           {
            "marker": {
             "line": {
              "width": 1
             },
             "pattern": {
              "fillmode": "overlay",
              "size": 10,
              "solidity": 0.2
             }
            },
            "type": "histogram"
           }
          ],
          "histogram2d": [
           {
            "colorbar": {
             "outlinewidth": 0,
             "ticks": ""
            },
            "colorscale": [
             [
              0,
              "#0d0887"
             ],
             [
              0.1111111111111111,
              "#46039f"
             ],
             [
              0.2222222222222222,
              "#7201a8"
             ],
             [
              0.3333333333333333,
              "#9c179e"
             ],
             [
              0.4444444444444444,
              "#bd3786"
             ],
             [
              0.5555555555555556,
              "#d8576b"
             ],
             [
              0.6666666666666666,
              "#ed7953"
             ],
             [
              0.7777777777777778,
              "#fb9f3a"
             ],
             [
              0.8888888888888888,
              "#fdca26"
             ],
             [
              1,
              "#f0f921"
             ]
            ],
            "type": "histogram2d"
           }
          ],
          "histogram2dcontour": [
           {
            "colorbar": {
             "outlinewidth": 0,
             "ticks": ""
            },
            "colorscale": [
             [
              0,
              "#0d0887"
             ],
             [
              0.1111111111111111,
              "#46039f"
             ],
             [
              0.2222222222222222,
              "#7201a8"
             ],
             [
              0.3333333333333333,
              "#9c179e"
             ],
             [
              0.4444444444444444,
              "#bd3786"
             ],
             [
              0.5555555555555556,
              "#d8576b"
             ],
             [
              0.6666666666666666,
              "#ed7953"
             ],
             [
              0.7777777777777778,
              "#fb9f3a"
             ],
             [
              0.8888888888888888,
              "#fdca26"
             ],
             [
              1,
              "#f0f921"
             ]
            ],
            "type": "histogram2dcontour"
           }
          ],
          "mesh3d": [
           {
            "colorbar": {
             "outlinewidth": 0,
             "ticks": ""
            },
            "type": "mesh3d"
           }
          ],
          "parcoords": [
           {
            "line": {
             "colorbar": {
              "outlinewidth": 0,
              "ticks": ""
             }
            },
            "type": "parcoords"
           }
          ],
          "pie": [
           {
            "automargin": true,
            "type": "pie"
           }
          ],
          "scatter": [
           {
            "fillpattern": {
             "fillmode": "overlay",
             "size": 10,
             "solidity": 0.2
            },
            "marker": {
             "opacity": 0.8
            },
            "type": "scatter"
           }
          ],
          "scatter3d": [
           {
            "line": {
             "colorbar": {
              "outlinewidth": 0,
              "ticks": ""
             }
            },
            "marker": {
             "colorbar": {
              "outlinewidth": 0,
              "ticks": ""
             },
             "opacity": 0.8
            },
            "type": "scatter3d"
           }
          ],
          "scattercarpet": [
           {
            "marker": {
             "colorbar": {
              "outlinewidth": 0,
              "ticks": ""
             }
            },
            "type": "scattercarpet"
           }
          ],
          "scattergeo": [
           {
            "marker": {
             "colorbar": {
              "outlinewidth": 0,
              "ticks": ""
             }
            },
            "type": "scattergeo"
           }
          ],
          "scattergl": [
           {
            "marker": {
             "colorbar": {
              "outlinewidth": 0,
              "ticks": ""
             }
            },
            "type": "scattergl"
           }
          ],
          "scattermapbox": [
           {
            "marker": {
             "colorbar": {
              "outlinewidth": 0,
              "ticks": ""
             }
            },
            "type": "scattermapbox"
           }
          ],
          "scatterpolar": [
           {
            "marker": {
             "colorbar": {
              "outlinewidth": 0,
              "ticks": ""
             }
            },
            "type": "scatterpolar"
           }
          ],
          "scatterpolargl": [
           {
            "marker": {
             "colorbar": {
              "outlinewidth": 0,
              "ticks": ""
             }
            },
            "type": "scatterpolargl"
           }
          ],
          "scatterternary": [
           {
            "marker": {
             "colorbar": {
              "outlinewidth": 0,
              "ticks": ""
             }
            },
            "type": "scatterternary"
           }
          ],
          "surface": [
           {
            "colorbar": {
             "outlinewidth": 0,
             "ticks": ""
            },
            "colorscale": [
             [
              0,
              "#0d0887"
             ],
             [
              0.1111111111111111,
              "#46039f"
             ],
             [
              0.2222222222222222,
              "#7201a8"
             ],
             [
              0.3333333333333333,
              "#9c179e"
             ],
             [
              0.4444444444444444,
              "#bd3786"
             ],
             [
              0.5555555555555556,
              "#d8576b"
             ],
             [
              0.6666666666666666,
              "#ed7953"
             ],
             [
              0.7777777777777778,
              "#fb9f3a"
             ],
             [
              0.8888888888888888,
              "#fdca26"
             ],
             [
              1,
              "#f0f921"
             ]
            ],
            "type": "surface"
           }
          ],
          "table": [
           {
            "cells": {
             "fill": {
              "color": "#EBF0F8"
             },
             "line": {
              "color": "white"
             }
            },
            "header": {
             "fill": {
              "color": "#C8D4E3"
             },
             "line": {
              "color": "white"
             }
            },
            "type": "table"
           }
          ]
         },
         "layout": {
          "annotationdefaults": {
           "arrowcolor": "#2a3f5f",
           "arrowhead": 0,
           "arrowwidth": 1
          },
          "autotypenumbers": "strict",
          "coloraxis": {
           "colorbar": {
            "outlinewidth": 0,
            "ticks": ""
           }
          },
          "colorscale": {
           "diverging": [
            [
             0,
             "#8e0152"
            ],
            [
             0.1,
             "#c51b7d"
            ],
            [
             0.2,
             "#de77ae"
            ],
            [
             0.3,
             "#f1b6da"
            ],
            [
             0.4,
             "#fde0ef"
            ],
            [
             0.5,
             "#f7f7f7"
            ],
            [
             0.6,
             "#e6f5d0"
            ],
            [
             0.7,
             "#b8e186"
            ],
            [
             0.8,
             "#7fbc41"
            ],
            [
             0.9,
             "#4d9221"
            ],
            [
             1,
             "#276419"
            ]
           ],
           "sequential": [
            [
             0,
             "#0d0887"
            ],
            [
             0.1111111111111111,
             "#46039f"
            ],
            [
             0.2222222222222222,
             "#7201a8"
            ],
            [
             0.3333333333333333,
             "#9c179e"
            ],
            [
             0.4444444444444444,
             "#bd3786"
            ],
            [
             0.5555555555555556,
             "#d8576b"
            ],
            [
             0.6666666666666666,
             "#ed7953"
            ],
            [
             0.7777777777777778,
             "#fb9f3a"
            ],
            [
             0.8888888888888888,
             "#fdca26"
            ],
            [
             1,
             "#f0f921"
            ]
           ],
           "sequentialminus": [
            [
             0,
             "#0d0887"
            ],
            [
             0.1111111111111111,
             "#46039f"
            ],
            [
             0.2222222222222222,
             "#7201a8"
            ],
            [
             0.3333333333333333,
             "#9c179e"
            ],
            [
             0.4444444444444444,
             "#bd3786"
            ],
            [
             0.5555555555555556,
             "#d8576b"
            ],
            [
             0.6666666666666666,
             "#ed7953"
            ],
            [
             0.7777777777777778,
             "#fb9f3a"
            ],
            [
             0.8888888888888888,
             "#fdca26"
            ],
            [
             1,
             "#f0f921"
            ]
           ]
          },
          "colorway": [
           "#636efa",
           "#EF553B",
           "#00cc96",
           "#ab63fa",
           "#FFA15A",
           "#19d3f3",
           "#FF6692",
           "#B6E880",
           "#FF97FF",
           "#FECB52"
          ],
          "font": {
           "color": "#2a3f5f"
          },
          "geo": {
           "bgcolor": "white",
           "lakecolor": "white",
           "landcolor": "white",
           "showlakes": true,
           "showland": true,
           "subunitcolor": "#C8D4E3"
          },
          "height": 400,
          "hoverlabel": {
           "align": "left"
          },
          "hovermode": "closest",
          "mapbox": {
           "style": "light"
          },
          "margin": {
           "b": 2,
           "l": 2,
           "r": 2,
           "t": 30
          },
          "paper_bgcolor": "white",
          "plot_bgcolor": "white",
          "polar": {
           "angularaxis": {
            "gridcolor": "#EBF0F8",
            "linecolor": "#EBF0F8",
            "ticks": ""
           },
           "bgcolor": "white",
           "radialaxis": {
            "gridcolor": "#EBF0F8",
            "linecolor": "#EBF0F8",
            "ticks": ""
           }
          },
          "scene": {
           "camera": {
            "eye": {
             "x": 1.5,
             "y": 1.5,
             "z": 0.1
            }
           },
           "xaxis": {
            "backgroundcolor": "white",
            "gridcolor": "#DFE8F3",
            "gridwidth": 2,
            "linecolor": "#EBF0F8",
            "showbackground": true,
            "ticks": "",
            "zerolinecolor": "#EBF0F8"
           },
           "yaxis": {
            "backgroundcolor": "white",
            "gridcolor": "#DFE8F3",
            "gridwidth": 2,
            "linecolor": "#EBF0F8",
            "showbackground": true,
            "ticks": "",
            "zerolinecolor": "#EBF0F8"
           },
           "zaxis": {
            "backgroundcolor": "white",
            "gridcolor": "#DFE8F3",
            "gridwidth": 2,
            "linecolor": "#EBF0F8",
            "showbackground": true,
            "ticks": "",
            "zerolinecolor": "#EBF0F8"
           }
          },
          "shapedefaults": {
           "line": {
            "color": "#2a3f5f"
           }
          },
          "ternary": {
           "aaxis": {
            "gridcolor": "#DFE8F3",
            "linecolor": "#A2B1C6",
            "ticks": ""
           },
           "baxis": {
            "gridcolor": "#DFE8F3",
            "linecolor": "#A2B1C6",
            "ticks": ""
           },
           "bgcolor": "white",
           "caxis": {
            "gridcolor": "#DFE8F3",
            "linecolor": "#A2B1C6",
            "ticks": ""
           }
          },
          "title": {
           "x": 0.5
          },
          "xaxis": {
           "automargin": true,
           "gridcolor": "#EBF0F8",
           "linecolor": "#EBF0F8",
           "linewidth": 2,
           "showline": true,
           "ticks": "",
           "title": {
            "standoff": 15
           },
           "zerolinecolor": "#EBF0F8",
           "zerolinewidth": 2
          },
          "yaxis": {
           "automargin": true,
           "gridcolor": "#EBF0F8",
           "linecolor": "#EBF0F8",
           "linewidth": 2,
           "showline": true,
           "ticks": "",
           "title": {
            "standoff": 15
           },
           "zerolinecolor": "#EBF0F8",
           "zerolinewidth": 2
          }
         }
        },
        "xaxis": {
         "anchor": "y",
         "domain": [
          0,
          1
         ],
         "title": {
          "text": "protein content of last meal"
         }
        },
        "yaxis": {
         "anchor": "x",
         "domain": [
          0,
          1
         ],
         "title": {
          "text": "core temperature"
         }
        }
       }
      }
     },
     "metadata": {},
     "output_type": "display_data"
    }
   ],
   "source": [
    "import statsmodels.formula.api as smf\n",
    "import graphing # custom graphing code. See our GitHub repo for details\n",
    "\n",
    "# Perform linear regression. This method takes care of\n",
    "# the entire fitting procedure for us.\n",
    "simple_formula = \"core_temperature ~ protein_content_of_last_meal\"\n",
    "simple_model = smf.ols(formula = simple_formula, data = dataset).fit()\n",
    "\n",
    "# Show a graph of the result\n",
    "graphing.scatter_2D(dataset, label_x=\"protein_content_of_last_meal\", \n",
    "                             label_y=\"core_temperature\",\n",
    "                             trendline=lambda x: simple_model.params[1] * x + simple_model.params[0])"
   ]
  },
  {
   "attachments": {},
   "cell_type": "markdown",
   "metadata": {},
   "source": [
    "Observe cómo la relación entre las dos variables no es realmente lineal. Mirando la gráfica, es bastante claro ver que los puntos tienden más fuertemente hacia un lado de la línea, especialmente para los valores más altos core-temperaturey . protein_content_of_last_meal Una línea recta podría no ser la mejor manera de describir esta relación.\n",
    "\n",
    "Echemos un vistazo rápido a la puntuación R-Squared del modelo:"
   ]
  },
  {
   "cell_type": "code",
   "execution_count": 24,
   "metadata": {},
   "outputs": [
    {
     "name": "stdout",
     "output_type": "stream",
     "text": [
      "R-squared: 0.9155158150005704\n"
     ]
    }
   ],
   "source": [
    "print(\"R-squared:\", simple_model.rsquared)"
   ]
  },
  {
   "attachments": {},
   "cell_type": "markdown",
   "metadata": {},
   "source": [
    "Esa es una puntuación R-Squared bastante razonable, ¡pero veamos si podemos obtener una aún mejor!"
   ]
  },
  {
   "attachments": {},
   "cell_type": "markdown",
   "metadata": {},
   "source": [
    "    Regresión polinomial simple \n",
    "Ajustemos una regresión polinomial simple esta vez. De manera similar a una regresión lineal simple, una regresión polinomial simple modela la relación entre una etiqueta y una sola característica. A diferencia de una regresión lineal simple, una regresión polinomial simple puede explicar relaciones que no son simplemente líneas rectas. \n",
    "\n",
    "En nuestro ejemplo, vamos a utilizar un polinomio de tres parámetros."
   ]
  },
  {
   "cell_type": "code",
   "execution_count": 25,
   "metadata": {},
   "outputs": [
    {
     "data": {
      "application/vnd.plotly.v1+json": {
       "config": {
        "plotlyServerURL": "https://plot.ly"
       },
       "data": [
        {
         "hovertemplate": "protein content of last meal=%{x}<br>core temperature=%{y}<extra></extra>",
         "legendgroup": "",
         "marker": {
          "color": "#636efa",
          "size": 17,
          "symbol": "circle"
         },
         "mode": "markers",
         "name": "",
         "orientation": "v",
         "showlegend": false,
         "type": "scatter",
         "x": [
          7.66,
          13.36,
          12.9,
          13.45,
          10.53,
          11.17,
          16,
          10.3,
          5.71,
          15.38,
          18.47,
          8.52,
          7.36,
          7.78,
          10.76,
          19.94,
          5.86,
          17.56,
          8.14,
          22.18,
          4.43,
          12.29,
          4.83,
          13.68,
          18.52,
          7.12,
          6.99,
          17.39,
          10.6,
          9.03,
          9.54,
          13.29,
          8.79,
          7.72,
          15.43,
          7.17,
          8.9,
          19.72,
          8.47,
          21.73,
          5.95,
          19.16,
          7.28,
          11.57,
          7.62,
          5.33,
          15.95,
          13.04,
          11.96,
          8.96,
          24.89,
          17.45,
          23.65,
          11.9,
          20.52,
          6.76,
          11.71,
          11.51,
          11.76,
          13.78,
          16.51,
          26.61,
          14.84,
          4.99,
          9.98,
          19.91,
          6.5,
          8.2,
          18.86,
          16.26,
          3.93,
          7.66,
          14.68,
          6.4,
          5.31,
          13.52,
          7.9,
          10.86,
          7.91,
          21.93,
          9.51,
          12.79,
          9.64,
          13.31,
          6.45,
          9.44,
          10.04,
          22.78,
          11.12,
          13.99,
          14.22,
          15.06,
          10,
          7.35,
          12.18,
          15.84,
          9.79,
          21.3
         ],
         "xaxis": "x",
         "y": [
          38.42316895,
          39.01599822,
          39.14834088,
          39.06004863,
          38.65543905,
          38.6092188,
          39.47390806,
          38.81521612,
          37.77845286,
          39.17685034,
          39.52090819,
          38.57896943,
          38.28013391,
          38.40158039,
          38.65157641,
          39.61720308,
          37.72843549,
          39.36694049,
          37.98848685,
          39.93405104,
          37.60559023,
          38.83468198,
          37.39892664,
          38.98633063,
          39.72456882,
          38.09695504,
          37.59597881,
          39.49731323,
          38.50187636,
          38.27036031,
          38.69964224,
          39.08411118,
          38.29400364,
          38.39872285,
          39.29951536,
          38.37598649,
          38.46968433,
          39.58561173,
          38.12682317,
          39.80156649,
          37.92682179,
          39.67264697,
          38.21409556,
          38.93217418,
          37.80121676,
          37.52097889,
          39.34942824,
          38.9163822,
          38.72595498,
          38.35421436,
          40.17337876,
          39.48214424,
          39.9557292,
          39.02529641,
          39.70565695,
          37.87210056,
          38.92730588,
          38.75694066,
          38.98157028,
          39.07020183,
          39.31023381,
          40.26487847,
          39.19531025,
          37.46606804,
          38.61929591,
          39.74308443,
          37.9590829,
          38.52387016,
          39.58821189,
          39.48780846,
          37.32113362,
          38.30311301,
          39.32598796,
          38.18373964,
          37.78518905,
          38.97361387,
          37.97719515,
          38.92654301,
          37.98922316,
          39.87010492,
          38.51344083,
          39.14710639,
          38.61129304,
          38.95232638,
          37.46812464,
          38.24131363,
          38.7661591,
          39.87233432,
          38.87492299,
          39.09337261,
          39.00124171,
          39.25963687,
          38.6808734,
          37.93994229,
          38.79042609,
          39.48996228,
          38.57574159,
          39.76644658
         ],
         "yaxis": "y"
        }
       ],
       "layout": {
        "legend": {
         "tracegroupgap": 0
        },
        "shapes": [
         {
          "line": {
           "color": "rgb(228,26,28)"
          },
          "path": "M3.93 37.406961099510795 L 4.043969849246231 37.431485032602936 L 4.157939698492463 37.45589575154656 L 4.2719095477386935 37.48019325634164 L 4.385879396984925 37.504377546988195 L 4.499849246231156 37.52844862348623 L 4.613819095477387 37.552406485835725 L 4.727788944723619 37.576251134036696 L 4.841758793969849 37.59998256808913 L 4.95572864321608 37.62360078799304 L 5.069698492462312 37.64710579374842 L 5.183668341708543 37.67049758535528 L 5.297638190954774 37.6937761628136 L 5.411608040201005 37.71694152612339 L 5.525577889447236 37.73999367528466 L 5.639547738693468 37.76293261029739 L 5.753517587939699 37.785758331161595 L 5.86748743718593 37.80847083787727 L 5.9814572864321605 37.83107013044442 L 6.095427135678392 37.85355620886303 L 6.2093969849246236 37.87592907313312 L 6.323366834170855 37.89818872325468 L 6.437336683417086 37.920335159227704 L 6.551306532663316 37.942368381052205 L 6.665276381909548 37.96428838872817 L 6.7792462311557795 37.98609518225562 L 6.89321608040201 38.00778876163452 L 7.007185929648241 38.02936912686491 L 7.121155778894472 38.05083627794676 L 7.235125628140704 38.07219021488008 L 7.3490954773869355 38.09343093766488 L 7.463065326633166 38.11455844630114 L 7.577035175879397 38.135572740788874 L 7.691005025125628 38.156473821128074 L 7.80497487437186 38.177261687318754 L 7.9189447236180905 38.1979363393609 L 8.032914572864321 38.21849777725451 L 8.146884422110553 38.238946000999604 L 8.260854271356784 38.25928101059616 L 8.374824120603016 38.27950280604419 L 8.488793969849246 38.29961138734369 L 8.602763819095477 38.31960675449466 L 8.716733668341709 38.3394889074971 L 8.83070351758794 38.35925784635101 L 8.944673366834172 38.37891357105639 L 9.058643216080402 38.39845608161324 L 9.172613065326633 38.417885378021566 L 9.286582914572865 38.43720146028136 L 9.400552763819096 38.45640432839262 L 9.514522613065328 38.47549398235536 L 9.628492462311558 38.49447042216956 L 9.742462311557789 38.51333364783524 L 9.85643216080402 38.53208365935238 L 9.970402010050252 38.550720456721 L 10.084371859296482 38.56924403994109 L 10.198341708542713 38.58765440901264 L 10.312311557788945 38.605951563935676 L 10.426281407035177 38.624135504710175 L 10.540251256281408 38.64220623133615 L 10.654221105527638 38.660163743813584 L 10.76819095477387 38.678008042142494 L 10.882160804020101 38.69573912632288 L 10.996130653266333 38.713356996354726 L 11.110100502512562 38.730861652238055 L 11.224070351758794 38.74825309397285 L 11.338040201005025 38.76553132155911 L 11.452010050251257 38.78269633499684 L 11.565979899497489 38.79974813428605 L 11.679949748743718 38.81668671942673 L 11.79391959798995 38.83351209041887 L 11.907889447236181 38.85022424726249 L 12.021859296482411 38.86682318995758 L 12.135829145728643 38.883308918504135 L 12.249798994974874 38.89968143290216 L 12.363768844221106 38.915940733151665 L 12.477738693467337 38.93208681925263 L 12.591708542713567 38.94811969120507 L 12.705678391959799 38.964039349008985 L 12.81964824120603 38.979845792664364 L 12.933618090452262 38.99553902217122 L 13.047587939698492 39.01111903752954 L 13.161557788944723 39.02658583873934 L 13.275527638190955 39.0419394258006 L 13.389497487437186 39.057179798713335 L 13.503467336683418 39.07230695747754 L 13.617437185929647 39.08732090209322 L 13.731407035175879 39.102221632560365 L 13.84537688442211 39.11700914887898 L 13.959346733668342 39.13168345104907 L 14.073316582914574 39.14624453907063 L 14.187286432160803 39.16069241294365 L 14.301256281407035 39.17502707266816 L 14.415226130653267 39.18924851824413 L 14.529195979899498 39.20335674967156 L 14.643165829145728 39.21735176695048 L 14.75713567839196 39.23123357008086 L 14.871105527638191 39.245002159062714 L 14.985075376884422 39.258657533896034 L 15.099045226130654 39.27219969458083 L 15.213015075376884 39.28562864111709 L 15.326984924623115 39.29894437350483 L 15.440954773869347 39.312146891744035 L 15.554924623115578 39.32523619583471 L 15.668894472361808 39.338212285776855 L 15.78286432160804 39.35107516157048 L 15.896834170854271 39.363824823215566 L 16.010804020100505 39.37646127071212 L 16.124773869346736 39.38898450406015 L 16.238743718592964 39.401394523259654 L 16.352713567839196 39.41369132831062 L 16.466683417085427 39.425874919213065 L 16.58065326633166 39.437945295966976 L 16.69462311557789 39.44990245857235 L 16.808592964824122 39.46174640702921 L 16.922562814070353 39.47347714133753 L 17.036532663316585 39.48509466149733 L 17.150502512562817 39.49659896750859 L 17.264472361809045 39.50799005937132 L 17.378442211055276 39.51926793708553 L 17.492412060301508 39.53043260065121 L 17.60638190954774 39.541484050068355 L 17.72035175879397 39.552422285336974 L 17.834321608040202 39.56324730645706 L 17.948291457286434 39.57395911342862 L 18.062261306532665 39.58455770625165 L 18.176231155778897 39.59504308492615 L 18.290201005025125 39.60541524945212 L 18.404170854271356 39.61567419982956 L 18.518140703517588 39.62581993605848 L 18.63211055276382 39.63585245813886 L 18.74608040201005 39.64577176607071 L 18.860050251256283 39.655577859854034 L 18.974020100502514 39.665270739488825 L 19.087989949748746 39.67485040497509 L 19.201959798994977 39.684316856312826 L 19.315929648241205 39.693670093502035 L 19.429899497487437 39.70291011654271 L 19.54386934673367 39.71203692543486 L 19.6578391959799 39.72105052017847 L 19.77180904522613 39.72995090077356 L 19.885778894472363 39.73873806722012 L 19.999748743718595 39.74741201951815 L 20.113718592964823 39.75597275766765 L 20.227688442211054 39.76442028166862 L 20.341658291457286 39.772754591521064 L 20.455628140703517 39.780975687224974 L 20.56959798994975 39.789083568780356 L 20.68356783919598 39.79707823618721 L 20.797537688442212 39.80495968944553 L 20.911507537688443 39.81272792855533 L 21.025477386934675 39.82038295351659 L 21.139447236180903 39.82792476432933 L 21.253417085427134 39.83535336099354 L 21.367386934673366 39.842668743509215 L 21.481356783919598 39.84987091187636 L 21.59532663316583 39.85695986609498 L 21.70929648241206 39.863935606165064 L 21.823266331658292 39.87079813208663 L 21.937236180904524 39.877547443859655 L 22.051206030150755 39.884183541484155 L 22.165175879396983 39.89070642496013 L 22.279145728643215 39.89711609428757 L 22.393115577889446 39.90341254946648 L 22.507085427135678 39.909595790496866 L 22.62105527638191 39.915665817378716 L 22.73502512562814 39.92162263011204 L 22.848994974874373 39.92746622869684 L 22.962964824120604 39.9331966131331 L 23.076934673366836 39.93881378342084 L 23.190904522613067 39.94431773956004 L 23.304874371859295 39.94970848155072 L 23.418844221105527 39.95498600939287 L 23.53281407035176 39.96015032308649 L 23.64678391959799 39.96520142263157 L 23.76075376884422 39.97013930802814 L 23.874723618090453 39.97496397927616 L 23.988693467336685 39.979675436375665 L 24.102663316582916 39.984273679326634 L 24.216633165829148 39.988758708129076 L 24.330603015075376 39.99313052278299 L 24.444572864321607 39.99738912328837 L 24.55854271356784 40.001534509645225 L 24.67251256281407 40.00556668185355 L 24.786482412060302 40.00948563991334 L 24.900452261306533 40.01329138382461 L 25.014422110552765 40.016983913587346 L 25.128391959798996 40.02056322920156 L 25.242361809045228 40.02402933066723 L 25.356331658291456 40.02738221798438 L 25.470301507537688 40.030621891153 L 25.58427135678392 40.033748350173084 L 25.69824120603015 40.036761595044645 L 25.812211055276382 40.03966162576768 L 25.926180904522614 40.04244844234218 L 26.040150753768845 40.04512204476815 L 26.154120603015077 40.04768243304559 L 26.26809045226131 40.050129607174505 L 26.382060301507536 40.05246356715489 L 26.496030150753768 40.05468431298674 L 26.61 40.056791844670066",
          "type": "path"
         }
        ],
        "template": {
         "data": {
          "bar": [
           {
            "error_x": {
             "color": "#2a3f5f"
            },
            "error_y": {
             "color": "#2a3f5f"
            },
            "marker": {
             "line": {
              "color": "white",
              "width": 0.5
             },
             "pattern": {
              "fillmode": "overlay",
              "size": 10,
              "solidity": 0.2
             }
            },
            "type": "bar"
           }
          ],
          "barpolar": [
           {
            "marker": {
             "line": {
              "color": "white",
              "width": 0.5
             },
             "pattern": {
              "fillmode": "overlay",
              "size": 10,
              "solidity": 0.2
             }
            },
            "type": "barpolar"
           }
          ],
          "box": [
           {
            "boxpoints": "outliers",
            "notched": false,
            "type": "box"
           }
          ],
          "carpet": [
           {
            "aaxis": {
             "endlinecolor": "#2a3f5f",
             "gridcolor": "#C8D4E3",
             "linecolor": "#C8D4E3",
             "minorgridcolor": "#C8D4E3",
             "startlinecolor": "#2a3f5f"
            },
            "baxis": {
             "endlinecolor": "#2a3f5f",
             "gridcolor": "#C8D4E3",
             "linecolor": "#C8D4E3",
             "minorgridcolor": "#C8D4E3",
             "startlinecolor": "#2a3f5f"
            },
            "type": "carpet"
           }
          ],
          "choropleth": [
           {
            "colorbar": {
             "outlinewidth": 0,
             "ticks": ""
            },
            "type": "choropleth"
           }
          ],
          "contour": [
           {
            "colorbar": {
             "outlinewidth": 0,
             "ticks": ""
            },
            "colorscale": [
             [
              0,
              "#0d0887"
             ],
             [
              0.1111111111111111,
              "#46039f"
             ],
             [
              0.2222222222222222,
              "#7201a8"
             ],
             [
              0.3333333333333333,
              "#9c179e"
             ],
             [
              0.4444444444444444,
              "#bd3786"
             ],
             [
              0.5555555555555556,
              "#d8576b"
             ],
             [
              0.6666666666666666,
              "#ed7953"
             ],
             [
              0.7777777777777778,
              "#fb9f3a"
             ],
             [
              0.8888888888888888,
              "#fdca26"
             ],
             [
              1,
              "#f0f921"
             ]
            ],
            "type": "contour"
           }
          ],
          "contourcarpet": [
           {
            "colorbar": {
             "outlinewidth": 0,
             "ticks": ""
            },
            "type": "contourcarpet"
           }
          ],
          "heatmap": [
           {
            "colorbar": {
             "outlinewidth": 0,
             "ticks": ""
            },
            "colorscale": [
             [
              0,
              "#0d0887"
             ],
             [
              0.1111111111111111,
              "#46039f"
             ],
             [
              0.2222222222222222,
              "#7201a8"
             ],
             [
              0.3333333333333333,
              "#9c179e"
             ],
             [
              0.4444444444444444,
              "#bd3786"
             ],
             [
              0.5555555555555556,
              "#d8576b"
             ],
             [
              0.6666666666666666,
              "#ed7953"
             ],
             [
              0.7777777777777778,
              "#fb9f3a"
             ],
             [
              0.8888888888888888,
              "#fdca26"
             ],
             [
              1,
              "#f0f921"
             ]
            ],
            "type": "heatmap"
           }
          ],
          "heatmapgl": [
           {
            "colorbar": {
             "outlinewidth": 0,
             "ticks": ""
            },
            "colorscale": [
             [
              0,
              "#0d0887"
             ],
             [
              0.1111111111111111,
              "#46039f"
             ],
             [
              0.2222222222222222,
              "#7201a8"
             ],
             [
              0.3333333333333333,
              "#9c179e"
             ],
             [
              0.4444444444444444,
              "#bd3786"
             ],
             [
              0.5555555555555556,
              "#d8576b"
             ],
             [
              0.6666666666666666,
              "#ed7953"
             ],
             [
              0.7777777777777778,
              "#fb9f3a"
             ],
             [
              0.8888888888888888,
              "#fdca26"
             ],
             [
              1,
              "#f0f921"
             ]
            ],
            "type": "heatmapgl"
           }
          ],
          "histogram": [
           {
            "marker": {
             "line": {
              "width": 1
             },
             "pattern": {
              "fillmode": "overlay",
              "size": 10,
              "solidity": 0.2
             }
            },
            "type": "histogram"
           }
          ],
          "histogram2d": [
           {
            "colorbar": {
             "outlinewidth": 0,
             "ticks": ""
            },
            "colorscale": [
             [
              0,
              "#0d0887"
             ],
             [
              0.1111111111111111,
              "#46039f"
             ],
             [
              0.2222222222222222,
              "#7201a8"
             ],
             [
              0.3333333333333333,
              "#9c179e"
             ],
             [
              0.4444444444444444,
              "#bd3786"
             ],
             [
              0.5555555555555556,
              "#d8576b"
             ],
             [
              0.6666666666666666,
              "#ed7953"
             ],
             [
              0.7777777777777778,
              "#fb9f3a"
             ],
             [
              0.8888888888888888,
              "#fdca26"
             ],
             [
              1,
              "#f0f921"
             ]
            ],
            "type": "histogram2d"
           }
          ],
          "histogram2dcontour": [
           {
            "colorbar": {
             "outlinewidth": 0,
             "ticks": ""
            },
            "colorscale": [
             [
              0,
              "#0d0887"
             ],
             [
              0.1111111111111111,
              "#46039f"
             ],
             [
              0.2222222222222222,
              "#7201a8"
             ],
             [
              0.3333333333333333,
              "#9c179e"
             ],
             [
              0.4444444444444444,
              "#bd3786"
             ],
             [
              0.5555555555555556,
              "#d8576b"
             ],
             [
              0.6666666666666666,
              "#ed7953"
             ],
             [
              0.7777777777777778,
              "#fb9f3a"
             ],
             [
              0.8888888888888888,
              "#fdca26"
             ],
             [
              1,
              "#f0f921"
             ]
            ],
            "type": "histogram2dcontour"
           }
          ],
          "mesh3d": [
           {
            "colorbar": {
             "outlinewidth": 0,
             "ticks": ""
            },
            "type": "mesh3d"
           }
          ],
          "parcoords": [
           {
            "line": {
             "colorbar": {
              "outlinewidth": 0,
              "ticks": ""
             }
            },
            "type": "parcoords"
           }
          ],
          "pie": [
           {
            "automargin": true,
            "type": "pie"
           }
          ],
          "scatter": [
           {
            "fillpattern": {
             "fillmode": "overlay",
             "size": 10,
             "solidity": 0.2
            },
            "marker": {
             "opacity": 0.8
            },
            "type": "scatter"
           }
          ],
          "scatter3d": [
           {
            "line": {
             "colorbar": {
              "outlinewidth": 0,
              "ticks": ""
             }
            },
            "marker": {
             "colorbar": {
              "outlinewidth": 0,
              "ticks": ""
             },
             "opacity": 0.8
            },
            "type": "scatter3d"
           }
          ],
          "scattercarpet": [
           {
            "marker": {
             "colorbar": {
              "outlinewidth": 0,
              "ticks": ""
             }
            },
            "type": "scattercarpet"
           }
          ],
          "scattergeo": [
           {
            "marker": {
             "colorbar": {
              "outlinewidth": 0,
              "ticks": ""
             }
            },
            "type": "scattergeo"
           }
          ],
          "scattergl": [
           {
            "marker": {
             "colorbar": {
              "outlinewidth": 0,
              "ticks": ""
             }
            },
            "type": "scattergl"
           }
          ],
          "scattermapbox": [
           {
            "marker": {
             "colorbar": {
              "outlinewidth": 0,
              "ticks": ""
             }
            },
            "type": "scattermapbox"
           }
          ],
          "scatterpolar": [
           {
            "marker": {
             "colorbar": {
              "outlinewidth": 0,
              "ticks": ""
             }
            },
            "type": "scatterpolar"
           }
          ],
          "scatterpolargl": [
           {
            "marker": {
             "colorbar": {
              "outlinewidth": 0,
              "ticks": ""
             }
            },
            "type": "scatterpolargl"
           }
          ],
          "scatterternary": [
           {
            "marker": {
             "colorbar": {
              "outlinewidth": 0,
              "ticks": ""
             }
            },
            "type": "scatterternary"
           }
          ],
          "surface": [
           {
            "colorbar": {
             "outlinewidth": 0,
             "ticks": ""
            },
            "colorscale": [
             [
              0,
              "#0d0887"
             ],
             [
              0.1111111111111111,
              "#46039f"
             ],
             [
              0.2222222222222222,
              "#7201a8"
             ],
             [
              0.3333333333333333,
              "#9c179e"
             ],
             [
              0.4444444444444444,
              "#bd3786"
             ],
             [
              0.5555555555555556,
              "#d8576b"
             ],
             [
              0.6666666666666666,
              "#ed7953"
             ],
             [
              0.7777777777777778,
              "#fb9f3a"
             ],
             [
              0.8888888888888888,
              "#fdca26"
             ],
             [
              1,
              "#f0f921"
             ]
            ],
            "type": "surface"
           }
          ],
          "table": [
           {
            "cells": {
             "fill": {
              "color": "#EBF0F8"
             },
             "line": {
              "color": "white"
             }
            },
            "header": {
             "fill": {
              "color": "#C8D4E3"
             },
             "line": {
              "color": "white"
             }
            },
            "type": "table"
           }
          ]
         },
         "layout": {
          "annotationdefaults": {
           "arrowcolor": "#2a3f5f",
           "arrowhead": 0,
           "arrowwidth": 1
          },
          "autotypenumbers": "strict",
          "coloraxis": {
           "colorbar": {
            "outlinewidth": 0,
            "ticks": ""
           }
          },
          "colorscale": {
           "diverging": [
            [
             0,
             "#8e0152"
            ],
            [
             0.1,
             "#c51b7d"
            ],
            [
             0.2,
             "#de77ae"
            ],
            [
             0.3,
             "#f1b6da"
            ],
            [
             0.4,
             "#fde0ef"
            ],
            [
             0.5,
             "#f7f7f7"
            ],
            [
             0.6,
             "#e6f5d0"
            ],
            [
             0.7,
             "#b8e186"
            ],
            [
             0.8,
             "#7fbc41"
            ],
            [
             0.9,
             "#4d9221"
            ],
            [
             1,
             "#276419"
            ]
           ],
           "sequential": [
            [
             0,
             "#0d0887"
            ],
            [
             0.1111111111111111,
             "#46039f"
            ],
            [
             0.2222222222222222,
             "#7201a8"
            ],
            [
             0.3333333333333333,
             "#9c179e"
            ],
            [
             0.4444444444444444,
             "#bd3786"
            ],
            [
             0.5555555555555556,
             "#d8576b"
            ],
            [
             0.6666666666666666,
             "#ed7953"
            ],
            [
             0.7777777777777778,
             "#fb9f3a"
            ],
            [
             0.8888888888888888,
             "#fdca26"
            ],
            [
             1,
             "#f0f921"
            ]
           ],
           "sequentialminus": [
            [
             0,
             "#0d0887"
            ],
            [
             0.1111111111111111,
             "#46039f"
            ],
            [
             0.2222222222222222,
             "#7201a8"
            ],
            [
             0.3333333333333333,
             "#9c179e"
            ],
            [
             0.4444444444444444,
             "#bd3786"
            ],
            [
             0.5555555555555556,
             "#d8576b"
            ],
            [
             0.6666666666666666,
             "#ed7953"
            ],
            [
             0.7777777777777778,
             "#fb9f3a"
            ],
            [
             0.8888888888888888,
             "#fdca26"
            ],
            [
             1,
             "#f0f921"
            ]
           ]
          },
          "colorway": [
           "#636efa",
           "#EF553B",
           "#00cc96",
           "#ab63fa",
           "#FFA15A",
           "#19d3f3",
           "#FF6692",
           "#B6E880",
           "#FF97FF",
           "#FECB52"
          ],
          "font": {
           "color": "#2a3f5f"
          },
          "geo": {
           "bgcolor": "white",
           "lakecolor": "white",
           "landcolor": "white",
           "showlakes": true,
           "showland": true,
           "subunitcolor": "#C8D4E3"
          },
          "height": 400,
          "hoverlabel": {
           "align": "left"
          },
          "hovermode": "closest",
          "mapbox": {
           "style": "light"
          },
          "margin": {
           "b": 2,
           "l": 2,
           "r": 2,
           "t": 30
          },
          "paper_bgcolor": "white",
          "plot_bgcolor": "white",
          "polar": {
           "angularaxis": {
            "gridcolor": "#EBF0F8",
            "linecolor": "#EBF0F8",
            "ticks": ""
           },
           "bgcolor": "white",
           "radialaxis": {
            "gridcolor": "#EBF0F8",
            "linecolor": "#EBF0F8",
            "ticks": ""
           }
          },
          "scene": {
           "camera": {
            "eye": {
             "x": 1.5,
             "y": 1.5,
             "z": 0.1
            }
           },
           "xaxis": {
            "backgroundcolor": "white",
            "gridcolor": "#DFE8F3",
            "gridwidth": 2,
            "linecolor": "#EBF0F8",
            "showbackground": true,
            "ticks": "",
            "zerolinecolor": "#EBF0F8"
           },
           "yaxis": {
            "backgroundcolor": "white",
            "gridcolor": "#DFE8F3",
            "gridwidth": 2,
            "linecolor": "#EBF0F8",
            "showbackground": true,
            "ticks": "",
            "zerolinecolor": "#EBF0F8"
           },
           "zaxis": {
            "backgroundcolor": "white",
            "gridcolor": "#DFE8F3",
            "gridwidth": 2,
            "linecolor": "#EBF0F8",
            "showbackground": true,
            "ticks": "",
            "zerolinecolor": "#EBF0F8"
           }
          },
          "shapedefaults": {
           "line": {
            "color": "#2a3f5f"
           }
          },
          "ternary": {
           "aaxis": {
            "gridcolor": "#DFE8F3",
            "linecolor": "#A2B1C6",
            "ticks": ""
           },
           "baxis": {
            "gridcolor": "#DFE8F3",
            "linecolor": "#A2B1C6",
            "ticks": ""
           },
           "bgcolor": "white",
           "caxis": {
            "gridcolor": "#DFE8F3",
            "linecolor": "#A2B1C6",
            "ticks": ""
           }
          },
          "title": {
           "x": 0.5
          },
          "xaxis": {
           "automargin": true,
           "gridcolor": "#EBF0F8",
           "linecolor": "#EBF0F8",
           "linewidth": 2,
           "showline": true,
           "ticks": "",
           "title": {
            "standoff": 15
           },
           "zerolinecolor": "#EBF0F8",
           "zerolinewidth": 2
          },
          "yaxis": {
           "automargin": true,
           "gridcolor": "#EBF0F8",
           "linecolor": "#EBF0F8",
           "linewidth": 2,
           "showline": true,
           "ticks": "",
           "title": {
            "standoff": 15
           },
           "zerolinecolor": "#EBF0F8",
           "zerolinewidth": 2
          }
         }
        },
        "xaxis": {
         "anchor": "y",
         "domain": [
          0,
          1
         ],
         "title": {
          "text": "protein content of last meal"
         }
        },
        "yaxis": {
         "anchor": "x",
         "domain": [
          0,
          1
         ],
         "title": {
          "text": "core temperature"
         }
        }
       }
      }
     },
     "metadata": {},
     "output_type": "display_data"
    }
   ],
   "source": [
    "# Perform polynomial regression. This method takes care of\n",
    "# the entire fitting procedure for us.\n",
    "polynomial_formula = \"core_temperature ~ protein_content_of_last_meal + I(protein_content_of_last_meal**2)\"\n",
    "polynomial_model = smf.ols(formula = polynomial_formula, data = dataset).fit()\n",
    "\n",
    "# Show a graph of the result\n",
    "graphing.scatter_2D(dataset, label_x=\"protein_content_of_last_meal\", \n",
    "                             label_y=\"core_temperature\",\n",
    "                             # Our trendline is the equation for the polynomial\n",
    "                             trendline=lambda x: polynomial_model.params[2] * x**2 + polynomial_model.params[1] * x + polynomial_model.params[0])"
   ]
  },
  {
   "attachments": {},
   "cell_type": "markdown",
   "metadata": {},
   "source": [
    "Eso ya se ve mucho mejor. Confirmemos echando un vistazo rápido a la puntuación R-Squared:"
   ]
  },
  {
   "cell_type": "code",
   "execution_count": 26,
   "metadata": {},
   "outputs": [
    {
     "name": "stdout",
     "output_type": "stream",
     "text": [
      "R-squared: 0.9514426069911689\n"
     ]
    }
   ],
   "source": [
    "print(\"R-squared:\", polynomial_model.rsquared)"
   ]
  },
  {
   "attachments": {},
   "cell_type": "markdown",
   "metadata": {},
   "source": [
    "Esa es una puntuación R-Squared_ mejor que la obtenida con el modelo anterior, ¡excelente! Ahora podemos decirle con confianza a nuestro veterinario que dé prioridad a los perros que comieron una dieta rica en proteínas la noche anterior."
   ]
  },
  {
   "attachments": {},
   "cell_type": "markdown",
   "metadata": {},
   "source": [
    "Tracemos nuestro modelo como un gráfico 3D. vamos a ver X y X^2 como dos parámetros separados. Tenga en cuenta que si gira el elemento visual a la derecha, nuestro modelo de regresión sigue siendo un plano. Esta es la razón por la que los modelos polinómicos todavía se consideran modelos lineales."
   ]
  },
  {
   "cell_type": "code",
   "execution_count": 27,
   "metadata": {},
   "outputs": [
    {
     "data": {
      "application/vnd.plotly.v1+json": {
       "config": {
        "plotlyServerURL": "https://plot.ly"
       },
       "data": [
        {
         "colorbar": {
          "title": {
           "text": "Core temperature"
          }
         },
         "type": "surface",
         "x": [
          3.93,
          26.61
         ],
         "y": [
          15.4449,
          708.0921
         ],
         "z": [
          [
           37.406961099510795,
           43.07537291533093
          ],
          [
           34.38838002884992,
           40.05679184467006
          ]
         ]
        },
        {
         "mode": "markers",
         "type": "scatter3d",
         "x": [
          7.66,
          13.36,
          12.9,
          13.45,
          10.53,
          11.17,
          16,
          10.3,
          5.71,
          15.38,
          18.47,
          8.52,
          7.36,
          7.78,
          10.76,
          19.94,
          5.86,
          17.56,
          8.14,
          22.18,
          4.43,
          12.29,
          4.83,
          13.68,
          18.52,
          7.12,
          6.99,
          17.39,
          10.6,
          9.03,
          9.54,
          13.29,
          8.79,
          7.72,
          15.43,
          7.17,
          8.9,
          19.72,
          8.47,
          21.73,
          5.95,
          19.16,
          7.28,
          11.57,
          7.62,
          5.33,
          15.95,
          13.04,
          11.96,
          8.96,
          24.89,
          17.45,
          23.65,
          11.9,
          20.52,
          6.76,
          11.71,
          11.51,
          11.76,
          13.78,
          16.51,
          26.61,
          14.84,
          4.99,
          9.98,
          19.91,
          6.5,
          8.2,
          18.86,
          16.26,
          3.93,
          7.66,
          14.68,
          6.4,
          5.31,
          13.52,
          7.9,
          10.86,
          7.91,
          21.93,
          9.51,
          12.79,
          9.64,
          13.31,
          6.45,
          9.44,
          10.04,
          22.78,
          11.12,
          13.99,
          14.22,
          15.06,
          10,
          7.35,
          12.18,
          15.84,
          9.79,
          21.3
         ],
         "y": [
          58.6756,
          178.4896,
          166.41,
          180.90249999999997,
          110.88089999999998,
          124.7689,
          256,
          106.09000000000002,
          32.6041,
          236.54440000000002,
          341.14089999999993,
          72.59039999999999,
          54.1696,
          60.528400000000005,
          115.77759999999999,
          397.60360000000003,
          34.339600000000004,
          308.3536,
          66.2596,
          491.9524,
          19.624899999999997,
          151.0441,
          23.3289,
          187.14239999999998,
          342.99039999999997,
          50.6944,
          48.8601,
          302.4121,
          112.36,
          81.5409,
          91.01159999999999,
          176.62409999999997,
          77.26409999999998,
          59.5984,
          238.0849,
          51.408899999999996,
          79.21000000000001,
          388.87839999999994,
          71.74090000000001,
          472.1929,
          35.4025,
          367.1056,
          52.998400000000004,
          133.8649,
          58.0644,
          28.4089,
          254.40249999999997,
          170.0416,
          143.04160000000002,
          80.28160000000001,
          619.5121,
          304.5025,
          559.3224999999999,
          141.61,
          421.0704,
          45.697599999999994,
          137.12410000000003,
          132.4801,
          138.2976,
          189.8884,
          272.5801000000001,
          708.0921,
          220.2256,
          24.900100000000002,
          99.60040000000001,
          396.4081,
          42.25,
          67.24,
          355.6996,
          264.3876000000001,
          15.4449,
          58.6756,
          215.5024,
          40.96000000000001,
          28.196099999999994,
          182.79039999999998,
          62.410000000000004,
          117.93959999999998,
          62.5681,
          480.9249,
          90.4401,
          163.58409999999998,
          92.92960000000001,
          177.1561,
          41.6025,
          89.11359999999999,
          100.80159999999998,
          518.9284,
          123.65439999999998,
          195.7201,
          202.2084,
          226.80360000000002,
          100,
          54.022499999999994,
          148.3524,
          250.9056,
          95.84409999999998,
          453.69000000000005
         ],
         "z": [
          38.42316895,
          39.01599822,
          39.14834088,
          39.06004863,
          38.65543905,
          38.6092188,
          39.47390806,
          38.81521612,
          37.77845286,
          39.17685034,
          39.52090819,
          38.57896943,
          38.28013391,
          38.40158039,
          38.65157641,
          39.61720308,
          37.72843549,
          39.36694049,
          37.98848685,
          39.93405104,
          37.60559023,
          38.83468198,
          37.39892664,
          38.98633063,
          39.72456882,
          38.09695504,
          37.59597881,
          39.49731323,
          38.50187636,
          38.27036031,
          38.69964224,
          39.08411118,
          38.29400364,
          38.39872285,
          39.29951536,
          38.37598649,
          38.46968433,
          39.58561173,
          38.12682317,
          39.80156649,
          37.92682179,
          39.67264697,
          38.21409556,
          38.93217418,
          37.80121676,
          37.52097889,
          39.34942824,
          38.9163822,
          38.72595498,
          38.35421436,
          40.17337876,
          39.48214424,
          39.9557292,
          39.02529641,
          39.70565695,
          37.87210056,
          38.92730588,
          38.75694066,
          38.98157028,
          39.07020183,
          39.31023381,
          40.26487847,
          39.19531025,
          37.46606804,
          38.61929591,
          39.74308443,
          37.9590829,
          38.52387016,
          39.58821189,
          39.48780846,
          37.32113362,
          38.30311301,
          39.32598796,
          38.18373964,
          37.78518905,
          38.97361387,
          37.97719515,
          38.92654301,
          37.98922316,
          39.87010492,
          38.51344083,
          39.14710639,
          38.61129304,
          38.95232638,
          37.46812464,
          38.24131363,
          38.7661591,
          39.87233432,
          38.87492299,
          39.09337261,
          39.00124171,
          39.25963687,
          38.6808734,
          37.93994229,
          38.79042609,
          39.48996228,
          38.57574159,
          39.76644658
         ]
        }
       ],
       "layout": {
        "scene": {
         "xaxis": {
          "title": {
           "text": "x"
          }
         },
         "yaxis": {
          "title": {
           "text": "x2"
          }
         },
         "zaxis": {
          "title": {
           "text": "Core temperature"
          }
         }
        },
        "template": {
         "data": {
          "bar": [
           {
            "error_x": {
             "color": "#2a3f5f"
            },
            "error_y": {
             "color": "#2a3f5f"
            },
            "marker": {
             "line": {
              "color": "white",
              "width": 0.5
             },
             "pattern": {
              "fillmode": "overlay",
              "size": 10,
              "solidity": 0.2
             }
            },
            "type": "bar"
           }
          ],
          "barpolar": [
           {
            "marker": {
             "line": {
              "color": "white",
              "width": 0.5
             },
             "pattern": {
              "fillmode": "overlay",
              "size": 10,
              "solidity": 0.2
             }
            },
            "type": "barpolar"
           }
          ],
          "box": [
           {
            "boxpoints": "outliers",
            "notched": false,
            "type": "box"
           }
          ],
          "carpet": [
           {
            "aaxis": {
             "endlinecolor": "#2a3f5f",
             "gridcolor": "#C8D4E3",
             "linecolor": "#C8D4E3",
             "minorgridcolor": "#C8D4E3",
             "startlinecolor": "#2a3f5f"
            },
            "baxis": {
             "endlinecolor": "#2a3f5f",
             "gridcolor": "#C8D4E3",
             "linecolor": "#C8D4E3",
             "minorgridcolor": "#C8D4E3",
             "startlinecolor": "#2a3f5f"
            },
            "type": "carpet"
           }
          ],
          "choropleth": [
           {
            "colorbar": {
             "outlinewidth": 0,
             "ticks": ""
            },
            "type": "choropleth"
           }
          ],
          "contour": [
           {
            "colorbar": {
             "outlinewidth": 0,
             "ticks": ""
            },
            "colorscale": [
             [
              0,
              "#0d0887"
             ],
             [
              0.1111111111111111,
              "#46039f"
             ],
             [
              0.2222222222222222,
              "#7201a8"
             ],
             [
              0.3333333333333333,
              "#9c179e"
             ],
             [
              0.4444444444444444,
              "#bd3786"
             ],
             [
              0.5555555555555556,
              "#d8576b"
             ],
             [
              0.6666666666666666,
              "#ed7953"
             ],
             [
              0.7777777777777778,
              "#fb9f3a"
             ],
             [
              0.8888888888888888,
              "#fdca26"
             ],
             [
              1,
              "#f0f921"
             ]
            ],
            "type": "contour"
           }
          ],
          "contourcarpet": [
           {
            "colorbar": {
             "outlinewidth": 0,
             "ticks": ""
            },
            "type": "contourcarpet"
           }
          ],
          "heatmap": [
           {
            "colorbar": {
             "outlinewidth": 0,
             "ticks": ""
            },
            "colorscale": [
             [
              0,
              "#0d0887"
             ],
             [
              0.1111111111111111,
              "#46039f"
             ],
             [
              0.2222222222222222,
              "#7201a8"
             ],
             [
              0.3333333333333333,
              "#9c179e"
             ],
             [
              0.4444444444444444,
              "#bd3786"
             ],
             [
              0.5555555555555556,
              "#d8576b"
             ],
             [
              0.6666666666666666,
              "#ed7953"
             ],
             [
              0.7777777777777778,
              "#fb9f3a"
             ],
             [
              0.8888888888888888,
              "#fdca26"
             ],
             [
              1,
              "#f0f921"
             ]
            ],
            "type": "heatmap"
           }
          ],
          "heatmapgl": [
           {
            "colorbar": {
             "outlinewidth": 0,
             "ticks": ""
            },
            "colorscale": [
             [
              0,
              "#0d0887"
             ],
             [
              0.1111111111111111,
              "#46039f"
             ],
             [
              0.2222222222222222,
              "#7201a8"
             ],
             [
              0.3333333333333333,
              "#9c179e"
             ],
             [
              0.4444444444444444,
              "#bd3786"
             ],
             [
              0.5555555555555556,
              "#d8576b"
             ],
             [
              0.6666666666666666,
              "#ed7953"
             ],
             [
              0.7777777777777778,
              "#fb9f3a"
             ],
             [
              0.8888888888888888,
              "#fdca26"
             ],
             [
              1,
              "#f0f921"
             ]
            ],
            "type": "heatmapgl"
           }
          ],
          "histogram": [
           {
            "marker": {
             "line": {
              "width": 1
             },
             "pattern": {
              "fillmode": "overlay",
              "size": 10,
              "solidity": 0.2
             }
            },
            "type": "histogram"
           }
          ],
          "histogram2d": [
           {
            "colorbar": {
             "outlinewidth": 0,
             "ticks": ""
            },
            "colorscale": [
             [
              0,
              "#0d0887"
             ],
             [
              0.1111111111111111,
              "#46039f"
             ],
             [
              0.2222222222222222,
              "#7201a8"
             ],
             [
              0.3333333333333333,
              "#9c179e"
             ],
             [
              0.4444444444444444,
              "#bd3786"
             ],
             [
              0.5555555555555556,
              "#d8576b"
             ],
             [
              0.6666666666666666,
              "#ed7953"
             ],
             [
              0.7777777777777778,
              "#fb9f3a"
             ],
             [
              0.8888888888888888,
              "#fdca26"
             ],
             [
              1,
              "#f0f921"
             ]
            ],
            "type": "histogram2d"
           }
          ],
          "histogram2dcontour": [
           {
            "colorbar": {
             "outlinewidth": 0,
             "ticks": ""
            },
            "colorscale": [
             [
              0,
              "#0d0887"
             ],
             [
              0.1111111111111111,
              "#46039f"
             ],
             [
              0.2222222222222222,
              "#7201a8"
             ],
             [
              0.3333333333333333,
              "#9c179e"
             ],
             [
              0.4444444444444444,
              "#bd3786"
             ],
             [
              0.5555555555555556,
              "#d8576b"
             ],
             [
              0.6666666666666666,
              "#ed7953"
             ],
             [
              0.7777777777777778,
              "#fb9f3a"
             ],
             [
              0.8888888888888888,
              "#fdca26"
             ],
             [
              1,
              "#f0f921"
             ]
            ],
            "type": "histogram2dcontour"
           }
          ],
          "mesh3d": [
           {
            "colorbar": {
             "outlinewidth": 0,
             "ticks": ""
            },
            "type": "mesh3d"
           }
          ],
          "parcoords": [
           {
            "line": {
             "colorbar": {
              "outlinewidth": 0,
              "ticks": ""
             }
            },
            "type": "parcoords"
           }
          ],
          "pie": [
           {
            "automargin": true,
            "type": "pie"
           }
          ],
          "scatter": [
           {
            "fillpattern": {
             "fillmode": "overlay",
             "size": 10,
             "solidity": 0.2
            },
            "marker": {
             "opacity": 0.8
            },
            "type": "scatter"
           }
          ],
          "scatter3d": [
           {
            "line": {
             "colorbar": {
              "outlinewidth": 0,
              "ticks": ""
             }
            },
            "marker": {
             "colorbar": {
              "outlinewidth": 0,
              "ticks": ""
             },
             "opacity": 0.8
            },
            "type": "scatter3d"
           }
          ],
          "scattercarpet": [
           {
            "marker": {
             "colorbar": {
              "outlinewidth": 0,
              "ticks": ""
             }
            },
            "type": "scattercarpet"
           }
          ],
          "scattergeo": [
           {
            "marker": {
             "colorbar": {
              "outlinewidth": 0,
              "ticks": ""
             }
            },
            "type": "scattergeo"
           }
          ],
          "scattergl": [
           {
            "marker": {
             "colorbar": {
              "outlinewidth": 0,
              "ticks": ""
             }
            },
            "type": "scattergl"
           }
          ],
          "scattermapbox": [
           {
            "marker": {
             "colorbar": {
              "outlinewidth": 0,
              "ticks": ""
             }
            },
            "type": "scattermapbox"
           }
          ],
          "scatterpolar": [
           {
            "marker": {
             "colorbar": {
              "outlinewidth": 0,
              "ticks": ""
             }
            },
            "type": "scatterpolar"
           }
          ],
          "scatterpolargl": [
           {
            "marker": {
             "colorbar": {
              "outlinewidth": 0,
              "ticks": ""
             }
            },
            "type": "scatterpolargl"
           }
          ],
          "scatterternary": [
           {
            "marker": {
             "colorbar": {
              "outlinewidth": 0,
              "ticks": ""
             }
            },
            "type": "scatterternary"
           }
          ],
          "surface": [
           {
            "colorbar": {
             "outlinewidth": 0,
             "ticks": ""
            },
            "colorscale": [
             [
              0,
              "#0d0887"
             ],
             [
              0.1111111111111111,
              "#46039f"
             ],
             [
              0.2222222222222222,
              "#7201a8"
             ],
             [
              0.3333333333333333,
              "#9c179e"
             ],
             [
              0.4444444444444444,
              "#bd3786"
             ],
             [
              0.5555555555555556,
              "#d8576b"
             ],
             [
              0.6666666666666666,
              "#ed7953"
             ],
             [
              0.7777777777777778,
              "#fb9f3a"
             ],
             [
              0.8888888888888888,
              "#fdca26"
             ],
             [
              1,
              "#f0f921"
             ]
            ],
            "type": "surface"
           }
          ],
          "table": [
           {
            "cells": {
             "fill": {
              "color": "#EBF0F8"
             },
             "line": {
              "color": "white"
             }
            },
            "header": {
             "fill": {
              "color": "#C8D4E3"
             },
             "line": {
              "color": "white"
             }
            },
            "type": "table"
           }
          ]
         },
         "layout": {
          "annotationdefaults": {
           "arrowcolor": "#2a3f5f",
           "arrowhead": 0,
           "arrowwidth": 1
          },
          "autotypenumbers": "strict",
          "coloraxis": {
           "colorbar": {
            "outlinewidth": 0,
            "ticks": ""
           }
          },
          "colorscale": {
           "diverging": [
            [
             0,
             "#8e0152"
            ],
            [
             0.1,
             "#c51b7d"
            ],
            [
             0.2,
             "#de77ae"
            ],
            [
             0.3,
             "#f1b6da"
            ],
            [
             0.4,
             "#fde0ef"
            ],
            [
             0.5,
             "#f7f7f7"
            ],
            [
             0.6,
             "#e6f5d0"
            ],
            [
             0.7,
             "#b8e186"
            ],
            [
             0.8,
             "#7fbc41"
            ],
            [
             0.9,
             "#4d9221"
            ],
            [
             1,
             "#276419"
            ]
           ],
           "sequential": [
            [
             0,
             "#0d0887"
            ],
            [
             0.1111111111111111,
             "#46039f"
            ],
            [
             0.2222222222222222,
             "#7201a8"
            ],
            [
             0.3333333333333333,
             "#9c179e"
            ],
            [
             0.4444444444444444,
             "#bd3786"
            ],
            [
             0.5555555555555556,
             "#d8576b"
            ],
            [
             0.6666666666666666,
             "#ed7953"
            ],
            [
             0.7777777777777778,
             "#fb9f3a"
            ],
            [
             0.8888888888888888,
             "#fdca26"
            ],
            [
             1,
             "#f0f921"
            ]
           ],
           "sequentialminus": [
            [
             0,
             "#0d0887"
            ],
            [
             0.1111111111111111,
             "#46039f"
            ],
            [
             0.2222222222222222,
             "#7201a8"
            ],
            [
             0.3333333333333333,
             "#9c179e"
            ],
            [
             0.4444444444444444,
             "#bd3786"
            ],
            [
             0.5555555555555556,
             "#d8576b"
            ],
            [
             0.6666666666666666,
             "#ed7953"
            ],
            [
             0.7777777777777778,
             "#fb9f3a"
            ],
            [
             0.8888888888888888,
             "#fdca26"
            ],
            [
             1,
             "#f0f921"
            ]
           ]
          },
          "colorway": [
           "#636efa",
           "#EF553B",
           "#00cc96",
           "#ab63fa",
           "#FFA15A",
           "#19d3f3",
           "#FF6692",
           "#B6E880",
           "#FF97FF",
           "#FECB52"
          ],
          "font": {
           "color": "#2a3f5f"
          },
          "geo": {
           "bgcolor": "white",
           "lakecolor": "white",
           "landcolor": "white",
           "showlakes": true,
           "showland": true,
           "subunitcolor": "#C8D4E3"
          },
          "height": 400,
          "hoverlabel": {
           "align": "left"
          },
          "hovermode": "closest",
          "mapbox": {
           "style": "light"
          },
          "margin": {
           "b": 2,
           "l": 2,
           "r": 2,
           "t": 30
          },
          "paper_bgcolor": "white",
          "plot_bgcolor": "white",
          "polar": {
           "angularaxis": {
            "gridcolor": "#EBF0F8",
            "linecolor": "#EBF0F8",
            "ticks": ""
           },
           "bgcolor": "white",
           "radialaxis": {
            "gridcolor": "#EBF0F8",
            "linecolor": "#EBF0F8",
            "ticks": ""
           }
          },
          "scene": {
           "camera": {
            "eye": {
             "x": 1.5,
             "y": 1.5,
             "z": 0.1
            }
           },
           "xaxis": {
            "backgroundcolor": "white",
            "gridcolor": "#DFE8F3",
            "gridwidth": 2,
            "linecolor": "#EBF0F8",
            "showbackground": true,
            "ticks": "",
            "zerolinecolor": "#EBF0F8"
           },
           "yaxis": {
            "backgroundcolor": "white",
            "gridcolor": "#DFE8F3",
            "gridwidth": 2,
            "linecolor": "#EBF0F8",
            "showbackground": true,
            "ticks": "",
            "zerolinecolor": "#EBF0F8"
           },
           "zaxis": {
            "backgroundcolor": "white",
            "gridcolor": "#DFE8F3",
            "gridwidth": 2,
            "linecolor": "#EBF0F8",
            "showbackground": true,
            "ticks": "",
            "zerolinecolor": "#EBF0F8"
           }
          },
          "shapedefaults": {
           "line": {
            "color": "#2a3f5f"
           }
          },
          "ternary": {
           "aaxis": {
            "gridcolor": "#DFE8F3",
            "linecolor": "#A2B1C6",
            "ticks": ""
           },
           "baxis": {
            "gridcolor": "#DFE8F3",
            "linecolor": "#A2B1C6",
            "ticks": ""
           },
           "bgcolor": "white",
           "caxis": {
            "gridcolor": "#DFE8F3",
            "linecolor": "#A2B1C6",
            "ticks": ""
           }
          },
          "title": {
           "x": 0.5
          },
          "xaxis": {
           "automargin": true,
           "gridcolor": "#EBF0F8",
           "linecolor": "#EBF0F8",
           "linewidth": 2,
           "showline": true,
           "ticks": "",
           "title": {
            "standoff": 15
           },
           "zerolinecolor": "#EBF0F8",
           "zerolinewidth": 2
          },
          "yaxis": {
           "automargin": true,
           "gridcolor": "#EBF0F8",
           "linecolor": "#EBF0F8",
           "linewidth": 2,
           "showline": true,
           "ticks": "",
           "title": {
            "standoff": 15
           },
           "zerolinecolor": "#EBF0F8",
           "zerolinewidth": 2
          }
         }
        },
        "title": {}
       }
      }
     },
     "metadata": {},
     "output_type": "display_data"
    }
   ],
   "source": [
    "import numpy as np\n",
    "fig = graphing.surface(\n",
    "    x_values=np.array([min(dataset.protein_content_of_last_meal), max(dataset.protein_content_of_last_meal)]),\n",
    "    y_values=np.array([min(dataset.protein_content_of_last_meal)**2, max(dataset.protein_content_of_last_meal)**2]),\n",
    "    calc_z=lambda x,y: polynomial_model.params[0] + (polynomial_model.params[1] * x) + (polynomial_model.params[2] * y),\n",
    "    axis_title_x=\"x\",\n",
    "    axis_title_y=\"x2\",\n",
    "    axis_title_z=\"Core temperature\"\n",
    ")\n",
    "# Add our datapoints to it and display\n",
    "fig.add_scatter3d(x=dataset.protein_content_of_last_meal, y=dataset.protein_content_of_last_meal**2, z=dataset.core_temperature, mode='markers')\n",
    "fig.show()"
   ]
  },
  {
   "attachments": {},
   "cell_type": "markdown",
   "metadata": {},
   "source": [
    "    Extrapolando \n",
    "Veamos qué sucede si extraplacamos nuestros datos. Nos gustaría ver si se espera que los perros que comieron alimentos incluso más ricos en proteínas se enfermen aún más. \n",
    "\n",
    "Comencemos con la regresión lineal. Podemos establecer a qué rango nos gustaría extrapolar nuestros datos usando el argumento x_range en la función de trazado. Extrapolemos sobre el rango [0,100]:"
   ]
  },
  {
   "cell_type": "code",
   "execution_count": 28,
   "metadata": {},
   "outputs": [
    {
     "data": {
      "application/vnd.plotly.v1+json": {
       "config": {
        "plotlyServerURL": "https://plot.ly"
       },
       "data": [
        {
         "hovertemplate": "protein content of last meal=%{x}<br>core temperature=%{y}<extra></extra>",
         "legendgroup": "",
         "marker": {
          "color": "#636efa",
          "size": 17,
          "symbol": "circle"
         },
         "mode": "markers",
         "name": "",
         "orientation": "v",
         "showlegend": false,
         "type": "scatter",
         "x": [
          7.66,
          13.36,
          12.9,
          13.45,
          10.53,
          11.17,
          16,
          10.3,
          5.71,
          15.38,
          18.47,
          8.52,
          7.36,
          7.78,
          10.76,
          19.94,
          5.86,
          17.56,
          8.14,
          22.18,
          4.43,
          12.29,
          4.83,
          13.68,
          18.52,
          7.12,
          6.99,
          17.39,
          10.6,
          9.03,
          9.54,
          13.29,
          8.79,
          7.72,
          15.43,
          7.17,
          8.9,
          19.72,
          8.47,
          21.73,
          5.95,
          19.16,
          7.28,
          11.57,
          7.62,
          5.33,
          15.95,
          13.04,
          11.96,
          8.96,
          24.89,
          17.45,
          23.65,
          11.9,
          20.52,
          6.76,
          11.71,
          11.51,
          11.76,
          13.78,
          16.51,
          26.61,
          14.84,
          4.99,
          9.98,
          19.91,
          6.5,
          8.2,
          18.86,
          16.26,
          3.93,
          7.66,
          14.68,
          6.4,
          5.31,
          13.52,
          7.9,
          10.86,
          7.91,
          21.93,
          9.51,
          12.79,
          9.64,
          13.31,
          6.45,
          9.44,
          10.04,
          22.78,
          11.12,
          13.99,
          14.22,
          15.06,
          10,
          7.35,
          12.18,
          15.84,
          9.79,
          21.3
         ],
         "xaxis": "x",
         "y": [
          38.42316895,
          39.01599822,
          39.14834088,
          39.06004863,
          38.65543905,
          38.6092188,
          39.47390806,
          38.81521612,
          37.77845286,
          39.17685034,
          39.52090819,
          38.57896943,
          38.28013391,
          38.40158039,
          38.65157641,
          39.61720308,
          37.72843549,
          39.36694049,
          37.98848685,
          39.93405104,
          37.60559023,
          38.83468198,
          37.39892664,
          38.98633063,
          39.72456882,
          38.09695504,
          37.59597881,
          39.49731323,
          38.50187636,
          38.27036031,
          38.69964224,
          39.08411118,
          38.29400364,
          38.39872285,
          39.29951536,
          38.37598649,
          38.46968433,
          39.58561173,
          38.12682317,
          39.80156649,
          37.92682179,
          39.67264697,
          38.21409556,
          38.93217418,
          37.80121676,
          37.52097889,
          39.34942824,
          38.9163822,
          38.72595498,
          38.35421436,
          40.17337876,
          39.48214424,
          39.9557292,
          39.02529641,
          39.70565695,
          37.87210056,
          38.92730588,
          38.75694066,
          38.98157028,
          39.07020183,
          39.31023381,
          40.26487847,
          39.19531025,
          37.46606804,
          38.61929591,
          39.74308443,
          37.9590829,
          38.52387016,
          39.58821189,
          39.48780846,
          37.32113362,
          38.30311301,
          39.32598796,
          38.18373964,
          37.78518905,
          38.97361387,
          37.97719515,
          38.92654301,
          37.98922316,
          39.87010492,
          38.51344083,
          39.14710639,
          38.61129304,
          38.95232638,
          37.46812464,
          38.24131363,
          38.7661591,
          39.87233432,
          38.87492299,
          39.09337261,
          39.00124171,
          39.25963687,
          38.6808734,
          37.93994229,
          38.79042609,
          39.48996228,
          38.57574159,
          39.76644658
         ],
         "yaxis": "y"
        }
       ],
       "layout": {
        "legend": {
         "tracegroupgap": 0
        },
        "shapes": [
         {
          "line": {
           "color": "rgb(228,26,28)"
          },
          "path": "M0.0 37.20938941966435 L 0.5025125628140703 37.273862531991995 L 1.0050251256281406 37.33833564431965 L 1.507537688442211 37.402808756647296 L 2.0100502512562812 37.46728186897494 L 2.5125628140703515 37.5317549813026 L 3.015075376884422 37.596228093630245 L 3.517587939698492 37.66070120595789 L 4.0201005025125625 37.725174318285546 L 4.522613065326633 37.78964743061319 L 5.025125628140703 37.85412054294084 L 5.527638190954773 37.918593655268495 L 6.030150753768844 37.98306676759614 L 6.532663316582914 38.04753987992379 L 7.035175879396984 38.112012992251444 L 7.537688442211055 38.17648610457909 L 8.040201005025125 38.240959216906745 L 8.542713567839195 38.30543232923439 L 9.045226130653266 38.36990544156204 L 9.547738693467336 38.434378553889694 L 10.050251256281406 38.49885166621734 L 10.552763819095476 38.56332477854499 L 11.055276381909547 38.62779789087264 L 11.557788944723617 38.69227100320029 L 12.060301507537687 38.75674411552794 L 12.562814070351758 38.82121722785559 L 13.065326633165828 38.88569034018324 L 13.567839195979898 38.950163452510886 L 14.070351758793969 39.01463656483854 L 14.572864321608039 39.07910967716619 L 15.07537688442211 39.143582789493834 L 15.57788944723618 39.20805590182149 L 16.08040201005025 39.272529014149136 L 16.58291457286432 39.33700212647678 L 17.08542713567839 39.40147523880444 L 17.587939698492463 39.465948351132084 L 18.09045226130653 39.53042146345973 L 18.5929648241206 39.594894575787386 L 19.09547738693467 39.65936768811503 L 19.597989949748744 39.72384080044269 L 20.100502512562812 39.788313912770334 L 20.60301507537688 39.85278702509798 L 21.105527638190953 39.91726013742563 L 21.608040201005025 39.98173324975328 L 22.110552763819094 40.04620636208093 L 22.613065326633162 40.110679474408585 L 23.115577889447234 40.17515258673623 L 23.618090452261306 40.23962569906388 L 24.120603015075375 40.30409881139153 L 24.623115577889443 40.36857192371918 L 25.125628140703515 40.43304503604683 L 25.628140703517587 40.49751814837448 L 26.130653266331656 40.56199126070213 L 26.633165829145725 40.626464373029776 L 27.135678391959797 40.69093748535743 L 27.63819095477387 40.75541059768508 L 28.140703517587937 40.819883710012725 L 28.643216080402006 40.88435682234038 L 29.145728643216078 40.94882993466803 L 29.64824120603015 41.013303046995674 L 30.15075376884422 41.07777615932333 L 30.653266331658287 41.142249271650975 L 31.15577889447236 41.20672238397862 L 31.65829145728643 41.27119549630628 L 32.1608040201005 41.335668608633924 L 32.66331658291457 41.40014172096157 L 33.16582914572864 41.464614833289225 L 33.66834170854271 41.52908794561687 L 34.17085427135678 41.59356105794453 L 34.67336683417085 41.658034170272174 L 35.175879396984925 41.72250728259982 L 35.678391959798994 41.786980394927475 L 36.18090452261306 41.85145350725512 L 36.68341708542713 41.91592661958277 L 37.1859296482412 41.980399731910424 L 37.688442211055275 42.04487284423807 L 38.19095477386934 42.10934595656572 L 38.69346733668341 42.17381906889337 L 39.19597989949749 42.23829218122102 L 39.698492462311556 42.30276529354867 L 40.201005025125625 42.36723840587632 L 40.70351758793969 42.43171151820397 L 41.20603015075376 42.496184630531616 L 41.70854271356784 42.56065774285927 L 42.211055276381906 42.62513085518692 L 42.713567839195974 42.689603967514564 L 43.21608040201005 42.75407707984222 L 43.71859296482412 42.818550192169866 L 44.22110552763819 42.88302330449751 L 44.723618090452256 42.94749641682517 L 45.226130653266324 43.011969529152815 L 45.7286432160804 43.07644264148047 L 46.23115577889447 43.140915753808116 L 46.73366834170854 43.20538886613576 L 47.23618090452261 43.26986197846342 L 47.73869346733668 43.334335090791065 L 48.24120603015075 43.39880820311871 L 48.74371859296482 43.463281315446366 L 49.24623115577889 43.52775442777401 L 49.74874371859296 43.59222754010166 L 50.25125628140703 43.656700652429315 L 50.7537688442211 43.72117376475696 L 51.256281407035175 43.78564687708461 L 51.75879396984924 43.85011998941226 L 52.26130653266331 43.91459310173991 L 52.76381909547738 43.97906621406756 L 53.26633165829145 44.04353932639521 L 53.768844221105525 44.10801243872286 L 54.27135678391959 44.17248555105051 L 54.77386934673366 44.23695866337816 L 55.27638190954774 44.30143177570581 L 55.778894472361806 44.365904888033455 L 56.281407035175874 44.43037800036111 L 56.78391959798994 44.49485111268876 L 57.28643216080401 44.559324225016404 L 57.78894472361809 44.62379733734406 L 58.291457286432156 44.688270449671705 L 58.793969849246224 44.75274356199935 L 59.2964824120603 44.81721667432701 L 59.79899497487437 44.881689786654654 L 60.30150753768844 44.94616289898231 L 60.804020100502505 45.010636011309956 L 61.306532663316574 45.0751091236376 L 61.80904522613065 45.13958223596526 L 62.31155778894472 45.204055348292904 L 62.81407035175879 45.26852846062055 L 63.31658291457286 45.333001572948206 L 63.81909547738693 45.39747468527585 L 64.321608040201 45.4619477976035 L 64.82412060301507 45.526420909931154 L 65.32663316582914 45.5908940222588 L 65.82914572864321 45.65536713458645 L 66.33165829145727 45.7198402469141 L 66.83417085427135 45.78431335924175 L 67.33668341708542 45.8487864715694 L 67.83919597989949 45.913259583897045 L 68.34170854271356 45.9777326962247 L 68.84422110552764 46.04220580855235 L 69.3467336683417 46.10667892088 L 69.84924623115577 46.17115203320765 L 70.35175879396985 46.235625145535295 L 70.85427135678391 46.30009825786295 L 71.35678391959799 46.364571370190596 L 71.85929648241205 46.42904448251824 L 72.36180904522612 46.4935175948459 L 72.8643216080402 46.557990707173545 L 73.36683417085426 46.62246381950119 L 73.86934673366834 46.686936931828846 L 74.3718592964824 46.75141004415649 L 74.87437185929647 46.81588315648415 L 75.37688442211055 46.880356268811795 L 75.87939698492461 46.94482938113944 L 76.38190954773869 47.00930249346709 L 76.88442211055276 47.073775605794744 L 77.38693467336682 47.13824871812239 L 77.8894472361809 47.202721830450045 L 78.39195979899498 47.26719494277769 L 78.89447236180904 47.33166805510534 L 79.39698492462311 47.396141167432994 L 79.89949748743717 47.46061427976064 L 80.40201005025125 47.52508739208829 L 80.90452261306532 47.58956050441594 L 81.40703517587939 47.65403361674359 L 81.90954773869346 47.71850672907124 L 82.41206030150752 47.782979841398884 L 82.9145728643216 47.84745295372654 L 83.41708542713567 47.91192606605419 L 83.91959798994974 47.97639917838184 L 84.42211055276381 48.04087229070949 L 84.92462311557789 48.105345403037134 L 85.42713567839195 48.16981851536479 L 85.92964824120602 48.234291627692436 L 86.4321608040201 48.29876474002009 L 86.93467336683416 48.36323785234774 L 87.43718592964824 48.427710964675384 L 87.9396984924623 48.49218407700303 L 88.44221105527637 48.556657189330686 L 88.94472361809045 48.62113030165833 L 89.44723618090451 48.68560341398599 L 89.94974874371859 48.750076526313634 L 90.45226130653265 48.81454963864128 L 90.95477386934672 48.87902275096893 L 91.4572864321608 48.94349586329658 L 91.95979899497486 49.00796897562423 L 92.46231155778894 49.072442087951885 L 92.96482412060301 49.13691520027953 L 93.46733668341707 49.20138831260718 L 93.96984924623115 49.26586142493483 L 94.47236180904522 49.33033453726248 L 94.97487437185929 49.39480764959013 L 95.47738693467336 49.45928076191778 L 95.97989949748742 49.52375387424543 L 96.4824120603015 49.588226986573076 L 96.98492462311557 49.65270009890073 L 97.48743718592964 49.71717321122838 L 97.98994974874371 49.78164632355603 L 98.49246231155777 49.84611943588368 L 98.99497487437185 49.910592548211326 L 99.49748743718592 49.975065660538974 L 100.0 50.03953877286663",
          "type": "path"
         }
        ],
        "template": {
         "data": {
          "bar": [
           {
            "error_x": {
             "color": "#2a3f5f"
            },
            "error_y": {
             "color": "#2a3f5f"
            },
            "marker": {
             "line": {
              "color": "white",
              "width": 0.5
             },
             "pattern": {
              "fillmode": "overlay",
              "size": 10,
              "solidity": 0.2
             }
            },
            "type": "bar"
           }
          ],
          "barpolar": [
           {
            "marker": {
             "line": {
              "color": "white",
              "width": 0.5
             },
             "pattern": {
              "fillmode": "overlay",
              "size": 10,
              "solidity": 0.2
             }
            },
            "type": "barpolar"
           }
          ],
          "box": [
           {
            "boxpoints": "outliers",
            "notched": false,
            "type": "box"
           }
          ],
          "carpet": [
           {
            "aaxis": {
             "endlinecolor": "#2a3f5f",
             "gridcolor": "#C8D4E3",
             "linecolor": "#C8D4E3",
             "minorgridcolor": "#C8D4E3",
             "startlinecolor": "#2a3f5f"
            },
            "baxis": {
             "endlinecolor": "#2a3f5f",
             "gridcolor": "#C8D4E3",
             "linecolor": "#C8D4E3",
             "minorgridcolor": "#C8D4E3",
             "startlinecolor": "#2a3f5f"
            },
            "type": "carpet"
           }
          ],
          "choropleth": [
           {
            "colorbar": {
             "outlinewidth": 0,
             "ticks": ""
            },
            "type": "choropleth"
           }
          ],
          "contour": [
           {
            "colorbar": {
             "outlinewidth": 0,
             "ticks": ""
            },
            "colorscale": [
             [
              0,
              "#0d0887"
             ],
             [
              0.1111111111111111,
              "#46039f"
             ],
             [
              0.2222222222222222,
              "#7201a8"
             ],
             [
              0.3333333333333333,
              "#9c179e"
             ],
             [
              0.4444444444444444,
              "#bd3786"
             ],
             [
              0.5555555555555556,
              "#d8576b"
             ],
             [
              0.6666666666666666,
              "#ed7953"
             ],
             [
              0.7777777777777778,
              "#fb9f3a"
             ],
             [
              0.8888888888888888,
              "#fdca26"
             ],
             [
              1,
              "#f0f921"
             ]
            ],
            "type": "contour"
           }
          ],
          "contourcarpet": [
           {
            "colorbar": {
             "outlinewidth": 0,
             "ticks": ""
            },
            "type": "contourcarpet"
           }
          ],
          "heatmap": [
           {
            "colorbar": {
             "outlinewidth": 0,
             "ticks": ""
            },
            "colorscale": [
             [
              0,
              "#0d0887"
             ],
             [
              0.1111111111111111,
              "#46039f"
             ],
             [
              0.2222222222222222,
              "#7201a8"
             ],
             [
              0.3333333333333333,
              "#9c179e"
             ],
             [
              0.4444444444444444,
              "#bd3786"
             ],
             [
              0.5555555555555556,
              "#d8576b"
             ],
             [
              0.6666666666666666,
              "#ed7953"
             ],
             [
              0.7777777777777778,
              "#fb9f3a"
             ],
             [
              0.8888888888888888,
              "#fdca26"
             ],
             [
              1,
              "#f0f921"
             ]
            ],
            "type": "heatmap"
           }
          ],
          "heatmapgl": [
           {
            "colorbar": {
             "outlinewidth": 0,
             "ticks": ""
            },
            "colorscale": [
             [
              0,
              "#0d0887"
             ],
             [
              0.1111111111111111,
              "#46039f"
             ],
             [
              0.2222222222222222,
              "#7201a8"
             ],
             [
              0.3333333333333333,
              "#9c179e"
             ],
             [
              0.4444444444444444,
              "#bd3786"
             ],
             [
              0.5555555555555556,
              "#d8576b"
             ],
             [
              0.6666666666666666,
              "#ed7953"
             ],
             [
              0.7777777777777778,
              "#fb9f3a"
             ],
             [
              0.8888888888888888,
              "#fdca26"
             ],
             [
              1,
              "#f0f921"
             ]
            ],
            "type": "heatmapgl"
           }
          ],
          "histogram": [
           {
            "marker": {
             "line": {
              "width": 1
             },
             "pattern": {
              "fillmode": "overlay",
              "size": 10,
              "solidity": 0.2
             }
            },
            "type": "histogram"
           }
          ],
          "histogram2d": [
           {
            "colorbar": {
             "outlinewidth": 0,
             "ticks": ""
            },
            "colorscale": [
             [
              0,
              "#0d0887"
             ],
             [
              0.1111111111111111,
              "#46039f"
             ],
             [
              0.2222222222222222,
              "#7201a8"
             ],
             [
              0.3333333333333333,
              "#9c179e"
             ],
             [
              0.4444444444444444,
              "#bd3786"
             ],
             [
              0.5555555555555556,
              "#d8576b"
             ],
             [
              0.6666666666666666,
              "#ed7953"
             ],
             [
              0.7777777777777778,
              "#fb9f3a"
             ],
             [
              0.8888888888888888,
              "#fdca26"
             ],
             [
              1,
              "#f0f921"
             ]
            ],
            "type": "histogram2d"
           }
          ],
          "histogram2dcontour": [
           {
            "colorbar": {
             "outlinewidth": 0,
             "ticks": ""
            },
            "colorscale": [
             [
              0,
              "#0d0887"
             ],
             [
              0.1111111111111111,
              "#46039f"
             ],
             [
              0.2222222222222222,
              "#7201a8"
             ],
             [
              0.3333333333333333,
              "#9c179e"
             ],
             [
              0.4444444444444444,
              "#bd3786"
             ],
             [
              0.5555555555555556,
              "#d8576b"
             ],
             [
              0.6666666666666666,
              "#ed7953"
             ],
             [
              0.7777777777777778,
              "#fb9f3a"
             ],
             [
              0.8888888888888888,
              "#fdca26"
             ],
             [
              1,
              "#f0f921"
             ]
            ],
            "type": "histogram2dcontour"
           }
          ],
          "mesh3d": [
           {
            "colorbar": {
             "outlinewidth": 0,
             "ticks": ""
            },
            "type": "mesh3d"
           }
          ],
          "parcoords": [
           {
            "line": {
             "colorbar": {
              "outlinewidth": 0,
              "ticks": ""
             }
            },
            "type": "parcoords"
           }
          ],
          "pie": [
           {
            "automargin": true,
            "type": "pie"
           }
          ],
          "scatter": [
           {
            "fillpattern": {
             "fillmode": "overlay",
             "size": 10,
             "solidity": 0.2
            },
            "marker": {
             "opacity": 0.8
            },
            "type": "scatter"
           }
          ],
          "scatter3d": [
           {
            "line": {
             "colorbar": {
              "outlinewidth": 0,
              "ticks": ""
             }
            },
            "marker": {
             "colorbar": {
              "outlinewidth": 0,
              "ticks": ""
             },
             "opacity": 0.8
            },
            "type": "scatter3d"
           }
          ],
          "scattercarpet": [
           {
            "marker": {
             "colorbar": {
              "outlinewidth": 0,
              "ticks": ""
             }
            },
            "type": "scattercarpet"
           }
          ],
          "scattergeo": [
           {
            "marker": {
             "colorbar": {
              "outlinewidth": 0,
              "ticks": ""
             }
            },
            "type": "scattergeo"
           }
          ],
          "scattergl": [
           {
            "marker": {
             "colorbar": {
              "outlinewidth": 0,
              "ticks": ""
             }
            },
            "type": "scattergl"
           }
          ],
          "scattermapbox": [
           {
            "marker": {
             "colorbar": {
              "outlinewidth": 0,
              "ticks": ""
             }
            },
            "type": "scattermapbox"
           }
          ],
          "scatterpolar": [
           {
            "marker": {
             "colorbar": {
              "outlinewidth": 0,
              "ticks": ""
             }
            },
            "type": "scatterpolar"
           }
          ],
          "scatterpolargl": [
           {
            "marker": {
             "colorbar": {
              "outlinewidth": 0,
              "ticks": ""
             }
            },
            "type": "scatterpolargl"
           }
          ],
          "scatterternary": [
           {
            "marker": {
             "colorbar": {
              "outlinewidth": 0,
              "ticks": ""
             }
            },
            "type": "scatterternary"
           }
          ],
          "surface": [
           {
            "colorbar": {
             "outlinewidth": 0,
             "ticks": ""
            },
            "colorscale": [
             [
              0,
              "#0d0887"
             ],
             [
              0.1111111111111111,
              "#46039f"
             ],
             [
              0.2222222222222222,
              "#7201a8"
             ],
             [
              0.3333333333333333,
              "#9c179e"
             ],
             [
              0.4444444444444444,
              "#bd3786"
             ],
             [
              0.5555555555555556,
              "#d8576b"
             ],
             [
              0.6666666666666666,
              "#ed7953"
             ],
             [
              0.7777777777777778,
              "#fb9f3a"
             ],
             [
              0.8888888888888888,
              "#fdca26"
             ],
             [
              1,
              "#f0f921"
             ]
            ],
            "type": "surface"
           }
          ],
          "table": [
           {
            "cells": {
             "fill": {
              "color": "#EBF0F8"
             },
             "line": {
              "color": "white"
             }
            },
            "header": {
             "fill": {
              "color": "#C8D4E3"
             },
             "line": {
              "color": "white"
             }
            },
            "type": "table"
           }
          ]
         },
         "layout": {
          "annotationdefaults": {
           "arrowcolor": "#2a3f5f",
           "arrowhead": 0,
           "arrowwidth": 1
          },
          "autotypenumbers": "strict",
          "coloraxis": {
           "colorbar": {
            "outlinewidth": 0,
            "ticks": ""
           }
          },
          "colorscale": {
           "diverging": [
            [
             0,
             "#8e0152"
            ],
            [
             0.1,
             "#c51b7d"
            ],
            [
             0.2,
             "#de77ae"
            ],
            [
             0.3,
             "#f1b6da"
            ],
            [
             0.4,
             "#fde0ef"
            ],
            [
             0.5,
             "#f7f7f7"
            ],
            [
             0.6,
             "#e6f5d0"
            ],
            [
             0.7,
             "#b8e186"
            ],
            [
             0.8,
             "#7fbc41"
            ],
            [
             0.9,
             "#4d9221"
            ],
            [
             1,
             "#276419"
            ]
           ],
           "sequential": [
            [
             0,
             "#0d0887"
            ],
            [
             0.1111111111111111,
             "#46039f"
            ],
            [
             0.2222222222222222,
             "#7201a8"
            ],
            [
             0.3333333333333333,
             "#9c179e"
            ],
            [
             0.4444444444444444,
             "#bd3786"
            ],
            [
             0.5555555555555556,
             "#d8576b"
            ],
            [
             0.6666666666666666,
             "#ed7953"
            ],
            [
             0.7777777777777778,
             "#fb9f3a"
            ],
            [
             0.8888888888888888,
             "#fdca26"
            ],
            [
             1,
             "#f0f921"
            ]
           ],
           "sequentialminus": [
            [
             0,
             "#0d0887"
            ],
            [
             0.1111111111111111,
             "#46039f"
            ],
            [
             0.2222222222222222,
             "#7201a8"
            ],
            [
             0.3333333333333333,
             "#9c179e"
            ],
            [
             0.4444444444444444,
             "#bd3786"
            ],
            [
             0.5555555555555556,
             "#d8576b"
            ],
            [
             0.6666666666666666,
             "#ed7953"
            ],
            [
             0.7777777777777778,
             "#fb9f3a"
            ],
            [
             0.8888888888888888,
             "#fdca26"
            ],
            [
             1,
             "#f0f921"
            ]
           ]
          },
          "colorway": [
           "#636efa",
           "#EF553B",
           "#00cc96",
           "#ab63fa",
           "#FFA15A",
           "#19d3f3",
           "#FF6692",
           "#B6E880",
           "#FF97FF",
           "#FECB52"
          ],
          "font": {
           "color": "#2a3f5f"
          },
          "geo": {
           "bgcolor": "white",
           "lakecolor": "white",
           "landcolor": "white",
           "showlakes": true,
           "showland": true,
           "subunitcolor": "#C8D4E3"
          },
          "height": 400,
          "hoverlabel": {
           "align": "left"
          },
          "hovermode": "closest",
          "mapbox": {
           "style": "light"
          },
          "margin": {
           "b": 2,
           "l": 2,
           "r": 2,
           "t": 30
          },
          "paper_bgcolor": "white",
          "plot_bgcolor": "white",
          "polar": {
           "angularaxis": {
            "gridcolor": "#EBF0F8",
            "linecolor": "#EBF0F8",
            "ticks": ""
           },
           "bgcolor": "white",
           "radialaxis": {
            "gridcolor": "#EBF0F8",
            "linecolor": "#EBF0F8",
            "ticks": ""
           }
          },
          "scene": {
           "camera": {
            "eye": {
             "x": 1.5,
             "y": 1.5,
             "z": 0.1
            }
           },
           "xaxis": {
            "backgroundcolor": "white",
            "gridcolor": "#DFE8F3",
            "gridwidth": 2,
            "linecolor": "#EBF0F8",
            "showbackground": true,
            "ticks": "",
            "zerolinecolor": "#EBF0F8"
           },
           "yaxis": {
            "backgroundcolor": "white",
            "gridcolor": "#DFE8F3",
            "gridwidth": 2,
            "linecolor": "#EBF0F8",
            "showbackground": true,
            "ticks": "",
            "zerolinecolor": "#EBF0F8"
           },
           "zaxis": {
            "backgroundcolor": "white",
            "gridcolor": "#DFE8F3",
            "gridwidth": 2,
            "linecolor": "#EBF0F8",
            "showbackground": true,
            "ticks": "",
            "zerolinecolor": "#EBF0F8"
           }
          },
          "shapedefaults": {
           "line": {
            "color": "#2a3f5f"
           }
          },
          "ternary": {
           "aaxis": {
            "gridcolor": "#DFE8F3",
            "linecolor": "#A2B1C6",
            "ticks": ""
           },
           "baxis": {
            "gridcolor": "#DFE8F3",
            "linecolor": "#A2B1C6",
            "ticks": ""
           },
           "bgcolor": "white",
           "caxis": {
            "gridcolor": "#DFE8F3",
            "linecolor": "#A2B1C6",
            "ticks": ""
           }
          },
          "title": {
           "x": 0.5
          },
          "xaxis": {
           "automargin": true,
           "gridcolor": "#EBF0F8",
           "linecolor": "#EBF0F8",
           "linewidth": 2,
           "showline": true,
           "ticks": "",
           "title": {
            "standoff": 15
           },
           "zerolinecolor": "#EBF0F8",
           "zerolinewidth": 2
          },
          "yaxis": {
           "automargin": true,
           "gridcolor": "#EBF0F8",
           "linecolor": "#EBF0F8",
           "linewidth": 2,
           "showline": true,
           "ticks": "",
           "title": {
            "standoff": 15
           },
           "zerolinecolor": "#EBF0F8",
           "zerolinewidth": 2
          }
         }
        },
        "xaxis": {
         "anchor": "y",
         "domain": [
          0,
          1
         ],
         "range": [
          0,
          100
         ],
         "title": {
          "text": "protein content of last meal"
         }
        },
        "yaxis": {
         "anchor": "x",
         "domain": [
          0,
          1
         ],
         "title": {
          "text": "core temperature"
         }
        }
       }
      }
     },
     "metadata": {},
     "output_type": "display_data"
    }
   ],
   "source": [
    "# Show an extrapolated graph of the linear model\n",
    "graphing.scatter_2D(dataset, label_x=\"protein_content_of_last_meal\", \n",
    "                             label_y=\"core_temperature\",\n",
    "                             # We extrapolate over the following range\n",
    "                             x_range = [0,100],\n",
    "                             trendline=lambda x: simple_model.params[1] * x + simple_model.params[0])"
   ]
  },
  {
   "attachments": {},
   "cell_type": "markdown",
   "metadata": {},
   "source": [
    "A continuación, extrapolamos la regresión polinomial sobre el mismo rango:"
   ]
  },
  {
   "cell_type": "code",
   "execution_count": 29,
   "metadata": {},
   "outputs": [
    {
     "data": {
      "application/vnd.plotly.v1+json": {
       "config": {
        "plotlyServerURL": "https://plot.ly"
       },
       "data": [
        {
         "hovertemplate": "protein content of last meal=%{x}<br>core temperature=%{y}<extra></extra>",
         "legendgroup": "",
         "marker": {
          "color": "#636efa",
          "size": 17,
          "symbol": "circle"
         },
         "mode": "markers",
         "name": "",
         "orientation": "v",
         "showlegend": false,
         "type": "scatter",
         "x": [
          7.66,
          13.36,
          12.9,
          13.45,
          10.53,
          11.17,
          16,
          10.3,
          5.71,
          15.38,
          18.47,
          8.52,
          7.36,
          7.78,
          10.76,
          19.94,
          5.86,
          17.56,
          8.14,
          22.18,
          4.43,
          12.29,
          4.83,
          13.68,
          18.52,
          7.12,
          6.99,
          17.39,
          10.6,
          9.03,
          9.54,
          13.29,
          8.79,
          7.72,
          15.43,
          7.17,
          8.9,
          19.72,
          8.47,
          21.73,
          5.95,
          19.16,
          7.28,
          11.57,
          7.62,
          5.33,
          15.95,
          13.04,
          11.96,
          8.96,
          24.89,
          17.45,
          23.65,
          11.9,
          20.52,
          6.76,
          11.71,
          11.51,
          11.76,
          13.78,
          16.51,
          26.61,
          14.84,
          4.99,
          9.98,
          19.91,
          6.5,
          8.2,
          18.86,
          16.26,
          3.93,
          7.66,
          14.68,
          6.4,
          5.31,
          13.52,
          7.9,
          10.86,
          7.91,
          21.93,
          9.51,
          12.79,
          9.64,
          13.31,
          6.45,
          9.44,
          10.04,
          22.78,
          11.12,
          13.99,
          14.22,
          15.06,
          10,
          7.35,
          12.18,
          15.84,
          9.79,
          21.3
         ],
         "xaxis": "x",
         "y": [
          38.42316895,
          39.01599822,
          39.14834088,
          39.06004863,
          38.65543905,
          38.6092188,
          39.47390806,
          38.81521612,
          37.77845286,
          39.17685034,
          39.52090819,
          38.57896943,
          38.28013391,
          38.40158039,
          38.65157641,
          39.61720308,
          37.72843549,
          39.36694049,
          37.98848685,
          39.93405104,
          37.60559023,
          38.83468198,
          37.39892664,
          38.98633063,
          39.72456882,
          38.09695504,
          37.59597881,
          39.49731323,
          38.50187636,
          38.27036031,
          38.69964224,
          39.08411118,
          38.29400364,
          38.39872285,
          39.29951536,
          38.37598649,
          38.46968433,
          39.58561173,
          38.12682317,
          39.80156649,
          37.92682179,
          39.67264697,
          38.21409556,
          38.93217418,
          37.80121676,
          37.52097889,
          39.34942824,
          38.9163822,
          38.72595498,
          38.35421436,
          40.17337876,
          39.48214424,
          39.9557292,
          39.02529641,
          39.70565695,
          37.87210056,
          38.92730588,
          38.75694066,
          38.98157028,
          39.07020183,
          39.31023381,
          40.26487847,
          39.19531025,
          37.46606804,
          38.61929591,
          39.74308443,
          37.9590829,
          38.52387016,
          39.58821189,
          39.48780846,
          37.32113362,
          38.30311301,
          39.32598796,
          38.18373964,
          37.78518905,
          38.97361387,
          37.97719515,
          38.92654301,
          37.98922316,
          39.87010492,
          38.51344083,
          39.14710639,
          38.61129304,
          38.95232638,
          37.46812464,
          38.24131363,
          38.7661591,
          39.87233432,
          38.87492299,
          39.09337261,
          39.00124171,
          39.25963687,
          38.6808734,
          37.93994229,
          38.79042609,
          39.48996228,
          38.57574159,
          39.76644658
         ],
         "yaxis": "y"
        }
       ],
       "layout": {
        "legend": {
         "tracegroupgap": 0
        },
        "shapes": [
         {
          "line": {
           "color": "rgb(228,26,28)"
          },
          "path": "M0.0 36.4920457228768 L 0.5025125628140703 36.616538188538165 L 1.0050251256281406 36.73882968176095 L 1.507537688442211 36.858920202545136 L 2.0100502512562812 36.976809750890745 L 2.5125628140703515 37.09249832679777 L 3.015075376884422 37.205985930266195 L 3.517587939698492 37.31727256129604 L 4.0201005025125625 37.4263582198873 L 4.522613065326633 37.53324290603997 L 5.025125628140703 37.63792661975406 L 5.527638190954773 37.74040936102956 L 6.030150753768844 37.84069112986647 L 6.532663316582914 37.9387719262648 L 7.035175879396984 38.03465175022454 L 7.537688442211055 38.128330601745695 L 8.040201005025125 38.21980848082826 L 8.542713567839195 38.30908538747224 L 9.045226130653266 38.39616132167763 L 9.547738693467336 38.48103628344444 L 10.050251256281406 38.56371027277266 L 10.552763819095476 38.644183289662294 L 11.055276381909547 38.72245533411334 L 11.557788944723617 38.7985264061258 L 12.060301507537687 38.872396505699676 L 12.562814070351758 38.94406563283496 L 13.065326633165828 39.01353378753167 L 13.567839195979898 39.080800969789784 L 14.070351758793969 39.14586717960931 L 14.572864321608039 39.20873241699025 L 15.07537688442211 39.269396681932605 L 15.57788944723618 39.32785997443638 L 16.08040201005025 39.38412229450156 L 16.58291457286432 39.43818364212815 L 17.08542713567839 39.490044017316166 L 17.587939698492463 39.539703420065585 L 18.09045226130653 39.58716185037642 L 18.5929648241206 39.63241930824867 L 19.09547738693467 39.67547579368233 L 19.597989949748744 39.716331306677404 L 20.100502512562812 39.7549858472339 L 20.60301507537688 39.791439415351796 L 21.105527638190953 39.825692011031116 L 21.608040201005025 39.85774363427185 L 22.110552763819094 39.88759428507399 L 22.613065326633162 39.91524396343755 L 23.115577889447234 39.94069266936251 L 23.618090452261306 39.9639404028489 L 24.120603015075375 39.9849871638967 L 24.623115577889443 40.0038329525059 L 25.125628140703515 40.02047776867653 L 25.628140703517587 40.03492161240857 L 26.130653266331656 40.04716448370202 L 26.633165829145725 40.057206382556885 L 27.135678391959797 40.065047308973156 L 27.63819095477387 40.07068726295085 L 28.140703517587937 40.07412624448995 L 28.643216080402006 40.07536425359047 L 29.145728643216078 40.0744012902524 L 29.64824120603015 40.07123735447575 L 30.15075376884422 40.06587244626051 L 30.653266331658287 40.05830656560668 L 31.15577889447236 40.04853971251426 L 31.65829145728643 40.03657188698326 L 32.1608040201005 40.02240308901367 L 32.66331658291457 40.0060333186055 L 33.16582914572864 39.987462575758734 L 33.66834170854271 39.96669086047339 L 34.17085427135678 39.943718172749456 L 34.67336683417085 39.918544512586934 L 35.175879396984925 39.891169879985824 L 35.678391959798994 39.861594274946135 L 36.18090452261306 39.82981769746785 L 36.68341708542713 39.79584014755098 L 37.1859296482412 39.759661625195534 L 37.688442211055275 39.72128213040149 L 38.19095477386934 39.68070166316886 L 38.69346733668341 39.63792022349765 L 39.19597989949749 39.59293781138785 L 39.698492462311556 39.545754426839466 L 40.201005025125625 39.49637006985249 L 40.70351758793969 39.44478474042693 L 41.20603015075376 39.39099843856279 L 41.70854271356784 39.33501116426005 L 42.211055276381906 39.276822917518736 L 42.713567839195974 39.21643369833883 L 43.21608040201005 39.153843506720335 L 43.71859296482412 39.08905234266326 L 44.22110552763819 39.022060206167595 L 44.723618090452256 38.95286709723334 L 45.226130653266324 38.8814730158605 L 45.7286432160804 38.807877962049076 L 46.23115577889447 38.732081935799066 L 46.73366834170854 38.65408493711047 L 47.23618090452261 38.57388696598328 L 47.73869346733668 38.49148802241751 L 48.24120603015075 38.40688810641315 L 48.74371859296482 38.32008721797021 L 49.24623115577889 38.23108535708867 L 49.74874371859296 38.13988252376856 L 50.25125628140703 38.04647871800985 L 50.7537688442211 37.95087393981257 L 51.256281407035175 37.85306818917668 L 51.75879396984924 37.753061466102224 L 52.26130653266331 37.65085377058917 L 52.76381909547738 37.546445102637534 L 53.26633165829145 37.439835462247316 L 53.768844221105525 37.3310248494185 L 54.27135678391959 37.220013264151106 L 54.77386934673366 37.10680070644512 L 55.27638190954774 36.99138717630055 L 55.778894472361806 36.8737726737174 L 56.281407035175874 36.75395719869565 L 56.78391959798994 36.63194075123532 L 57.28643216080401 36.50772333133641 L 57.78894472361809 36.3813049389989 L 58.291457286432156 36.25268557422281 L 58.793969849246224 36.12186523700814 L 59.2964824120603 35.98884392735488 L 59.79899497487437 35.853621645263026 L 60.30150753768844 35.71619839073259 L 60.804020100502505 35.57657416376357 L 61.306532663316574 35.43474896435596 L 61.80904522613065 35.29072279250977 L 62.31155778894472 35.14449564822499 L 62.81407035175879 34.996067531501616 L 63.31658291457286 34.84543844233966 L 63.81909547738693 34.69260838073912 L 64.321608040201 34.53757734669999 L 64.82412060301507 34.38034534022228 L 65.32663316582914 34.22091236130598 L 65.82914572864321 34.05927840995109 L 66.33165829145727 33.89544348615762 L 66.83417085427135 33.72940758992556 L 67.33668341708542 33.56117072125491 L 67.83919597989949 33.39073288014568 L 68.34170854271356 33.21809406659786 L 68.84422110552764 33.04325428061144 L 69.3467336683417 32.866213522186456 L 69.84924623115577 32.68697179132287 L 70.35175879396985 32.50552908802071 L 70.85427135678391 32.321885412279954 L 71.35678391959799 32.13604076410061 L 71.85929648241205 31.94799514348269 L 72.36180904522612 31.757748550426175 L 72.8643216080402 31.56530098493107 L 73.36683417085426 31.370652446997386 L 73.86934673366834 31.173802936625115 L 74.3718592964824 30.97475245381426 L 74.87437185929647 30.77350099856481 L 75.37688442211055 30.570048570876775 L 75.87939698492461 30.36439517075016 L 76.38190954773869 30.156540798184952 L 76.88442211055276 29.94648545318116 L 77.38693467336682 29.73422913573879 L 77.8894472361809 29.519771845857818 L 78.39195979899498 29.303113583538263 L 78.89447236180904 29.084254348780128 L 79.39698492462311 28.863194141583406 L 79.89949748743717 28.639932961948098 L 80.40201005025125 28.414470809874196 L 80.90452261306532 28.186807685361707 L 81.40703517587939 27.956943588410642 L 81.90954773869346 27.72487851902098 L 82.41206030150752 27.49061247719274 L 82.9145728643216 27.25414546292591 L 83.41708542713567 27.015477476220486 L 83.91959798994974 26.774608517076487 L 84.42211055276381 26.531538585493895 L 84.92462311557789 26.286267681472715 L 85.42713567839195 26.038795805012956 L 85.92964824120602 25.789122956114603 L 86.4321608040201 25.537249134777667 L 86.93467336683416 25.283174341002145 L 87.43718592964824 25.02689857478804 L 87.9396984924623 24.768421836135342 L 88.44221105527637 24.50774412504406 L 88.94472361809045 24.244865441514186 L 89.44723618090451 23.979785785545737 L 89.94974874371859 23.712505157138683 L 90.45226130653265 23.443023556293063 L 90.95477386934672 23.171340983008843 L 91.4572864321608 22.897457437286043 L 91.95979899497486 22.621372919124656 L 92.46231155778894 22.343087428524683 L 92.96482412060301 22.06260096548611 L 93.46733668341707 21.779913530008965 L 93.96984924623115 21.495025122093235 L 94.47236180904522 21.207935741738908 L 94.97487437185929 20.918645388945997 L 95.47738693467336 20.627154063714507 L 95.97989949748742 20.33346176604443 L 96.4824120603015 20.037568495935755 L 96.98492462311557 19.739474253388494 L 97.48743718592964 19.439179038402667 L 97.98994974874371 19.136682850978232 L 98.49246231155777 18.83198569111523 L 98.99497487437185 18.525087558813627 L 99.49748743718592 18.215988454073436 L 100.0 17.904688376894654",
          "type": "path"
         }
        ],
        "template": {
         "data": {
          "bar": [
           {
            "error_x": {
             "color": "#2a3f5f"
            },
            "error_y": {
             "color": "#2a3f5f"
            },
            "marker": {
             "line": {
              "color": "white",
              "width": 0.5
             },
             "pattern": {
              "fillmode": "overlay",
              "size": 10,
              "solidity": 0.2
             }
            },
            "type": "bar"
           }
          ],
          "barpolar": [
           {
            "marker": {
             "line": {
              "color": "white",
              "width": 0.5
             },
             "pattern": {
              "fillmode": "overlay",
              "size": 10,
              "solidity": 0.2
             }
            },
            "type": "barpolar"
           }
          ],
          "box": [
           {
            "boxpoints": "outliers",
            "notched": false,
            "type": "box"
           }
          ],
          "carpet": [
           {
            "aaxis": {
             "endlinecolor": "#2a3f5f",
             "gridcolor": "#C8D4E3",
             "linecolor": "#C8D4E3",
             "minorgridcolor": "#C8D4E3",
             "startlinecolor": "#2a3f5f"
            },
            "baxis": {
             "endlinecolor": "#2a3f5f",
             "gridcolor": "#C8D4E3",
             "linecolor": "#C8D4E3",
             "minorgridcolor": "#C8D4E3",
             "startlinecolor": "#2a3f5f"
            },
            "type": "carpet"
           }
          ],
          "choropleth": [
           {
            "colorbar": {
             "outlinewidth": 0,
             "ticks": ""
            },
            "type": "choropleth"
           }
          ],
          "contour": [
           {
            "colorbar": {
             "outlinewidth": 0,
             "ticks": ""
            },
            "colorscale": [
             [
              0,
              "#0d0887"
             ],
             [
              0.1111111111111111,
              "#46039f"
             ],
             [
              0.2222222222222222,
              "#7201a8"
             ],
             [
              0.3333333333333333,
              "#9c179e"
             ],
             [
              0.4444444444444444,
              "#bd3786"
             ],
             [
              0.5555555555555556,
              "#d8576b"
             ],
             [
              0.6666666666666666,
              "#ed7953"
             ],
             [
              0.7777777777777778,
              "#fb9f3a"
             ],
             [
              0.8888888888888888,
              "#fdca26"
             ],
             [
              1,
              "#f0f921"
             ]
            ],
            "type": "contour"
           }
          ],
          "contourcarpet": [
           {
            "colorbar": {
             "outlinewidth": 0,
             "ticks": ""
            },
            "type": "contourcarpet"
           }
          ],
          "heatmap": [
           {
            "colorbar": {
             "outlinewidth": 0,
             "ticks": ""
            },
            "colorscale": [
             [
              0,
              "#0d0887"
             ],
             [
              0.1111111111111111,
              "#46039f"
             ],
             [
              0.2222222222222222,
              "#7201a8"
             ],
             [
              0.3333333333333333,
              "#9c179e"
             ],
             [
              0.4444444444444444,
              "#bd3786"
             ],
             [
              0.5555555555555556,
              "#d8576b"
             ],
             [
              0.6666666666666666,
              "#ed7953"
             ],
             [
              0.7777777777777778,
              "#fb9f3a"
             ],
             [
              0.8888888888888888,
              "#fdca26"
             ],
             [
              1,
              "#f0f921"
             ]
            ],
            "type": "heatmap"
           }
          ],
          "heatmapgl": [
           {
            "colorbar": {
             "outlinewidth": 0,
             "ticks": ""
            },
            "colorscale": [
             [
              0,
              "#0d0887"
             ],
             [
              0.1111111111111111,
              "#46039f"
             ],
             [
              0.2222222222222222,
              "#7201a8"
             ],
             [
              0.3333333333333333,
              "#9c179e"
             ],
             [
              0.4444444444444444,
              "#bd3786"
             ],
             [
              0.5555555555555556,
              "#d8576b"
             ],
             [
              0.6666666666666666,
              "#ed7953"
             ],
             [
              0.7777777777777778,
              "#fb9f3a"
             ],
             [
              0.8888888888888888,
              "#fdca26"
             ],
             [
              1,
              "#f0f921"
             ]
            ],
            "type": "heatmapgl"
           }
          ],
          "histogram": [
           {
            "marker": {
             "line": {
              "width": 1
             },
             "pattern": {
              "fillmode": "overlay",
              "size": 10,
              "solidity": 0.2
             }
            },
            "type": "histogram"
           }
          ],
          "histogram2d": [
           {
            "colorbar": {
             "outlinewidth": 0,
             "ticks": ""
            },
            "colorscale": [
             [
              0,
              "#0d0887"
             ],
             [
              0.1111111111111111,
              "#46039f"
             ],
             [
              0.2222222222222222,
              "#7201a8"
             ],
             [
              0.3333333333333333,
              "#9c179e"
             ],
             [
              0.4444444444444444,
              "#bd3786"
             ],
             [
              0.5555555555555556,
              "#d8576b"
             ],
             [
              0.6666666666666666,
              "#ed7953"
             ],
             [
              0.7777777777777778,
              "#fb9f3a"
             ],
             [
              0.8888888888888888,
              "#fdca26"
             ],
             [
              1,
              "#f0f921"
             ]
            ],
            "type": "histogram2d"
           }
          ],
          "histogram2dcontour": [
           {
            "colorbar": {
             "outlinewidth": 0,
             "ticks": ""
            },
            "colorscale": [
             [
              0,
              "#0d0887"
             ],
             [
              0.1111111111111111,
              "#46039f"
             ],
             [
              0.2222222222222222,
              "#7201a8"
             ],
             [
              0.3333333333333333,
              "#9c179e"
             ],
             [
              0.4444444444444444,
              "#bd3786"
             ],
             [
              0.5555555555555556,
              "#d8576b"
             ],
             [
              0.6666666666666666,
              "#ed7953"
             ],
             [
              0.7777777777777778,
              "#fb9f3a"
             ],
             [
              0.8888888888888888,
              "#fdca26"
             ],
             [
              1,
              "#f0f921"
             ]
            ],
            "type": "histogram2dcontour"
           }
          ],
          "mesh3d": [
           {
            "colorbar": {
             "outlinewidth": 0,
             "ticks": ""
            },
            "type": "mesh3d"
           }
          ],
          "parcoords": [
           {
            "line": {
             "colorbar": {
              "outlinewidth": 0,
              "ticks": ""
             }
            },
            "type": "parcoords"
           }
          ],
          "pie": [
           {
            "automargin": true,
            "type": "pie"
           }
          ],
          "scatter": [
           {
            "fillpattern": {
             "fillmode": "overlay",
             "size": 10,
             "solidity": 0.2
            },
            "marker": {
             "opacity": 0.8
            },
            "type": "scatter"
           }
          ],
          "scatter3d": [
           {
            "line": {
             "colorbar": {
              "outlinewidth": 0,
              "ticks": ""
             }
            },
            "marker": {
             "colorbar": {
              "outlinewidth": 0,
              "ticks": ""
             },
             "opacity": 0.8
            },
            "type": "scatter3d"
           }
          ],
          "scattercarpet": [
           {
            "marker": {
             "colorbar": {
              "outlinewidth": 0,
              "ticks": ""
             }
            },
            "type": "scattercarpet"
           }
          ],
          "scattergeo": [
           {
            "marker": {
             "colorbar": {
              "outlinewidth": 0,
              "ticks": ""
             }
            },
            "type": "scattergeo"
           }
          ],
          "scattergl": [
           {
            "marker": {
             "colorbar": {
              "outlinewidth": 0,
              "ticks": ""
             }
            },
            "type": "scattergl"
           }
          ],
          "scattermapbox": [
           {
            "marker": {
             "colorbar": {
              "outlinewidth": 0,
              "ticks": ""
             }
            },
            "type": "scattermapbox"
           }
          ],
          "scatterpolar": [
           {
            "marker": {
             "colorbar": {
              "outlinewidth": 0,
              "ticks": ""
             }
            },
            "type": "scatterpolar"
           }
          ],
          "scatterpolargl": [
           {
            "marker": {
             "colorbar": {
              "outlinewidth": 0,
              "ticks": ""
             }
            },
            "type": "scatterpolargl"
           }
          ],
          "scatterternary": [
           {
            "marker": {
             "colorbar": {
              "outlinewidth": 0,
              "ticks": ""
             }
            },
            "type": "scatterternary"
           }
          ],
          "surface": [
           {
            "colorbar": {
             "outlinewidth": 0,
             "ticks": ""
            },
            "colorscale": [
             [
              0,
              "#0d0887"
             ],
             [
              0.1111111111111111,
              "#46039f"
             ],
             [
              0.2222222222222222,
              "#7201a8"
             ],
             [
              0.3333333333333333,
              "#9c179e"
             ],
             [
              0.4444444444444444,
              "#bd3786"
             ],
             [
              0.5555555555555556,
              "#d8576b"
             ],
             [
              0.6666666666666666,
              "#ed7953"
             ],
             [
              0.7777777777777778,
              "#fb9f3a"
             ],
             [
              0.8888888888888888,
              "#fdca26"
             ],
             [
              1,
              "#f0f921"
             ]
            ],
            "type": "surface"
           }
          ],
          "table": [
           {
            "cells": {
             "fill": {
              "color": "#EBF0F8"
             },
             "line": {
              "color": "white"
             }
            },
            "header": {
             "fill": {
              "color": "#C8D4E3"
             },
             "line": {
              "color": "white"
             }
            },
            "type": "table"
           }
          ]
         },
         "layout": {
          "annotationdefaults": {
           "arrowcolor": "#2a3f5f",
           "arrowhead": 0,
           "arrowwidth": 1
          },
          "autotypenumbers": "strict",
          "coloraxis": {
           "colorbar": {
            "outlinewidth": 0,
            "ticks": ""
           }
          },
          "colorscale": {
           "diverging": [
            [
             0,
             "#8e0152"
            ],
            [
             0.1,
             "#c51b7d"
            ],
            [
             0.2,
             "#de77ae"
            ],
            [
             0.3,
             "#f1b6da"
            ],
            [
             0.4,
             "#fde0ef"
            ],
            [
             0.5,
             "#f7f7f7"
            ],
            [
             0.6,
             "#e6f5d0"
            ],
            [
             0.7,
             "#b8e186"
            ],
            [
             0.8,
             "#7fbc41"
            ],
            [
             0.9,
             "#4d9221"
            ],
            [
             1,
             "#276419"
            ]
           ],
           "sequential": [
            [
             0,
             "#0d0887"
            ],
            [
             0.1111111111111111,
             "#46039f"
            ],
            [
             0.2222222222222222,
             "#7201a8"
            ],
            [
             0.3333333333333333,
             "#9c179e"
            ],
            [
             0.4444444444444444,
             "#bd3786"
            ],
            [
             0.5555555555555556,
             "#d8576b"
            ],
            [
             0.6666666666666666,
             "#ed7953"
            ],
            [
             0.7777777777777778,
             "#fb9f3a"
            ],
            [
             0.8888888888888888,
             "#fdca26"
            ],
            [
             1,
             "#f0f921"
            ]
           ],
           "sequentialminus": [
            [
             0,
             "#0d0887"
            ],
            [
             0.1111111111111111,
             "#46039f"
            ],
            [
             0.2222222222222222,
             "#7201a8"
            ],
            [
             0.3333333333333333,
             "#9c179e"
            ],
            [
             0.4444444444444444,
             "#bd3786"
            ],
            [
             0.5555555555555556,
             "#d8576b"
            ],
            [
             0.6666666666666666,
             "#ed7953"
            ],
            [
             0.7777777777777778,
             "#fb9f3a"
            ],
            [
             0.8888888888888888,
             "#fdca26"
            ],
            [
             1,
             "#f0f921"
            ]
           ]
          },
          "colorway": [
           "#636efa",
           "#EF553B",
           "#00cc96",
           "#ab63fa",
           "#FFA15A",
           "#19d3f3",
           "#FF6692",
           "#B6E880",
           "#FF97FF",
           "#FECB52"
          ],
          "font": {
           "color": "#2a3f5f"
          },
          "geo": {
           "bgcolor": "white",
           "lakecolor": "white",
           "landcolor": "white",
           "showlakes": true,
           "showland": true,
           "subunitcolor": "#C8D4E3"
          },
          "height": 400,
          "hoverlabel": {
           "align": "left"
          },
          "hovermode": "closest",
          "mapbox": {
           "style": "light"
          },
          "margin": {
           "b": 2,
           "l": 2,
           "r": 2,
           "t": 30
          },
          "paper_bgcolor": "white",
          "plot_bgcolor": "white",
          "polar": {
           "angularaxis": {
            "gridcolor": "#EBF0F8",
            "linecolor": "#EBF0F8",
            "ticks": ""
           },
           "bgcolor": "white",
           "radialaxis": {
            "gridcolor": "#EBF0F8",
            "linecolor": "#EBF0F8",
            "ticks": ""
           }
          },
          "scene": {
           "camera": {
            "eye": {
             "x": 1.5,
             "y": 1.5,
             "z": 0.1
            }
           },
           "xaxis": {
            "backgroundcolor": "white",
            "gridcolor": "#DFE8F3",
            "gridwidth": 2,
            "linecolor": "#EBF0F8",
            "showbackground": true,
            "ticks": "",
            "zerolinecolor": "#EBF0F8"
           },
           "yaxis": {
            "backgroundcolor": "white",
            "gridcolor": "#DFE8F3",
            "gridwidth": 2,
            "linecolor": "#EBF0F8",
            "showbackground": true,
            "ticks": "",
            "zerolinecolor": "#EBF0F8"
           },
           "zaxis": {
            "backgroundcolor": "white",
            "gridcolor": "#DFE8F3",
            "gridwidth": 2,
            "linecolor": "#EBF0F8",
            "showbackground": true,
            "ticks": "",
            "zerolinecolor": "#EBF0F8"
           }
          },
          "shapedefaults": {
           "line": {
            "color": "#2a3f5f"
           }
          },
          "ternary": {
           "aaxis": {
            "gridcolor": "#DFE8F3",
            "linecolor": "#A2B1C6",
            "ticks": ""
           },
           "baxis": {
            "gridcolor": "#DFE8F3",
            "linecolor": "#A2B1C6",
            "ticks": ""
           },
           "bgcolor": "white",
           "caxis": {
            "gridcolor": "#DFE8F3",
            "linecolor": "#A2B1C6",
            "ticks": ""
           }
          },
          "title": {
           "x": 0.5
          },
          "xaxis": {
           "automargin": true,
           "gridcolor": "#EBF0F8",
           "linecolor": "#EBF0F8",
           "linewidth": 2,
           "showline": true,
           "ticks": "",
           "title": {
            "standoff": 15
           },
           "zerolinecolor": "#EBF0F8",
           "zerolinewidth": 2
          },
          "yaxis": {
           "automargin": true,
           "gridcolor": "#EBF0F8",
           "linecolor": "#EBF0F8",
           "linewidth": 2,
           "showline": true,
           "ticks": "",
           "title": {
            "standoff": 15
           },
           "zerolinecolor": "#EBF0F8",
           "zerolinewidth": 2
          }
         }
        },
        "xaxis": {
         "anchor": "y",
         "domain": [
          0,
          1
         ],
         "range": [
          0,
          100
         ],
         "title": {
          "text": "protein content of last meal"
         }
        },
        "yaxis": {
         "anchor": "x",
         "domain": [
          0,
          1
         ],
         "title": {
          "text": "core temperature"
         }
        }
       }
      }
     },
     "metadata": {},
     "output_type": "display_data"
    }
   ],
   "source": [
    "# Show an extrapolated graph of the polynomial model\n",
    "graphing.scatter_2D(dataset, label_x=\"protein_content_of_last_meal\", \n",
    "                             label_y=\"core_temperature\",\n",
    "                             # We extrapolate over the following range\n",
    "                             x_range = [0,100],\n",
    "                             trendline=lambda x: polynomial_model.params[2] * x**2 + polynomial_model.params[1] * x + polynomial_model.params[0])"
   ]
  },
  {
   "attachments": {},
   "cell_type": "markdown",
   "metadata": {},
   "source": [
    "¡Estas dos gráficas predicen dos cosas muy diferentes! \n",
    "\n",
    "La regresión polinómica extrapolada espera que la temperatura central disminuya, mientras que la regresión lineal extrapolada espera que la temperatura central aumente. Una mirada rápida a los gráficos obtenidos en el ejercicio anterior confirma que deberíamos esperar que la temperatura central aumente a medida que aumenta el contenido de proteínas de la última comida, no que disminuya. \n",
    "\n",
    "En general, no se recomienda extrapolar a partir de una regresión polinomial a menos que tenga una razón a priori para hacerlo (que rara vez ocurre, por lo que es mejor pecar de precavido y nunca extrapolar a partir de regresiones polinómicas)"
   ]
  }
 ],
 "metadata": {
  "kernelspec": {
   "display_name": "Python 3",
   "language": "python",
   "name": "python3"
  },
  "language_info": {
   "codemirror_mode": {
    "name": "ipython",
    "version": 3
   },
   "file_extension": ".py",
   "mimetype": "text/x-python",
   "name": "python",
   "nbconvert_exporter": "python",
   "pygments_lexer": "ipython3",
   "version": "3.11.2"
  },
  "orig_nbformat": 4
 },
 "nbformat": 4,
 "nbformat_minor": 2
}
